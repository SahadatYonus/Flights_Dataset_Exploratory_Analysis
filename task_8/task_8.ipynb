{
 "cells": [
  {
   "cell_type": "code",
   "execution_count": 3,
   "metadata": {},
   "outputs": [],
   "source": [
    "import pandas as pd\n",
    "import numpy as np\n",
    "\n",
    "import plotly.express as px\n",
    "import plotly.graph_objects as go\n",
    "import chart_studio.plotly as cs\n",
    "import plotly.io as pio\n",
    "pio.base_renderers = \"notebook\""
   ]
  },
  {
   "cell_type": "markdown",
   "metadata": {},
   "source": [
    "#####  How we obtained the data "
   ]
  },
  {
   "cell_type": "code",
   "execution_count": 7,
   "metadata": {},
   "outputs": [],
   "source": [
    "task_10_data = pd.read_csv('task10_finaldata_positive_withnames.csv')"
   ]
  },
  {
   "cell_type": "code",
   "execution_count": 8,
   "metadata": {},
   "outputs": [],
   "source": [
    "##Find out average monthly delay per air carrier (monthly delay is sum of all delays in 1 month)##"
   ]
  },
  {
   "cell_type": "code",
   "execution_count": 9,
   "metadata": {},
   "outputs": [
    {
     "data": {
      "text/html": [
       "<div>\n",
       "<style scoped>\n",
       "    .dataframe tbody tr th:only-of-type {\n",
       "        vertical-align: middle;\n",
       "    }\n",
       "\n",
       "    .dataframe tbody tr th {\n",
       "        vertical-align: top;\n",
       "    }\n",
       "\n",
       "    .dataframe thead th {\n",
       "        text-align: right;\n",
       "    }\n",
       "</style>\n",
       "<table border=\"1\" class=\"dataframe\">\n",
       "  <thead>\n",
       "    <tr style=\"text-align: right;\">\n",
       "      <th></th>\n",
       "      <th>mkt_unique_carrier</th>\n",
       "      <th>carrier_name</th>\n",
       "      <th>month</th>\n",
       "      <th>origin</th>\n",
       "      <th>dest</th>\n",
       "      <th>distance</th>\n",
       "      <th>year</th>\n",
       "      <th>origin_airport_id</th>\n",
       "      <th>dest_airport_id</th>\n",
       "      <th>crs_dep_time</th>\n",
       "      <th>...</th>\n",
       "      <th>crs_arr_time</th>\n",
       "      <th>arr_time</th>\n",
       "      <th>arr_delay</th>\n",
       "      <th>carrier_delay</th>\n",
       "      <th>weather_delay</th>\n",
       "      <th>nas_delay</th>\n",
       "      <th>security_delay</th>\n",
       "      <th>late_aircraft_delay</th>\n",
       "      <th>seats</th>\n",
       "      <th>passengers</th>\n",
       "    </tr>\n",
       "  </thead>\n",
       "  <tbody>\n",
       "    <tr>\n",
       "      <th>0</th>\n",
       "      <td>AA</td>\n",
       "      <td>American Airlines Inc.</td>\n",
       "      <td>1.0</td>\n",
       "      <td>ABQ</td>\n",
       "      <td>DFW</td>\n",
       "      <td>569.0</td>\n",
       "      <td>2018.0</td>\n",
       "      <td>10140</td>\n",
       "      <td>11298</td>\n",
       "      <td>1209.235294</td>\n",
       "      <td>...</td>\n",
       "      <td>1494.323529</td>\n",
       "      <td>1534.647059</td>\n",
       "      <td>25.029412</td>\n",
       "      <td>12.375000</td>\n",
       "      <td>0.000000</td>\n",
       "      <td>8.437500</td>\n",
       "      <td>0.0</td>\n",
       "      <td>27.250000</td>\n",
       "      <td>17280.0</td>\n",
       "      <td>12129.0</td>\n",
       "    </tr>\n",
       "    <tr>\n",
       "      <th>1</th>\n",
       "      <td>AA</td>\n",
       "      <td>American Airlines Inc.</td>\n",
       "      <td>1.0</td>\n",
       "      <td>ABQ</td>\n",
       "      <td>DFW</td>\n",
       "      <td>569.0</td>\n",
       "      <td>2019.0</td>\n",
       "      <td>10140</td>\n",
       "      <td>11298</td>\n",
       "      <td>1119.333333</td>\n",
       "      <td>...</td>\n",
       "      <td>1384.757576</td>\n",
       "      <td>1399.606061</td>\n",
       "      <td>26.363636</td>\n",
       "      <td>5.090909</td>\n",
       "      <td>2.060606</td>\n",
       "      <td>17.696970</td>\n",
       "      <td>0.0</td>\n",
       "      <td>22.060606</td>\n",
       "      <td>11940.0</td>\n",
       "      <td>8728.5</td>\n",
       "    </tr>\n",
       "    <tr>\n",
       "      <th>2</th>\n",
       "      <td>AA</td>\n",
       "      <td>American Airlines Inc.</td>\n",
       "      <td>1.0</td>\n",
       "      <td>ABQ</td>\n",
       "      <td>ORD</td>\n",
       "      <td>1118.0</td>\n",
       "      <td>2018.0</td>\n",
       "      <td>10140</td>\n",
       "      <td>13930</td>\n",
       "      <td>1083.235294</td>\n",
       "      <td>...</td>\n",
       "      <td>1461.764706</td>\n",
       "      <td>1499.647059</td>\n",
       "      <td>21.411765</td>\n",
       "      <td>27.428571</td>\n",
       "      <td>6.428571</td>\n",
       "      <td>11.142857</td>\n",
       "      <td>0.0</td>\n",
       "      <td>0.000000</td>\n",
       "      <td>4800.0</td>\n",
       "      <td>2641.0</td>\n",
       "    </tr>\n",
       "    <tr>\n",
       "      <th>3</th>\n",
       "      <td>AA</td>\n",
       "      <td>American Airlines Inc.</td>\n",
       "      <td>1.0</td>\n",
       "      <td>ABQ</td>\n",
       "      <td>ORD</td>\n",
       "      <td>1118.0</td>\n",
       "      <td>2019.0</td>\n",
       "      <td>10140</td>\n",
       "      <td>13930</td>\n",
       "      <td>976.842105</td>\n",
       "      <td>...</td>\n",
       "      <td>1372.473684</td>\n",
       "      <td>1440.842105</td>\n",
       "      <td>34.684211</td>\n",
       "      <td>8.454545</td>\n",
       "      <td>7.363636</td>\n",
       "      <td>25.090909</td>\n",
       "      <td>0.0</td>\n",
       "      <td>16.818182</td>\n",
       "      <td>4184.0</td>\n",
       "      <td>1418.0</td>\n",
       "    </tr>\n",
       "    <tr>\n",
       "      <th>4</th>\n",
       "      <td>AA</td>\n",
       "      <td>American Airlines Inc.</td>\n",
       "      <td>1.0</td>\n",
       "      <td>ALB</td>\n",
       "      <td>CLT</td>\n",
       "      <td>646.0</td>\n",
       "      <td>2018.0</td>\n",
       "      <td>10257</td>\n",
       "      <td>11057</td>\n",
       "      <td>1190.653846</td>\n",
       "      <td>...</td>\n",
       "      <td>1430.461538</td>\n",
       "      <td>1462.923077</td>\n",
       "      <td>21.692308</td>\n",
       "      <td>16.666667</td>\n",
       "      <td>0.666667</td>\n",
       "      <td>15.833333</td>\n",
       "      <td>0.0</td>\n",
       "      <td>7.083333</td>\n",
       "      <td>4415.0</td>\n",
       "      <td>3783.5</td>\n",
       "    </tr>\n",
       "  </tbody>\n",
       "</table>\n",
       "<p>5 rows × 26 columns</p>\n",
       "</div>"
      ],
      "text/plain": [
       "  mkt_unique_carrier            carrier_name  month origin dest  distance  \\\n",
       "0                 AA  American Airlines Inc.    1.0    ABQ  DFW     569.0   \n",
       "1                 AA  American Airlines Inc.    1.0    ABQ  DFW     569.0   \n",
       "2                 AA  American Airlines Inc.    1.0    ABQ  ORD    1118.0   \n",
       "3                 AA  American Airlines Inc.    1.0    ABQ  ORD    1118.0   \n",
       "4                 AA  American Airlines Inc.    1.0    ALB  CLT     646.0   \n",
       "\n",
       "     year  origin_airport_id  dest_airport_id  crs_dep_time  ...  \\\n",
       "0  2018.0              10140            11298   1209.235294  ...   \n",
       "1  2019.0              10140            11298   1119.333333  ...   \n",
       "2  2018.0              10140            13930   1083.235294  ...   \n",
       "3  2019.0              10140            13930    976.842105  ...   \n",
       "4  2018.0              10257            11057   1190.653846  ...   \n",
       "\n",
       "   crs_arr_time     arr_time  arr_delay  carrier_delay  weather_delay  \\\n",
       "0   1494.323529  1534.647059  25.029412      12.375000       0.000000   \n",
       "1   1384.757576  1399.606061  26.363636       5.090909       2.060606   \n",
       "2   1461.764706  1499.647059  21.411765      27.428571       6.428571   \n",
       "3   1372.473684  1440.842105  34.684211       8.454545       7.363636   \n",
       "4   1430.461538  1462.923077  21.692308      16.666667       0.666667   \n",
       "\n",
       "   nas_delay  security_delay  late_aircraft_delay    seats  passengers  \n",
       "0   8.437500             0.0            27.250000  17280.0     12129.0  \n",
       "1  17.696970             0.0            22.060606  11940.0      8728.5  \n",
       "2  11.142857             0.0             0.000000   4800.0      2641.0  \n",
       "3  25.090909             0.0            16.818182   4184.0      1418.0  \n",
       "4  15.833333             0.0             7.083333   4415.0      3783.5  \n",
       "\n",
       "[5 rows x 26 columns]"
      ]
     },
     "execution_count": 9,
     "metadata": {},
     "output_type": "execute_result"
    }
   ],
   "source": [
    "task_10_data.head()"
   ]
  },
  {
   "cell_type": "code",
   "execution_count": 10,
   "metadata": {},
   "outputs": [],
   "source": [
    "#get the monthly delay\n",
    "df_monthly_delay_by_carrier = task_10_data.groupby(['carrier_name', 'month', 'year']).sum().copy().reset_index()"
   ]
  },
  {
   "cell_type": "code",
   "execution_count": 11,
   "metadata": {},
   "outputs": [
    {
     "data": {
      "text/html": [
       "<div>\n",
       "<style scoped>\n",
       "    .dataframe tbody tr th:only-of-type {\n",
       "        vertical-align: middle;\n",
       "    }\n",
       "\n",
       "    .dataframe tbody tr th {\n",
       "        vertical-align: top;\n",
       "    }\n",
       "\n",
       "    .dataframe thead th {\n",
       "        text-align: right;\n",
       "    }\n",
       "</style>\n",
       "<table border=\"1\" class=\"dataframe\">\n",
       "  <thead>\n",
       "    <tr style=\"text-align: right;\">\n",
       "      <th></th>\n",
       "      <th>carrier_name</th>\n",
       "      <th>month</th>\n",
       "      <th>year</th>\n",
       "      <th>distance</th>\n",
       "      <th>origin_airport_id</th>\n",
       "      <th>dest_airport_id</th>\n",
       "      <th>crs_dep_time</th>\n",
       "      <th>dep_time</th>\n",
       "      <th>dep_delay</th>\n",
       "      <th>taxi_out</th>\n",
       "      <th>...</th>\n",
       "      <th>crs_arr_time</th>\n",
       "      <th>arr_time</th>\n",
       "      <th>arr_delay</th>\n",
       "      <th>carrier_delay</th>\n",
       "      <th>weather_delay</th>\n",
       "      <th>nas_delay</th>\n",
       "      <th>security_delay</th>\n",
       "      <th>late_aircraft_delay</th>\n",
       "      <th>seats</th>\n",
       "      <th>passengers</th>\n",
       "    </tr>\n",
       "  </thead>\n",
       "  <tbody>\n",
       "    <tr>\n",
       "      <th>0</th>\n",
       "      <td>Alaska Airlines Inc.</td>\n",
       "      <td>1.0</td>\n",
       "      <td>2018.0</td>\n",
       "      <td>400691.0</td>\n",
       "      <td>3533182</td>\n",
       "      <td>3539293</td>\n",
       "      <td>347047.917970</td>\n",
       "      <td>347578.637480</td>\n",
       "      <td>4883.156964</td>\n",
       "      <td>5571.567417</td>\n",
       "      <td>...</td>\n",
       "      <td>404059.144084</td>\n",
       "      <td>401577.403339</td>\n",
       "      <td>6761.463975</td>\n",
       "      <td>3628.222503</td>\n",
       "      <td>476.053049</td>\n",
       "      <td>3693.186448</td>\n",
       "      <td>93.023521</td>\n",
       "      <td>4593.174674</td>\n",
       "      <td>8.988310e+05</td>\n",
       "      <td>657046.666667</td>\n",
       "    </tr>\n",
       "    <tr>\n",
       "      <th>1</th>\n",
       "      <td>Alaska Airlines Inc.</td>\n",
       "      <td>1.0</td>\n",
       "      <td>2019.0</td>\n",
       "      <td>548048.0</td>\n",
       "      <td>4434050</td>\n",
       "      <td>4427831</td>\n",
       "      <td>441833.448127</td>\n",
       "      <td>449198.585631</td>\n",
       "      <td>7712.143982</td>\n",
       "      <td>7412.291187</td>\n",
       "      <td>...</td>\n",
       "      <td>517479.689351</td>\n",
       "      <td>508706.700547</td>\n",
       "      <td>10213.626557</td>\n",
       "      <td>4671.866628</td>\n",
       "      <td>884.330845</td>\n",
       "      <td>5864.849017</td>\n",
       "      <td>45.736291</td>\n",
       "      <td>5451.685107</td>\n",
       "      <td>1.047428e+06</td>\n",
       "      <td>781787.642857</td>\n",
       "    </tr>\n",
       "    <tr>\n",
       "      <th>2</th>\n",
       "      <td>Alaska Airlines Inc.</td>\n",
       "      <td>2.0</td>\n",
       "      <td>2018.0</td>\n",
       "      <td>389843.0</td>\n",
       "      <td>3441568</td>\n",
       "      <td>3445500</td>\n",
       "      <td>339228.916381</td>\n",
       "      <td>341824.010139</td>\n",
       "      <td>4426.399227</td>\n",
       "      <td>5652.833994</td>\n",
       "      <td>...</td>\n",
       "      <td>396699.837751</td>\n",
       "      <td>397890.997970</td>\n",
       "      <td>6524.940163</td>\n",
       "      <td>3657.780861</td>\n",
       "      <td>767.073228</td>\n",
       "      <td>3542.538221</td>\n",
       "      <td>74.391729</td>\n",
       "      <td>3273.246332</td>\n",
       "      <td>8.471806e+05</td>\n",
       "      <td>656124.473810</td>\n",
       "    </tr>\n",
       "    <tr>\n",
       "      <th>3</th>\n",
       "      <td>Alaska Airlines Inc.</td>\n",
       "      <td>2.0</td>\n",
       "      <td>2019.0</td>\n",
       "      <td>530809.0</td>\n",
       "      <td>4327565</td>\n",
       "      <td>4333718</td>\n",
       "      <td>427033.655498</td>\n",
       "      <td>436665.129144</td>\n",
       "      <td>11166.845825</td>\n",
       "      <td>7580.497593</td>\n",
       "      <td>...</td>\n",
       "      <td>506713.267409</td>\n",
       "      <td>491971.314093</td>\n",
       "      <td>13514.032212</td>\n",
       "      <td>5082.922012</td>\n",
       "      <td>1105.672556</td>\n",
       "      <td>6639.832356</td>\n",
       "      <td>20.276736</td>\n",
       "      <td>7876.189686</td>\n",
       "      <td>1.012817e+06</td>\n",
       "      <td>784143.935714</td>\n",
       "    </tr>\n",
       "    <tr>\n",
       "      <th>4</th>\n",
       "      <td>Alaska Airlines Inc.</td>\n",
       "      <td>3.0</td>\n",
       "      <td>2018.0</td>\n",
       "      <td>403407.0</td>\n",
       "      <td>3579435</td>\n",
       "      <td>3581016</td>\n",
       "      <td>351231.770796</td>\n",
       "      <td>352611.408561</td>\n",
       "      <td>4112.362535</td>\n",
       "      <td>5343.635920</td>\n",
       "      <td>...</td>\n",
       "      <td>405493.255261</td>\n",
       "      <td>406164.268349</td>\n",
       "      <td>6119.686710</td>\n",
       "      <td>3587.963528</td>\n",
       "      <td>560.199827</td>\n",
       "      <td>3546.221727</td>\n",
       "      <td>85.138145</td>\n",
       "      <td>3750.695563</td>\n",
       "      <td>9.762869e+05</td>\n",
       "      <td>803323.550000</td>\n",
       "    </tr>\n",
       "  </tbody>\n",
       "</table>\n",
       "<p>5 rows × 23 columns</p>\n",
       "</div>"
      ],
      "text/plain": [
       "           carrier_name  month    year  distance  origin_airport_id  \\\n",
       "0  Alaska Airlines Inc.    1.0  2018.0  400691.0            3533182   \n",
       "1  Alaska Airlines Inc.    1.0  2019.0  548048.0            4434050   \n",
       "2  Alaska Airlines Inc.    2.0  2018.0  389843.0            3441568   \n",
       "3  Alaska Airlines Inc.    2.0  2019.0  530809.0            4327565   \n",
       "4  Alaska Airlines Inc.    3.0  2018.0  403407.0            3579435   \n",
       "\n",
       "   dest_airport_id   crs_dep_time       dep_time     dep_delay     taxi_out  \\\n",
       "0          3539293  347047.917970  347578.637480   4883.156964  5571.567417   \n",
       "1          4427831  441833.448127  449198.585631   7712.143982  7412.291187   \n",
       "2          3445500  339228.916381  341824.010139   4426.399227  5652.833994   \n",
       "3          4333718  427033.655498  436665.129144  11166.845825  7580.497593   \n",
       "4          3581016  351231.770796  352611.408561   4112.362535  5343.635920   \n",
       "\n",
       "   ...   crs_arr_time       arr_time     arr_delay  carrier_delay  \\\n",
       "0  ...  404059.144084  401577.403339   6761.463975    3628.222503   \n",
       "1  ...  517479.689351  508706.700547  10213.626557    4671.866628   \n",
       "2  ...  396699.837751  397890.997970   6524.940163    3657.780861   \n",
       "3  ...  506713.267409  491971.314093  13514.032212    5082.922012   \n",
       "4  ...  405493.255261  406164.268349   6119.686710    3587.963528   \n",
       "\n",
       "   weather_delay    nas_delay  security_delay  late_aircraft_delay  \\\n",
       "0     476.053049  3693.186448       93.023521          4593.174674   \n",
       "1     884.330845  5864.849017       45.736291          5451.685107   \n",
       "2     767.073228  3542.538221       74.391729          3273.246332   \n",
       "3    1105.672556  6639.832356       20.276736          7876.189686   \n",
       "4     560.199827  3546.221727       85.138145          3750.695563   \n",
       "\n",
       "          seats     passengers  \n",
       "0  8.988310e+05  657046.666667  \n",
       "1  1.047428e+06  781787.642857  \n",
       "2  8.471806e+05  656124.473810  \n",
       "3  1.012817e+06  784143.935714  \n",
       "4  9.762869e+05  803323.550000  \n",
       "\n",
       "[5 rows x 23 columns]"
      ]
     },
     "execution_count": 11,
     "metadata": {},
     "output_type": "execute_result"
    }
   ],
   "source": [
    "df_monthly_delay_by_carrier.head()"
   ]
  },
  {
   "cell_type": "code",
   "execution_count": 13,
   "metadata": {},
   "outputs": [],
   "source": [
    "df_count_carrier_flights = task_10_data.groupby(['carrier_name', 'month', 'year']).count().copy().reset_index()"
   ]
  },
  {
   "cell_type": "code",
   "execution_count": 11,
   "metadata": {},
   "outputs": [],
   "source": [
    "df_monthly_delay_yearSort = df_monthly_delay_by_carrier.sort_values(by=['carrier_name', 'year', 'month'])"
   ]
  },
  {
   "cell_type": "code",
   "execution_count": 12,
   "metadata": {},
   "outputs": [],
   "source": [
    "df_count_carrier_yearSort = df_count_carrier_flights.sort_values(by=['carrier_name', 'year', 'month'])"
   ]
  },
  {
   "cell_type": "code",
   "execution_count": 13,
   "metadata": {},
   "outputs": [],
   "source": [
    "flight_counts = df_count_carrier_yearSort['mkt_unique_carrier']"
   ]
  },
  {
   "cell_type": "code",
   "execution_count": 14,
   "metadata": {},
   "outputs": [
    {
     "data": {
      "text/plain": [
       "0      264\n",
       "2      257\n",
       "4      267\n",
       "6      329\n",
       "8      328\n",
       "      ... \n",
       "237    680\n",
       "239    718\n",
       "240     87\n",
       "241     85\n",
       "242     92\n",
       "Name: mkt_unique_carrier, Length: 243, dtype: int64"
      ]
     },
     "execution_count": 14,
     "metadata": {},
     "output_type": "execute_result"
    }
   ],
   "source": [
    "flight_counts"
   ]
  },
  {
   "cell_type": "code",
   "execution_count": 15,
   "metadata": {},
   "outputs": [],
   "source": [
    "counts_monthly_delay_merge = pd.concat([flight_counts, df_monthly_delay_yearSort], axis=1)"
   ]
  },
  {
   "cell_type": "code",
   "execution_count": 16,
   "metadata": {},
   "outputs": [
    {
     "data": {
      "text/html": [
       "<div>\n",
       "<style scoped>\n",
       "    .dataframe tbody tr th:only-of-type {\n",
       "        vertical-align: middle;\n",
       "    }\n",
       "\n",
       "    .dataframe tbody tr th {\n",
       "        vertical-align: top;\n",
       "    }\n",
       "\n",
       "    .dataframe thead th {\n",
       "        text-align: right;\n",
       "    }\n",
       "</style>\n",
       "<table border=\"1\" class=\"dataframe\">\n",
       "  <thead>\n",
       "    <tr style=\"text-align: right;\">\n",
       "      <th></th>\n",
       "      <th>mkt_unique_carrier</th>\n",
       "      <th>carrier_name</th>\n",
       "      <th>month</th>\n",
       "      <th>year</th>\n",
       "      <th>distance</th>\n",
       "      <th>origin_airport_id</th>\n",
       "      <th>dest_airport_id</th>\n",
       "      <th>crs_dep_time</th>\n",
       "      <th>dep_time</th>\n",
       "      <th>dep_delay</th>\n",
       "      <th>...</th>\n",
       "      <th>crs_arr_time</th>\n",
       "      <th>arr_time</th>\n",
       "      <th>arr_delay</th>\n",
       "      <th>carrier_delay</th>\n",
       "      <th>weather_delay</th>\n",
       "      <th>nas_delay</th>\n",
       "      <th>security_delay</th>\n",
       "      <th>late_aircraft_delay</th>\n",
       "      <th>seats</th>\n",
       "      <th>passengers</th>\n",
       "    </tr>\n",
       "  </thead>\n",
       "  <tbody>\n",
       "    <tr>\n",
       "      <th>0</th>\n",
       "      <td>264</td>\n",
       "      <td>Alaska Airlines Inc.</td>\n",
       "      <td>1.0</td>\n",
       "      <td>2018.0</td>\n",
       "      <td>400691.0</td>\n",
       "      <td>3533182</td>\n",
       "      <td>3539293</td>\n",
       "      <td>347047.917970</td>\n",
       "      <td>347578.637480</td>\n",
       "      <td>4883.156964</td>\n",
       "      <td>...</td>\n",
       "      <td>4.040591e+05</td>\n",
       "      <td>4.015774e+05</td>\n",
       "      <td>6761.463975</td>\n",
       "      <td>3628.222503</td>\n",
       "      <td>476.053049</td>\n",
       "      <td>3693.186448</td>\n",
       "      <td>93.023521</td>\n",
       "      <td>4593.174674</td>\n",
       "      <td>8.988310e+05</td>\n",
       "      <td>6.570467e+05</td>\n",
       "    </tr>\n",
       "    <tr>\n",
       "      <th>2</th>\n",
       "      <td>257</td>\n",
       "      <td>Alaska Airlines Inc.</td>\n",
       "      <td>2.0</td>\n",
       "      <td>2018.0</td>\n",
       "      <td>389843.0</td>\n",
       "      <td>3441568</td>\n",
       "      <td>3445500</td>\n",
       "      <td>339228.916381</td>\n",
       "      <td>341824.010139</td>\n",
       "      <td>4426.399227</td>\n",
       "      <td>...</td>\n",
       "      <td>3.966998e+05</td>\n",
       "      <td>3.978910e+05</td>\n",
       "      <td>6524.940163</td>\n",
       "      <td>3657.780861</td>\n",
       "      <td>767.073228</td>\n",
       "      <td>3542.538221</td>\n",
       "      <td>74.391729</td>\n",
       "      <td>3273.246332</td>\n",
       "      <td>8.471806e+05</td>\n",
       "      <td>6.561245e+05</td>\n",
       "    </tr>\n",
       "    <tr>\n",
       "      <th>4</th>\n",
       "      <td>267</td>\n",
       "      <td>Alaska Airlines Inc.</td>\n",
       "      <td>3.0</td>\n",
       "      <td>2018.0</td>\n",
       "      <td>403407.0</td>\n",
       "      <td>3579435</td>\n",
       "      <td>3581016</td>\n",
       "      <td>351231.770796</td>\n",
       "      <td>352611.408561</td>\n",
       "      <td>4112.362535</td>\n",
       "      <td>...</td>\n",
       "      <td>4.054933e+05</td>\n",
       "      <td>4.061643e+05</td>\n",
       "      <td>6119.686710</td>\n",
       "      <td>3587.963528</td>\n",
       "      <td>560.199827</td>\n",
       "      <td>3546.221727</td>\n",
       "      <td>85.138145</td>\n",
       "      <td>3750.695563</td>\n",
       "      <td>9.762869e+05</td>\n",
       "      <td>8.033236e+05</td>\n",
       "    </tr>\n",
       "    <tr>\n",
       "      <th>6</th>\n",
       "      <td>329</td>\n",
       "      <td>Alaska Airlines Inc.</td>\n",
       "      <td>4.0</td>\n",
       "      <td>2018.0</td>\n",
       "      <td>529763.0</td>\n",
       "      <td>4416632</td>\n",
       "      <td>4402094</td>\n",
       "      <td>437644.717946</td>\n",
       "      <td>443878.138696</td>\n",
       "      <td>6597.134759</td>\n",
       "      <td>...</td>\n",
       "      <td>5.059225e+05</td>\n",
       "      <td>5.050267e+05</td>\n",
       "      <td>8722.534150</td>\n",
       "      <td>5354.204906</td>\n",
       "      <td>137.696748</td>\n",
       "      <td>4765.741166</td>\n",
       "      <td>71.784698</td>\n",
       "      <td>5520.139356</td>\n",
       "      <td>1.235752e+06</td>\n",
       "      <td>1.018384e+06</td>\n",
       "    </tr>\n",
       "    <tr>\n",
       "      <th>8</th>\n",
       "      <td>328</td>\n",
       "      <td>Alaska Airlines Inc.</td>\n",
       "      <td>5.0</td>\n",
       "      <td>2018.0</td>\n",
       "      <td>527630.0</td>\n",
       "      <td>4398513</td>\n",
       "      <td>4393832</td>\n",
       "      <td>441469.897470</td>\n",
       "      <td>446857.877443</td>\n",
       "      <td>6218.846074</td>\n",
       "      <td>...</td>\n",
       "      <td>5.064799e+05</td>\n",
       "      <td>4.983971e+05</td>\n",
       "      <td>8221.837674</td>\n",
       "      <td>5231.897364</td>\n",
       "      <td>378.162045</td>\n",
       "      <td>4964.968879</td>\n",
       "      <td>31.957966</td>\n",
       "      <td>4458.380181</td>\n",
       "      <td>1.256714e+06</td>\n",
       "      <td>1.047129e+06</td>\n",
       "    </tr>\n",
       "    <tr>\n",
       "      <th>...</th>\n",
       "      <td>...</td>\n",
       "      <td>...</td>\n",
       "      <td>...</td>\n",
       "      <td>...</td>\n",
       "      <td>...</td>\n",
       "      <td>...</td>\n",
       "      <td>...</td>\n",
       "      <td>...</td>\n",
       "      <td>...</td>\n",
       "      <td>...</td>\n",
       "      <td>...</td>\n",
       "      <td>...</td>\n",
       "      <td>...</td>\n",
       "      <td>...</td>\n",
       "      <td>...</td>\n",
       "      <td>...</td>\n",
       "      <td>...</td>\n",
       "      <td>...</td>\n",
       "      <td>...</td>\n",
       "      <td>...</td>\n",
       "      <td>...</td>\n",
       "    </tr>\n",
       "    <tr>\n",
       "      <th>237</th>\n",
       "      <td>680</td>\n",
       "      <td>United Air Lines Inc.</td>\n",
       "      <td>11.0</td>\n",
       "      <td>2019.0</td>\n",
       "      <td>797845.0</td>\n",
       "      <td>8674989</td>\n",
       "      <td>8678799</td>\n",
       "      <td>924787.450184</td>\n",
       "      <td>940645.621709</td>\n",
       "      <td>24991.188952</td>\n",
       "      <td>...</td>\n",
       "      <td>1.039077e+06</td>\n",
       "      <td>1.030899e+06</td>\n",
       "      <td>27890.089986</td>\n",
       "      <td>15043.926760</td>\n",
       "      <td>1499.914950</td>\n",
       "      <td>12339.489389</td>\n",
       "      <td>16.259904</td>\n",
       "      <td>19806.799398</td>\n",
       "      <td>2.041799e+06</td>\n",
       "      <td>1.630382e+06</td>\n",
       "    </tr>\n",
       "    <tr>\n",
       "      <th>239</th>\n",
       "      <td>718</td>\n",
       "      <td>United Air Lines Inc.</td>\n",
       "      <td>12.0</td>\n",
       "      <td>2019.0</td>\n",
       "      <td>870907.0</td>\n",
       "      <td>9156345</td>\n",
       "      <td>9163298</td>\n",
       "      <td>966014.772927</td>\n",
       "      <td>979825.777375</td>\n",
       "      <td>29137.918933</td>\n",
       "      <td>...</td>\n",
       "      <td>1.080932e+06</td>\n",
       "      <td>1.065919e+06</td>\n",
       "      <td>31660.675752</td>\n",
       "      <td>15240.375367</td>\n",
       "      <td>1652.616254</td>\n",
       "      <td>12430.109523</td>\n",
       "      <td>9.028890</td>\n",
       "      <td>22023.385123</td>\n",
       "      <td>2.025153e+06</td>\n",
       "      <td>1.714300e+06</td>\n",
       "    </tr>\n",
       "    <tr>\n",
       "      <th>240</th>\n",
       "      <td>87</td>\n",
       "      <td>Virgin America</td>\n",
       "      <td>1.0</td>\n",
       "      <td>2018.0</td>\n",
       "      <td>161202.0</td>\n",
       "      <td>1159650</td>\n",
       "      <td>1158485</td>\n",
       "      <td>121805.198782</td>\n",
       "      <td>124209.745761</td>\n",
       "      <td>1941.868932</td>\n",
       "      <td>...</td>\n",
       "      <td>1.392771e+05</td>\n",
       "      <td>1.376019e+05</td>\n",
       "      <td>2397.586213</td>\n",
       "      <td>1289.687565</td>\n",
       "      <td>94.508423</td>\n",
       "      <td>1708.831382</td>\n",
       "      <td>24.528491</td>\n",
       "      <td>855.024001</td>\n",
       "      <td>3.392687e+05</td>\n",
       "      <td>2.545203e+05</td>\n",
       "    </tr>\n",
       "    <tr>\n",
       "      <th>241</th>\n",
       "      <td>85</td>\n",
       "      <td>Virgin America</td>\n",
       "      <td>2.0</td>\n",
       "      <td>2018.0</td>\n",
       "      <td>157911.0</td>\n",
       "      <td>1130822</td>\n",
       "      <td>1134772</td>\n",
       "      <td>118894.674656</td>\n",
       "      <td>121104.011552</td>\n",
       "      <td>2040.061885</td>\n",
       "      <td>...</td>\n",
       "      <td>1.365138e+05</td>\n",
       "      <td>1.361649e+05</td>\n",
       "      <td>2488.345013</td>\n",
       "      <td>1573.508144</td>\n",
       "      <td>6.839827</td>\n",
       "      <td>1529.879869</td>\n",
       "      <td>6.576389</td>\n",
       "      <td>981.112826</td>\n",
       "      <td>3.300825e+05</td>\n",
       "      <td>2.565813e+05</td>\n",
       "    </tr>\n",
       "    <tr>\n",
       "      <th>242</th>\n",
       "      <td>92</td>\n",
       "      <td>Virgin America</td>\n",
       "      <td>3.0</td>\n",
       "      <td>2018.0</td>\n",
       "      <td>167248.0</td>\n",
       "      <td>1228165</td>\n",
       "      <td>1228165</td>\n",
       "      <td>126174.067715</td>\n",
       "      <td>128019.508667</td>\n",
       "      <td>3211.302161</td>\n",
       "      <td>...</td>\n",
       "      <td>1.429332e+05</td>\n",
       "      <td>1.409969e+05</td>\n",
       "      <td>3420.564926</td>\n",
       "      <td>1824.684259</td>\n",
       "      <td>58.655094</td>\n",
       "      <td>1783.516843</td>\n",
       "      <td>65.130120</td>\n",
       "      <td>1536.266659</td>\n",
       "      <td>3.635175e+05</td>\n",
       "      <td>3.059000e+05</td>\n",
       "    </tr>\n",
       "  </tbody>\n",
       "</table>\n",
       "<p>243 rows × 24 columns</p>\n",
       "</div>"
      ],
      "text/plain": [
       "     mkt_unique_carrier           carrier_name  month    year  distance  \\\n",
       "0                   264   Alaska Airlines Inc.    1.0  2018.0  400691.0   \n",
       "2                   257   Alaska Airlines Inc.    2.0  2018.0  389843.0   \n",
       "4                   267   Alaska Airlines Inc.    3.0  2018.0  403407.0   \n",
       "6                   329   Alaska Airlines Inc.    4.0  2018.0  529763.0   \n",
       "8                   328   Alaska Airlines Inc.    5.0  2018.0  527630.0   \n",
       "..                  ...                    ...    ...     ...       ...   \n",
       "237                 680  United Air Lines Inc.   11.0  2019.0  797845.0   \n",
       "239                 718  United Air Lines Inc.   12.0  2019.0  870907.0   \n",
       "240                  87         Virgin America    1.0  2018.0  161202.0   \n",
       "241                  85         Virgin America    2.0  2018.0  157911.0   \n",
       "242                  92         Virgin America    3.0  2018.0  167248.0   \n",
       "\n",
       "     origin_airport_id  dest_airport_id   crs_dep_time       dep_time  \\\n",
       "0              3533182          3539293  347047.917970  347578.637480   \n",
       "2              3441568          3445500  339228.916381  341824.010139   \n",
       "4              3579435          3581016  351231.770796  352611.408561   \n",
       "6              4416632          4402094  437644.717946  443878.138696   \n",
       "8              4398513          4393832  441469.897470  446857.877443   \n",
       "..                 ...              ...            ...            ...   \n",
       "237            8674989          8678799  924787.450184  940645.621709   \n",
       "239            9156345          9163298  966014.772927  979825.777375   \n",
       "240            1159650          1158485  121805.198782  124209.745761   \n",
       "241            1130822          1134772  118894.674656  121104.011552   \n",
       "242            1228165          1228165  126174.067715  128019.508667   \n",
       "\n",
       "        dep_delay  ...  crs_arr_time      arr_time     arr_delay  \\\n",
       "0     4883.156964  ...  4.040591e+05  4.015774e+05   6761.463975   \n",
       "2     4426.399227  ...  3.966998e+05  3.978910e+05   6524.940163   \n",
       "4     4112.362535  ...  4.054933e+05  4.061643e+05   6119.686710   \n",
       "6     6597.134759  ...  5.059225e+05  5.050267e+05   8722.534150   \n",
       "8     6218.846074  ...  5.064799e+05  4.983971e+05   8221.837674   \n",
       "..            ...  ...           ...           ...           ...   \n",
       "237  24991.188952  ...  1.039077e+06  1.030899e+06  27890.089986   \n",
       "239  29137.918933  ...  1.080932e+06  1.065919e+06  31660.675752   \n",
       "240   1941.868932  ...  1.392771e+05  1.376019e+05   2397.586213   \n",
       "241   2040.061885  ...  1.365138e+05  1.361649e+05   2488.345013   \n",
       "242   3211.302161  ...  1.429332e+05  1.409969e+05   3420.564926   \n",
       "\n",
       "     carrier_delay  weather_delay     nas_delay  security_delay  \\\n",
       "0      3628.222503     476.053049   3693.186448       93.023521   \n",
       "2      3657.780861     767.073228   3542.538221       74.391729   \n",
       "4      3587.963528     560.199827   3546.221727       85.138145   \n",
       "6      5354.204906     137.696748   4765.741166       71.784698   \n",
       "8      5231.897364     378.162045   4964.968879       31.957966   \n",
       "..             ...            ...           ...             ...   \n",
       "237   15043.926760    1499.914950  12339.489389       16.259904   \n",
       "239   15240.375367    1652.616254  12430.109523        9.028890   \n",
       "240    1289.687565      94.508423   1708.831382       24.528491   \n",
       "241    1573.508144       6.839827   1529.879869        6.576389   \n",
       "242    1824.684259      58.655094   1783.516843       65.130120   \n",
       "\n",
       "     late_aircraft_delay         seats    passengers  \n",
       "0            4593.174674  8.988310e+05  6.570467e+05  \n",
       "2            3273.246332  8.471806e+05  6.561245e+05  \n",
       "4            3750.695563  9.762869e+05  8.033236e+05  \n",
       "6            5520.139356  1.235752e+06  1.018384e+06  \n",
       "8            4458.380181  1.256714e+06  1.047129e+06  \n",
       "..                   ...           ...           ...  \n",
       "237         19806.799398  2.041799e+06  1.630382e+06  \n",
       "239         22023.385123  2.025153e+06  1.714300e+06  \n",
       "240           855.024001  3.392687e+05  2.545203e+05  \n",
       "241           981.112826  3.300825e+05  2.565813e+05  \n",
       "242          1536.266659  3.635175e+05  3.059000e+05  \n",
       "\n",
       "[243 rows x 24 columns]"
      ]
     },
     "execution_count": 16,
     "metadata": {},
     "output_type": "execute_result"
    }
   ],
   "source": [
    "counts_monthly_delay_merge"
   ]
  },
  {
   "cell_type": "code",
   "execution_count": 17,
   "metadata": {},
   "outputs": [
    {
     "data": {
      "text/html": [
       "<div>\n",
       "<style scoped>\n",
       "    .dataframe tbody tr th:only-of-type {\n",
       "        vertical-align: middle;\n",
       "    }\n",
       "\n",
       "    .dataframe tbody tr th {\n",
       "        vertical-align: top;\n",
       "    }\n",
       "\n",
       "    .dataframe thead th {\n",
       "        text-align: right;\n",
       "    }\n",
       "</style>\n",
       "<table border=\"1\" class=\"dataframe\">\n",
       "  <thead>\n",
       "    <tr style=\"text-align: right;\">\n",
       "      <th></th>\n",
       "      <th>mkt_unique_carrier</th>\n",
       "      <th>carrier_name</th>\n",
       "      <th>month</th>\n",
       "      <th>year</th>\n",
       "      <th>arr_delay</th>\n",
       "      <th>passengers</th>\n",
       "    </tr>\n",
       "  </thead>\n",
       "  <tbody>\n",
       "    <tr>\n",
       "      <th>0</th>\n",
       "      <td>264</td>\n",
       "      <td>Alaska Airlines Inc.</td>\n",
       "      <td>1.0</td>\n",
       "      <td>2018.0</td>\n",
       "      <td>6761.463975</td>\n",
       "      <td>6.570467e+05</td>\n",
       "    </tr>\n",
       "    <tr>\n",
       "      <th>2</th>\n",
       "      <td>257</td>\n",
       "      <td>Alaska Airlines Inc.</td>\n",
       "      <td>2.0</td>\n",
       "      <td>2018.0</td>\n",
       "      <td>6524.940163</td>\n",
       "      <td>6.561245e+05</td>\n",
       "    </tr>\n",
       "    <tr>\n",
       "      <th>4</th>\n",
       "      <td>267</td>\n",
       "      <td>Alaska Airlines Inc.</td>\n",
       "      <td>3.0</td>\n",
       "      <td>2018.0</td>\n",
       "      <td>6119.686710</td>\n",
       "      <td>8.033236e+05</td>\n",
       "    </tr>\n",
       "    <tr>\n",
       "      <th>6</th>\n",
       "      <td>329</td>\n",
       "      <td>Alaska Airlines Inc.</td>\n",
       "      <td>4.0</td>\n",
       "      <td>2018.0</td>\n",
       "      <td>8722.534150</td>\n",
       "      <td>1.018384e+06</td>\n",
       "    </tr>\n",
       "    <tr>\n",
       "      <th>8</th>\n",
       "      <td>328</td>\n",
       "      <td>Alaska Airlines Inc.</td>\n",
       "      <td>5.0</td>\n",
       "      <td>2018.0</td>\n",
       "      <td>8221.837674</td>\n",
       "      <td>1.047129e+06</td>\n",
       "    </tr>\n",
       "    <tr>\n",
       "      <th>...</th>\n",
       "      <td>...</td>\n",
       "      <td>...</td>\n",
       "      <td>...</td>\n",
       "      <td>...</td>\n",
       "      <td>...</td>\n",
       "      <td>...</td>\n",
       "    </tr>\n",
       "    <tr>\n",
       "      <th>237</th>\n",
       "      <td>680</td>\n",
       "      <td>United Air Lines Inc.</td>\n",
       "      <td>11.0</td>\n",
       "      <td>2019.0</td>\n",
       "      <td>27890.089986</td>\n",
       "      <td>1.630382e+06</td>\n",
       "    </tr>\n",
       "    <tr>\n",
       "      <th>239</th>\n",
       "      <td>718</td>\n",
       "      <td>United Air Lines Inc.</td>\n",
       "      <td>12.0</td>\n",
       "      <td>2019.0</td>\n",
       "      <td>31660.675752</td>\n",
       "      <td>1.714300e+06</td>\n",
       "    </tr>\n",
       "    <tr>\n",
       "      <th>240</th>\n",
       "      <td>87</td>\n",
       "      <td>Virgin America</td>\n",
       "      <td>1.0</td>\n",
       "      <td>2018.0</td>\n",
       "      <td>2397.586213</td>\n",
       "      <td>2.545203e+05</td>\n",
       "    </tr>\n",
       "    <tr>\n",
       "      <th>241</th>\n",
       "      <td>85</td>\n",
       "      <td>Virgin America</td>\n",
       "      <td>2.0</td>\n",
       "      <td>2018.0</td>\n",
       "      <td>2488.345013</td>\n",
       "      <td>2.565813e+05</td>\n",
       "    </tr>\n",
       "    <tr>\n",
       "      <th>242</th>\n",
       "      <td>92</td>\n",
       "      <td>Virgin America</td>\n",
       "      <td>3.0</td>\n",
       "      <td>2018.0</td>\n",
       "      <td>3420.564926</td>\n",
       "      <td>3.059000e+05</td>\n",
       "    </tr>\n",
       "  </tbody>\n",
       "</table>\n",
       "<p>243 rows × 6 columns</p>\n",
       "</div>"
      ],
      "text/plain": [
       "     mkt_unique_carrier           carrier_name  month    year     arr_delay  \\\n",
       "0                   264   Alaska Airlines Inc.    1.0  2018.0   6761.463975   \n",
       "2                   257   Alaska Airlines Inc.    2.0  2018.0   6524.940163   \n",
       "4                   267   Alaska Airlines Inc.    3.0  2018.0   6119.686710   \n",
       "6                   329   Alaska Airlines Inc.    4.0  2018.0   8722.534150   \n",
       "8                   328   Alaska Airlines Inc.    5.0  2018.0   8221.837674   \n",
       "..                  ...                    ...    ...     ...           ...   \n",
       "237                 680  United Air Lines Inc.   11.0  2019.0  27890.089986   \n",
       "239                 718  United Air Lines Inc.   12.0  2019.0  31660.675752   \n",
       "240                  87         Virgin America    1.0  2018.0   2397.586213   \n",
       "241                  85         Virgin America    2.0  2018.0   2488.345013   \n",
       "242                  92         Virgin America    3.0  2018.0   3420.564926   \n",
       "\n",
       "       passengers  \n",
       "0    6.570467e+05  \n",
       "2    6.561245e+05  \n",
       "4    8.033236e+05  \n",
       "6    1.018384e+06  \n",
       "8    1.047129e+06  \n",
       "..            ...  \n",
       "237  1.630382e+06  \n",
       "239  1.714300e+06  \n",
       "240  2.545203e+05  \n",
       "241  2.565813e+05  \n",
       "242  3.059000e+05  \n",
       "\n",
       "[243 rows x 6 columns]"
      ]
     },
     "execution_count": 17,
     "metadata": {},
     "output_type": "execute_result"
    }
   ],
   "source": [
    "counts_monthly_delay_merge[['mkt_unique_carrier', 'carrier_name', 'month', 'year', 'arr_delay', 'passengers']]"
   ]
  },
  {
   "cell_type": "code",
   "execution_count": 18,
   "metadata": {},
   "outputs": [],
   "source": [
    "counts_monthly_delay_merge['avg_delay'] = counts_monthly_delay_merge['arr_delay']/counts_monthly_delay_merge['mkt_unique_carrier']"
   ]
  },
  {
   "cell_type": "code",
   "execution_count": 19,
   "metadata": {},
   "outputs": [
    {
     "data": {
      "text/html": [
       "<div>\n",
       "<style scoped>\n",
       "    .dataframe tbody tr th:only-of-type {\n",
       "        vertical-align: middle;\n",
       "    }\n",
       "\n",
       "    .dataframe tbody tr th {\n",
       "        vertical-align: top;\n",
       "    }\n",
       "\n",
       "    .dataframe thead th {\n",
       "        text-align: right;\n",
       "    }\n",
       "</style>\n",
       "<table border=\"1\" class=\"dataframe\">\n",
       "  <thead>\n",
       "    <tr style=\"text-align: right;\">\n",
       "      <th></th>\n",
       "      <th>mkt_unique_carrier</th>\n",
       "      <th>carrier_name</th>\n",
       "      <th>month</th>\n",
       "      <th>year</th>\n",
       "      <th>distance</th>\n",
       "      <th>origin_airport_id</th>\n",
       "      <th>dest_airport_id</th>\n",
       "      <th>crs_dep_time</th>\n",
       "      <th>dep_time</th>\n",
       "      <th>dep_delay</th>\n",
       "      <th>...</th>\n",
       "      <th>arr_time</th>\n",
       "      <th>arr_delay</th>\n",
       "      <th>carrier_delay</th>\n",
       "      <th>weather_delay</th>\n",
       "      <th>nas_delay</th>\n",
       "      <th>security_delay</th>\n",
       "      <th>late_aircraft_delay</th>\n",
       "      <th>seats</th>\n",
       "      <th>passengers</th>\n",
       "      <th>avg_delay</th>\n",
       "    </tr>\n",
       "  </thead>\n",
       "  <tbody>\n",
       "    <tr>\n",
       "      <th>0</th>\n",
       "      <td>264</td>\n",
       "      <td>Alaska Airlines Inc.</td>\n",
       "      <td>1.0</td>\n",
       "      <td>2018.0</td>\n",
       "      <td>400691.0</td>\n",
       "      <td>3533182</td>\n",
       "      <td>3539293</td>\n",
       "      <td>347047.917970</td>\n",
       "      <td>347578.637480</td>\n",
       "      <td>4883.156964</td>\n",
       "      <td>...</td>\n",
       "      <td>4.015774e+05</td>\n",
       "      <td>6761.463975</td>\n",
       "      <td>3628.222503</td>\n",
       "      <td>476.053049</td>\n",
       "      <td>3693.186448</td>\n",
       "      <td>93.023521</td>\n",
       "      <td>4593.174674</td>\n",
       "      <td>8.988310e+05</td>\n",
       "      <td>6.570467e+05</td>\n",
       "      <td>25.611606</td>\n",
       "    </tr>\n",
       "    <tr>\n",
       "      <th>2</th>\n",
       "      <td>257</td>\n",
       "      <td>Alaska Airlines Inc.</td>\n",
       "      <td>2.0</td>\n",
       "      <td>2018.0</td>\n",
       "      <td>389843.0</td>\n",
       "      <td>3441568</td>\n",
       "      <td>3445500</td>\n",
       "      <td>339228.916381</td>\n",
       "      <td>341824.010139</td>\n",
       "      <td>4426.399227</td>\n",
       "      <td>...</td>\n",
       "      <td>3.978910e+05</td>\n",
       "      <td>6524.940163</td>\n",
       "      <td>3657.780861</td>\n",
       "      <td>767.073228</td>\n",
       "      <td>3542.538221</td>\n",
       "      <td>74.391729</td>\n",
       "      <td>3273.246332</td>\n",
       "      <td>8.471806e+05</td>\n",
       "      <td>6.561245e+05</td>\n",
       "      <td>25.388872</td>\n",
       "    </tr>\n",
       "    <tr>\n",
       "      <th>4</th>\n",
       "      <td>267</td>\n",
       "      <td>Alaska Airlines Inc.</td>\n",
       "      <td>3.0</td>\n",
       "      <td>2018.0</td>\n",
       "      <td>403407.0</td>\n",
       "      <td>3579435</td>\n",
       "      <td>3581016</td>\n",
       "      <td>351231.770796</td>\n",
       "      <td>352611.408561</td>\n",
       "      <td>4112.362535</td>\n",
       "      <td>...</td>\n",
       "      <td>4.061643e+05</td>\n",
       "      <td>6119.686710</td>\n",
       "      <td>3587.963528</td>\n",
       "      <td>560.199827</td>\n",
       "      <td>3546.221727</td>\n",
       "      <td>85.138145</td>\n",
       "      <td>3750.695563</td>\n",
       "      <td>9.762869e+05</td>\n",
       "      <td>8.033236e+05</td>\n",
       "      <td>22.920175</td>\n",
       "    </tr>\n",
       "    <tr>\n",
       "      <th>6</th>\n",
       "      <td>329</td>\n",
       "      <td>Alaska Airlines Inc.</td>\n",
       "      <td>4.0</td>\n",
       "      <td>2018.0</td>\n",
       "      <td>529763.0</td>\n",
       "      <td>4416632</td>\n",
       "      <td>4402094</td>\n",
       "      <td>437644.717946</td>\n",
       "      <td>443878.138696</td>\n",
       "      <td>6597.134759</td>\n",
       "      <td>...</td>\n",
       "      <td>5.050267e+05</td>\n",
       "      <td>8722.534150</td>\n",
       "      <td>5354.204906</td>\n",
       "      <td>137.696748</td>\n",
       "      <td>4765.741166</td>\n",
       "      <td>71.784698</td>\n",
       "      <td>5520.139356</td>\n",
       "      <td>1.235752e+06</td>\n",
       "      <td>1.018384e+06</td>\n",
       "      <td>26.512262</td>\n",
       "    </tr>\n",
       "    <tr>\n",
       "      <th>8</th>\n",
       "      <td>328</td>\n",
       "      <td>Alaska Airlines Inc.</td>\n",
       "      <td>5.0</td>\n",
       "      <td>2018.0</td>\n",
       "      <td>527630.0</td>\n",
       "      <td>4398513</td>\n",
       "      <td>4393832</td>\n",
       "      <td>441469.897470</td>\n",
       "      <td>446857.877443</td>\n",
       "      <td>6218.846074</td>\n",
       "      <td>...</td>\n",
       "      <td>4.983971e+05</td>\n",
       "      <td>8221.837674</td>\n",
       "      <td>5231.897364</td>\n",
       "      <td>378.162045</td>\n",
       "      <td>4964.968879</td>\n",
       "      <td>31.957966</td>\n",
       "      <td>4458.380181</td>\n",
       "      <td>1.256714e+06</td>\n",
       "      <td>1.047129e+06</td>\n",
       "      <td>25.066578</td>\n",
       "    </tr>\n",
       "    <tr>\n",
       "      <th>...</th>\n",
       "      <td>...</td>\n",
       "      <td>...</td>\n",
       "      <td>...</td>\n",
       "      <td>...</td>\n",
       "      <td>...</td>\n",
       "      <td>...</td>\n",
       "      <td>...</td>\n",
       "      <td>...</td>\n",
       "      <td>...</td>\n",
       "      <td>...</td>\n",
       "      <td>...</td>\n",
       "      <td>...</td>\n",
       "      <td>...</td>\n",
       "      <td>...</td>\n",
       "      <td>...</td>\n",
       "      <td>...</td>\n",
       "      <td>...</td>\n",
       "      <td>...</td>\n",
       "      <td>...</td>\n",
       "      <td>...</td>\n",
       "      <td>...</td>\n",
       "    </tr>\n",
       "    <tr>\n",
       "      <th>237</th>\n",
       "      <td>680</td>\n",
       "      <td>United Air Lines Inc.</td>\n",
       "      <td>11.0</td>\n",
       "      <td>2019.0</td>\n",
       "      <td>797845.0</td>\n",
       "      <td>8674989</td>\n",
       "      <td>8678799</td>\n",
       "      <td>924787.450184</td>\n",
       "      <td>940645.621709</td>\n",
       "      <td>24991.188952</td>\n",
       "      <td>...</td>\n",
       "      <td>1.030899e+06</td>\n",
       "      <td>27890.089986</td>\n",
       "      <td>15043.926760</td>\n",
       "      <td>1499.914950</td>\n",
       "      <td>12339.489389</td>\n",
       "      <td>16.259904</td>\n",
       "      <td>19806.799398</td>\n",
       "      <td>2.041799e+06</td>\n",
       "      <td>1.630382e+06</td>\n",
       "      <td>41.014838</td>\n",
       "    </tr>\n",
       "    <tr>\n",
       "      <th>239</th>\n",
       "      <td>718</td>\n",
       "      <td>United Air Lines Inc.</td>\n",
       "      <td>12.0</td>\n",
       "      <td>2019.0</td>\n",
       "      <td>870907.0</td>\n",
       "      <td>9156345</td>\n",
       "      <td>9163298</td>\n",
       "      <td>966014.772927</td>\n",
       "      <td>979825.777375</td>\n",
       "      <td>29137.918933</td>\n",
       "      <td>...</td>\n",
       "      <td>1.065919e+06</td>\n",
       "      <td>31660.675752</td>\n",
       "      <td>15240.375367</td>\n",
       "      <td>1652.616254</td>\n",
       "      <td>12430.109523</td>\n",
       "      <td>9.028890</td>\n",
       "      <td>22023.385123</td>\n",
       "      <td>2.025153e+06</td>\n",
       "      <td>1.714300e+06</td>\n",
       "      <td>44.095649</td>\n",
       "    </tr>\n",
       "    <tr>\n",
       "      <th>240</th>\n",
       "      <td>87</td>\n",
       "      <td>Virgin America</td>\n",
       "      <td>1.0</td>\n",
       "      <td>2018.0</td>\n",
       "      <td>161202.0</td>\n",
       "      <td>1159650</td>\n",
       "      <td>1158485</td>\n",
       "      <td>121805.198782</td>\n",
       "      <td>124209.745761</td>\n",
       "      <td>1941.868932</td>\n",
       "      <td>...</td>\n",
       "      <td>1.376019e+05</td>\n",
       "      <td>2397.586213</td>\n",
       "      <td>1289.687565</td>\n",
       "      <td>94.508423</td>\n",
       "      <td>1708.831382</td>\n",
       "      <td>24.528491</td>\n",
       "      <td>855.024001</td>\n",
       "      <td>3.392687e+05</td>\n",
       "      <td>2.545203e+05</td>\n",
       "      <td>27.558462</td>\n",
       "    </tr>\n",
       "    <tr>\n",
       "      <th>241</th>\n",
       "      <td>85</td>\n",
       "      <td>Virgin America</td>\n",
       "      <td>2.0</td>\n",
       "      <td>2018.0</td>\n",
       "      <td>157911.0</td>\n",
       "      <td>1130822</td>\n",
       "      <td>1134772</td>\n",
       "      <td>118894.674656</td>\n",
       "      <td>121104.011552</td>\n",
       "      <td>2040.061885</td>\n",
       "      <td>...</td>\n",
       "      <td>1.361649e+05</td>\n",
       "      <td>2488.345013</td>\n",
       "      <td>1573.508144</td>\n",
       "      <td>6.839827</td>\n",
       "      <td>1529.879869</td>\n",
       "      <td>6.576389</td>\n",
       "      <td>981.112826</td>\n",
       "      <td>3.300825e+05</td>\n",
       "      <td>2.565813e+05</td>\n",
       "      <td>29.274647</td>\n",
       "    </tr>\n",
       "    <tr>\n",
       "      <th>242</th>\n",
       "      <td>92</td>\n",
       "      <td>Virgin America</td>\n",
       "      <td>3.0</td>\n",
       "      <td>2018.0</td>\n",
       "      <td>167248.0</td>\n",
       "      <td>1228165</td>\n",
       "      <td>1228165</td>\n",
       "      <td>126174.067715</td>\n",
       "      <td>128019.508667</td>\n",
       "      <td>3211.302161</td>\n",
       "      <td>...</td>\n",
       "      <td>1.409969e+05</td>\n",
       "      <td>3420.564926</td>\n",
       "      <td>1824.684259</td>\n",
       "      <td>58.655094</td>\n",
       "      <td>1783.516843</td>\n",
       "      <td>65.130120</td>\n",
       "      <td>1536.266659</td>\n",
       "      <td>3.635175e+05</td>\n",
       "      <td>3.059000e+05</td>\n",
       "      <td>37.180054</td>\n",
       "    </tr>\n",
       "  </tbody>\n",
       "</table>\n",
       "<p>243 rows × 25 columns</p>\n",
       "</div>"
      ],
      "text/plain": [
       "     mkt_unique_carrier           carrier_name  month    year  distance  \\\n",
       "0                   264   Alaska Airlines Inc.    1.0  2018.0  400691.0   \n",
       "2                   257   Alaska Airlines Inc.    2.0  2018.0  389843.0   \n",
       "4                   267   Alaska Airlines Inc.    3.0  2018.0  403407.0   \n",
       "6                   329   Alaska Airlines Inc.    4.0  2018.0  529763.0   \n",
       "8                   328   Alaska Airlines Inc.    5.0  2018.0  527630.0   \n",
       "..                  ...                    ...    ...     ...       ...   \n",
       "237                 680  United Air Lines Inc.   11.0  2019.0  797845.0   \n",
       "239                 718  United Air Lines Inc.   12.0  2019.0  870907.0   \n",
       "240                  87         Virgin America    1.0  2018.0  161202.0   \n",
       "241                  85         Virgin America    2.0  2018.0  157911.0   \n",
       "242                  92         Virgin America    3.0  2018.0  167248.0   \n",
       "\n",
       "     origin_airport_id  dest_airport_id   crs_dep_time       dep_time  \\\n",
       "0              3533182          3539293  347047.917970  347578.637480   \n",
       "2              3441568          3445500  339228.916381  341824.010139   \n",
       "4              3579435          3581016  351231.770796  352611.408561   \n",
       "6              4416632          4402094  437644.717946  443878.138696   \n",
       "8              4398513          4393832  441469.897470  446857.877443   \n",
       "..                 ...              ...            ...            ...   \n",
       "237            8674989          8678799  924787.450184  940645.621709   \n",
       "239            9156345          9163298  966014.772927  979825.777375   \n",
       "240            1159650          1158485  121805.198782  124209.745761   \n",
       "241            1130822          1134772  118894.674656  121104.011552   \n",
       "242            1228165          1228165  126174.067715  128019.508667   \n",
       "\n",
       "        dep_delay  ...      arr_time     arr_delay  carrier_delay  \\\n",
       "0     4883.156964  ...  4.015774e+05   6761.463975    3628.222503   \n",
       "2     4426.399227  ...  3.978910e+05   6524.940163    3657.780861   \n",
       "4     4112.362535  ...  4.061643e+05   6119.686710    3587.963528   \n",
       "6     6597.134759  ...  5.050267e+05   8722.534150    5354.204906   \n",
       "8     6218.846074  ...  4.983971e+05   8221.837674    5231.897364   \n",
       "..            ...  ...           ...           ...            ...   \n",
       "237  24991.188952  ...  1.030899e+06  27890.089986   15043.926760   \n",
       "239  29137.918933  ...  1.065919e+06  31660.675752   15240.375367   \n",
       "240   1941.868932  ...  1.376019e+05   2397.586213    1289.687565   \n",
       "241   2040.061885  ...  1.361649e+05   2488.345013    1573.508144   \n",
       "242   3211.302161  ...  1.409969e+05   3420.564926    1824.684259   \n",
       "\n",
       "     weather_delay     nas_delay  security_delay  late_aircraft_delay  \\\n",
       "0       476.053049   3693.186448       93.023521          4593.174674   \n",
       "2       767.073228   3542.538221       74.391729          3273.246332   \n",
       "4       560.199827   3546.221727       85.138145          3750.695563   \n",
       "6       137.696748   4765.741166       71.784698          5520.139356   \n",
       "8       378.162045   4964.968879       31.957966          4458.380181   \n",
       "..             ...           ...             ...                  ...   \n",
       "237    1499.914950  12339.489389       16.259904         19806.799398   \n",
       "239    1652.616254  12430.109523        9.028890         22023.385123   \n",
       "240      94.508423   1708.831382       24.528491           855.024001   \n",
       "241       6.839827   1529.879869        6.576389           981.112826   \n",
       "242      58.655094   1783.516843       65.130120          1536.266659   \n",
       "\n",
       "            seats    passengers  avg_delay  \n",
       "0    8.988310e+05  6.570467e+05  25.611606  \n",
       "2    8.471806e+05  6.561245e+05  25.388872  \n",
       "4    9.762869e+05  8.033236e+05  22.920175  \n",
       "6    1.235752e+06  1.018384e+06  26.512262  \n",
       "8    1.256714e+06  1.047129e+06  25.066578  \n",
       "..            ...           ...        ...  \n",
       "237  2.041799e+06  1.630382e+06  41.014838  \n",
       "239  2.025153e+06  1.714300e+06  44.095649  \n",
       "240  3.392687e+05  2.545203e+05  27.558462  \n",
       "241  3.300825e+05  2.565813e+05  29.274647  \n",
       "242  3.635175e+05  3.059000e+05  37.180054  \n",
       "\n",
       "[243 rows x 25 columns]"
      ]
     },
     "execution_count": 19,
     "metadata": {},
     "output_type": "execute_result"
    }
   ],
   "source": [
    "counts_monthly_delay_merge"
   ]
  },
  {
   "cell_type": "code",
   "execution_count": 20,
   "metadata": {},
   "outputs": [],
   "source": [
    "carrier_names = counts_monthly_delay_merge['carrier_name'].unique()"
   ]
  },
  {
   "cell_type": "code",
   "execution_count": 21,
   "metadata": {},
   "outputs": [
    {
     "data": {
      "text/plain": [
       "array(['Alaska Airlines Inc.', 'Allegiant Air', 'American Airlines Inc.',\n",
       "       'Delta Air Lines Inc.', 'Frontier Airlines Inc.',\n",
       "       'Hawaiian Airlines Inc.', 'JetBlue Airways',\n",
       "       'Southwest Airlines Co.', 'Spirit Air Lines',\n",
       "       'United Air Lines Inc.', 'Virgin America'], dtype=object)"
      ]
     },
     "execution_count": 21,
     "metadata": {},
     "output_type": "execute_result"
    }
   ],
   "source": [
    "carrier_names"
   ]
  },
  {
   "cell_type": "code",
   "execution_count": 22,
   "metadata": {},
   "outputs": [
    {
     "data": {
      "text/html": [
       "<div>\n",
       "<style scoped>\n",
       "    .dataframe tbody tr th:only-of-type {\n",
       "        vertical-align: middle;\n",
       "    }\n",
       "\n",
       "    .dataframe tbody tr th {\n",
       "        vertical-align: top;\n",
       "    }\n",
       "\n",
       "    .dataframe thead th {\n",
       "        text-align: right;\n",
       "    }\n",
       "</style>\n",
       "<table border=\"1\" class=\"dataframe\">\n",
       "  <thead>\n",
       "    <tr style=\"text-align: right;\">\n",
       "      <th></th>\n",
       "      <th>mkt_unique_carrier</th>\n",
       "      <th>carrier_name</th>\n",
       "      <th>month</th>\n",
       "      <th>year</th>\n",
       "      <th>distance</th>\n",
       "      <th>origin_airport_id</th>\n",
       "      <th>dest_airport_id</th>\n",
       "      <th>crs_dep_time</th>\n",
       "      <th>dep_time</th>\n",
       "      <th>dep_delay</th>\n",
       "      <th>...</th>\n",
       "      <th>arr_time</th>\n",
       "      <th>arr_delay</th>\n",
       "      <th>carrier_delay</th>\n",
       "      <th>weather_delay</th>\n",
       "      <th>nas_delay</th>\n",
       "      <th>security_delay</th>\n",
       "      <th>late_aircraft_delay</th>\n",
       "      <th>seats</th>\n",
       "      <th>passengers</th>\n",
       "      <th>avg_delay</th>\n",
       "    </tr>\n",
       "  </thead>\n",
       "  <tbody>\n",
       "    <tr>\n",
       "      <th>24</th>\n",
       "      <td>589</td>\n",
       "      <td>Allegiant Air</td>\n",
       "      <td>1.0</td>\n",
       "      <td>2018.0</td>\n",
       "      <td>549864.0</td>\n",
       "      <td>7650985</td>\n",
       "      <td>7657295</td>\n",
       "      <td>7.601266e+05</td>\n",
       "      <td>7.908167e+05</td>\n",
       "      <td>21816.681862</td>\n",
       "      <td>...</td>\n",
       "      <td>9.186961e+05</td>\n",
       "      <td>23069.050027</td>\n",
       "      <td>13241.507648</td>\n",
       "      <td>2749.072619</td>\n",
       "      <td>4630.387590</td>\n",
       "      <td>128.583333</td>\n",
       "      <td>12304.128175</td>\n",
       "      <td>8.664410e+05</td>\n",
       "      <td>7.123603e+05</td>\n",
       "      <td>39.166469</td>\n",
       "    </tr>\n",
       "    <tr>\n",
       "      <th>26</th>\n",
       "      <td>592</td>\n",
       "      <td>Allegiant Air</td>\n",
       "      <td>2.0</td>\n",
       "      <td>2018.0</td>\n",
       "      <td>549641.0</td>\n",
       "      <td>7687061</td>\n",
       "      <td>7687977</td>\n",
       "      <td>7.958830e+05</td>\n",
       "      <td>8.262608e+05</td>\n",
       "      <td>25363.022163</td>\n",
       "      <td>...</td>\n",
       "      <td>9.457762e+05</td>\n",
       "      <td>27161.788343</td>\n",
       "      <td>17234.608389</td>\n",
       "      <td>1889.822222</td>\n",
       "      <td>5413.083788</td>\n",
       "      <td>91.722222</td>\n",
       "      <td>14673.831330</td>\n",
       "      <td>8.509280e+05</td>\n",
       "      <td>7.172125e+05</td>\n",
       "      <td>45.881399</td>\n",
       "    </tr>\n",
       "    <tr>\n",
       "      <th>28</th>\n",
       "      <td>600</td>\n",
       "      <td>Allegiant Air</td>\n",
       "      <td>3.0</td>\n",
       "      <td>2018.0</td>\n",
       "      <td>558116.0</td>\n",
       "      <td>7806566</td>\n",
       "      <td>7794258</td>\n",
       "      <td>8.080547e+05</td>\n",
       "      <td>8.387407e+05</td>\n",
       "      <td>22383.550904</td>\n",
       "      <td>...</td>\n",
       "      <td>9.592855e+05</td>\n",
       "      <td>23666.893010</td>\n",
       "      <td>16818.349691</td>\n",
       "      <td>1146.588614</td>\n",
       "      <td>5368.911544</td>\n",
       "      <td>135.812037</td>\n",
       "      <td>14129.913965</td>\n",
       "      <td>1.077089e+06</td>\n",
       "      <td>9.434567e+05</td>\n",
       "      <td>39.444822</td>\n",
       "    </tr>\n",
       "    <tr>\n",
       "      <th>30</th>\n",
       "      <td>627</td>\n",
       "      <td>Allegiant Air</td>\n",
       "      <td>4.0</td>\n",
       "      <td>2018.0</td>\n",
       "      <td>569732.0</td>\n",
       "      <td>8146062</td>\n",
       "      <td>8128753</td>\n",
       "      <td>8.443019e+05</td>\n",
       "      <td>8.764056e+05</td>\n",
       "      <td>25738.340482</td>\n",
       "      <td>...</td>\n",
       "      <td>1.001548e+06</td>\n",
       "      <td>27826.630253</td>\n",
       "      <td>17713.894625</td>\n",
       "      <td>1620.278066</td>\n",
       "      <td>6341.602958</td>\n",
       "      <td>100.466667</td>\n",
       "      <td>16076.789033</td>\n",
       "      <td>8.921242e+05</td>\n",
       "      <td>7.537760e+05</td>\n",
       "      <td>44.380591</td>\n",
       "    </tr>\n",
       "    <tr>\n",
       "      <th>32</th>\n",
       "      <td>668</td>\n",
       "      <td>Allegiant Air</td>\n",
       "      <td>5.0</td>\n",
       "      <td>2018.0</td>\n",
       "      <td>595902.0</td>\n",
       "      <td>8688513</td>\n",
       "      <td>8716871</td>\n",
       "      <td>9.142607e+05</td>\n",
       "      <td>9.556722e+05</td>\n",
       "      <td>33850.848264</td>\n",
       "      <td>...</td>\n",
       "      <td>1.068618e+06</td>\n",
       "      <td>34123.233621</td>\n",
       "      <td>22275.139275</td>\n",
       "      <td>2082.923818</td>\n",
       "      <td>6177.954221</td>\n",
       "      <td>90.666667</td>\n",
       "      <td>20009.136602</td>\n",
       "      <td>8.979290e+05</td>\n",
       "      <td>7.528145e+05</td>\n",
       "      <td>51.082685</td>\n",
       "    </tr>\n",
       "    <tr>\n",
       "      <th>34</th>\n",
       "      <td>766</td>\n",
       "      <td>Allegiant Air</td>\n",
       "      <td>6.0</td>\n",
       "      <td>2018.0</td>\n",
       "      <td>677936.0</td>\n",
       "      <td>10006799</td>\n",
       "      <td>10000150</td>\n",
       "      <td>1.038289e+06</td>\n",
       "      <td>1.079099e+06</td>\n",
       "      <td>38920.990509</td>\n",
       "      <td>...</td>\n",
       "      <td>1.200186e+06</td>\n",
       "      <td>40312.564473</td>\n",
       "      <td>24179.714814</td>\n",
       "      <td>2586.657111</td>\n",
       "      <td>6813.813578</td>\n",
       "      <td>65.994048</td>\n",
       "      <td>24133.411146</td>\n",
       "      <td>1.156155e+06</td>\n",
       "      <td>9.885530e+05</td>\n",
       "      <td>52.627369</td>\n",
       "    </tr>\n",
       "    <tr>\n",
       "      <th>36</th>\n",
       "      <td>764</td>\n",
       "      <td>Allegiant Air</td>\n",
       "      <td>7.0</td>\n",
       "      <td>2018.0</td>\n",
       "      <td>676736.0</td>\n",
       "      <td>9969604</td>\n",
       "      <td>9968473</td>\n",
       "      <td>1.046042e+06</td>\n",
       "      <td>1.087014e+06</td>\n",
       "      <td>34536.365123</td>\n",
       "      <td>...</td>\n",
       "      <td>1.204983e+06</td>\n",
       "      <td>37510.603850</td>\n",
       "      <td>16989.500915</td>\n",
       "      <td>3933.723252</td>\n",
       "      <td>9164.565487</td>\n",
       "      <td>33.501378</td>\n",
       "      <td>22929.839675</td>\n",
       "      <td>1.171129e+06</td>\n",
       "      <td>1.033767e+06</td>\n",
       "      <td>49.097649</td>\n",
       "    </tr>\n",
       "    <tr>\n",
       "      <th>38</th>\n",
       "      <td>735</td>\n",
       "      <td>Allegiant Air</td>\n",
       "      <td>8.0</td>\n",
       "      <td>2018.0</td>\n",
       "      <td>647916.0</td>\n",
       "      <td>9605739</td>\n",
       "      <td>9622973</td>\n",
       "      <td>1.005759e+06</td>\n",
       "      <td>1.039689e+06</td>\n",
       "      <td>28465.443081</td>\n",
       "      <td>...</td>\n",
       "      <td>1.179263e+06</td>\n",
       "      <td>30557.934388</td>\n",
       "      <td>16939.133794</td>\n",
       "      <td>4580.766270</td>\n",
       "      <td>5384.614207</td>\n",
       "      <td>103.916667</td>\n",
       "      <td>16017.016234</td>\n",
       "      <td>1.014476e+06</td>\n",
       "      <td>8.574685e+05</td>\n",
       "      <td>41.575421</td>\n",
       "    </tr>\n",
       "    <tr>\n",
       "      <th>40</th>\n",
       "      <td>503</td>\n",
       "      <td>Allegiant Air</td>\n",
       "      <td>9.0</td>\n",
       "      <td>2018.0</td>\n",
       "      <td>434135.0</td>\n",
       "      <td>6552603</td>\n",
       "      <td>6573035</td>\n",
       "      <td>6.777043e+05</td>\n",
       "      <td>7.050426e+05</td>\n",
       "      <td>20985.232003</td>\n",
       "      <td>...</td>\n",
       "      <td>7.973197e+05</td>\n",
       "      <td>21404.206062</td>\n",
       "      <td>12385.478139</td>\n",
       "      <td>2599.047619</td>\n",
       "      <td>2801.430556</td>\n",
       "      <td>23.800000</td>\n",
       "      <td>10784.850433</td>\n",
       "      <td>6.758853e+05</td>\n",
       "      <td>5.498993e+05</td>\n",
       "      <td>42.553094</td>\n",
       "    </tr>\n",
       "    <tr>\n",
       "      <th>42</th>\n",
       "      <td>575</td>\n",
       "      <td>Allegiant Air</td>\n",
       "      <td>10.0</td>\n",
       "      <td>2018.0</td>\n",
       "      <td>511024.0</td>\n",
       "      <td>7497991</td>\n",
       "      <td>7498030</td>\n",
       "      <td>7.638262e+05</td>\n",
       "      <td>7.920332e+05</td>\n",
       "      <td>22588.029086</td>\n",
       "      <td>...</td>\n",
       "      <td>9.080394e+05</td>\n",
       "      <td>23249.867049</td>\n",
       "      <td>16668.700985</td>\n",
       "      <td>1253.298542</td>\n",
       "      <td>3337.813810</td>\n",
       "      <td>100.797619</td>\n",
       "      <td>13028.010228</td>\n",
       "      <td>8.764637e+05</td>\n",
       "      <td>7.260640e+05</td>\n",
       "      <td>40.434551</td>\n",
       "    </tr>\n",
       "    <tr>\n",
       "      <th>44</th>\n",
       "      <td>604</td>\n",
       "      <td>Allegiant Air</td>\n",
       "      <td>11.0</td>\n",
       "      <td>2018.0</td>\n",
       "      <td>553780.0</td>\n",
       "      <td>7875725</td>\n",
       "      <td>7890557</td>\n",
       "      <td>8.109022e+05</td>\n",
       "      <td>8.389994e+05</td>\n",
       "      <td>21333.057547</td>\n",
       "      <td>...</td>\n",
       "      <td>9.493081e+05</td>\n",
       "      <td>23869.030320</td>\n",
       "      <td>14595.328368</td>\n",
       "      <td>1228.876948</td>\n",
       "      <td>6006.395950</td>\n",
       "      <td>159.666667</td>\n",
       "      <td>13749.320699</td>\n",
       "      <td>8.597065e+05</td>\n",
       "      <td>7.086582e+05</td>\n",
       "      <td>39.518262</td>\n",
       "    </tr>\n",
       "    <tr>\n",
       "      <th>46</th>\n",
       "      <td>592</td>\n",
       "      <td>Allegiant Air</td>\n",
       "      <td>12.0</td>\n",
       "      <td>2018.0</td>\n",
       "      <td>556725.0</td>\n",
       "      <td>7689235</td>\n",
       "      <td>7721237</td>\n",
       "      <td>7.884824e+05</td>\n",
       "      <td>8.155337e+05</td>\n",
       "      <td>20324.284447</td>\n",
       "      <td>...</td>\n",
       "      <td>9.399608e+05</td>\n",
       "      <td>23033.852520</td>\n",
       "      <td>9158.368128</td>\n",
       "      <td>2822.006872</td>\n",
       "      <td>6726.472673</td>\n",
       "      <td>113.430952</td>\n",
       "      <td>16018.722890</td>\n",
       "      <td>1.020764e+06</td>\n",
       "      <td>8.375507e+05</td>\n",
       "      <td>38.908535</td>\n",
       "    </tr>\n",
       "  </tbody>\n",
       "</table>\n",
       "<p>12 rows × 25 columns</p>\n",
       "</div>"
      ],
      "text/plain": [
       "    mkt_unique_carrier   carrier_name  month    year  distance  \\\n",
       "24                 589  Allegiant Air    1.0  2018.0  549864.0   \n",
       "26                 592  Allegiant Air    2.0  2018.0  549641.0   \n",
       "28                 600  Allegiant Air    3.0  2018.0  558116.0   \n",
       "30                 627  Allegiant Air    4.0  2018.0  569732.0   \n",
       "32                 668  Allegiant Air    5.0  2018.0  595902.0   \n",
       "34                 766  Allegiant Air    6.0  2018.0  677936.0   \n",
       "36                 764  Allegiant Air    7.0  2018.0  676736.0   \n",
       "38                 735  Allegiant Air    8.0  2018.0  647916.0   \n",
       "40                 503  Allegiant Air    9.0  2018.0  434135.0   \n",
       "42                 575  Allegiant Air   10.0  2018.0  511024.0   \n",
       "44                 604  Allegiant Air   11.0  2018.0  553780.0   \n",
       "46                 592  Allegiant Air   12.0  2018.0  556725.0   \n",
       "\n",
       "    origin_airport_id  dest_airport_id  crs_dep_time      dep_time  \\\n",
       "24            7650985          7657295  7.601266e+05  7.908167e+05   \n",
       "26            7687061          7687977  7.958830e+05  8.262608e+05   \n",
       "28            7806566          7794258  8.080547e+05  8.387407e+05   \n",
       "30            8146062          8128753  8.443019e+05  8.764056e+05   \n",
       "32            8688513          8716871  9.142607e+05  9.556722e+05   \n",
       "34           10006799         10000150  1.038289e+06  1.079099e+06   \n",
       "36            9969604          9968473  1.046042e+06  1.087014e+06   \n",
       "38            9605739          9622973  1.005759e+06  1.039689e+06   \n",
       "40            6552603          6573035  6.777043e+05  7.050426e+05   \n",
       "42            7497991          7498030  7.638262e+05  7.920332e+05   \n",
       "44            7875725          7890557  8.109022e+05  8.389994e+05   \n",
       "46            7689235          7721237  7.884824e+05  8.155337e+05   \n",
       "\n",
       "       dep_delay  ...      arr_time     arr_delay  carrier_delay  \\\n",
       "24  21816.681862  ...  9.186961e+05  23069.050027   13241.507648   \n",
       "26  25363.022163  ...  9.457762e+05  27161.788343   17234.608389   \n",
       "28  22383.550904  ...  9.592855e+05  23666.893010   16818.349691   \n",
       "30  25738.340482  ...  1.001548e+06  27826.630253   17713.894625   \n",
       "32  33850.848264  ...  1.068618e+06  34123.233621   22275.139275   \n",
       "34  38920.990509  ...  1.200186e+06  40312.564473   24179.714814   \n",
       "36  34536.365123  ...  1.204983e+06  37510.603850   16989.500915   \n",
       "38  28465.443081  ...  1.179263e+06  30557.934388   16939.133794   \n",
       "40  20985.232003  ...  7.973197e+05  21404.206062   12385.478139   \n",
       "42  22588.029086  ...  9.080394e+05  23249.867049   16668.700985   \n",
       "44  21333.057547  ...  9.493081e+05  23869.030320   14595.328368   \n",
       "46  20324.284447  ...  9.399608e+05  23033.852520    9158.368128   \n",
       "\n",
       "    weather_delay    nas_delay  security_delay  late_aircraft_delay  \\\n",
       "24    2749.072619  4630.387590      128.583333         12304.128175   \n",
       "26    1889.822222  5413.083788       91.722222         14673.831330   \n",
       "28    1146.588614  5368.911544      135.812037         14129.913965   \n",
       "30    1620.278066  6341.602958      100.466667         16076.789033   \n",
       "32    2082.923818  6177.954221       90.666667         20009.136602   \n",
       "34    2586.657111  6813.813578       65.994048         24133.411146   \n",
       "36    3933.723252  9164.565487       33.501378         22929.839675   \n",
       "38    4580.766270  5384.614207      103.916667         16017.016234   \n",
       "40    2599.047619  2801.430556       23.800000         10784.850433   \n",
       "42    1253.298542  3337.813810      100.797619         13028.010228   \n",
       "44    1228.876948  6006.395950      159.666667         13749.320699   \n",
       "46    2822.006872  6726.472673      113.430952         16018.722890   \n",
       "\n",
       "           seats    passengers  avg_delay  \n",
       "24  8.664410e+05  7.123603e+05  39.166469  \n",
       "26  8.509280e+05  7.172125e+05  45.881399  \n",
       "28  1.077089e+06  9.434567e+05  39.444822  \n",
       "30  8.921242e+05  7.537760e+05  44.380591  \n",
       "32  8.979290e+05  7.528145e+05  51.082685  \n",
       "34  1.156155e+06  9.885530e+05  52.627369  \n",
       "36  1.171129e+06  1.033767e+06  49.097649  \n",
       "38  1.014476e+06  8.574685e+05  41.575421  \n",
       "40  6.758853e+05  5.498993e+05  42.553094  \n",
       "42  8.764637e+05  7.260640e+05  40.434551  \n",
       "44  8.597065e+05  7.086582e+05  39.518262  \n",
       "46  1.020764e+06  8.375507e+05  38.908535  \n",
       "\n",
       "[12 rows x 25 columns]"
      ]
     },
     "execution_count": 22,
     "metadata": {},
     "output_type": "execute_result"
    }
   ],
   "source": [
    "counts_monthly_delay_merge[(counts_monthly_delay_merge['carrier_name'] == 'Allegiant Air') & (counts_monthly_delay_merge['year'] == 2018.0)]"
   ]
  },
  {
   "cell_type": "code",
   "execution_count": 23,
   "metadata": {},
   "outputs": [],
   "source": [
    "carrier_delay2018 = {}\n",
    "for c in carrier_names:\n",
    "    carrier_delay2018[c] = pd.DataFrame(counts_monthly_delay_merge[(counts_monthly_delay_merge['carrier_name'] == c) & (counts_monthly_delay_merge['year'] == 2018.0)])\n",
    "    carrier_delay2018[c] = carrier_delay2018[c][['month', 'avg_delay']]\n",
    "    carrier_delay2018[c] = carrier_delay2018[c].rename(columns={'avg_delay': c})"
   ]
  },
  {
   "cell_type": "code",
   "execution_count": 24,
   "metadata": {},
   "outputs": [],
   "source": [
    "carrier_delay2019 = {}\n",
    "for c in carrier_names:\n",
    "    carrier_delay2019[c] = pd.DataFrame(counts_monthly_delay_merge[(counts_monthly_delay_merge['carrier_name'] == c) & (counts_monthly_delay_merge['year'] == 2019.0)])\n",
    "    carrier_delay2019[c] = carrier_delay2019[c][['month', 'avg_delay', 'year']]\n",
    "    carrier_delay2019[c] = carrier_delay2019[c].rename(columns={'avg_delay': c})\n",
    "    carrier_delay2019[c] = carrier_delay2019[c].drop(columns='year')    "
   ]
  },
  {
   "cell_type": "code",
   "execution_count": 25,
   "metadata": {},
   "outputs": [
    {
     "data": {
      "text/plain": [
       "array(['Alaska Airlines Inc.', 'Allegiant Air', 'American Airlines Inc.',\n",
       "       'Delta Air Lines Inc.', 'Frontier Airlines Inc.',\n",
       "       'Hawaiian Airlines Inc.', 'JetBlue Airways',\n",
       "       'Southwest Airlines Co.', 'Spirit Air Lines',\n",
       "       'United Air Lines Inc.', 'Virgin America'], dtype=object)"
      ]
     },
     "execution_count": 25,
     "metadata": {},
     "output_type": "execute_result"
    }
   ],
   "source": [
    "carrier_names"
   ]
  },
  {
   "cell_type": "code",
   "execution_count": 26,
   "metadata": {},
   "outputs": [],
   "source": [
    "for c in carrier_names:\n",
    "    if c == 'Virgin America':\n",
    "        continue\n",
    "    carrier_table2018 = pd.DataFrame(carrier_delay2018[c])\n",
    "    for d in carrier_names:\n",
    "        if d == 'Virgin America':\n",
    "            continue\n",
    "        if c != d:\n",
    "            carrier_table2018 = pd.merge(carrier_table2018, pd.DataFrame(carrier_delay2018[d]), left_on='month', right_on='month')"
   ]
  },
  {
   "cell_type": "code",
   "execution_count": 27,
   "metadata": {},
   "outputs": [],
   "source": [
    "for c in carrier_names:\n",
    "    if c == 'Virgin America':\n",
    "        continue\n",
    "    carrier_table2019 = pd.DataFrame(carrier_delay2019[c])\n",
    "    for d in carrier_names:\n",
    "        if d == 'Virgin America':\n",
    "            continue\n",
    "        if c != d:\n",
    "            carrier_table2019 = pd.merge(carrier_table2019, pd.DataFrame(carrier_delay2019[d]), left_on='month', right_on='month')"
   ]
  },
  {
   "cell_type": "code",
   "execution_count": 28,
   "metadata": {},
   "outputs": [
    {
     "data": {
      "text/html": [
       "<div>\n",
       "<style scoped>\n",
       "    .dataframe tbody tr th:only-of-type {\n",
       "        vertical-align: middle;\n",
       "    }\n",
       "\n",
       "    .dataframe tbody tr th {\n",
       "        vertical-align: top;\n",
       "    }\n",
       "\n",
       "    .dataframe thead th {\n",
       "        text-align: right;\n",
       "    }\n",
       "</style>\n",
       "<table border=\"1\" class=\"dataframe\">\n",
       "  <thead>\n",
       "    <tr style=\"text-align: right;\">\n",
       "      <th></th>\n",
       "      <th>month</th>\n",
       "      <th>United Air Lines Inc.</th>\n",
       "      <th>Alaska Airlines Inc.</th>\n",
       "      <th>Allegiant Air</th>\n",
       "      <th>American Airlines Inc.</th>\n",
       "      <th>Delta Air Lines Inc.</th>\n",
       "      <th>Frontier Airlines Inc.</th>\n",
       "      <th>Hawaiian Airlines Inc.</th>\n",
       "      <th>JetBlue Airways</th>\n",
       "      <th>Southwest Airlines Co.</th>\n",
       "      <th>Spirit Air Lines</th>\n",
       "    </tr>\n",
       "  </thead>\n",
       "  <tbody>\n",
       "    <tr>\n",
       "      <th>0</th>\n",
       "      <td>1.0</td>\n",
       "      <td>39.900176</td>\n",
       "      <td>25.611606</td>\n",
       "      <td>39.166469</td>\n",
       "      <td>36.302435</td>\n",
       "      <td>48.861124</td>\n",
       "      <td>49.791472</td>\n",
       "      <td>28.752298</td>\n",
       "      <td>52.466598</td>\n",
       "      <td>25.903149</td>\n",
       "      <td>40.656404</td>\n",
       "    </tr>\n",
       "    <tr>\n",
       "      <th>1</th>\n",
       "      <td>2.0</td>\n",
       "      <td>41.986507</td>\n",
       "      <td>25.388872</td>\n",
       "      <td>45.881399</td>\n",
       "      <td>36.080854</td>\n",
       "      <td>45.750213</td>\n",
       "      <td>50.724466</td>\n",
       "      <td>46.246438</td>\n",
       "      <td>38.177044</td>\n",
       "      <td>26.853405</td>\n",
       "      <td>49.522748</td>\n",
       "    </tr>\n",
       "    <tr>\n",
       "      <th>2</th>\n",
       "      <td>3.0</td>\n",
       "      <td>35.814881</td>\n",
       "      <td>22.920175</td>\n",
       "      <td>39.444822</td>\n",
       "      <td>30.338441</td>\n",
       "      <td>35.485603</td>\n",
       "      <td>38.516396</td>\n",
       "      <td>23.102811</td>\n",
       "      <td>39.993405</td>\n",
       "      <td>24.994599</td>\n",
       "      <td>36.555619</td>\n",
       "    </tr>\n",
       "    <tr>\n",
       "      <th>3</th>\n",
       "      <td>4.0</td>\n",
       "      <td>37.870241</td>\n",
       "      <td>26.512262</td>\n",
       "      <td>44.380591</td>\n",
       "      <td>33.509882</td>\n",
       "      <td>37.452577</td>\n",
       "      <td>52.664497</td>\n",
       "      <td>33.411693</td>\n",
       "      <td>46.444212</td>\n",
       "      <td>29.609818</td>\n",
       "      <td>47.744715</td>\n",
       "    </tr>\n",
       "    <tr>\n",
       "      <th>4</th>\n",
       "      <td>5.0</td>\n",
       "      <td>46.183227</td>\n",
       "      <td>25.066578</td>\n",
       "      <td>51.082685</td>\n",
       "      <td>42.456737</td>\n",
       "      <td>35.216479</td>\n",
       "      <td>54.453534</td>\n",
       "      <td>21.105674</td>\n",
       "      <td>43.407523</td>\n",
       "      <td>31.264309</td>\n",
       "      <td>46.798521</td>\n",
       "    </tr>\n",
       "    <tr>\n",
       "      <th>5</th>\n",
       "      <td>6.0</td>\n",
       "      <td>47.455905</td>\n",
       "      <td>25.213970</td>\n",
       "      <td>52.627369</td>\n",
       "      <td>41.126822</td>\n",
       "      <td>42.096237</td>\n",
       "      <td>59.613548</td>\n",
       "      <td>26.205037</td>\n",
       "      <td>42.353300</td>\n",
       "      <td>32.179460</td>\n",
       "      <td>43.114429</td>\n",
       "    </tr>\n",
       "    <tr>\n",
       "      <th>6</th>\n",
       "      <td>7.0</td>\n",
       "      <td>44.991061</td>\n",
       "      <td>27.455484</td>\n",
       "      <td>49.097649</td>\n",
       "      <td>42.624554</td>\n",
       "      <td>43.129859</td>\n",
       "      <td>54.477642</td>\n",
       "      <td>24.864405</td>\n",
       "      <td>51.600263</td>\n",
       "      <td>34.073802</td>\n",
       "      <td>49.469376</td>\n",
       "    </tr>\n",
       "    <tr>\n",
       "      <th>7</th>\n",
       "      <td>8.0</td>\n",
       "      <td>50.599703</td>\n",
       "      <td>30.530665</td>\n",
       "      <td>41.575421</td>\n",
       "      <td>43.759008</td>\n",
       "      <td>43.798009</td>\n",
       "      <td>53.992353</td>\n",
       "      <td>39.610743</td>\n",
       "      <td>56.186905</td>\n",
       "      <td>31.854971</td>\n",
       "      <td>53.652329</td>\n",
       "    </tr>\n",
       "    <tr>\n",
       "      <th>8</th>\n",
       "      <td>9.0</td>\n",
       "      <td>40.559628</td>\n",
       "      <td>24.468071</td>\n",
       "      <td>42.553094</td>\n",
       "      <td>39.994414</td>\n",
       "      <td>34.465052</td>\n",
       "      <td>53.944818</td>\n",
       "      <td>29.438430</td>\n",
       "      <td>40.632052</td>\n",
       "      <td>27.326700</td>\n",
       "      <td>44.453993</td>\n",
       "    </tr>\n",
       "    <tr>\n",
       "      <th>9</th>\n",
       "      <td>10.0</td>\n",
       "      <td>35.484290</td>\n",
       "      <td>27.618084</td>\n",
       "      <td>40.434551</td>\n",
       "      <td>35.714942</td>\n",
       "      <td>28.474153</td>\n",
       "      <td>44.574821</td>\n",
       "      <td>26.001152</td>\n",
       "      <td>34.543597</td>\n",
       "      <td>24.727508</td>\n",
       "      <td>30.573924</td>\n",
       "    </tr>\n",
       "    <tr>\n",
       "      <th>10</th>\n",
       "      <td>11.0</td>\n",
       "      <td>40.102408</td>\n",
       "      <td>32.799703</td>\n",
       "      <td>39.518262</td>\n",
       "      <td>33.752483</td>\n",
       "      <td>36.056545</td>\n",
       "      <td>43.188940</td>\n",
       "      <td>20.581973</td>\n",
       "      <td>45.251763</td>\n",
       "      <td>26.866233</td>\n",
       "      <td>38.851844</td>\n",
       "    </tr>\n",
       "    <tr>\n",
       "      <th>11</th>\n",
       "      <td>12.0</td>\n",
       "      <td>37.592267</td>\n",
       "      <td>27.729236</td>\n",
       "      <td>38.908535</td>\n",
       "      <td>32.600581</td>\n",
       "      <td>35.772230</td>\n",
       "      <td>42.833550</td>\n",
       "      <td>24.698409</td>\n",
       "      <td>45.842113</td>\n",
       "      <td>28.297682</td>\n",
       "      <td>34.425948</td>\n",
       "    </tr>\n",
       "  </tbody>\n",
       "</table>\n",
       "</div>"
      ],
      "text/plain": [
       "    month  United Air Lines Inc.  Alaska Airlines Inc.  Allegiant Air  \\\n",
       "0     1.0              39.900176             25.611606      39.166469   \n",
       "1     2.0              41.986507             25.388872      45.881399   \n",
       "2     3.0              35.814881             22.920175      39.444822   \n",
       "3     4.0              37.870241             26.512262      44.380591   \n",
       "4     5.0              46.183227             25.066578      51.082685   \n",
       "5     6.0              47.455905             25.213970      52.627369   \n",
       "6     7.0              44.991061             27.455484      49.097649   \n",
       "7     8.0              50.599703             30.530665      41.575421   \n",
       "8     9.0              40.559628             24.468071      42.553094   \n",
       "9    10.0              35.484290             27.618084      40.434551   \n",
       "10   11.0              40.102408             32.799703      39.518262   \n",
       "11   12.0              37.592267             27.729236      38.908535   \n",
       "\n",
       "    American Airlines Inc.  Delta Air Lines Inc.  Frontier Airlines Inc.  \\\n",
       "0                36.302435             48.861124               49.791472   \n",
       "1                36.080854             45.750213               50.724466   \n",
       "2                30.338441             35.485603               38.516396   \n",
       "3                33.509882             37.452577               52.664497   \n",
       "4                42.456737             35.216479               54.453534   \n",
       "5                41.126822             42.096237               59.613548   \n",
       "6                42.624554             43.129859               54.477642   \n",
       "7                43.759008             43.798009               53.992353   \n",
       "8                39.994414             34.465052               53.944818   \n",
       "9                35.714942             28.474153               44.574821   \n",
       "10               33.752483             36.056545               43.188940   \n",
       "11               32.600581             35.772230               42.833550   \n",
       "\n",
       "    Hawaiian Airlines Inc.  JetBlue Airways  Southwest Airlines Co.  \\\n",
       "0                28.752298        52.466598               25.903149   \n",
       "1                46.246438        38.177044               26.853405   \n",
       "2                23.102811        39.993405               24.994599   \n",
       "3                33.411693        46.444212               29.609818   \n",
       "4                21.105674        43.407523               31.264309   \n",
       "5                26.205037        42.353300               32.179460   \n",
       "6                24.864405        51.600263               34.073802   \n",
       "7                39.610743        56.186905               31.854971   \n",
       "8                29.438430        40.632052               27.326700   \n",
       "9                26.001152        34.543597               24.727508   \n",
       "10               20.581973        45.251763               26.866233   \n",
       "11               24.698409        45.842113               28.297682   \n",
       "\n",
       "    Spirit Air Lines  \n",
       "0          40.656404  \n",
       "1          49.522748  \n",
       "2          36.555619  \n",
       "3          47.744715  \n",
       "4          46.798521  \n",
       "5          43.114429  \n",
       "6          49.469376  \n",
       "7          53.652329  \n",
       "8          44.453993  \n",
       "9          30.573924  \n",
       "10         38.851844  \n",
       "11         34.425948  "
      ]
     },
     "execution_count": 28,
     "metadata": {},
     "output_type": "execute_result"
    }
   ],
   "source": [
    "carrier_table2018"
   ]
  },
  {
   "cell_type": "code",
   "execution_count": 29,
   "metadata": {},
   "outputs": [
    {
     "data": {
      "text/html": [
       "<div>\n",
       "<style scoped>\n",
       "    .dataframe tbody tr th:only-of-type {\n",
       "        vertical-align: middle;\n",
       "    }\n",
       "\n",
       "    .dataframe tbody tr th {\n",
       "        vertical-align: top;\n",
       "    }\n",
       "\n",
       "    .dataframe thead th {\n",
       "        text-align: right;\n",
       "    }\n",
       "</style>\n",
       "<table border=\"1\" class=\"dataframe\">\n",
       "  <thead>\n",
       "    <tr style=\"text-align: right;\">\n",
       "      <th></th>\n",
       "      <th>month</th>\n",
       "      <th>United Air Lines Inc.</th>\n",
       "      <th>Alaska Airlines Inc.</th>\n",
       "      <th>Allegiant Air</th>\n",
       "      <th>American Airlines Inc.</th>\n",
       "      <th>Delta Air Lines Inc.</th>\n",
       "      <th>Frontier Airlines Inc.</th>\n",
       "      <th>Hawaiian Airlines Inc.</th>\n",
       "      <th>JetBlue Airways</th>\n",
       "      <th>Southwest Airlines Co.</th>\n",
       "      <th>Spirit Air Lines</th>\n",
       "    </tr>\n",
       "  </thead>\n",
       "  <tbody>\n",
       "    <tr>\n",
       "      <th>0</th>\n",
       "      <td>1.0</td>\n",
       "      <td>45.647947</td>\n",
       "      <td>30.856878</td>\n",
       "      <td>36.319069</td>\n",
       "      <td>34.874054</td>\n",
       "      <td>42.771309</td>\n",
       "      <td>41.882023</td>\n",
       "      <td>25.715825</td>\n",
       "      <td>54.618903</td>\n",
       "      <td>25.328370</td>\n",
       "      <td>38.982084</td>\n",
       "    </tr>\n",
       "    <tr>\n",
       "      <th>1</th>\n",
       "      <td>2.0</td>\n",
       "      <td>46.555406</td>\n",
       "      <td>41.839109</td>\n",
       "      <td>46.670363</td>\n",
       "      <td>41.085215</td>\n",
       "      <td>49.078620</td>\n",
       "      <td>43.813407</td>\n",
       "      <td>36.766508</td>\n",
       "      <td>55.811438</td>\n",
       "      <td>34.479064</td>\n",
       "      <td>46.280487</td>\n",
       "    </tr>\n",
       "    <tr>\n",
       "      <th>2</th>\n",
       "      <td>3.0</td>\n",
       "      <td>45.159637</td>\n",
       "      <td>28.204105</td>\n",
       "      <td>34.065415</td>\n",
       "      <td>37.936536</td>\n",
       "      <td>36.924716</td>\n",
       "      <td>45.956540</td>\n",
       "      <td>17.371308</td>\n",
       "      <td>51.810921</td>\n",
       "      <td>28.406339</td>\n",
       "      <td>36.909869</td>\n",
       "    </tr>\n",
       "    <tr>\n",
       "      <th>3</th>\n",
       "      <td>4.0</td>\n",
       "      <td>47.492780</td>\n",
       "      <td>29.988069</td>\n",
       "      <td>40.169748</td>\n",
       "      <td>41.653748</td>\n",
       "      <td>44.453753</td>\n",
       "      <td>46.929987</td>\n",
       "      <td>20.561011</td>\n",
       "      <td>57.013666</td>\n",
       "      <td>31.564614</td>\n",
       "      <td>46.329827</td>\n",
       "    </tr>\n",
       "    <tr>\n",
       "      <th>4</th>\n",
       "      <td>5.0</td>\n",
       "      <td>51.576102</td>\n",
       "      <td>26.356076</td>\n",
       "      <td>38.266748</td>\n",
       "      <td>45.514899</td>\n",
       "      <td>35.487406</td>\n",
       "      <td>50.076641</td>\n",
       "      <td>17.826931</td>\n",
       "      <td>48.432939</td>\n",
       "      <td>34.122081</td>\n",
       "      <td>46.231867</td>\n",
       "    </tr>\n",
       "    <tr>\n",
       "      <th>5</th>\n",
       "      <td>6.0</td>\n",
       "      <td>54.187283</td>\n",
       "      <td>26.855306</td>\n",
       "      <td>41.938580</td>\n",
       "      <td>46.324533</td>\n",
       "      <td>41.783020</td>\n",
       "      <td>49.464658</td>\n",
       "      <td>24.701654</td>\n",
       "      <td>56.526754</td>\n",
       "      <td>32.977875</td>\n",
       "      <td>44.804941</td>\n",
       "    </tr>\n",
       "    <tr>\n",
       "      <th>6</th>\n",
       "      <td>7.0</td>\n",
       "      <td>55.156989</td>\n",
       "      <td>30.105432</td>\n",
       "      <td>46.404827</td>\n",
       "      <td>47.864227</td>\n",
       "      <td>49.526199</td>\n",
       "      <td>46.958978</td>\n",
       "      <td>25.534738</td>\n",
       "      <td>70.528446</td>\n",
       "      <td>33.754266</td>\n",
       "      <td>47.501187</td>\n",
       "    </tr>\n",
       "    <tr>\n",
       "      <th>7</th>\n",
       "      <td>8.0</td>\n",
       "      <td>51.190265</td>\n",
       "      <td>30.681616</td>\n",
       "      <td>52.370477</td>\n",
       "      <td>46.234974</td>\n",
       "      <td>40.727285</td>\n",
       "      <td>46.909760</td>\n",
       "      <td>20.058708</td>\n",
       "      <td>66.815123</td>\n",
       "      <td>29.328394</td>\n",
       "      <td>48.756049</td>\n",
       "    </tr>\n",
       "    <tr>\n",
       "      <th>8</th>\n",
       "      <td>9.0</td>\n",
       "      <td>46.682867</td>\n",
       "      <td>25.565552</td>\n",
       "      <td>38.995101</td>\n",
       "      <td>38.591536</td>\n",
       "      <td>31.540945</td>\n",
       "      <td>42.908572</td>\n",
       "      <td>20.712175</td>\n",
       "      <td>49.389150</td>\n",
       "      <td>25.022838</td>\n",
       "      <td>40.454956</td>\n",
       "    </tr>\n",
       "    <tr>\n",
       "      <th>9</th>\n",
       "      <td>10.0</td>\n",
       "      <td>40.824208</td>\n",
       "      <td>25.950894</td>\n",
       "      <td>42.603563</td>\n",
       "      <td>38.276421</td>\n",
       "      <td>30.865467</td>\n",
       "      <td>48.196819</td>\n",
       "      <td>20.330643</td>\n",
       "      <td>44.948084</td>\n",
       "      <td>25.049525</td>\n",
       "      <td>36.267174</td>\n",
       "    </tr>\n",
       "    <tr>\n",
       "      <th>10</th>\n",
       "      <td>11.0</td>\n",
       "      <td>41.014838</td>\n",
       "      <td>27.429924</td>\n",
       "      <td>40.298914</td>\n",
       "      <td>35.780980</td>\n",
       "      <td>31.661941</td>\n",
       "      <td>43.995923</td>\n",
       "      <td>17.934832</td>\n",
       "      <td>36.001334</td>\n",
       "      <td>25.209311</td>\n",
       "      <td>30.468764</td>\n",
       "    </tr>\n",
       "    <tr>\n",
       "      <th>11</th>\n",
       "      <td>12.0</td>\n",
       "      <td>44.095649</td>\n",
       "      <td>35.545332</td>\n",
       "      <td>40.681029</td>\n",
       "      <td>38.574229</td>\n",
       "      <td>37.476169</td>\n",
       "      <td>43.521326</td>\n",
       "      <td>24.200109</td>\n",
       "      <td>60.482905</td>\n",
       "      <td>27.981015</td>\n",
       "      <td>40.610282</td>\n",
       "    </tr>\n",
       "  </tbody>\n",
       "</table>\n",
       "</div>"
      ],
      "text/plain": [
       "    month  United Air Lines Inc.  Alaska Airlines Inc.  Allegiant Air  \\\n",
       "0     1.0              45.647947             30.856878      36.319069   \n",
       "1     2.0              46.555406             41.839109      46.670363   \n",
       "2     3.0              45.159637             28.204105      34.065415   \n",
       "3     4.0              47.492780             29.988069      40.169748   \n",
       "4     5.0              51.576102             26.356076      38.266748   \n",
       "5     6.0              54.187283             26.855306      41.938580   \n",
       "6     7.0              55.156989             30.105432      46.404827   \n",
       "7     8.0              51.190265             30.681616      52.370477   \n",
       "8     9.0              46.682867             25.565552      38.995101   \n",
       "9    10.0              40.824208             25.950894      42.603563   \n",
       "10   11.0              41.014838             27.429924      40.298914   \n",
       "11   12.0              44.095649             35.545332      40.681029   \n",
       "\n",
       "    American Airlines Inc.  Delta Air Lines Inc.  Frontier Airlines Inc.  \\\n",
       "0                34.874054             42.771309               41.882023   \n",
       "1                41.085215             49.078620               43.813407   \n",
       "2                37.936536             36.924716               45.956540   \n",
       "3                41.653748             44.453753               46.929987   \n",
       "4                45.514899             35.487406               50.076641   \n",
       "5                46.324533             41.783020               49.464658   \n",
       "6                47.864227             49.526199               46.958978   \n",
       "7                46.234974             40.727285               46.909760   \n",
       "8                38.591536             31.540945               42.908572   \n",
       "9                38.276421             30.865467               48.196819   \n",
       "10               35.780980             31.661941               43.995923   \n",
       "11               38.574229             37.476169               43.521326   \n",
       "\n",
       "    Hawaiian Airlines Inc.  JetBlue Airways  Southwest Airlines Co.  \\\n",
       "0                25.715825        54.618903               25.328370   \n",
       "1                36.766508        55.811438               34.479064   \n",
       "2                17.371308        51.810921               28.406339   \n",
       "3                20.561011        57.013666               31.564614   \n",
       "4                17.826931        48.432939               34.122081   \n",
       "5                24.701654        56.526754               32.977875   \n",
       "6                25.534738        70.528446               33.754266   \n",
       "7                20.058708        66.815123               29.328394   \n",
       "8                20.712175        49.389150               25.022838   \n",
       "9                20.330643        44.948084               25.049525   \n",
       "10               17.934832        36.001334               25.209311   \n",
       "11               24.200109        60.482905               27.981015   \n",
       "\n",
       "    Spirit Air Lines  \n",
       "0          38.982084  \n",
       "1          46.280487  \n",
       "2          36.909869  \n",
       "3          46.329827  \n",
       "4          46.231867  \n",
       "5          44.804941  \n",
       "6          47.501187  \n",
       "7          48.756049  \n",
       "8          40.454956  \n",
       "9          36.267174  \n",
       "10         30.468764  \n",
       "11         40.610282  "
      ]
     },
     "execution_count": 29,
     "metadata": {},
     "output_type": "execute_result"
    }
   ],
   "source": [
    "carrier_table2019"
   ]
  },
  {
   "cell_type": "code",
   "execution_count": 30,
   "metadata": {},
   "outputs": [
    {
     "data": {
      "text/html": [
       "<div>\n",
       "<style scoped>\n",
       "    .dataframe tbody tr th:only-of-type {\n",
       "        vertical-align: middle;\n",
       "    }\n",
       "\n",
       "    .dataframe tbody tr th {\n",
       "        vertical-align: top;\n",
       "    }\n",
       "\n",
       "    .dataframe thead th {\n",
       "        text-align: right;\n",
       "    }\n",
       "</style>\n",
       "<table border=\"1\" class=\"dataframe\">\n",
       "  <thead>\n",
       "    <tr style=\"text-align: right;\">\n",
       "      <th></th>\n",
       "      <th>month</th>\n",
       "      <th>Virgin America</th>\n",
       "    </tr>\n",
       "  </thead>\n",
       "  <tbody>\n",
       "    <tr>\n",
       "      <th>240</th>\n",
       "      <td>1.0</td>\n",
       "      <td>27.558462</td>\n",
       "    </tr>\n",
       "    <tr>\n",
       "      <th>241</th>\n",
       "      <td>2.0</td>\n",
       "      <td>29.274647</td>\n",
       "    </tr>\n",
       "    <tr>\n",
       "      <th>242</th>\n",
       "      <td>3.0</td>\n",
       "      <td>37.180054</td>\n",
       "    </tr>\n",
       "  </tbody>\n",
       "</table>\n",
       "</div>"
      ],
      "text/plain": [
       "     month  Virgin America\n",
       "240    1.0       27.558462\n",
       "241    2.0       29.274647\n",
       "242    3.0       37.180054"
      ]
     },
     "execution_count": 30,
     "metadata": {},
     "output_type": "execute_result"
    }
   ],
   "source": [
    "carrier_delay2018['Virgin America']"
   ]
  },
  {
   "cell_type": "code",
   "execution_count": 31,
   "metadata": {},
   "outputs": [],
   "source": [
    "virgin_america2018 = pd.DataFrame([27.558462, 29.274647, 37.180054, 0, 0, 0, 0, 0, 0, 0, 0, 0 ])"
   ]
  },
  {
   "cell_type": "code",
   "execution_count": 32,
   "metadata": {},
   "outputs": [
    {
     "data": {
      "text/html": [
       "<div>\n",
       "<style scoped>\n",
       "    .dataframe tbody tr th:only-of-type {\n",
       "        vertical-align: middle;\n",
       "    }\n",
       "\n",
       "    .dataframe tbody tr th {\n",
       "        vertical-align: top;\n",
       "    }\n",
       "\n",
       "    .dataframe thead th {\n",
       "        text-align: right;\n",
       "    }\n",
       "</style>\n",
       "<table border=\"1\" class=\"dataframe\">\n",
       "  <thead>\n",
       "    <tr style=\"text-align: right;\">\n",
       "      <th></th>\n",
       "      <th>month</th>\n",
       "      <th>Virgin America</th>\n",
       "    </tr>\n",
       "  </thead>\n",
       "  <tbody>\n",
       "  </tbody>\n",
       "</table>\n",
       "</div>"
      ],
      "text/plain": [
       "Empty DataFrame\n",
       "Columns: [month, Virgin America]\n",
       "Index: []"
      ]
     },
     "execution_count": 32,
     "metadata": {},
     "output_type": "execute_result"
    }
   ],
   "source": [
    "carrier_delay2019['Virgin America']"
   ]
  },
  {
   "cell_type": "code",
   "execution_count": 33,
   "metadata": {},
   "outputs": [],
   "source": [
    "final_carrier_delay2018 = pd.concat([carrier_table2018, virgin_america2018], axis=1)"
   ]
  },
  {
   "cell_type": "code",
   "execution_count": 34,
   "metadata": {},
   "outputs": [],
   "source": [
    "final_carrier_delay2018 = final_carrier_delay2018.rename(columns={0:'Virgin America'})"
   ]
  },
  {
   "cell_type": "code",
   "execution_count": 64,
   "metadata": {},
   "outputs": [],
   "source": [
    "final_carrier_delay2018.to_csv(\"final_carrier_delay2018\")"
   ]
  },
  {
   "cell_type": "code",
   "execution_count": 65,
   "metadata": {},
   "outputs": [],
   "source": [
    "#final_carrier_delay2019.to_csv(\"final_carrier_delay2019\")"
   ]
  },
  {
   "cell_type": "code",
   "execution_count": 44,
   "metadata": {},
   "outputs": [
    {
     "data": {
      "text/plain": [
       "array(['Alaska Airlines Inc.', 'Allegiant Air', 'American Airlines Inc.',\n",
       "       'Delta Air Lines Inc.', 'Frontier Airlines Inc.',\n",
       "       'Hawaiian Airlines Inc.', 'JetBlue Airways',\n",
       "       'Southwest Airlines Co.', 'Spirit Air Lines',\n",
       "       'United Air Lines Inc.', 'Virgin America'], dtype=object)"
      ]
     },
     "execution_count": 44,
     "metadata": {},
     "output_type": "execute_result"
    }
   ],
   "source": [
    "carrier_names"
   ]
  },
  {
   "cell_type": "code",
   "execution_count": 45,
   "metadata": {},
   "outputs": [],
   "source": [
    "airlines = ['United Air Lines Inc.', 'Alaska Airlines Inc.', 'Allegiant Air', 'American Airlines Inc.',\n",
    "       'Delta Air Lines Inc.', 'Frontier Airlines Inc.',\n",
    "       'Hawaiian Airlines Inc.', 'JetBlue Airways',\n",
    "       'Southwest Airlines Co.', 'Spirit Air Lines', 'Virgin America']"
   ]
  },
  {
   "cell_type": "code",
   "execution_count": 57,
   "metadata": {},
   "outputs": [
    {
     "data": {
      "application/vnd.plotly.v1+json": {
       "config": {
        "plotlyServerURL": "https://plotly.com"
       },
       "data": [
        {
         "hovertemplate": "variable=United Air Lines Inc.<br>Month=%{x}<br>Average Delay (in minutes)=%{y}<extra></extra>",
         "legendgroup": "United Air Lines Inc.",
         "line": {
          "color": "#636efa",
          "dash": "solid"
         },
         "mode": "lines",
         "name": "United Air Lines Inc.",
         "orientation": "v",
         "showlegend": true,
         "type": "scatter",
         "x": [
          1,
          2,
          3,
          4,
          5,
          6,
          7,
          8,
          9,
          10,
          11,
          12
         ],
         "xaxis": "x",
         "y": [
          39.90017592500088,
          41.98650702175397,
          35.814881491851764,
          37.870240500992374,
          46.18322687696917,
          47.45590467128334,
          44.99106096228742,
          50.59970282385606,
          40.55962755978154,
          35.484289701530024,
          40.10240795368029,
          37.592267418334416
         ],
         "yaxis": "y"
        },
        {
         "hovertemplate": "variable=Alaska Airlines Inc.<br>Month=%{x}<br>Average Delay (in minutes)=%{y}<extra></extra>",
         "legendgroup": "Alaska Airlines Inc.",
         "line": {
          "color": "#EF553B",
          "dash": "solid"
         },
         "mode": "lines",
         "name": "Alaska Airlines Inc.",
         "orientation": "v",
         "showlegend": true,
         "type": "scatter",
         "x": [
          1,
          2,
          3,
          4,
          5,
          6,
          7,
          8,
          9,
          10,
          11,
          12
         ],
         "xaxis": "x",
         "y": [
          25.61160596608119,
          25.38887223083669,
          22.920174944507554,
          26.512261854036353,
          25.06657827489036,
          25.21397037676888,
          27.455483865645977,
          30.530665496244083,
          24.468070869221908,
          27.61808421437987,
          32.79970319724472,
          27.729236407075152
         ],
         "yaxis": "y"
        },
        {
         "hovertemplate": "variable=Allegiant Air<br>Month=%{x}<br>Average Delay (in minutes)=%{y}<extra></extra>",
         "legendgroup": "Allegiant Air",
         "line": {
          "color": "#00cc96",
          "dash": "solid"
         },
         "mode": "lines",
         "name": "Allegiant Air",
         "orientation": "v",
         "showlegend": true,
         "type": "scatter",
         "x": [
          1,
          2,
          3,
          4,
          5,
          6,
          7,
          8,
          9,
          10,
          11,
          12
         ],
         "xaxis": "x",
         "y": [
          39.16646863725288,
          45.881399227483094,
          39.4448216828441,
          44.38059051466261,
          51.082685061152645,
          52.627368763662155,
          49.09764901782733,
          41.57542093604822,
          42.55309356297125,
          40.434551389786684,
          39.51826211919036,
          38.90853466207328
         ],
         "yaxis": "y"
        },
        {
         "hovertemplate": "variable=American Airlines Inc.<br>Month=%{x}<br>Average Delay (in minutes)=%{y}<extra></extra>",
         "legendgroup": "American Airlines Inc.",
         "line": {
          "color": "#ab63fa",
          "dash": "solid"
         },
         "mode": "lines",
         "name": "American Airlines Inc.",
         "orientation": "v",
         "showlegend": true,
         "type": "scatter",
         "x": [
          1,
          2,
          3,
          4,
          5,
          6,
          7,
          8,
          9,
          10,
          11,
          12
         ],
         "xaxis": "x",
         "y": [
          36.3024354615979,
          36.080853978569124,
          30.338440744455905,
          33.50988207542791,
          42.45673687658968,
          41.126822208446335,
          42.62455414542042,
          43.759008280495024,
          39.99441377196116,
          35.71494228374334,
          33.75248335025184,
          32.600581290654745
         ],
         "yaxis": "y"
        },
        {
         "hovertemplate": "variable=Delta Air Lines Inc.<br>Month=%{x}<br>Average Delay (in minutes)=%{y}<extra></extra>",
         "legendgroup": "Delta Air Lines Inc.",
         "line": {
          "color": "#FFA15A",
          "dash": "solid"
         },
         "mode": "lines",
         "name": "Delta Air Lines Inc.",
         "orientation": "v",
         "showlegend": true,
         "type": "scatter",
         "x": [
          1,
          2,
          3,
          4,
          5,
          6,
          7,
          8,
          9,
          10,
          11,
          12
         ],
         "xaxis": "x",
         "y": [
          48.861124033702424,
          45.750213255719736,
          35.485602879476126,
          37.45257675498504,
          35.21647900882554,
          42.096237496445376,
          43.12985854939426,
          43.79800903532207,
          34.465051558583056,
          28.474152634410427,
          36.056545299835605,
          35.772229808717555
         ],
         "yaxis": "y"
        },
        {
         "hovertemplate": "variable=Frontier Airlines Inc.<br>Month=%{x}<br>Average Delay (in minutes)=%{y}<extra></extra>",
         "legendgroup": "Frontier Airlines Inc.",
         "line": {
          "color": "#19d3f3",
          "dash": "solid"
         },
         "mode": "lines",
         "name": "Frontier Airlines Inc.",
         "orientation": "v",
         "showlegend": true,
         "type": "scatter",
         "x": [
          1,
          2,
          3,
          4,
          5,
          6,
          7,
          8,
          9,
          10,
          11,
          12
         ],
         "xaxis": "x",
         "y": [
          49.791471766703815,
          50.724466291316645,
          38.51639560601516,
          52.66449741706962,
          54.45353417898049,
          59.61354781384704,
          54.47764248759546,
          53.992353151091095,
          53.9448184629285,
          44.57482082617624,
          43.18894027741373,
          42.83354972749463
         ],
         "yaxis": "y"
        },
        {
         "hovertemplate": "variable=Hawaiian Airlines Inc.<br>Month=%{x}<br>Average Delay (in minutes)=%{y}<extra></extra>",
         "legendgroup": "Hawaiian Airlines Inc.",
         "line": {
          "color": "#FF6692",
          "dash": "solid"
         },
         "mode": "lines",
         "name": "Hawaiian Airlines Inc.",
         "orientation": "v",
         "showlegend": true,
         "type": "scatter",
         "x": [
          1,
          2,
          3,
          4,
          5,
          6,
          7,
          8,
          9,
          10,
          11,
          12
         ],
         "xaxis": "x",
         "y": [
          28.752297532642096,
          46.246438326714916,
          23.10281055831062,
          33.411693333711426,
          21.10567437316242,
          26.205036771398955,
          24.864404700713386,
          39.610742832408526,
          29.43843011664054,
          26.001152449091077,
          20.581972997059673,
          24.69840863209518
         ],
         "yaxis": "y"
        },
        {
         "hovertemplate": "variable=JetBlue Airways<br>Month=%{x}<br>Average Delay (in minutes)=%{y}<extra></extra>",
         "legendgroup": "JetBlue Airways",
         "line": {
          "color": "#B6E880",
          "dash": "solid"
         },
         "mode": "lines",
         "name": "JetBlue Airways",
         "orientation": "v",
         "showlegend": true,
         "type": "scatter",
         "x": [
          1,
          2,
          3,
          4,
          5,
          6,
          7,
          8,
          9,
          10,
          11,
          12
         ],
         "xaxis": "x",
         "y": [
          52.46659785614594,
          38.17704371027031,
          39.99340484661719,
          46.44421171784282,
          43.40752295513638,
          42.35329999730352,
          51.60026331834946,
          56.18690548327734,
          40.63205216801465,
          34.54359662742744,
          45.25176282838325,
          45.842112653749176
         ],
         "yaxis": "y"
        },
        {
         "hovertemplate": "variable=Southwest Airlines Co.<br>Month=%{x}<br>Average Delay (in minutes)=%{y}<extra></extra>",
         "legendgroup": "Southwest Airlines Co.",
         "line": {
          "color": "#FF97FF",
          "dash": "solid"
         },
         "mode": "lines",
         "name": "Southwest Airlines Co.",
         "orientation": "v",
         "showlegend": true,
         "type": "scatter",
         "x": [
          1,
          2,
          3,
          4,
          5,
          6,
          7,
          8,
          9,
          10,
          11,
          12
         ],
         "xaxis": "x",
         "y": [
          25.90314943982301,
          26.853405280553606,
          24.994598773382673,
          29.609818275163835,
          31.26430935823213,
          32.17945953556086,
          34.073802356772816,
          31.854971368445455,
          27.32669976978285,
          24.72750770915752,
          26.8662330784612,
          28.297681776300387
         ],
         "yaxis": "y"
        },
        {
         "hovertemplate": "variable=Spirit Air Lines<br>Month=%{x}<br>Average Delay (in minutes)=%{y}<extra></extra>",
         "legendgroup": "Spirit Air Lines",
         "line": {
          "color": "#FECB52",
          "dash": "solid"
         },
         "mode": "lines",
         "name": "Spirit Air Lines",
         "orientation": "v",
         "showlegend": true,
         "type": "scatter",
         "x": [
          1,
          2,
          3,
          4,
          5,
          6,
          7,
          8,
          9,
          10,
          11,
          12
         ],
         "xaxis": "x",
         "y": [
          40.65640371362842,
          49.52274755379214,
          36.55561873583958,
          47.74471545653775,
          46.79852112667915,
          43.114428804221326,
          49.46937586622522,
          53.652329390030026,
          44.45399250115868,
          30.57392379576709,
          38.85184378832159,
          34.42594814485217
         ],
         "yaxis": "y"
        },
        {
         "hovertemplate": "variable=Virgin America<br>Month=%{x}<br>Average Delay (in minutes)=%{y}<extra></extra>",
         "legendgroup": "Virgin America",
         "line": {
          "color": "#636efa",
          "dash": "solid"
         },
         "mode": "lines",
         "name": "Virgin America",
         "orientation": "v",
         "showlegend": true,
         "type": "scatter",
         "x": [
          1,
          2,
          3,
          4,
          5,
          6,
          7,
          8,
          9,
          10,
          11,
          12
         ],
         "xaxis": "x",
         "y": [
          27.558462,
          29.274647,
          37.180054,
          0,
          0,
          0,
          0,
          0,
          0,
          0,
          0,
          0
         ],
         "yaxis": "y"
        }
       ],
       "layout": {
        "legend": {
         "title": {
          "text": "variable"
         },
         "tracegroupgap": 0
        },
        "template": {
         "data": {
          "bar": [
           {
            "error_x": {
             "color": "#2a3f5f"
            },
            "error_y": {
             "color": "#2a3f5f"
            },
            "marker": {
             "line": {
              "color": "#E5ECF6",
              "width": 0.5
             }
            },
            "type": "bar"
           }
          ],
          "barpolar": [
           {
            "marker": {
             "line": {
              "color": "#E5ECF6",
              "width": 0.5
             }
            },
            "type": "barpolar"
           }
          ],
          "carpet": [
           {
            "aaxis": {
             "endlinecolor": "#2a3f5f",
             "gridcolor": "white",
             "linecolor": "white",
             "minorgridcolor": "white",
             "startlinecolor": "#2a3f5f"
            },
            "baxis": {
             "endlinecolor": "#2a3f5f",
             "gridcolor": "white",
             "linecolor": "white",
             "minorgridcolor": "white",
             "startlinecolor": "#2a3f5f"
            },
            "type": "carpet"
           }
          ],
          "choropleth": [
           {
            "colorbar": {
             "outlinewidth": 0,
             "ticks": ""
            },
            "type": "choropleth"
           }
          ],
          "contour": [
           {
            "colorbar": {
             "outlinewidth": 0,
             "ticks": ""
            },
            "colorscale": [
             [
              0,
              "#0d0887"
             ],
             [
              0.1111111111111111,
              "#46039f"
             ],
             [
              0.2222222222222222,
              "#7201a8"
             ],
             [
              0.3333333333333333,
              "#9c179e"
             ],
             [
              0.4444444444444444,
              "#bd3786"
             ],
             [
              0.5555555555555556,
              "#d8576b"
             ],
             [
              0.6666666666666666,
              "#ed7953"
             ],
             [
              0.7777777777777778,
              "#fb9f3a"
             ],
             [
              0.8888888888888888,
              "#fdca26"
             ],
             [
              1,
              "#f0f921"
             ]
            ],
            "type": "contour"
           }
          ],
          "contourcarpet": [
           {
            "colorbar": {
             "outlinewidth": 0,
             "ticks": ""
            },
            "type": "contourcarpet"
           }
          ],
          "heatmap": [
           {
            "colorbar": {
             "outlinewidth": 0,
             "ticks": ""
            },
            "colorscale": [
             [
              0,
              "#0d0887"
             ],
             [
              0.1111111111111111,
              "#46039f"
             ],
             [
              0.2222222222222222,
              "#7201a8"
             ],
             [
              0.3333333333333333,
              "#9c179e"
             ],
             [
              0.4444444444444444,
              "#bd3786"
             ],
             [
              0.5555555555555556,
              "#d8576b"
             ],
             [
              0.6666666666666666,
              "#ed7953"
             ],
             [
              0.7777777777777778,
              "#fb9f3a"
             ],
             [
              0.8888888888888888,
              "#fdca26"
             ],
             [
              1,
              "#f0f921"
             ]
            ],
            "type": "heatmap"
           }
          ],
          "heatmapgl": [
           {
            "colorbar": {
             "outlinewidth": 0,
             "ticks": ""
            },
            "colorscale": [
             [
              0,
              "#0d0887"
             ],
             [
              0.1111111111111111,
              "#46039f"
             ],
             [
              0.2222222222222222,
              "#7201a8"
             ],
             [
              0.3333333333333333,
              "#9c179e"
             ],
             [
              0.4444444444444444,
              "#bd3786"
             ],
             [
              0.5555555555555556,
              "#d8576b"
             ],
             [
              0.6666666666666666,
              "#ed7953"
             ],
             [
              0.7777777777777778,
              "#fb9f3a"
             ],
             [
              0.8888888888888888,
              "#fdca26"
             ],
             [
              1,
              "#f0f921"
             ]
            ],
            "type": "heatmapgl"
           }
          ],
          "histogram": [
           {
            "marker": {
             "colorbar": {
              "outlinewidth": 0,
              "ticks": ""
             }
            },
            "type": "histogram"
           }
          ],
          "histogram2d": [
           {
            "colorbar": {
             "outlinewidth": 0,
             "ticks": ""
            },
            "colorscale": [
             [
              0,
              "#0d0887"
             ],
             [
              0.1111111111111111,
              "#46039f"
             ],
             [
              0.2222222222222222,
              "#7201a8"
             ],
             [
              0.3333333333333333,
              "#9c179e"
             ],
             [
              0.4444444444444444,
              "#bd3786"
             ],
             [
              0.5555555555555556,
              "#d8576b"
             ],
             [
              0.6666666666666666,
              "#ed7953"
             ],
             [
              0.7777777777777778,
              "#fb9f3a"
             ],
             [
              0.8888888888888888,
              "#fdca26"
             ],
             [
              1,
              "#f0f921"
             ]
            ],
            "type": "histogram2d"
           }
          ],
          "histogram2dcontour": [
           {
            "colorbar": {
             "outlinewidth": 0,
             "ticks": ""
            },
            "colorscale": [
             [
              0,
              "#0d0887"
             ],
             [
              0.1111111111111111,
              "#46039f"
             ],
             [
              0.2222222222222222,
              "#7201a8"
             ],
             [
              0.3333333333333333,
              "#9c179e"
             ],
             [
              0.4444444444444444,
              "#bd3786"
             ],
             [
              0.5555555555555556,
              "#d8576b"
             ],
             [
              0.6666666666666666,
              "#ed7953"
             ],
             [
              0.7777777777777778,
              "#fb9f3a"
             ],
             [
              0.8888888888888888,
              "#fdca26"
             ],
             [
              1,
              "#f0f921"
             ]
            ],
            "type": "histogram2dcontour"
           }
          ],
          "mesh3d": [
           {
            "colorbar": {
             "outlinewidth": 0,
             "ticks": ""
            },
            "type": "mesh3d"
           }
          ],
          "parcoords": [
           {
            "line": {
             "colorbar": {
              "outlinewidth": 0,
              "ticks": ""
             }
            },
            "type": "parcoords"
           }
          ],
          "pie": [
           {
            "automargin": true,
            "type": "pie"
           }
          ],
          "scatter": [
           {
            "marker": {
             "colorbar": {
              "outlinewidth": 0,
              "ticks": ""
             }
            },
            "type": "scatter"
           }
          ],
          "scatter3d": [
           {
            "line": {
             "colorbar": {
              "outlinewidth": 0,
              "ticks": ""
             }
            },
            "marker": {
             "colorbar": {
              "outlinewidth": 0,
              "ticks": ""
             }
            },
            "type": "scatter3d"
           }
          ],
          "scattercarpet": [
           {
            "marker": {
             "colorbar": {
              "outlinewidth": 0,
              "ticks": ""
             }
            },
            "type": "scattercarpet"
           }
          ],
          "scattergeo": [
           {
            "marker": {
             "colorbar": {
              "outlinewidth": 0,
              "ticks": ""
             }
            },
            "type": "scattergeo"
           }
          ],
          "scattergl": [
           {
            "marker": {
             "colorbar": {
              "outlinewidth": 0,
              "ticks": ""
             }
            },
            "type": "scattergl"
           }
          ],
          "scattermapbox": [
           {
            "marker": {
             "colorbar": {
              "outlinewidth": 0,
              "ticks": ""
             }
            },
            "type": "scattermapbox"
           }
          ],
          "scatterpolar": [
           {
            "marker": {
             "colorbar": {
              "outlinewidth": 0,
              "ticks": ""
             }
            },
            "type": "scatterpolar"
           }
          ],
          "scatterpolargl": [
           {
            "marker": {
             "colorbar": {
              "outlinewidth": 0,
              "ticks": ""
             }
            },
            "type": "scatterpolargl"
           }
          ],
          "scatterternary": [
           {
            "marker": {
             "colorbar": {
              "outlinewidth": 0,
              "ticks": ""
             }
            },
            "type": "scatterternary"
           }
          ],
          "surface": [
           {
            "colorbar": {
             "outlinewidth": 0,
             "ticks": ""
            },
            "colorscale": [
             [
              0,
              "#0d0887"
             ],
             [
              0.1111111111111111,
              "#46039f"
             ],
             [
              0.2222222222222222,
              "#7201a8"
             ],
             [
              0.3333333333333333,
              "#9c179e"
             ],
             [
              0.4444444444444444,
              "#bd3786"
             ],
             [
              0.5555555555555556,
              "#d8576b"
             ],
             [
              0.6666666666666666,
              "#ed7953"
             ],
             [
              0.7777777777777778,
              "#fb9f3a"
             ],
             [
              0.8888888888888888,
              "#fdca26"
             ],
             [
              1,
              "#f0f921"
             ]
            ],
            "type": "surface"
           }
          ],
          "table": [
           {
            "cells": {
             "fill": {
              "color": "#EBF0F8"
             },
             "line": {
              "color": "white"
             }
            },
            "header": {
             "fill": {
              "color": "#C8D4E3"
             },
             "line": {
              "color": "white"
             }
            },
            "type": "table"
           }
          ]
         },
         "layout": {
          "annotationdefaults": {
           "arrowcolor": "#2a3f5f",
           "arrowhead": 0,
           "arrowwidth": 1
          },
          "coloraxis": {
           "colorbar": {
            "outlinewidth": 0,
            "ticks": ""
           }
          },
          "colorscale": {
           "diverging": [
            [
             0,
             "#8e0152"
            ],
            [
             0.1,
             "#c51b7d"
            ],
            [
             0.2,
             "#de77ae"
            ],
            [
             0.3,
             "#f1b6da"
            ],
            [
             0.4,
             "#fde0ef"
            ],
            [
             0.5,
             "#f7f7f7"
            ],
            [
             0.6,
             "#e6f5d0"
            ],
            [
             0.7,
             "#b8e186"
            ],
            [
             0.8,
             "#7fbc41"
            ],
            [
             0.9,
             "#4d9221"
            ],
            [
             1,
             "#276419"
            ]
           ],
           "sequential": [
            [
             0,
             "#0d0887"
            ],
            [
             0.1111111111111111,
             "#46039f"
            ],
            [
             0.2222222222222222,
             "#7201a8"
            ],
            [
             0.3333333333333333,
             "#9c179e"
            ],
            [
             0.4444444444444444,
             "#bd3786"
            ],
            [
             0.5555555555555556,
             "#d8576b"
            ],
            [
             0.6666666666666666,
             "#ed7953"
            ],
            [
             0.7777777777777778,
             "#fb9f3a"
            ],
            [
             0.8888888888888888,
             "#fdca26"
            ],
            [
             1,
             "#f0f921"
            ]
           ],
           "sequentialminus": [
            [
             0,
             "#0d0887"
            ],
            [
             0.1111111111111111,
             "#46039f"
            ],
            [
             0.2222222222222222,
             "#7201a8"
            ],
            [
             0.3333333333333333,
             "#9c179e"
            ],
            [
             0.4444444444444444,
             "#bd3786"
            ],
            [
             0.5555555555555556,
             "#d8576b"
            ],
            [
             0.6666666666666666,
             "#ed7953"
            ],
            [
             0.7777777777777778,
             "#fb9f3a"
            ],
            [
             0.8888888888888888,
             "#fdca26"
            ],
            [
             1,
             "#f0f921"
            ]
           ]
          },
          "colorway": [
           "#636efa",
           "#EF553B",
           "#00cc96",
           "#ab63fa",
           "#FFA15A",
           "#19d3f3",
           "#FF6692",
           "#B6E880",
           "#FF97FF",
           "#FECB52"
          ],
          "font": {
           "color": "#2a3f5f"
          },
          "geo": {
           "bgcolor": "white",
           "lakecolor": "white",
           "landcolor": "#E5ECF6",
           "showlakes": true,
           "showland": true,
           "subunitcolor": "white"
          },
          "hoverlabel": {
           "align": "left"
          },
          "hovermode": "closest",
          "mapbox": {
           "style": "light"
          },
          "paper_bgcolor": "white",
          "plot_bgcolor": "#E5ECF6",
          "polar": {
           "angularaxis": {
            "gridcolor": "white",
            "linecolor": "white",
            "ticks": ""
           },
           "bgcolor": "#E5ECF6",
           "radialaxis": {
            "gridcolor": "white",
            "linecolor": "white",
            "ticks": ""
           }
          },
          "scene": {
           "xaxis": {
            "backgroundcolor": "#E5ECF6",
            "gridcolor": "white",
            "gridwidth": 2,
            "linecolor": "white",
            "showbackground": true,
            "ticks": "",
            "zerolinecolor": "white"
           },
           "yaxis": {
            "backgroundcolor": "#E5ECF6",
            "gridcolor": "white",
            "gridwidth": 2,
            "linecolor": "white",
            "showbackground": true,
            "ticks": "",
            "zerolinecolor": "white"
           },
           "zaxis": {
            "backgroundcolor": "#E5ECF6",
            "gridcolor": "white",
            "gridwidth": 2,
            "linecolor": "white",
            "showbackground": true,
            "ticks": "",
            "zerolinecolor": "white"
           }
          },
          "shapedefaults": {
           "line": {
            "color": "#2a3f5f"
           }
          },
          "ternary": {
           "aaxis": {
            "gridcolor": "white",
            "linecolor": "white",
            "ticks": ""
           },
           "baxis": {
            "gridcolor": "white",
            "linecolor": "white",
            "ticks": ""
           },
           "bgcolor": "#E5ECF6",
           "caxis": {
            "gridcolor": "white",
            "linecolor": "white",
            "ticks": ""
           }
          },
          "title": {
           "x": 0.05
          },
          "xaxis": {
           "automargin": true,
           "gridcolor": "white",
           "linecolor": "white",
           "ticks": "",
           "title": {
            "standoff": 15
           },
           "zerolinecolor": "white",
           "zerolinewidth": 2
          },
          "yaxis": {
           "automargin": true,
           "gridcolor": "white",
           "linecolor": "white",
           "ticks": "",
           "title": {
            "standoff": 15
           },
           "zerolinecolor": "white",
           "zerolinewidth": 2
          }
         }
        },
        "title": {
         "text": "Average Monthly Delay Per Airline Carrier"
        },
        "xaxis": {
         "anchor": "y",
         "domain": [
          0,
          1
         ],
         "tickmode": "linear",
         "title": {
          "text": "Month"
         }
        },
        "yaxis": {
         "anchor": "x",
         "domain": [
          0,
          1
         ],
         "title": {
          "text": "Average Delay (in minutes)"
         }
        }
       }
      },
      "text/html": [
       "<div>                            <div id=\"44218707-6baa-44b3-9d08-c0c64febdeb4\" class=\"plotly-graph-div\" style=\"height:525px; width:100%;\"></div>            <script type=\"text/javascript\">                require([\"plotly\"], function(Plotly) {                    window.PLOTLYENV=window.PLOTLYENV || {};                                    if (document.getElementById(\"44218707-6baa-44b3-9d08-c0c64febdeb4\")) {                    Plotly.newPlot(                        \"44218707-6baa-44b3-9d08-c0c64febdeb4\",                        [{\"hovertemplate\": \"variable=United Air Lines Inc.<br>Month=%{x}<br>Average Delay (in minutes)=%{y}<extra></extra>\", \"legendgroup\": \"United Air Lines Inc.\", \"line\": {\"color\": \"#636efa\", \"dash\": \"solid\"}, \"mode\": \"lines\", \"name\": \"United Air Lines Inc.\", \"orientation\": \"v\", \"showlegend\": true, \"type\": \"scatter\", \"x\": [1.0, 2.0, 3.0, 4.0, 5.0, 6.0, 7.0, 8.0, 9.0, 10.0, 11.0, 12.0], \"xaxis\": \"x\", \"y\": [39.90017592500088, 41.98650702175397, 35.814881491851764, 37.870240500992374, 46.18322687696917, 47.45590467128334, 44.99106096228742, 50.59970282385606, 40.55962755978154, 35.484289701530024, 40.10240795368029, 37.592267418334416], \"yaxis\": \"y\"}, {\"hovertemplate\": \"variable=Alaska Airlines Inc.<br>Month=%{x}<br>Average Delay (in minutes)=%{y}<extra></extra>\", \"legendgroup\": \"Alaska Airlines Inc.\", \"line\": {\"color\": \"#EF553B\", \"dash\": \"solid\"}, \"mode\": \"lines\", \"name\": \"Alaska Airlines Inc.\", \"orientation\": \"v\", \"showlegend\": true, \"type\": \"scatter\", \"x\": [1.0, 2.0, 3.0, 4.0, 5.0, 6.0, 7.0, 8.0, 9.0, 10.0, 11.0, 12.0], \"xaxis\": \"x\", \"y\": [25.61160596608119, 25.38887223083669, 22.920174944507554, 26.512261854036353, 25.06657827489036, 25.21397037676888, 27.455483865645977, 30.530665496244083, 24.468070869221908, 27.61808421437987, 32.79970319724472, 27.729236407075152], \"yaxis\": \"y\"}, {\"hovertemplate\": \"variable=Allegiant Air<br>Month=%{x}<br>Average Delay (in minutes)=%{y}<extra></extra>\", \"legendgroup\": \"Allegiant Air\", \"line\": {\"color\": \"#00cc96\", \"dash\": \"solid\"}, \"mode\": \"lines\", \"name\": \"Allegiant Air\", \"orientation\": \"v\", \"showlegend\": true, \"type\": \"scatter\", \"x\": [1.0, 2.0, 3.0, 4.0, 5.0, 6.0, 7.0, 8.0, 9.0, 10.0, 11.0, 12.0], \"xaxis\": \"x\", \"y\": [39.16646863725288, 45.881399227483094, 39.4448216828441, 44.38059051466261, 51.082685061152645, 52.627368763662155, 49.09764901782733, 41.57542093604822, 42.55309356297125, 40.434551389786684, 39.51826211919036, 38.90853466207328], \"yaxis\": \"y\"}, {\"hovertemplate\": \"variable=American Airlines Inc.<br>Month=%{x}<br>Average Delay (in minutes)=%{y}<extra></extra>\", \"legendgroup\": \"American Airlines Inc.\", \"line\": {\"color\": \"#ab63fa\", \"dash\": \"solid\"}, \"mode\": \"lines\", \"name\": \"American Airlines Inc.\", \"orientation\": \"v\", \"showlegend\": true, \"type\": \"scatter\", \"x\": [1.0, 2.0, 3.0, 4.0, 5.0, 6.0, 7.0, 8.0, 9.0, 10.0, 11.0, 12.0], \"xaxis\": \"x\", \"y\": [36.3024354615979, 36.080853978569124, 30.338440744455905, 33.50988207542791, 42.45673687658968, 41.126822208446335, 42.62455414542042, 43.759008280495024, 39.99441377196116, 35.71494228374334, 33.75248335025184, 32.600581290654745], \"yaxis\": \"y\"}, {\"hovertemplate\": \"variable=Delta Air Lines Inc.<br>Month=%{x}<br>Average Delay (in minutes)=%{y}<extra></extra>\", \"legendgroup\": \"Delta Air Lines Inc.\", \"line\": {\"color\": \"#FFA15A\", \"dash\": \"solid\"}, \"mode\": \"lines\", \"name\": \"Delta Air Lines Inc.\", \"orientation\": \"v\", \"showlegend\": true, \"type\": \"scatter\", \"x\": [1.0, 2.0, 3.0, 4.0, 5.0, 6.0, 7.0, 8.0, 9.0, 10.0, 11.0, 12.0], \"xaxis\": \"x\", \"y\": [48.861124033702424, 45.750213255719736, 35.485602879476126, 37.45257675498504, 35.21647900882554, 42.096237496445376, 43.12985854939426, 43.79800903532207, 34.465051558583056, 28.474152634410427, 36.056545299835605, 35.772229808717555], \"yaxis\": \"y\"}, {\"hovertemplate\": \"variable=Frontier Airlines Inc.<br>Month=%{x}<br>Average Delay (in minutes)=%{y}<extra></extra>\", \"legendgroup\": \"Frontier Airlines Inc.\", \"line\": {\"color\": \"#19d3f3\", \"dash\": \"solid\"}, \"mode\": \"lines\", \"name\": \"Frontier Airlines Inc.\", \"orientation\": \"v\", \"showlegend\": true, \"type\": \"scatter\", \"x\": [1.0, 2.0, 3.0, 4.0, 5.0, 6.0, 7.0, 8.0, 9.0, 10.0, 11.0, 12.0], \"xaxis\": \"x\", \"y\": [49.791471766703815, 50.724466291316645, 38.51639560601516, 52.66449741706962, 54.45353417898049, 59.61354781384704, 54.47764248759546, 53.992353151091095, 53.9448184629285, 44.57482082617624, 43.18894027741373, 42.83354972749463], \"yaxis\": \"y\"}, {\"hovertemplate\": \"variable=Hawaiian Airlines Inc.<br>Month=%{x}<br>Average Delay (in minutes)=%{y}<extra></extra>\", \"legendgroup\": \"Hawaiian Airlines Inc.\", \"line\": {\"color\": \"#FF6692\", \"dash\": \"solid\"}, \"mode\": \"lines\", \"name\": \"Hawaiian Airlines Inc.\", \"orientation\": \"v\", \"showlegend\": true, \"type\": \"scatter\", \"x\": [1.0, 2.0, 3.0, 4.0, 5.0, 6.0, 7.0, 8.0, 9.0, 10.0, 11.0, 12.0], \"xaxis\": \"x\", \"y\": [28.752297532642096, 46.246438326714916, 23.10281055831062, 33.411693333711426, 21.10567437316242, 26.205036771398955, 24.864404700713386, 39.610742832408526, 29.43843011664054, 26.001152449091077, 20.581972997059673, 24.69840863209518], \"yaxis\": \"y\"}, {\"hovertemplate\": \"variable=JetBlue Airways<br>Month=%{x}<br>Average Delay (in minutes)=%{y}<extra></extra>\", \"legendgroup\": \"JetBlue Airways\", \"line\": {\"color\": \"#B6E880\", \"dash\": \"solid\"}, \"mode\": \"lines\", \"name\": \"JetBlue Airways\", \"orientation\": \"v\", \"showlegend\": true, \"type\": \"scatter\", \"x\": [1.0, 2.0, 3.0, 4.0, 5.0, 6.0, 7.0, 8.0, 9.0, 10.0, 11.0, 12.0], \"xaxis\": \"x\", \"y\": [52.46659785614594, 38.17704371027031, 39.99340484661719, 46.44421171784282, 43.40752295513638, 42.35329999730352, 51.60026331834946, 56.18690548327734, 40.63205216801465, 34.54359662742744, 45.25176282838325, 45.842112653749176], \"yaxis\": \"y\"}, {\"hovertemplate\": \"variable=Southwest Airlines Co.<br>Month=%{x}<br>Average Delay (in minutes)=%{y}<extra></extra>\", \"legendgroup\": \"Southwest Airlines Co.\", \"line\": {\"color\": \"#FF97FF\", \"dash\": \"solid\"}, \"mode\": \"lines\", \"name\": \"Southwest Airlines Co.\", \"orientation\": \"v\", \"showlegend\": true, \"type\": \"scatter\", \"x\": [1.0, 2.0, 3.0, 4.0, 5.0, 6.0, 7.0, 8.0, 9.0, 10.0, 11.0, 12.0], \"xaxis\": \"x\", \"y\": [25.90314943982301, 26.853405280553606, 24.994598773382673, 29.609818275163835, 31.26430935823213, 32.17945953556086, 34.073802356772816, 31.854971368445455, 27.32669976978285, 24.72750770915752, 26.8662330784612, 28.297681776300387], \"yaxis\": \"y\"}, {\"hovertemplate\": \"variable=Spirit Air Lines<br>Month=%{x}<br>Average Delay (in minutes)=%{y}<extra></extra>\", \"legendgroup\": \"Spirit Air Lines\", \"line\": {\"color\": \"#FECB52\", \"dash\": \"solid\"}, \"mode\": \"lines\", \"name\": \"Spirit Air Lines\", \"orientation\": \"v\", \"showlegend\": true, \"type\": \"scatter\", \"x\": [1.0, 2.0, 3.0, 4.0, 5.0, 6.0, 7.0, 8.0, 9.0, 10.0, 11.0, 12.0], \"xaxis\": \"x\", \"y\": [40.65640371362842, 49.52274755379214, 36.55561873583958, 47.74471545653775, 46.79852112667915, 43.114428804221326, 49.46937586622522, 53.652329390030026, 44.45399250115868, 30.57392379576709, 38.85184378832159, 34.42594814485217], \"yaxis\": \"y\"}, {\"hovertemplate\": \"variable=Virgin America<br>Month=%{x}<br>Average Delay (in minutes)=%{y}<extra></extra>\", \"legendgroup\": \"Virgin America\", \"line\": {\"color\": \"#636efa\", \"dash\": \"solid\"}, \"mode\": \"lines\", \"name\": \"Virgin America\", \"orientation\": \"v\", \"showlegend\": true, \"type\": \"scatter\", \"x\": [1.0, 2.0, 3.0, 4.0, 5.0, 6.0, 7.0, 8.0, 9.0, 10.0, 11.0, 12.0], \"xaxis\": \"x\", \"y\": [27.558462, 29.274647, 37.180054, 0.0, 0.0, 0.0, 0.0, 0.0, 0.0, 0.0, 0.0, 0.0], \"yaxis\": \"y\"}],                        {\"legend\": {\"title\": {\"text\": \"variable\"}, \"tracegroupgap\": 0}, \"template\": {\"data\": {\"bar\": [{\"error_x\": {\"color\": \"#2a3f5f\"}, \"error_y\": {\"color\": \"#2a3f5f\"}, \"marker\": {\"line\": {\"color\": \"#E5ECF6\", \"width\": 0.5}}, \"type\": \"bar\"}], \"barpolar\": [{\"marker\": {\"line\": {\"color\": \"#E5ECF6\", \"width\": 0.5}}, \"type\": \"barpolar\"}], \"carpet\": [{\"aaxis\": {\"endlinecolor\": \"#2a3f5f\", \"gridcolor\": \"white\", \"linecolor\": \"white\", \"minorgridcolor\": \"white\", \"startlinecolor\": \"#2a3f5f\"}, \"baxis\": {\"endlinecolor\": \"#2a3f5f\", \"gridcolor\": \"white\", \"linecolor\": \"white\", \"minorgridcolor\": \"white\", \"startlinecolor\": \"#2a3f5f\"}, \"type\": \"carpet\"}], \"choropleth\": [{\"colorbar\": {\"outlinewidth\": 0, \"ticks\": \"\"}, \"type\": \"choropleth\"}], \"contour\": [{\"colorbar\": {\"outlinewidth\": 0, \"ticks\": \"\"}, \"colorscale\": [[0.0, \"#0d0887\"], [0.1111111111111111, \"#46039f\"], [0.2222222222222222, \"#7201a8\"], [0.3333333333333333, \"#9c179e\"], [0.4444444444444444, \"#bd3786\"], [0.5555555555555556, \"#d8576b\"], [0.6666666666666666, \"#ed7953\"], [0.7777777777777778, \"#fb9f3a\"], [0.8888888888888888, \"#fdca26\"], [1.0, \"#f0f921\"]], \"type\": \"contour\"}], \"contourcarpet\": [{\"colorbar\": {\"outlinewidth\": 0, \"ticks\": \"\"}, \"type\": \"contourcarpet\"}], \"heatmap\": [{\"colorbar\": {\"outlinewidth\": 0, \"ticks\": \"\"}, \"colorscale\": [[0.0, \"#0d0887\"], [0.1111111111111111, \"#46039f\"], [0.2222222222222222, \"#7201a8\"], [0.3333333333333333, \"#9c179e\"], [0.4444444444444444, \"#bd3786\"], [0.5555555555555556, \"#d8576b\"], [0.6666666666666666, \"#ed7953\"], [0.7777777777777778, \"#fb9f3a\"], [0.8888888888888888, \"#fdca26\"], [1.0, \"#f0f921\"]], \"type\": \"heatmap\"}], \"heatmapgl\": [{\"colorbar\": {\"outlinewidth\": 0, \"ticks\": \"\"}, \"colorscale\": [[0.0, \"#0d0887\"], [0.1111111111111111, \"#46039f\"], [0.2222222222222222, \"#7201a8\"], [0.3333333333333333, \"#9c179e\"], [0.4444444444444444, \"#bd3786\"], [0.5555555555555556, \"#d8576b\"], [0.6666666666666666, \"#ed7953\"], [0.7777777777777778, \"#fb9f3a\"], [0.8888888888888888, \"#fdca26\"], [1.0, \"#f0f921\"]], \"type\": \"heatmapgl\"}], \"histogram\": [{\"marker\": {\"colorbar\": {\"outlinewidth\": 0, \"ticks\": \"\"}}, \"type\": \"histogram\"}], \"histogram2d\": [{\"colorbar\": {\"outlinewidth\": 0, \"ticks\": \"\"}, \"colorscale\": [[0.0, \"#0d0887\"], [0.1111111111111111, \"#46039f\"], [0.2222222222222222, \"#7201a8\"], [0.3333333333333333, \"#9c179e\"], [0.4444444444444444, \"#bd3786\"], [0.5555555555555556, \"#d8576b\"], [0.6666666666666666, \"#ed7953\"], [0.7777777777777778, \"#fb9f3a\"], [0.8888888888888888, \"#fdca26\"], [1.0, \"#f0f921\"]], \"type\": \"histogram2d\"}], \"histogram2dcontour\": [{\"colorbar\": {\"outlinewidth\": 0, \"ticks\": \"\"}, \"colorscale\": [[0.0, \"#0d0887\"], [0.1111111111111111, \"#46039f\"], [0.2222222222222222, \"#7201a8\"], [0.3333333333333333, \"#9c179e\"], [0.4444444444444444, \"#bd3786\"], [0.5555555555555556, \"#d8576b\"], [0.6666666666666666, \"#ed7953\"], [0.7777777777777778, \"#fb9f3a\"], [0.8888888888888888, \"#fdca26\"], [1.0, \"#f0f921\"]], \"type\": \"histogram2dcontour\"}], \"mesh3d\": [{\"colorbar\": {\"outlinewidth\": 0, \"ticks\": \"\"}, \"type\": \"mesh3d\"}], \"parcoords\": [{\"line\": {\"colorbar\": {\"outlinewidth\": 0, \"ticks\": \"\"}}, \"type\": \"parcoords\"}], \"pie\": [{\"automargin\": true, \"type\": \"pie\"}], \"scatter\": [{\"marker\": {\"colorbar\": {\"outlinewidth\": 0, \"ticks\": \"\"}}, \"type\": \"scatter\"}], \"scatter3d\": [{\"line\": {\"colorbar\": {\"outlinewidth\": 0, \"ticks\": \"\"}}, \"marker\": {\"colorbar\": {\"outlinewidth\": 0, \"ticks\": \"\"}}, \"type\": \"scatter3d\"}], \"scattercarpet\": [{\"marker\": {\"colorbar\": {\"outlinewidth\": 0, \"ticks\": \"\"}}, \"type\": \"scattercarpet\"}], \"scattergeo\": [{\"marker\": {\"colorbar\": {\"outlinewidth\": 0, \"ticks\": \"\"}}, \"type\": \"scattergeo\"}], \"scattergl\": [{\"marker\": {\"colorbar\": {\"outlinewidth\": 0, \"ticks\": \"\"}}, \"type\": \"scattergl\"}], \"scattermapbox\": [{\"marker\": {\"colorbar\": {\"outlinewidth\": 0, \"ticks\": \"\"}}, \"type\": \"scattermapbox\"}], \"scatterpolar\": [{\"marker\": {\"colorbar\": {\"outlinewidth\": 0, \"ticks\": \"\"}}, \"type\": \"scatterpolar\"}], \"scatterpolargl\": [{\"marker\": {\"colorbar\": {\"outlinewidth\": 0, \"ticks\": \"\"}}, \"type\": \"scatterpolargl\"}], \"scatterternary\": [{\"marker\": {\"colorbar\": {\"outlinewidth\": 0, \"ticks\": \"\"}}, \"type\": \"scatterternary\"}], \"surface\": [{\"colorbar\": {\"outlinewidth\": 0, \"ticks\": \"\"}, \"colorscale\": [[0.0, \"#0d0887\"], [0.1111111111111111, \"#46039f\"], [0.2222222222222222, \"#7201a8\"], [0.3333333333333333, \"#9c179e\"], [0.4444444444444444, \"#bd3786\"], [0.5555555555555556, \"#d8576b\"], [0.6666666666666666, \"#ed7953\"], [0.7777777777777778, \"#fb9f3a\"], [0.8888888888888888, \"#fdca26\"], [1.0, \"#f0f921\"]], \"type\": \"surface\"}], \"table\": [{\"cells\": {\"fill\": {\"color\": \"#EBF0F8\"}, \"line\": {\"color\": \"white\"}}, \"header\": {\"fill\": {\"color\": \"#C8D4E3\"}, \"line\": {\"color\": \"white\"}}, \"type\": \"table\"}]}, \"layout\": {\"annotationdefaults\": {\"arrowcolor\": \"#2a3f5f\", \"arrowhead\": 0, \"arrowwidth\": 1}, \"coloraxis\": {\"colorbar\": {\"outlinewidth\": 0, \"ticks\": \"\"}}, \"colorscale\": {\"diverging\": [[0, \"#8e0152\"], [0.1, \"#c51b7d\"], [0.2, \"#de77ae\"], [0.3, \"#f1b6da\"], [0.4, \"#fde0ef\"], [0.5, \"#f7f7f7\"], [0.6, \"#e6f5d0\"], [0.7, \"#b8e186\"], [0.8, \"#7fbc41\"], [0.9, \"#4d9221\"], [1, \"#276419\"]], \"sequential\": [[0.0, \"#0d0887\"], [0.1111111111111111, \"#46039f\"], [0.2222222222222222, \"#7201a8\"], [0.3333333333333333, \"#9c179e\"], [0.4444444444444444, \"#bd3786\"], [0.5555555555555556, \"#d8576b\"], [0.6666666666666666, \"#ed7953\"], [0.7777777777777778, \"#fb9f3a\"], [0.8888888888888888, \"#fdca26\"], [1.0, \"#f0f921\"]], \"sequentialminus\": [[0.0, \"#0d0887\"], [0.1111111111111111, \"#46039f\"], [0.2222222222222222, \"#7201a8\"], [0.3333333333333333, \"#9c179e\"], [0.4444444444444444, \"#bd3786\"], [0.5555555555555556, \"#d8576b\"], [0.6666666666666666, \"#ed7953\"], [0.7777777777777778, \"#fb9f3a\"], [0.8888888888888888, \"#fdca26\"], [1.0, \"#f0f921\"]]}, \"colorway\": [\"#636efa\", \"#EF553B\", \"#00cc96\", \"#ab63fa\", \"#FFA15A\", \"#19d3f3\", \"#FF6692\", \"#B6E880\", \"#FF97FF\", \"#FECB52\"], \"font\": {\"color\": \"#2a3f5f\"}, \"geo\": {\"bgcolor\": \"white\", \"lakecolor\": \"white\", \"landcolor\": \"#E5ECF6\", \"showlakes\": true, \"showland\": true, \"subunitcolor\": \"white\"}, \"hoverlabel\": {\"align\": \"left\"}, \"hovermode\": \"closest\", \"mapbox\": {\"style\": \"light\"}, \"paper_bgcolor\": \"white\", \"plot_bgcolor\": \"#E5ECF6\", \"polar\": {\"angularaxis\": {\"gridcolor\": \"white\", \"linecolor\": \"white\", \"ticks\": \"\"}, \"bgcolor\": \"#E5ECF6\", \"radialaxis\": {\"gridcolor\": \"white\", \"linecolor\": \"white\", \"ticks\": \"\"}}, \"scene\": {\"xaxis\": {\"backgroundcolor\": \"#E5ECF6\", \"gridcolor\": \"white\", \"gridwidth\": 2, \"linecolor\": \"white\", \"showbackground\": true, \"ticks\": \"\", \"zerolinecolor\": \"white\"}, \"yaxis\": {\"backgroundcolor\": \"#E5ECF6\", \"gridcolor\": \"white\", \"gridwidth\": 2, \"linecolor\": \"white\", \"showbackground\": true, \"ticks\": \"\", \"zerolinecolor\": \"white\"}, \"zaxis\": {\"backgroundcolor\": \"#E5ECF6\", \"gridcolor\": \"white\", \"gridwidth\": 2, \"linecolor\": \"white\", \"showbackground\": true, \"ticks\": \"\", \"zerolinecolor\": \"white\"}}, \"shapedefaults\": {\"line\": {\"color\": \"#2a3f5f\"}}, \"ternary\": {\"aaxis\": {\"gridcolor\": \"white\", \"linecolor\": \"white\", \"ticks\": \"\"}, \"baxis\": {\"gridcolor\": \"white\", \"linecolor\": \"white\", \"ticks\": \"\"}, \"bgcolor\": \"#E5ECF6\", \"caxis\": {\"gridcolor\": \"white\", \"linecolor\": \"white\", \"ticks\": \"\"}}, \"title\": {\"x\": 0.05}, \"xaxis\": {\"automargin\": true, \"gridcolor\": \"white\", \"linecolor\": \"white\", \"ticks\": \"\", \"title\": {\"standoff\": 15}, \"zerolinecolor\": \"white\", \"zerolinewidth\": 2}, \"yaxis\": {\"automargin\": true, \"gridcolor\": \"white\", \"linecolor\": \"white\", \"ticks\": \"\", \"title\": {\"standoff\": 15}, \"zerolinecolor\": \"white\", \"zerolinewidth\": 2}}}, \"title\": {\"text\": \"Average Monthly Delay Per Airline Carrier\"}, \"xaxis\": {\"anchor\": \"y\", \"domain\": [0.0, 1.0], \"tickmode\": \"linear\", \"title\": {\"text\": \"Month\"}}, \"yaxis\": {\"anchor\": \"x\", \"domain\": [0.0, 1.0], \"title\": {\"text\": \"Average Delay (in minutes)\"}}},                        {\"responsive\": true}                    ).then(function(){\n",
       "                            \n",
       "var gd = document.getElementById('44218707-6baa-44b3-9d08-c0c64febdeb4');\n",
       "var x = new MutationObserver(function (mutations, observer) {{\n",
       "        var display = window.getComputedStyle(gd).display;\n",
       "        if (!display || display === 'none') {{\n",
       "            console.log([gd, 'removed!']);\n",
       "            Plotly.purge(gd);\n",
       "            observer.disconnect();\n",
       "        }}\n",
       "}});\n",
       "\n",
       "// Listen for the removal of the full notebook cells\n",
       "var notebookContainer = gd.closest('#notebook-container');\n",
       "if (notebookContainer) {{\n",
       "    x.observe(notebookContainer, {childList: true});\n",
       "}}\n",
       "\n",
       "// Listen for the clearing of the current output cell\n",
       "var outputEl = gd.closest('.output');\n",
       "if (outputEl) {{\n",
       "    x.observe(outputEl, {childList: true});\n",
       "}}\n",
       "\n",
       "                        })                };                });            </script>        </div>"
      ]
     },
     "metadata": {},
     "output_type": "display_data"
    }
   ],
   "source": [
    "fig = px.line(final_carrier_delay2018, x=\"month\", y=final_carrier_delay2018.columns, \n",
    "              title='Average Monthly Delay Per Airline Carrier (2018)',\n",
    "             labels={\n",
    "                     \"value\": \"Average Delay (in minutes)\",\n",
    "                     \"month\": \"Month\"\n",
    "                 })\n",
    "\n",
    "fig.update_layout(xaxis=dict(tickmode=\"linear\"))\n",
    "fig.show()"
   ]
  },
  {
   "cell_type": "code",
   "execution_count": 58,
   "metadata": {},
   "outputs": [
    {
     "data": {
      "text/plain": [
       "'https://plotly.com/~yonsa/24/'"
      ]
     },
     "execution_count": 58,
     "metadata": {},
     "output_type": "execute_result"
    }
   ],
   "source": [
    "cs.plot(fig, filename=\"average_delay_of ailines_per_month_2018\")"
   ]
  },
  {
   "cell_type": "code",
   "execution_count": 62,
   "metadata": {},
   "outputs": [
    {
     "data": {
      "application/vnd.plotly.v1+json": {
       "config": {
        "plotlyServerURL": "https://plotly.com"
       },
       "data": [
        {
         "hovertemplate": "variable=United Air Lines Inc.<br>Month=%{x}<br>Average Delay (in minutes)=%{y}<extra></extra>",
         "legendgroup": "United Air Lines Inc.",
         "line": {
          "color": "#636efa",
          "dash": "solid"
         },
         "mode": "lines",
         "name": "United Air Lines Inc.",
         "orientation": "v",
         "showlegend": true,
         "type": "scatter",
         "x": [
          1,
          2,
          3,
          4,
          5,
          6,
          7,
          8,
          9,
          10,
          11,
          12
         ],
         "xaxis": "x",
         "y": [
          45.64794666415116,
          46.555405925494,
          45.15963720856353,
          47.49278000740162,
          51.57610212372857,
          54.18728275266299,
          55.15698863191403,
          51.190265163211414,
          46.682867134088475,
          40.82420778761142,
          41.014838214440935,
          44.09564867901002
         ],
         "yaxis": "y"
        },
        {
         "hovertemplate": "variable=Alaska Airlines Inc.<br>Month=%{x}<br>Average Delay (in minutes)=%{y}<extra></extra>",
         "legendgroup": "Alaska Airlines Inc.",
         "line": {
          "color": "#EF553B",
          "dash": "solid"
         },
         "mode": "lines",
         "name": "Alaska Airlines Inc.",
         "orientation": "v",
         "showlegend": true,
         "type": "scatter",
         "x": [
          1,
          2,
          3,
          4,
          5,
          6,
          7,
          8,
          9,
          10,
          11,
          12
         ],
         "xaxis": "x",
         "y": [
          30.856877817204772,
          41.83910901449624,
          28.204105397871928,
          29.988069245302427,
          26.35607625444098,
          26.855306127366337,
          30.105432044628984,
          30.681615619274147,
          25.565552342397908,
          25.950893952798612,
          27.429923555975076,
          35.54533155062788
         ],
         "yaxis": "y"
        },
        {
         "hovertemplate": "variable=Allegiant Air<br>Month=%{x}<br>Average Delay (in minutes)=%{y}<extra></extra>",
         "legendgroup": "Allegiant Air",
         "line": {
          "color": "#00cc96",
          "dash": "solid"
         },
         "mode": "lines",
         "name": "Allegiant Air",
         "orientation": "v",
         "showlegend": true,
         "type": "scatter",
         "x": [
          1,
          2,
          3,
          4,
          5,
          6,
          7,
          8,
          9,
          10,
          11,
          12
         ],
         "xaxis": "x",
         "y": [
          36.319068750743845,
          46.670363009893535,
          34.06541502804443,
          40.16974804460492,
          38.26674756503259,
          41.93858021867944,
          46.404827219311706,
          52.37047680118252,
          38.995101075334055,
          42.603563387100635,
          40.29891441692629,
          40.68102881665223
         ],
         "yaxis": "y"
        },
        {
         "hovertemplate": "variable=American Airlines Inc.<br>Month=%{x}<br>Average Delay (in minutes)=%{y}<extra></extra>",
         "legendgroup": "American Airlines Inc.",
         "line": {
          "color": "#ab63fa",
          "dash": "solid"
         },
         "mode": "lines",
         "name": "American Airlines Inc.",
         "orientation": "v",
         "showlegend": true,
         "type": "scatter",
         "x": [
          1,
          2,
          3,
          4,
          5,
          6,
          7,
          8,
          9,
          10,
          11,
          12
         ],
         "xaxis": "x",
         "y": [
          34.87405371562526,
          41.08521520305589,
          37.93653566589249,
          41.65374753997905,
          45.51489901217564,
          46.32453251898137,
          47.864226544111524,
          46.23497402624461,
          38.591535671992155,
          38.2764211480892,
          35.78098024618862,
          38.57422943212146
         ],
         "yaxis": "y"
        },
        {
         "hovertemplate": "variable=Delta Air Lines Inc.<br>Month=%{x}<br>Average Delay (in minutes)=%{y}<extra></extra>",
         "legendgroup": "Delta Air Lines Inc.",
         "line": {
          "color": "#FFA15A",
          "dash": "solid"
         },
         "mode": "lines",
         "name": "Delta Air Lines Inc.",
         "orientation": "v",
         "showlegend": true,
         "type": "scatter",
         "x": [
          1,
          2,
          3,
          4,
          5,
          6,
          7,
          8,
          9,
          10,
          11,
          12
         ],
         "xaxis": "x",
         "y": [
          42.771309383177275,
          49.07861973167364,
          36.92471595112794,
          44.45375257323549,
          35.487406343166796,
          41.78301999263532,
          49.526198883457624,
          40.72728469285249,
          31.540944835180024,
          30.8654672288573,
          31.661941028604478,
          37.47616944032084
         ],
         "yaxis": "y"
        },
        {
         "hovertemplate": "variable=Frontier Airlines Inc.<br>Month=%{x}<br>Average Delay (in minutes)=%{y}<extra></extra>",
         "legendgroup": "Frontier Airlines Inc.",
         "line": {
          "color": "#19d3f3",
          "dash": "solid"
         },
         "mode": "lines",
         "name": "Frontier Airlines Inc.",
         "orientation": "v",
         "showlegend": true,
         "type": "scatter",
         "x": [
          1,
          2,
          3,
          4,
          5,
          6,
          7,
          8,
          9,
          10,
          11,
          12
         ],
         "xaxis": "x",
         "y": [
          41.88202299798775,
          43.81340650409294,
          45.95654028672744,
          46.92998654227181,
          50.07664073416789,
          49.46465771223161,
          46.95897766283705,
          46.90976029514617,
          42.90857222938703,
          48.196818957557014,
          43.99592288549957,
          43.5213256508325
         ],
         "yaxis": "y"
        },
        {
         "hovertemplate": "variable=Hawaiian Airlines Inc.<br>Month=%{x}<br>Average Delay (in minutes)=%{y}<extra></extra>",
         "legendgroup": "Hawaiian Airlines Inc.",
         "line": {
          "color": "#FF6692",
          "dash": "solid"
         },
         "mode": "lines",
         "name": "Hawaiian Airlines Inc.",
         "orientation": "v",
         "showlegend": true,
         "type": "scatter",
         "x": [
          1,
          2,
          3,
          4,
          5,
          6,
          7,
          8,
          9,
          10,
          11,
          12
         ],
         "xaxis": "x",
         "y": [
          25.715824787012703,
          36.766507886807425,
          17.371308120181272,
          20.561011429780013,
          17.82693058019106,
          24.70165422879603,
          25.53473778447765,
          20.058708151111727,
          20.712175000131094,
          20.330642580689076,
          17.934832373247737,
          24.200109469181967
         ],
         "yaxis": "y"
        },
        {
         "hovertemplate": "variable=JetBlue Airways<br>Month=%{x}<br>Average Delay (in minutes)=%{y}<extra></extra>",
         "legendgroup": "JetBlue Airways",
         "line": {
          "color": "#B6E880",
          "dash": "solid"
         },
         "mode": "lines",
         "name": "JetBlue Airways",
         "orientation": "v",
         "showlegend": true,
         "type": "scatter",
         "x": [
          1,
          2,
          3,
          4,
          5,
          6,
          7,
          8,
          9,
          10,
          11,
          12
         ],
         "xaxis": "x",
         "y": [
          54.61890286134714,
          55.811438234071325,
          51.810920692424716,
          57.01366606483158,
          48.43293850988664,
          56.52675384336718,
          70.52844590387483,
          66.81512291321864,
          49.38914968941675,
          44.94808370219061,
          36.00133411728305,
          60.482904560602876
         ],
         "yaxis": "y"
        },
        {
         "hovertemplate": "variable=Southwest Airlines Co.<br>Month=%{x}<br>Average Delay (in minutes)=%{y}<extra></extra>",
         "legendgroup": "Southwest Airlines Co.",
         "line": {
          "color": "#FF97FF",
          "dash": "solid"
         },
         "mode": "lines",
         "name": "Southwest Airlines Co.",
         "orientation": "v",
         "showlegend": true,
         "type": "scatter",
         "x": [
          1,
          2,
          3,
          4,
          5,
          6,
          7,
          8,
          9,
          10,
          11,
          12
         ],
         "xaxis": "x",
         "y": [
          25.328369559523416,
          34.47906376156155,
          28.40633850599724,
          31.56461413515491,
          34.12208072982496,
          32.977875447555554,
          33.754266126776066,
          29.32839397125026,
          25.0228383750244,
          25.049524854751137,
          25.209310594596445,
          27.981015496444293
         ],
         "yaxis": "y"
        },
        {
         "hovertemplate": "variable=Spirit Air Lines<br>Month=%{x}<br>Average Delay (in minutes)=%{y}<extra></extra>",
         "legendgroup": "Spirit Air Lines",
         "line": {
          "color": "#FECB52",
          "dash": "solid"
         },
         "mode": "lines",
         "name": "Spirit Air Lines",
         "orientation": "v",
         "showlegend": true,
         "type": "scatter",
         "x": [
          1,
          2,
          3,
          4,
          5,
          6,
          7,
          8,
          9,
          10,
          11,
          12
         ],
         "xaxis": "x",
         "y": [
          38.98208376318556,
          46.280486598044575,
          36.9098688429431,
          46.32982707975681,
          46.23186675404197,
          44.80494055669499,
          47.50118671291506,
          48.756048731346866,
          40.4549560620044,
          36.26717353385771,
          30.468763599541624,
          40.61028162509278
         ],
         "yaxis": "y"
        }
       ],
       "layout": {
        "legend": {
         "title": {
          "text": "variable"
         },
         "tracegroupgap": 0
        },
        "template": {
         "data": {
          "bar": [
           {
            "error_x": {
             "color": "#2a3f5f"
            },
            "error_y": {
             "color": "#2a3f5f"
            },
            "marker": {
             "line": {
              "color": "#E5ECF6",
              "width": 0.5
             }
            },
            "type": "bar"
           }
          ],
          "barpolar": [
           {
            "marker": {
             "line": {
              "color": "#E5ECF6",
              "width": 0.5
             }
            },
            "type": "barpolar"
           }
          ],
          "carpet": [
           {
            "aaxis": {
             "endlinecolor": "#2a3f5f",
             "gridcolor": "white",
             "linecolor": "white",
             "minorgridcolor": "white",
             "startlinecolor": "#2a3f5f"
            },
            "baxis": {
             "endlinecolor": "#2a3f5f",
             "gridcolor": "white",
             "linecolor": "white",
             "minorgridcolor": "white",
             "startlinecolor": "#2a3f5f"
            },
            "type": "carpet"
           }
          ],
          "choropleth": [
           {
            "colorbar": {
             "outlinewidth": 0,
             "ticks": ""
            },
            "type": "choropleth"
           }
          ],
          "contour": [
           {
            "colorbar": {
             "outlinewidth": 0,
             "ticks": ""
            },
            "colorscale": [
             [
              0,
              "#0d0887"
             ],
             [
              0.1111111111111111,
              "#46039f"
             ],
             [
              0.2222222222222222,
              "#7201a8"
             ],
             [
              0.3333333333333333,
              "#9c179e"
             ],
             [
              0.4444444444444444,
              "#bd3786"
             ],
             [
              0.5555555555555556,
              "#d8576b"
             ],
             [
              0.6666666666666666,
              "#ed7953"
             ],
             [
              0.7777777777777778,
              "#fb9f3a"
             ],
             [
              0.8888888888888888,
              "#fdca26"
             ],
             [
              1,
              "#f0f921"
             ]
            ],
            "type": "contour"
           }
          ],
          "contourcarpet": [
           {
            "colorbar": {
             "outlinewidth": 0,
             "ticks": ""
            },
            "type": "contourcarpet"
           }
          ],
          "heatmap": [
           {
            "colorbar": {
             "outlinewidth": 0,
             "ticks": ""
            },
            "colorscale": [
             [
              0,
              "#0d0887"
             ],
             [
              0.1111111111111111,
              "#46039f"
             ],
             [
              0.2222222222222222,
              "#7201a8"
             ],
             [
              0.3333333333333333,
              "#9c179e"
             ],
             [
              0.4444444444444444,
              "#bd3786"
             ],
             [
              0.5555555555555556,
              "#d8576b"
             ],
             [
              0.6666666666666666,
              "#ed7953"
             ],
             [
              0.7777777777777778,
              "#fb9f3a"
             ],
             [
              0.8888888888888888,
              "#fdca26"
             ],
             [
              1,
              "#f0f921"
             ]
            ],
            "type": "heatmap"
           }
          ],
          "heatmapgl": [
           {
            "colorbar": {
             "outlinewidth": 0,
             "ticks": ""
            },
            "colorscale": [
             [
              0,
              "#0d0887"
             ],
             [
              0.1111111111111111,
              "#46039f"
             ],
             [
              0.2222222222222222,
              "#7201a8"
             ],
             [
              0.3333333333333333,
              "#9c179e"
             ],
             [
              0.4444444444444444,
              "#bd3786"
             ],
             [
              0.5555555555555556,
              "#d8576b"
             ],
             [
              0.6666666666666666,
              "#ed7953"
             ],
             [
              0.7777777777777778,
              "#fb9f3a"
             ],
             [
              0.8888888888888888,
              "#fdca26"
             ],
             [
              1,
              "#f0f921"
             ]
            ],
            "type": "heatmapgl"
           }
          ],
          "histogram": [
           {
            "marker": {
             "colorbar": {
              "outlinewidth": 0,
              "ticks": ""
             }
            },
            "type": "histogram"
           }
          ],
          "histogram2d": [
           {
            "colorbar": {
             "outlinewidth": 0,
             "ticks": ""
            },
            "colorscale": [
             [
              0,
              "#0d0887"
             ],
             [
              0.1111111111111111,
              "#46039f"
             ],
             [
              0.2222222222222222,
              "#7201a8"
             ],
             [
              0.3333333333333333,
              "#9c179e"
             ],
             [
              0.4444444444444444,
              "#bd3786"
             ],
             [
              0.5555555555555556,
              "#d8576b"
             ],
             [
              0.6666666666666666,
              "#ed7953"
             ],
             [
              0.7777777777777778,
              "#fb9f3a"
             ],
             [
              0.8888888888888888,
              "#fdca26"
             ],
             [
              1,
              "#f0f921"
             ]
            ],
            "type": "histogram2d"
           }
          ],
          "histogram2dcontour": [
           {
            "colorbar": {
             "outlinewidth": 0,
             "ticks": ""
            },
            "colorscale": [
             [
              0,
              "#0d0887"
             ],
             [
              0.1111111111111111,
              "#46039f"
             ],
             [
              0.2222222222222222,
              "#7201a8"
             ],
             [
              0.3333333333333333,
              "#9c179e"
             ],
             [
              0.4444444444444444,
              "#bd3786"
             ],
             [
              0.5555555555555556,
              "#d8576b"
             ],
             [
              0.6666666666666666,
              "#ed7953"
             ],
             [
              0.7777777777777778,
              "#fb9f3a"
             ],
             [
              0.8888888888888888,
              "#fdca26"
             ],
             [
              1,
              "#f0f921"
             ]
            ],
            "type": "histogram2dcontour"
           }
          ],
          "mesh3d": [
           {
            "colorbar": {
             "outlinewidth": 0,
             "ticks": ""
            },
            "type": "mesh3d"
           }
          ],
          "parcoords": [
           {
            "line": {
             "colorbar": {
              "outlinewidth": 0,
              "ticks": ""
             }
            },
            "type": "parcoords"
           }
          ],
          "pie": [
           {
            "automargin": true,
            "type": "pie"
           }
          ],
          "scatter": [
           {
            "marker": {
             "colorbar": {
              "outlinewidth": 0,
              "ticks": ""
             }
            },
            "type": "scatter"
           }
          ],
          "scatter3d": [
           {
            "line": {
             "colorbar": {
              "outlinewidth": 0,
              "ticks": ""
             }
            },
            "marker": {
             "colorbar": {
              "outlinewidth": 0,
              "ticks": ""
             }
            },
            "type": "scatter3d"
           }
          ],
          "scattercarpet": [
           {
            "marker": {
             "colorbar": {
              "outlinewidth": 0,
              "ticks": ""
             }
            },
            "type": "scattercarpet"
           }
          ],
          "scattergeo": [
           {
            "marker": {
             "colorbar": {
              "outlinewidth": 0,
              "ticks": ""
             }
            },
            "type": "scattergeo"
           }
          ],
          "scattergl": [
           {
            "marker": {
             "colorbar": {
              "outlinewidth": 0,
              "ticks": ""
             }
            },
            "type": "scattergl"
           }
          ],
          "scattermapbox": [
           {
            "marker": {
             "colorbar": {
              "outlinewidth": 0,
              "ticks": ""
             }
            },
            "type": "scattermapbox"
           }
          ],
          "scatterpolar": [
           {
            "marker": {
             "colorbar": {
              "outlinewidth": 0,
              "ticks": ""
             }
            },
            "type": "scatterpolar"
           }
          ],
          "scatterpolargl": [
           {
            "marker": {
             "colorbar": {
              "outlinewidth": 0,
              "ticks": ""
             }
            },
            "type": "scatterpolargl"
           }
          ],
          "scatterternary": [
           {
            "marker": {
             "colorbar": {
              "outlinewidth": 0,
              "ticks": ""
             }
            },
            "type": "scatterternary"
           }
          ],
          "surface": [
           {
            "colorbar": {
             "outlinewidth": 0,
             "ticks": ""
            },
            "colorscale": [
             [
              0,
              "#0d0887"
             ],
             [
              0.1111111111111111,
              "#46039f"
             ],
             [
              0.2222222222222222,
              "#7201a8"
             ],
             [
              0.3333333333333333,
              "#9c179e"
             ],
             [
              0.4444444444444444,
              "#bd3786"
             ],
             [
              0.5555555555555556,
              "#d8576b"
             ],
             [
              0.6666666666666666,
              "#ed7953"
             ],
             [
              0.7777777777777778,
              "#fb9f3a"
             ],
             [
              0.8888888888888888,
              "#fdca26"
             ],
             [
              1,
              "#f0f921"
             ]
            ],
            "type": "surface"
           }
          ],
          "table": [
           {
            "cells": {
             "fill": {
              "color": "#EBF0F8"
             },
             "line": {
              "color": "white"
             }
            },
            "header": {
             "fill": {
              "color": "#C8D4E3"
             },
             "line": {
              "color": "white"
             }
            },
            "type": "table"
           }
          ]
         },
         "layout": {
          "annotationdefaults": {
           "arrowcolor": "#2a3f5f",
           "arrowhead": 0,
           "arrowwidth": 1
          },
          "coloraxis": {
           "colorbar": {
            "outlinewidth": 0,
            "ticks": ""
           }
          },
          "colorscale": {
           "diverging": [
            [
             0,
             "#8e0152"
            ],
            [
             0.1,
             "#c51b7d"
            ],
            [
             0.2,
             "#de77ae"
            ],
            [
             0.3,
             "#f1b6da"
            ],
            [
             0.4,
             "#fde0ef"
            ],
            [
             0.5,
             "#f7f7f7"
            ],
            [
             0.6,
             "#e6f5d0"
            ],
            [
             0.7,
             "#b8e186"
            ],
            [
             0.8,
             "#7fbc41"
            ],
            [
             0.9,
             "#4d9221"
            ],
            [
             1,
             "#276419"
            ]
           ],
           "sequential": [
            [
             0,
             "#0d0887"
            ],
            [
             0.1111111111111111,
             "#46039f"
            ],
            [
             0.2222222222222222,
             "#7201a8"
            ],
            [
             0.3333333333333333,
             "#9c179e"
            ],
            [
             0.4444444444444444,
             "#bd3786"
            ],
            [
             0.5555555555555556,
             "#d8576b"
            ],
            [
             0.6666666666666666,
             "#ed7953"
            ],
            [
             0.7777777777777778,
             "#fb9f3a"
            ],
            [
             0.8888888888888888,
             "#fdca26"
            ],
            [
             1,
             "#f0f921"
            ]
           ],
           "sequentialminus": [
            [
             0,
             "#0d0887"
            ],
            [
             0.1111111111111111,
             "#46039f"
            ],
            [
             0.2222222222222222,
             "#7201a8"
            ],
            [
             0.3333333333333333,
             "#9c179e"
            ],
            [
             0.4444444444444444,
             "#bd3786"
            ],
            [
             0.5555555555555556,
             "#d8576b"
            ],
            [
             0.6666666666666666,
             "#ed7953"
            ],
            [
             0.7777777777777778,
             "#fb9f3a"
            ],
            [
             0.8888888888888888,
             "#fdca26"
            ],
            [
             1,
             "#f0f921"
            ]
           ]
          },
          "colorway": [
           "#636efa",
           "#EF553B",
           "#00cc96",
           "#ab63fa",
           "#FFA15A",
           "#19d3f3",
           "#FF6692",
           "#B6E880",
           "#FF97FF",
           "#FECB52"
          ],
          "font": {
           "color": "#2a3f5f"
          },
          "geo": {
           "bgcolor": "white",
           "lakecolor": "white",
           "landcolor": "#E5ECF6",
           "showlakes": true,
           "showland": true,
           "subunitcolor": "white"
          },
          "hoverlabel": {
           "align": "left"
          },
          "hovermode": "closest",
          "mapbox": {
           "style": "light"
          },
          "paper_bgcolor": "white",
          "plot_bgcolor": "#E5ECF6",
          "polar": {
           "angularaxis": {
            "gridcolor": "white",
            "linecolor": "white",
            "ticks": ""
           },
           "bgcolor": "#E5ECF6",
           "radialaxis": {
            "gridcolor": "white",
            "linecolor": "white",
            "ticks": ""
           }
          },
          "scene": {
           "xaxis": {
            "backgroundcolor": "#E5ECF6",
            "gridcolor": "white",
            "gridwidth": 2,
            "linecolor": "white",
            "showbackground": true,
            "ticks": "",
            "zerolinecolor": "white"
           },
           "yaxis": {
            "backgroundcolor": "#E5ECF6",
            "gridcolor": "white",
            "gridwidth": 2,
            "linecolor": "white",
            "showbackground": true,
            "ticks": "",
            "zerolinecolor": "white"
           },
           "zaxis": {
            "backgroundcolor": "#E5ECF6",
            "gridcolor": "white",
            "gridwidth": 2,
            "linecolor": "white",
            "showbackground": true,
            "ticks": "",
            "zerolinecolor": "white"
           }
          },
          "shapedefaults": {
           "line": {
            "color": "#2a3f5f"
           }
          },
          "ternary": {
           "aaxis": {
            "gridcolor": "white",
            "linecolor": "white",
            "ticks": ""
           },
           "baxis": {
            "gridcolor": "white",
            "linecolor": "white",
            "ticks": ""
           },
           "bgcolor": "#E5ECF6",
           "caxis": {
            "gridcolor": "white",
            "linecolor": "white",
            "ticks": ""
           }
          },
          "title": {
           "x": 0.05
          },
          "xaxis": {
           "automargin": true,
           "gridcolor": "white",
           "linecolor": "white",
           "ticks": "",
           "title": {
            "standoff": 15
           },
           "zerolinecolor": "white",
           "zerolinewidth": 2
          },
          "yaxis": {
           "automargin": true,
           "gridcolor": "white",
           "linecolor": "white",
           "ticks": "",
           "title": {
            "standoff": 15
           },
           "zerolinecolor": "white",
           "zerolinewidth": 2
          }
         }
        },
        "title": {
         "text": "Average Monthly Delay Per Airline Carrier (2019)"
        },
        "xaxis": {
         "anchor": "y",
         "domain": [
          0,
          1
         ],
         "tickmode": "linear",
         "title": {
          "text": "Month"
         }
        },
        "yaxis": {
         "anchor": "x",
         "domain": [
          0,
          1
         ],
         "title": {
          "text": "Average Delay (in minutes)"
         }
        }
       }
      },
      "text/html": [
       "<div>                            <div id=\"d5082ba5-c598-4983-b7d3-1dd5efea823e\" class=\"plotly-graph-div\" style=\"height:525px; width:100%;\"></div>            <script type=\"text/javascript\">                require([\"plotly\"], function(Plotly) {                    window.PLOTLYENV=window.PLOTLYENV || {};                                    if (document.getElementById(\"d5082ba5-c598-4983-b7d3-1dd5efea823e\")) {                    Plotly.newPlot(                        \"d5082ba5-c598-4983-b7d3-1dd5efea823e\",                        [{\"hovertemplate\": \"variable=United Air Lines Inc.<br>Month=%{x}<br>Average Delay (in minutes)=%{y}<extra></extra>\", \"legendgroup\": \"United Air Lines Inc.\", \"line\": {\"color\": \"#636efa\", \"dash\": \"solid\"}, \"mode\": \"lines\", \"name\": \"United Air Lines Inc.\", \"orientation\": \"v\", \"showlegend\": true, \"type\": \"scatter\", \"x\": [1.0, 2.0, 3.0, 4.0, 5.0, 6.0, 7.0, 8.0, 9.0, 10.0, 11.0, 12.0], \"xaxis\": \"x\", \"y\": [45.64794666415116, 46.555405925494, 45.15963720856353, 47.49278000740162, 51.57610212372857, 54.18728275266299, 55.15698863191403, 51.190265163211414, 46.682867134088475, 40.82420778761142, 41.014838214440935, 44.09564867901002], \"yaxis\": \"y\"}, {\"hovertemplate\": \"variable=Alaska Airlines Inc.<br>Month=%{x}<br>Average Delay (in minutes)=%{y}<extra></extra>\", \"legendgroup\": \"Alaska Airlines Inc.\", \"line\": {\"color\": \"#EF553B\", \"dash\": \"solid\"}, \"mode\": \"lines\", \"name\": \"Alaska Airlines Inc.\", \"orientation\": \"v\", \"showlegend\": true, \"type\": \"scatter\", \"x\": [1.0, 2.0, 3.0, 4.0, 5.0, 6.0, 7.0, 8.0, 9.0, 10.0, 11.0, 12.0], \"xaxis\": \"x\", \"y\": [30.856877817204772, 41.83910901449624, 28.204105397871928, 29.988069245302427, 26.35607625444098, 26.855306127366337, 30.105432044628984, 30.681615619274147, 25.565552342397908, 25.950893952798612, 27.429923555975076, 35.54533155062788], \"yaxis\": \"y\"}, {\"hovertemplate\": \"variable=Allegiant Air<br>Month=%{x}<br>Average Delay (in minutes)=%{y}<extra></extra>\", \"legendgroup\": \"Allegiant Air\", \"line\": {\"color\": \"#00cc96\", \"dash\": \"solid\"}, \"mode\": \"lines\", \"name\": \"Allegiant Air\", \"orientation\": \"v\", \"showlegend\": true, \"type\": \"scatter\", \"x\": [1.0, 2.0, 3.0, 4.0, 5.0, 6.0, 7.0, 8.0, 9.0, 10.0, 11.0, 12.0], \"xaxis\": \"x\", \"y\": [36.319068750743845, 46.670363009893535, 34.06541502804443, 40.16974804460492, 38.26674756503259, 41.93858021867944, 46.404827219311706, 52.37047680118252, 38.995101075334055, 42.603563387100635, 40.29891441692629, 40.68102881665223], \"yaxis\": \"y\"}, {\"hovertemplate\": \"variable=American Airlines Inc.<br>Month=%{x}<br>Average Delay (in minutes)=%{y}<extra></extra>\", \"legendgroup\": \"American Airlines Inc.\", \"line\": {\"color\": \"#ab63fa\", \"dash\": \"solid\"}, \"mode\": \"lines\", \"name\": \"American Airlines Inc.\", \"orientation\": \"v\", \"showlegend\": true, \"type\": \"scatter\", \"x\": [1.0, 2.0, 3.0, 4.0, 5.0, 6.0, 7.0, 8.0, 9.0, 10.0, 11.0, 12.0], \"xaxis\": \"x\", \"y\": [34.87405371562526, 41.08521520305589, 37.93653566589249, 41.65374753997905, 45.51489901217564, 46.32453251898137, 47.864226544111524, 46.23497402624461, 38.591535671992155, 38.2764211480892, 35.78098024618862, 38.57422943212146], \"yaxis\": \"y\"}, {\"hovertemplate\": \"variable=Delta Air Lines Inc.<br>Month=%{x}<br>Average Delay (in minutes)=%{y}<extra></extra>\", \"legendgroup\": \"Delta Air Lines Inc.\", \"line\": {\"color\": \"#FFA15A\", \"dash\": \"solid\"}, \"mode\": \"lines\", \"name\": \"Delta Air Lines Inc.\", \"orientation\": \"v\", \"showlegend\": true, \"type\": \"scatter\", \"x\": [1.0, 2.0, 3.0, 4.0, 5.0, 6.0, 7.0, 8.0, 9.0, 10.0, 11.0, 12.0], \"xaxis\": \"x\", \"y\": [42.771309383177275, 49.07861973167364, 36.92471595112794, 44.45375257323549, 35.487406343166796, 41.78301999263532, 49.526198883457624, 40.72728469285249, 31.540944835180024, 30.8654672288573, 31.661941028604478, 37.47616944032084], \"yaxis\": \"y\"}, {\"hovertemplate\": \"variable=Frontier Airlines Inc.<br>Month=%{x}<br>Average Delay (in minutes)=%{y}<extra></extra>\", \"legendgroup\": \"Frontier Airlines Inc.\", \"line\": {\"color\": \"#19d3f3\", \"dash\": \"solid\"}, \"mode\": \"lines\", \"name\": \"Frontier Airlines Inc.\", \"orientation\": \"v\", \"showlegend\": true, \"type\": \"scatter\", \"x\": [1.0, 2.0, 3.0, 4.0, 5.0, 6.0, 7.0, 8.0, 9.0, 10.0, 11.0, 12.0], \"xaxis\": \"x\", \"y\": [41.88202299798775, 43.81340650409294, 45.95654028672744, 46.92998654227181, 50.07664073416789, 49.46465771223161, 46.95897766283705, 46.90976029514617, 42.90857222938703, 48.196818957557014, 43.99592288549957, 43.5213256508325], \"yaxis\": \"y\"}, {\"hovertemplate\": \"variable=Hawaiian Airlines Inc.<br>Month=%{x}<br>Average Delay (in minutes)=%{y}<extra></extra>\", \"legendgroup\": \"Hawaiian Airlines Inc.\", \"line\": {\"color\": \"#FF6692\", \"dash\": \"solid\"}, \"mode\": \"lines\", \"name\": \"Hawaiian Airlines Inc.\", \"orientation\": \"v\", \"showlegend\": true, \"type\": \"scatter\", \"x\": [1.0, 2.0, 3.0, 4.0, 5.0, 6.0, 7.0, 8.0, 9.0, 10.0, 11.0, 12.0], \"xaxis\": \"x\", \"y\": [25.715824787012703, 36.766507886807425, 17.371308120181272, 20.561011429780013, 17.82693058019106, 24.70165422879603, 25.53473778447765, 20.058708151111727, 20.712175000131094, 20.330642580689076, 17.934832373247737, 24.200109469181967], \"yaxis\": \"y\"}, {\"hovertemplate\": \"variable=JetBlue Airways<br>Month=%{x}<br>Average Delay (in minutes)=%{y}<extra></extra>\", \"legendgroup\": \"JetBlue Airways\", \"line\": {\"color\": \"#B6E880\", \"dash\": \"solid\"}, \"mode\": \"lines\", \"name\": \"JetBlue Airways\", \"orientation\": \"v\", \"showlegend\": true, \"type\": \"scatter\", \"x\": [1.0, 2.0, 3.0, 4.0, 5.0, 6.0, 7.0, 8.0, 9.0, 10.0, 11.0, 12.0], \"xaxis\": \"x\", \"y\": [54.61890286134714, 55.811438234071325, 51.810920692424716, 57.01366606483158, 48.43293850988664, 56.52675384336718, 70.52844590387483, 66.81512291321864, 49.38914968941675, 44.94808370219061, 36.00133411728305, 60.482904560602876], \"yaxis\": \"y\"}, {\"hovertemplate\": \"variable=Southwest Airlines Co.<br>Month=%{x}<br>Average Delay (in minutes)=%{y}<extra></extra>\", \"legendgroup\": \"Southwest Airlines Co.\", \"line\": {\"color\": \"#FF97FF\", \"dash\": \"solid\"}, \"mode\": \"lines\", \"name\": \"Southwest Airlines Co.\", \"orientation\": \"v\", \"showlegend\": true, \"type\": \"scatter\", \"x\": [1.0, 2.0, 3.0, 4.0, 5.0, 6.0, 7.0, 8.0, 9.0, 10.0, 11.0, 12.0], \"xaxis\": \"x\", \"y\": [25.328369559523416, 34.47906376156155, 28.40633850599724, 31.56461413515491, 34.12208072982496, 32.977875447555554, 33.754266126776066, 29.32839397125026, 25.0228383750244, 25.049524854751137, 25.209310594596445, 27.981015496444293], \"yaxis\": \"y\"}, {\"hovertemplate\": \"variable=Spirit Air Lines<br>Month=%{x}<br>Average Delay (in minutes)=%{y}<extra></extra>\", \"legendgroup\": \"Spirit Air Lines\", \"line\": {\"color\": \"#FECB52\", \"dash\": \"solid\"}, \"mode\": \"lines\", \"name\": \"Spirit Air Lines\", \"orientation\": \"v\", \"showlegend\": true, \"type\": \"scatter\", \"x\": [1.0, 2.0, 3.0, 4.0, 5.0, 6.0, 7.0, 8.0, 9.0, 10.0, 11.0, 12.0], \"xaxis\": \"x\", \"y\": [38.98208376318556, 46.280486598044575, 36.9098688429431, 46.32982707975681, 46.23186675404197, 44.80494055669499, 47.50118671291506, 48.756048731346866, 40.4549560620044, 36.26717353385771, 30.468763599541624, 40.61028162509278], \"yaxis\": \"y\"}],                        {\"legend\": {\"title\": {\"text\": \"variable\"}, \"tracegroupgap\": 0}, \"template\": {\"data\": {\"bar\": [{\"error_x\": {\"color\": \"#2a3f5f\"}, \"error_y\": {\"color\": \"#2a3f5f\"}, \"marker\": {\"line\": {\"color\": \"#E5ECF6\", \"width\": 0.5}}, \"type\": \"bar\"}], \"barpolar\": [{\"marker\": {\"line\": {\"color\": \"#E5ECF6\", \"width\": 0.5}}, \"type\": \"barpolar\"}], \"carpet\": [{\"aaxis\": {\"endlinecolor\": \"#2a3f5f\", \"gridcolor\": \"white\", \"linecolor\": \"white\", \"minorgridcolor\": \"white\", \"startlinecolor\": \"#2a3f5f\"}, \"baxis\": {\"endlinecolor\": \"#2a3f5f\", \"gridcolor\": \"white\", \"linecolor\": \"white\", \"minorgridcolor\": \"white\", \"startlinecolor\": \"#2a3f5f\"}, \"type\": \"carpet\"}], \"choropleth\": [{\"colorbar\": {\"outlinewidth\": 0, \"ticks\": \"\"}, \"type\": \"choropleth\"}], \"contour\": [{\"colorbar\": {\"outlinewidth\": 0, \"ticks\": \"\"}, \"colorscale\": [[0.0, \"#0d0887\"], [0.1111111111111111, \"#46039f\"], [0.2222222222222222, \"#7201a8\"], [0.3333333333333333, \"#9c179e\"], [0.4444444444444444, \"#bd3786\"], [0.5555555555555556, \"#d8576b\"], [0.6666666666666666, \"#ed7953\"], [0.7777777777777778, \"#fb9f3a\"], [0.8888888888888888, \"#fdca26\"], [1.0, \"#f0f921\"]], \"type\": \"contour\"}], \"contourcarpet\": [{\"colorbar\": {\"outlinewidth\": 0, \"ticks\": \"\"}, \"type\": \"contourcarpet\"}], \"heatmap\": [{\"colorbar\": {\"outlinewidth\": 0, \"ticks\": \"\"}, \"colorscale\": [[0.0, \"#0d0887\"], [0.1111111111111111, \"#46039f\"], [0.2222222222222222, \"#7201a8\"], [0.3333333333333333, \"#9c179e\"], [0.4444444444444444, \"#bd3786\"], [0.5555555555555556, \"#d8576b\"], [0.6666666666666666, \"#ed7953\"], [0.7777777777777778, \"#fb9f3a\"], [0.8888888888888888, \"#fdca26\"], [1.0, \"#f0f921\"]], \"type\": \"heatmap\"}], \"heatmapgl\": [{\"colorbar\": {\"outlinewidth\": 0, \"ticks\": \"\"}, \"colorscale\": [[0.0, \"#0d0887\"], [0.1111111111111111, \"#46039f\"], [0.2222222222222222, \"#7201a8\"], [0.3333333333333333, \"#9c179e\"], [0.4444444444444444, \"#bd3786\"], [0.5555555555555556, \"#d8576b\"], [0.6666666666666666, \"#ed7953\"], [0.7777777777777778, \"#fb9f3a\"], [0.8888888888888888, \"#fdca26\"], [1.0, \"#f0f921\"]], \"type\": \"heatmapgl\"}], \"histogram\": [{\"marker\": {\"colorbar\": {\"outlinewidth\": 0, \"ticks\": \"\"}}, \"type\": \"histogram\"}], \"histogram2d\": [{\"colorbar\": {\"outlinewidth\": 0, \"ticks\": \"\"}, \"colorscale\": [[0.0, \"#0d0887\"], [0.1111111111111111, \"#46039f\"], [0.2222222222222222, \"#7201a8\"], [0.3333333333333333, \"#9c179e\"], [0.4444444444444444, \"#bd3786\"], [0.5555555555555556, \"#d8576b\"], [0.6666666666666666, \"#ed7953\"], [0.7777777777777778, \"#fb9f3a\"], [0.8888888888888888, \"#fdca26\"], [1.0, \"#f0f921\"]], \"type\": \"histogram2d\"}], \"histogram2dcontour\": [{\"colorbar\": {\"outlinewidth\": 0, \"ticks\": \"\"}, \"colorscale\": [[0.0, \"#0d0887\"], [0.1111111111111111, \"#46039f\"], [0.2222222222222222, \"#7201a8\"], [0.3333333333333333, \"#9c179e\"], [0.4444444444444444, \"#bd3786\"], [0.5555555555555556, \"#d8576b\"], [0.6666666666666666, \"#ed7953\"], [0.7777777777777778, \"#fb9f3a\"], [0.8888888888888888, \"#fdca26\"], [1.0, \"#f0f921\"]], \"type\": \"histogram2dcontour\"}], \"mesh3d\": [{\"colorbar\": {\"outlinewidth\": 0, \"ticks\": \"\"}, \"type\": \"mesh3d\"}], \"parcoords\": [{\"line\": {\"colorbar\": {\"outlinewidth\": 0, \"ticks\": \"\"}}, \"type\": \"parcoords\"}], \"pie\": [{\"automargin\": true, \"type\": \"pie\"}], \"scatter\": [{\"marker\": {\"colorbar\": {\"outlinewidth\": 0, \"ticks\": \"\"}}, \"type\": \"scatter\"}], \"scatter3d\": [{\"line\": {\"colorbar\": {\"outlinewidth\": 0, \"ticks\": \"\"}}, \"marker\": {\"colorbar\": {\"outlinewidth\": 0, \"ticks\": \"\"}}, \"type\": \"scatter3d\"}], \"scattercarpet\": [{\"marker\": {\"colorbar\": {\"outlinewidth\": 0, \"ticks\": \"\"}}, \"type\": \"scattercarpet\"}], \"scattergeo\": [{\"marker\": {\"colorbar\": {\"outlinewidth\": 0, \"ticks\": \"\"}}, \"type\": \"scattergeo\"}], \"scattergl\": [{\"marker\": {\"colorbar\": {\"outlinewidth\": 0, \"ticks\": \"\"}}, \"type\": \"scattergl\"}], \"scattermapbox\": [{\"marker\": {\"colorbar\": {\"outlinewidth\": 0, \"ticks\": \"\"}}, \"type\": \"scattermapbox\"}], \"scatterpolar\": [{\"marker\": {\"colorbar\": {\"outlinewidth\": 0, \"ticks\": \"\"}}, \"type\": \"scatterpolar\"}], \"scatterpolargl\": [{\"marker\": {\"colorbar\": {\"outlinewidth\": 0, \"ticks\": \"\"}}, \"type\": \"scatterpolargl\"}], \"scatterternary\": [{\"marker\": {\"colorbar\": {\"outlinewidth\": 0, \"ticks\": \"\"}}, \"type\": \"scatterternary\"}], \"surface\": [{\"colorbar\": {\"outlinewidth\": 0, \"ticks\": \"\"}, \"colorscale\": [[0.0, \"#0d0887\"], [0.1111111111111111, \"#46039f\"], [0.2222222222222222, \"#7201a8\"], [0.3333333333333333, \"#9c179e\"], [0.4444444444444444, \"#bd3786\"], [0.5555555555555556, \"#d8576b\"], [0.6666666666666666, \"#ed7953\"], [0.7777777777777778, \"#fb9f3a\"], [0.8888888888888888, \"#fdca26\"], [1.0, \"#f0f921\"]], \"type\": \"surface\"}], \"table\": [{\"cells\": {\"fill\": {\"color\": \"#EBF0F8\"}, \"line\": {\"color\": \"white\"}}, \"header\": {\"fill\": {\"color\": \"#C8D4E3\"}, \"line\": {\"color\": \"white\"}}, \"type\": \"table\"}]}, \"layout\": {\"annotationdefaults\": {\"arrowcolor\": \"#2a3f5f\", \"arrowhead\": 0, \"arrowwidth\": 1}, \"coloraxis\": {\"colorbar\": {\"outlinewidth\": 0, \"ticks\": \"\"}}, \"colorscale\": {\"diverging\": [[0, \"#8e0152\"], [0.1, \"#c51b7d\"], [0.2, \"#de77ae\"], [0.3, \"#f1b6da\"], [0.4, \"#fde0ef\"], [0.5, \"#f7f7f7\"], [0.6, \"#e6f5d0\"], [0.7, \"#b8e186\"], [0.8, \"#7fbc41\"], [0.9, \"#4d9221\"], [1, \"#276419\"]], \"sequential\": [[0.0, \"#0d0887\"], [0.1111111111111111, \"#46039f\"], [0.2222222222222222, \"#7201a8\"], [0.3333333333333333, \"#9c179e\"], [0.4444444444444444, \"#bd3786\"], [0.5555555555555556, \"#d8576b\"], [0.6666666666666666, \"#ed7953\"], [0.7777777777777778, \"#fb9f3a\"], [0.8888888888888888, \"#fdca26\"], [1.0, \"#f0f921\"]], \"sequentialminus\": [[0.0, \"#0d0887\"], [0.1111111111111111, \"#46039f\"], [0.2222222222222222, \"#7201a8\"], [0.3333333333333333, \"#9c179e\"], [0.4444444444444444, \"#bd3786\"], [0.5555555555555556, \"#d8576b\"], [0.6666666666666666, \"#ed7953\"], [0.7777777777777778, \"#fb9f3a\"], [0.8888888888888888, \"#fdca26\"], [1.0, \"#f0f921\"]]}, \"colorway\": [\"#636efa\", \"#EF553B\", \"#00cc96\", \"#ab63fa\", \"#FFA15A\", \"#19d3f3\", \"#FF6692\", \"#B6E880\", \"#FF97FF\", \"#FECB52\"], \"font\": {\"color\": \"#2a3f5f\"}, \"geo\": {\"bgcolor\": \"white\", \"lakecolor\": \"white\", \"landcolor\": \"#E5ECF6\", \"showlakes\": true, \"showland\": true, \"subunitcolor\": \"white\"}, \"hoverlabel\": {\"align\": \"left\"}, \"hovermode\": \"closest\", \"mapbox\": {\"style\": \"light\"}, \"paper_bgcolor\": \"white\", \"plot_bgcolor\": \"#E5ECF6\", \"polar\": {\"angularaxis\": {\"gridcolor\": \"white\", \"linecolor\": \"white\", \"ticks\": \"\"}, \"bgcolor\": \"#E5ECF6\", \"radialaxis\": {\"gridcolor\": \"white\", \"linecolor\": \"white\", \"ticks\": \"\"}}, \"scene\": {\"xaxis\": {\"backgroundcolor\": \"#E5ECF6\", \"gridcolor\": \"white\", \"gridwidth\": 2, \"linecolor\": \"white\", \"showbackground\": true, \"ticks\": \"\", \"zerolinecolor\": \"white\"}, \"yaxis\": {\"backgroundcolor\": \"#E5ECF6\", \"gridcolor\": \"white\", \"gridwidth\": 2, \"linecolor\": \"white\", \"showbackground\": true, \"ticks\": \"\", \"zerolinecolor\": \"white\"}, \"zaxis\": {\"backgroundcolor\": \"#E5ECF6\", \"gridcolor\": \"white\", \"gridwidth\": 2, \"linecolor\": \"white\", \"showbackground\": true, \"ticks\": \"\", \"zerolinecolor\": \"white\"}}, \"shapedefaults\": {\"line\": {\"color\": \"#2a3f5f\"}}, \"ternary\": {\"aaxis\": {\"gridcolor\": \"white\", \"linecolor\": \"white\", \"ticks\": \"\"}, \"baxis\": {\"gridcolor\": \"white\", \"linecolor\": \"white\", \"ticks\": \"\"}, \"bgcolor\": \"#E5ECF6\", \"caxis\": {\"gridcolor\": \"white\", \"linecolor\": \"white\", \"ticks\": \"\"}}, \"title\": {\"x\": 0.05}, \"xaxis\": {\"automargin\": true, \"gridcolor\": \"white\", \"linecolor\": \"white\", \"ticks\": \"\", \"title\": {\"standoff\": 15}, \"zerolinecolor\": \"white\", \"zerolinewidth\": 2}, \"yaxis\": {\"automargin\": true, \"gridcolor\": \"white\", \"linecolor\": \"white\", \"ticks\": \"\", \"title\": {\"standoff\": 15}, \"zerolinecolor\": \"white\", \"zerolinewidth\": 2}}}, \"title\": {\"text\": \"Average Monthly Delay Per Airline Carrier (2019)\"}, \"xaxis\": {\"anchor\": \"y\", \"domain\": [0.0, 1.0], \"tickmode\": \"linear\", \"title\": {\"text\": \"Month\"}}, \"yaxis\": {\"anchor\": \"x\", \"domain\": [0.0, 1.0], \"title\": {\"text\": \"Average Delay (in minutes)\"}}},                        {\"responsive\": true}                    ).then(function(){\n",
       "                            \n",
       "var gd = document.getElementById('d5082ba5-c598-4983-b7d3-1dd5efea823e');\n",
       "var x = new MutationObserver(function (mutations, observer) {{\n",
       "        var display = window.getComputedStyle(gd).display;\n",
       "        if (!display || display === 'none') {{\n",
       "            console.log([gd, 'removed!']);\n",
       "            Plotly.purge(gd);\n",
       "            observer.disconnect();\n",
       "        }}\n",
       "}});\n",
       "\n",
       "// Listen for the removal of the full notebook cells\n",
       "var notebookContainer = gd.closest('#notebook-container');\n",
       "if (notebookContainer) {{\n",
       "    x.observe(notebookContainer, {childList: true});\n",
       "}}\n",
       "\n",
       "// Listen for the clearing of the current output cell\n",
       "var outputEl = gd.closest('.output');\n",
       "if (outputEl) {{\n",
       "    x.observe(outputEl, {childList: true});\n",
       "}}\n",
       "\n",
       "                        })                };                });            </script>        </div>"
      ]
     },
     "metadata": {},
     "output_type": "display_data"
    }
   ],
   "source": [
    "fig1 = px.line(final_carrier_delay2019, x=\"month\", y=final_carrier_delay2019.columns, \n",
    "              title='Average Monthly Delay Per Airline Carrier (2019)',\n",
    "             labels={\n",
    "                     \"value\": \"Average Delay (in minutes)\",\n",
    "                     \"month\": \"Month\"\n",
    "                 })\n",
    "\n",
    "fig1.update_layout(xaxis=dict(tickmode=\"linear\"))\n",
    "fig1.show()"
   ]
  },
  {
   "cell_type": "code",
   "execution_count": null,
   "metadata": {},
   "outputs": [],
   "source": [
    "##Find out distance covered monthly by different air carriers"
   ]
  },
  {
   "cell_type": "code",
   "execution_count": 203,
   "metadata": {},
   "outputs": [
    {
     "data": {
      "text/html": [
       "<div>\n",
       "<style scoped>\n",
       "    .dataframe tbody tr th:only-of-type {\n",
       "        vertical-align: middle;\n",
       "    }\n",
       "\n",
       "    .dataframe tbody tr th {\n",
       "        vertical-align: top;\n",
       "    }\n",
       "\n",
       "    .dataframe thead th {\n",
       "        text-align: right;\n",
       "    }\n",
       "</style>\n",
       "<table border=\"1\" class=\"dataframe\">\n",
       "  <thead>\n",
       "    <tr style=\"text-align: right;\">\n",
       "      <th></th>\n",
       "      <th>mkt_unique_carrier</th>\n",
       "      <th>carrier_name</th>\n",
       "      <th>month</th>\n",
       "      <th>origin</th>\n",
       "      <th>dest</th>\n",
       "      <th>distance</th>\n",
       "      <th>year</th>\n",
       "      <th>origin_airport_id</th>\n",
       "      <th>dest_airport_id</th>\n",
       "      <th>crs_dep_time</th>\n",
       "      <th>...</th>\n",
       "      <th>crs_arr_time</th>\n",
       "      <th>arr_time</th>\n",
       "      <th>arr_delay</th>\n",
       "      <th>carrier_delay</th>\n",
       "      <th>weather_delay</th>\n",
       "      <th>nas_delay</th>\n",
       "      <th>security_delay</th>\n",
       "      <th>late_aircraft_delay</th>\n",
       "      <th>seats</th>\n",
       "      <th>passengers</th>\n",
       "    </tr>\n",
       "  </thead>\n",
       "  <tbody>\n",
       "    <tr>\n",
       "      <th>0</th>\n",
       "      <td>AA</td>\n",
       "      <td>American Airlines Inc.</td>\n",
       "      <td>1.0</td>\n",
       "      <td>ABQ</td>\n",
       "      <td>DFW</td>\n",
       "      <td>569.0</td>\n",
       "      <td>2018.0</td>\n",
       "      <td>10140</td>\n",
       "      <td>11298</td>\n",
       "      <td>1209.235294</td>\n",
       "      <td>...</td>\n",
       "      <td>1494.323529</td>\n",
       "      <td>1534.647059</td>\n",
       "      <td>25.029412</td>\n",
       "      <td>12.375000</td>\n",
       "      <td>0.000000</td>\n",
       "      <td>8.437500</td>\n",
       "      <td>0.0</td>\n",
       "      <td>27.250000</td>\n",
       "      <td>17280.0</td>\n",
       "      <td>12129.0</td>\n",
       "    </tr>\n",
       "    <tr>\n",
       "      <th>1</th>\n",
       "      <td>AA</td>\n",
       "      <td>American Airlines Inc.</td>\n",
       "      <td>1.0</td>\n",
       "      <td>ABQ</td>\n",
       "      <td>DFW</td>\n",
       "      <td>569.0</td>\n",
       "      <td>2019.0</td>\n",
       "      <td>10140</td>\n",
       "      <td>11298</td>\n",
       "      <td>1119.333333</td>\n",
       "      <td>...</td>\n",
       "      <td>1384.757576</td>\n",
       "      <td>1399.606061</td>\n",
       "      <td>26.363636</td>\n",
       "      <td>5.090909</td>\n",
       "      <td>2.060606</td>\n",
       "      <td>17.696970</td>\n",
       "      <td>0.0</td>\n",
       "      <td>22.060606</td>\n",
       "      <td>11940.0</td>\n",
       "      <td>8728.5</td>\n",
       "    </tr>\n",
       "    <tr>\n",
       "      <th>2</th>\n",
       "      <td>AA</td>\n",
       "      <td>American Airlines Inc.</td>\n",
       "      <td>1.0</td>\n",
       "      <td>ABQ</td>\n",
       "      <td>ORD</td>\n",
       "      <td>1118.0</td>\n",
       "      <td>2018.0</td>\n",
       "      <td>10140</td>\n",
       "      <td>13930</td>\n",
       "      <td>1083.235294</td>\n",
       "      <td>...</td>\n",
       "      <td>1461.764706</td>\n",
       "      <td>1499.647059</td>\n",
       "      <td>21.411765</td>\n",
       "      <td>27.428571</td>\n",
       "      <td>6.428571</td>\n",
       "      <td>11.142857</td>\n",
       "      <td>0.0</td>\n",
       "      <td>0.000000</td>\n",
       "      <td>4800.0</td>\n",
       "      <td>2641.0</td>\n",
       "    </tr>\n",
       "    <tr>\n",
       "      <th>3</th>\n",
       "      <td>AA</td>\n",
       "      <td>American Airlines Inc.</td>\n",
       "      <td>1.0</td>\n",
       "      <td>ABQ</td>\n",
       "      <td>ORD</td>\n",
       "      <td>1118.0</td>\n",
       "      <td>2019.0</td>\n",
       "      <td>10140</td>\n",
       "      <td>13930</td>\n",
       "      <td>976.842105</td>\n",
       "      <td>...</td>\n",
       "      <td>1372.473684</td>\n",
       "      <td>1440.842105</td>\n",
       "      <td>34.684211</td>\n",
       "      <td>8.454545</td>\n",
       "      <td>7.363636</td>\n",
       "      <td>25.090909</td>\n",
       "      <td>0.0</td>\n",
       "      <td>16.818182</td>\n",
       "      <td>4184.0</td>\n",
       "      <td>1418.0</td>\n",
       "    </tr>\n",
       "    <tr>\n",
       "      <th>4</th>\n",
       "      <td>AA</td>\n",
       "      <td>American Airlines Inc.</td>\n",
       "      <td>1.0</td>\n",
       "      <td>ALB</td>\n",
       "      <td>CLT</td>\n",
       "      <td>646.0</td>\n",
       "      <td>2018.0</td>\n",
       "      <td>10257</td>\n",
       "      <td>11057</td>\n",
       "      <td>1190.653846</td>\n",
       "      <td>...</td>\n",
       "      <td>1430.461538</td>\n",
       "      <td>1462.923077</td>\n",
       "      <td>21.692308</td>\n",
       "      <td>16.666667</td>\n",
       "      <td>0.666667</td>\n",
       "      <td>15.833333</td>\n",
       "      <td>0.0</td>\n",
       "      <td>7.083333</td>\n",
       "      <td>4415.0</td>\n",
       "      <td>3783.5</td>\n",
       "    </tr>\n",
       "    <tr>\n",
       "      <th>...</th>\n",
       "      <td>...</td>\n",
       "      <td>...</td>\n",
       "      <td>...</td>\n",
       "      <td>...</td>\n",
       "      <td>...</td>\n",
       "      <td>...</td>\n",
       "      <td>...</td>\n",
       "      <td>...</td>\n",
       "      <td>...</td>\n",
       "      <td>...</td>\n",
       "      <td>...</td>\n",
       "      <td>...</td>\n",
       "      <td>...</td>\n",
       "      <td>...</td>\n",
       "      <td>...</td>\n",
       "      <td>...</td>\n",
       "      <td>...</td>\n",
       "      <td>...</td>\n",
       "      <td>...</td>\n",
       "      <td>...</td>\n",
       "      <td>...</td>\n",
       "    </tr>\n",
       "    <tr>\n",
       "      <th>141995</th>\n",
       "      <td>WN</td>\n",
       "      <td>Southwest Airlines Co.</td>\n",
       "      <td>12.0</td>\n",
       "      <td>TUS</td>\n",
       "      <td>OAK</td>\n",
       "      <td>747.0</td>\n",
       "      <td>2019.0</td>\n",
       "      <td>15376</td>\n",
       "      <td>13796</td>\n",
       "      <td>1235.000000</td>\n",
       "      <td>...</td>\n",
       "      <td>1355.000000</td>\n",
       "      <td>1403.000000</td>\n",
       "      <td>8.000000</td>\n",
       "      <td>NaN</td>\n",
       "      <td>NaN</td>\n",
       "      <td>NaN</td>\n",
       "      <td>NaN</td>\n",
       "      <td>NaN</td>\n",
       "      <td>715.0</td>\n",
       "      <td>674.0</td>\n",
       "    </tr>\n",
       "    <tr>\n",
       "      <th>141996</th>\n",
       "      <td>WN</td>\n",
       "      <td>Southwest Airlines Co.</td>\n",
       "      <td>12.0</td>\n",
       "      <td>TUS</td>\n",
       "      <td>SAN</td>\n",
       "      <td>368.0</td>\n",
       "      <td>2018.0</td>\n",
       "      <td>15376</td>\n",
       "      <td>14679</td>\n",
       "      <td>1418.333333</td>\n",
       "      <td>...</td>\n",
       "      <td>1447.619048</td>\n",
       "      <td>1484.571429</td>\n",
       "      <td>23.619048</td>\n",
       "      <td>7.545455</td>\n",
       "      <td>0.000000</td>\n",
       "      <td>3.181818</td>\n",
       "      <td>0.0</td>\n",
       "      <td>27.454545</td>\n",
       "      <td>9867.0</td>\n",
       "      <td>7432.0</td>\n",
       "    </tr>\n",
       "    <tr>\n",
       "      <th>141997</th>\n",
       "      <td>WN</td>\n",
       "      <td>Southwest Airlines Co.</td>\n",
       "      <td>12.0</td>\n",
       "      <td>TUS</td>\n",
       "      <td>SAN</td>\n",
       "      <td>368.0</td>\n",
       "      <td>2019.0</td>\n",
       "      <td>15376</td>\n",
       "      <td>14679</td>\n",
       "      <td>1354.250000</td>\n",
       "      <td>...</td>\n",
       "      <td>1389.000000</td>\n",
       "      <td>1440.450000</td>\n",
       "      <td>27.450000</td>\n",
       "      <td>14.500000</td>\n",
       "      <td>0.000000</td>\n",
       "      <td>2.000000</td>\n",
       "      <td>1.6</td>\n",
       "      <td>29.400000</td>\n",
       "      <td>4624.0</td>\n",
       "      <td>3510.0</td>\n",
       "    </tr>\n",
       "    <tr>\n",
       "      <th>141998</th>\n",
       "      <td>WN</td>\n",
       "      <td>Southwest Airlines Co.</td>\n",
       "      <td>12.0</td>\n",
       "      <td>TUS</td>\n",
       "      <td>SJC</td>\n",
       "      <td>722.0</td>\n",
       "      <td>2018.0</td>\n",
       "      <td>15376</td>\n",
       "      <td>14831</td>\n",
       "      <td>1215.000000</td>\n",
       "      <td>...</td>\n",
       "      <td>1350.000000</td>\n",
       "      <td>1447.000000</td>\n",
       "      <td>57.000000</td>\n",
       "      <td>0.000000</td>\n",
       "      <td>0.000000</td>\n",
       "      <td>0.000000</td>\n",
       "      <td>0.0</td>\n",
       "      <td>57.000000</td>\n",
       "      <td>2018.0</td>\n",
       "      <td>1271.0</td>\n",
       "    </tr>\n",
       "    <tr>\n",
       "      <th>141999</th>\n",
       "      <td>WN</td>\n",
       "      <td>Southwest Airlines Co.</td>\n",
       "      <td>12.0</td>\n",
       "      <td>TUS</td>\n",
       "      <td>SJC</td>\n",
       "      <td>722.0</td>\n",
       "      <td>2019.0</td>\n",
       "      <td>15376</td>\n",
       "      <td>14831</td>\n",
       "      <td>1465.000000</td>\n",
       "      <td>...</td>\n",
       "      <td>1575.000000</td>\n",
       "      <td>1615.800000</td>\n",
       "      <td>28.800000</td>\n",
       "      <td>8.400000</td>\n",
       "      <td>0.000000</td>\n",
       "      <td>0.000000</td>\n",
       "      <td>0.0</td>\n",
       "      <td>43.400000</td>\n",
       "      <td>1907.0</td>\n",
       "      <td>1592.0</td>\n",
       "    </tr>\n",
       "  </tbody>\n",
       "</table>\n",
       "<p>142000 rows × 26 columns</p>\n",
       "</div>"
      ],
      "text/plain": [
       "       mkt_unique_carrier            carrier_name  month origin dest  \\\n",
       "0                      AA  American Airlines Inc.    1.0    ABQ  DFW   \n",
       "1                      AA  American Airlines Inc.    1.0    ABQ  DFW   \n",
       "2                      AA  American Airlines Inc.    1.0    ABQ  ORD   \n",
       "3                      AA  American Airlines Inc.    1.0    ABQ  ORD   \n",
       "4                      AA  American Airlines Inc.    1.0    ALB  CLT   \n",
       "...                   ...                     ...    ...    ...  ...   \n",
       "141995                 WN  Southwest Airlines Co.   12.0    TUS  OAK   \n",
       "141996                 WN  Southwest Airlines Co.   12.0    TUS  SAN   \n",
       "141997                 WN  Southwest Airlines Co.   12.0    TUS  SAN   \n",
       "141998                 WN  Southwest Airlines Co.   12.0    TUS  SJC   \n",
       "141999                 WN  Southwest Airlines Co.   12.0    TUS  SJC   \n",
       "\n",
       "        distance    year  origin_airport_id  dest_airport_id  crs_dep_time  \\\n",
       "0          569.0  2018.0              10140            11298   1209.235294   \n",
       "1          569.0  2019.0              10140            11298   1119.333333   \n",
       "2         1118.0  2018.0              10140            13930   1083.235294   \n",
       "3         1118.0  2019.0              10140            13930    976.842105   \n",
       "4          646.0  2018.0              10257            11057   1190.653846   \n",
       "...          ...     ...                ...              ...           ...   \n",
       "141995     747.0  2019.0              15376            13796   1235.000000   \n",
       "141996     368.0  2018.0              15376            14679   1418.333333   \n",
       "141997     368.0  2019.0              15376            14679   1354.250000   \n",
       "141998     722.0  2018.0              15376            14831   1215.000000   \n",
       "141999     722.0  2019.0              15376            14831   1465.000000   \n",
       "\n",
       "        ...  crs_arr_time     arr_time  arr_delay  carrier_delay  \\\n",
       "0       ...   1494.323529  1534.647059  25.029412      12.375000   \n",
       "1       ...   1384.757576  1399.606061  26.363636       5.090909   \n",
       "2       ...   1461.764706  1499.647059  21.411765      27.428571   \n",
       "3       ...   1372.473684  1440.842105  34.684211       8.454545   \n",
       "4       ...   1430.461538  1462.923077  21.692308      16.666667   \n",
       "...     ...           ...          ...        ...            ...   \n",
       "141995  ...   1355.000000  1403.000000   8.000000            NaN   \n",
       "141996  ...   1447.619048  1484.571429  23.619048       7.545455   \n",
       "141997  ...   1389.000000  1440.450000  27.450000      14.500000   \n",
       "141998  ...   1350.000000  1447.000000  57.000000       0.000000   \n",
       "141999  ...   1575.000000  1615.800000  28.800000       8.400000   \n",
       "\n",
       "        weather_delay  nas_delay  security_delay  late_aircraft_delay  \\\n",
       "0            0.000000   8.437500             0.0            27.250000   \n",
       "1            2.060606  17.696970             0.0            22.060606   \n",
       "2            6.428571  11.142857             0.0             0.000000   \n",
       "3            7.363636  25.090909             0.0            16.818182   \n",
       "4            0.666667  15.833333             0.0             7.083333   \n",
       "...               ...        ...             ...                  ...   \n",
       "141995            NaN        NaN             NaN                  NaN   \n",
       "141996       0.000000   3.181818             0.0            27.454545   \n",
       "141997       0.000000   2.000000             1.6            29.400000   \n",
       "141998       0.000000   0.000000             0.0            57.000000   \n",
       "141999       0.000000   0.000000             0.0            43.400000   \n",
       "\n",
       "          seats  passengers  \n",
       "0       17280.0     12129.0  \n",
       "1       11940.0      8728.5  \n",
       "2        4800.0      2641.0  \n",
       "3        4184.0      1418.0  \n",
       "4        4415.0      3783.5  \n",
       "...         ...         ...  \n",
       "141995    715.0       674.0  \n",
       "141996   9867.0      7432.0  \n",
       "141997   4624.0      3510.0  \n",
       "141998   2018.0      1271.0  \n",
       "141999   1907.0      1592.0  \n",
       "\n",
       "[142000 rows x 26 columns]"
      ]
     },
     "execution_count": 203,
     "metadata": {},
     "output_type": "execute_result"
    }
   ],
   "source": [
    "df_keep_names_positive"
   ]
  },
  {
   "cell_type": "code",
   "execution_count": 204,
   "metadata": {},
   "outputs": [],
   "source": [
    "df_carrier_month_group = df_keep_names_positive.groupby(['carrier_name', 'year', 'month']).sum().copy()"
   ]
  },
  {
   "cell_type": "code",
   "execution_count": 205,
   "metadata": {},
   "outputs": [],
   "source": [
    "df_carrier_month_group = df_carrier_month_group.reset_index()"
   ]
  },
  {
   "cell_type": "code",
   "execution_count": 206,
   "metadata": {},
   "outputs": [
    {
     "data": {
      "text/html": [
       "<div>\n",
       "<style scoped>\n",
       "    .dataframe tbody tr th:only-of-type {\n",
       "        vertical-align: middle;\n",
       "    }\n",
       "\n",
       "    .dataframe tbody tr th {\n",
       "        vertical-align: top;\n",
       "    }\n",
       "\n",
       "    .dataframe thead th {\n",
       "        text-align: right;\n",
       "    }\n",
       "</style>\n",
       "<table border=\"1\" class=\"dataframe\">\n",
       "  <thead>\n",
       "    <tr style=\"text-align: right;\">\n",
       "      <th></th>\n",
       "      <th>carrier_name</th>\n",
       "      <th>year</th>\n",
       "      <th>month</th>\n",
       "      <th>distance</th>\n",
       "      <th>origin_airport_id</th>\n",
       "      <th>dest_airport_id</th>\n",
       "      <th>crs_dep_time</th>\n",
       "      <th>dep_time</th>\n",
       "      <th>dep_delay</th>\n",
       "      <th>taxi_out</th>\n",
       "      <th>...</th>\n",
       "      <th>crs_arr_time</th>\n",
       "      <th>arr_time</th>\n",
       "      <th>arr_delay</th>\n",
       "      <th>carrier_delay</th>\n",
       "      <th>weather_delay</th>\n",
       "      <th>nas_delay</th>\n",
       "      <th>security_delay</th>\n",
       "      <th>late_aircraft_delay</th>\n",
       "      <th>seats</th>\n",
       "      <th>passengers</th>\n",
       "    </tr>\n",
       "  </thead>\n",
       "  <tbody>\n",
       "    <tr>\n",
       "      <th>0</th>\n",
       "      <td>Alaska Airlines Inc.</td>\n",
       "      <td>2018.0</td>\n",
       "      <td>1.0</td>\n",
       "      <td>400691.0</td>\n",
       "      <td>3533182</td>\n",
       "      <td>3539293</td>\n",
       "      <td>347047.917970</td>\n",
       "      <td>347578.637480</td>\n",
       "      <td>4883.156964</td>\n",
       "      <td>5571.567417</td>\n",
       "      <td>...</td>\n",
       "      <td>4.040591e+05</td>\n",
       "      <td>4.015774e+05</td>\n",
       "      <td>6761.463975</td>\n",
       "      <td>3628.222503</td>\n",
       "      <td>476.053049</td>\n",
       "      <td>3693.186448</td>\n",
       "      <td>93.023521</td>\n",
       "      <td>4593.174674</td>\n",
       "      <td>8.988310e+05</td>\n",
       "      <td>6.570467e+05</td>\n",
       "    </tr>\n",
       "    <tr>\n",
       "      <th>1</th>\n",
       "      <td>Alaska Airlines Inc.</td>\n",
       "      <td>2018.0</td>\n",
       "      <td>2.0</td>\n",
       "      <td>389843.0</td>\n",
       "      <td>3441568</td>\n",
       "      <td>3445500</td>\n",
       "      <td>339228.916381</td>\n",
       "      <td>341824.010139</td>\n",
       "      <td>4426.399227</td>\n",
       "      <td>5652.833994</td>\n",
       "      <td>...</td>\n",
       "      <td>3.966998e+05</td>\n",
       "      <td>3.978910e+05</td>\n",
       "      <td>6524.940163</td>\n",
       "      <td>3657.780861</td>\n",
       "      <td>767.073228</td>\n",
       "      <td>3542.538221</td>\n",
       "      <td>74.391729</td>\n",
       "      <td>3273.246332</td>\n",
       "      <td>8.471806e+05</td>\n",
       "      <td>6.561245e+05</td>\n",
       "    </tr>\n",
       "    <tr>\n",
       "      <th>2</th>\n",
       "      <td>Alaska Airlines Inc.</td>\n",
       "      <td>2018.0</td>\n",
       "      <td>3.0</td>\n",
       "      <td>403407.0</td>\n",
       "      <td>3579435</td>\n",
       "      <td>3581016</td>\n",
       "      <td>351231.770796</td>\n",
       "      <td>352611.408561</td>\n",
       "      <td>4112.362535</td>\n",
       "      <td>5343.635920</td>\n",
       "      <td>...</td>\n",
       "      <td>4.054933e+05</td>\n",
       "      <td>4.061643e+05</td>\n",
       "      <td>6119.686710</td>\n",
       "      <td>3587.963528</td>\n",
       "      <td>560.199827</td>\n",
       "      <td>3546.221727</td>\n",
       "      <td>85.138145</td>\n",
       "      <td>3750.695563</td>\n",
       "      <td>9.762869e+05</td>\n",
       "      <td>8.033236e+05</td>\n",
       "    </tr>\n",
       "    <tr>\n",
       "      <th>3</th>\n",
       "      <td>Alaska Airlines Inc.</td>\n",
       "      <td>2018.0</td>\n",
       "      <td>4.0</td>\n",
       "      <td>529763.0</td>\n",
       "      <td>4416632</td>\n",
       "      <td>4402094</td>\n",
       "      <td>437644.717946</td>\n",
       "      <td>443878.138696</td>\n",
       "      <td>6597.134759</td>\n",
       "      <td>6718.328494</td>\n",
       "      <td>...</td>\n",
       "      <td>5.059225e+05</td>\n",
       "      <td>5.050267e+05</td>\n",
       "      <td>8722.534150</td>\n",
       "      <td>5354.204906</td>\n",
       "      <td>137.696748</td>\n",
       "      <td>4765.741166</td>\n",
       "      <td>71.784698</td>\n",
       "      <td>5520.139356</td>\n",
       "      <td>1.235752e+06</td>\n",
       "      <td>1.018384e+06</td>\n",
       "    </tr>\n",
       "    <tr>\n",
       "      <th>4</th>\n",
       "      <td>Alaska Airlines Inc.</td>\n",
       "      <td>2018.0</td>\n",
       "      <td>5.0</td>\n",
       "      <td>527630.0</td>\n",
       "      <td>4398513</td>\n",
       "      <td>4393832</td>\n",
       "      <td>441469.897470</td>\n",
       "      <td>446857.877443</td>\n",
       "      <td>6218.846074</td>\n",
       "      <td>6586.192440</td>\n",
       "      <td>...</td>\n",
       "      <td>5.064799e+05</td>\n",
       "      <td>4.983971e+05</td>\n",
       "      <td>8221.837674</td>\n",
       "      <td>5231.897364</td>\n",
       "      <td>378.162045</td>\n",
       "      <td>4964.968879</td>\n",
       "      <td>31.957966</td>\n",
       "      <td>4458.380181</td>\n",
       "      <td>1.256714e+06</td>\n",
       "      <td>1.047129e+06</td>\n",
       "    </tr>\n",
       "    <tr>\n",
       "      <th>...</th>\n",
       "      <td>...</td>\n",
       "      <td>...</td>\n",
       "      <td>...</td>\n",
       "      <td>...</td>\n",
       "      <td>...</td>\n",
       "      <td>...</td>\n",
       "      <td>...</td>\n",
       "      <td>...</td>\n",
       "      <td>...</td>\n",
       "      <td>...</td>\n",
       "      <td>...</td>\n",
       "      <td>...</td>\n",
       "      <td>...</td>\n",
       "      <td>...</td>\n",
       "      <td>...</td>\n",
       "      <td>...</td>\n",
       "      <td>...</td>\n",
       "      <td>...</td>\n",
       "      <td>...</td>\n",
       "      <td>...</td>\n",
       "      <td>...</td>\n",
       "    </tr>\n",
       "    <tr>\n",
       "      <th>238</th>\n",
       "      <td>United Air Lines Inc.</td>\n",
       "      <td>2019.0</td>\n",
       "      <td>11.0</td>\n",
       "      <td>797845.0</td>\n",
       "      <td>8674989</td>\n",
       "      <td>8678799</td>\n",
       "      <td>924787.450184</td>\n",
       "      <td>940645.621709</td>\n",
       "      <td>24991.188952</td>\n",
       "      <td>16636.279283</td>\n",
       "      <td>...</td>\n",
       "      <td>1.039077e+06</td>\n",
       "      <td>1.030899e+06</td>\n",
       "      <td>27890.089986</td>\n",
       "      <td>15043.926760</td>\n",
       "      <td>1499.914950</td>\n",
       "      <td>12339.489389</td>\n",
       "      <td>16.259904</td>\n",
       "      <td>19806.799398</td>\n",
       "      <td>2.041799e+06</td>\n",
       "      <td>1.630382e+06</td>\n",
       "    </tr>\n",
       "    <tr>\n",
       "      <th>239</th>\n",
       "      <td>United Air Lines Inc.</td>\n",
       "      <td>2019.0</td>\n",
       "      <td>12.0</td>\n",
       "      <td>870907.0</td>\n",
       "      <td>9156345</td>\n",
       "      <td>9163298</td>\n",
       "      <td>966014.772927</td>\n",
       "      <td>979825.777375</td>\n",
       "      <td>29137.918933</td>\n",
       "      <td>17428.426920</td>\n",
       "      <td>...</td>\n",
       "      <td>1.080932e+06</td>\n",
       "      <td>1.065919e+06</td>\n",
       "      <td>31660.675752</td>\n",
       "      <td>15240.375367</td>\n",
       "      <td>1652.616254</td>\n",
       "      <td>12430.109523</td>\n",
       "      <td>9.028890</td>\n",
       "      <td>22023.385123</td>\n",
       "      <td>2.025153e+06</td>\n",
       "      <td>1.714300e+06</td>\n",
       "    </tr>\n",
       "    <tr>\n",
       "      <th>240</th>\n",
       "      <td>Virgin America</td>\n",
       "      <td>2018.0</td>\n",
       "      <td>1.0</td>\n",
       "      <td>161202.0</td>\n",
       "      <td>1159650</td>\n",
       "      <td>1158485</td>\n",
       "      <td>121805.198782</td>\n",
       "      <td>124209.745761</td>\n",
       "      <td>1941.868932</td>\n",
       "      <td>2016.017720</td>\n",
       "      <td>...</td>\n",
       "      <td>1.392771e+05</td>\n",
       "      <td>1.376019e+05</td>\n",
       "      <td>2397.586213</td>\n",
       "      <td>1289.687565</td>\n",
       "      <td>94.508423</td>\n",
       "      <td>1708.831382</td>\n",
       "      <td>24.528491</td>\n",
       "      <td>855.024001</td>\n",
       "      <td>3.392687e+05</td>\n",
       "      <td>2.545203e+05</td>\n",
       "    </tr>\n",
       "    <tr>\n",
       "      <th>241</th>\n",
       "      <td>Virgin America</td>\n",
       "      <td>2018.0</td>\n",
       "      <td>2.0</td>\n",
       "      <td>157911.0</td>\n",
       "      <td>1130822</td>\n",
       "      <td>1134772</td>\n",
       "      <td>118894.674656</td>\n",
       "      <td>121104.011552</td>\n",
       "      <td>2040.061885</td>\n",
       "      <td>1963.143888</td>\n",
       "      <td>...</td>\n",
       "      <td>1.365138e+05</td>\n",
       "      <td>1.361649e+05</td>\n",
       "      <td>2488.345013</td>\n",
       "      <td>1573.508144</td>\n",
       "      <td>6.839827</td>\n",
       "      <td>1529.879869</td>\n",
       "      <td>6.576389</td>\n",
       "      <td>981.112826</td>\n",
       "      <td>3.300825e+05</td>\n",
       "      <td>2.565813e+05</td>\n",
       "    </tr>\n",
       "    <tr>\n",
       "      <th>242</th>\n",
       "      <td>Virgin America</td>\n",
       "      <td>2018.0</td>\n",
       "      <td>3.0</td>\n",
       "      <td>167248.0</td>\n",
       "      <td>1228165</td>\n",
       "      <td>1228165</td>\n",
       "      <td>126174.067715</td>\n",
       "      <td>128019.508667</td>\n",
       "      <td>3211.302161</td>\n",
       "      <td>2134.101259</td>\n",
       "      <td>...</td>\n",
       "      <td>1.429332e+05</td>\n",
       "      <td>1.409969e+05</td>\n",
       "      <td>3420.564926</td>\n",
       "      <td>1824.684259</td>\n",
       "      <td>58.655094</td>\n",
       "      <td>1783.516843</td>\n",
       "      <td>65.130120</td>\n",
       "      <td>1536.266659</td>\n",
       "      <td>3.635175e+05</td>\n",
       "      <td>3.059000e+05</td>\n",
       "    </tr>\n",
       "  </tbody>\n",
       "</table>\n",
       "<p>243 rows × 23 columns</p>\n",
       "</div>"
      ],
      "text/plain": [
       "              carrier_name    year  month  distance  origin_airport_id  \\\n",
       "0     Alaska Airlines Inc.  2018.0    1.0  400691.0            3533182   \n",
       "1     Alaska Airlines Inc.  2018.0    2.0  389843.0            3441568   \n",
       "2     Alaska Airlines Inc.  2018.0    3.0  403407.0            3579435   \n",
       "3     Alaska Airlines Inc.  2018.0    4.0  529763.0            4416632   \n",
       "4     Alaska Airlines Inc.  2018.0    5.0  527630.0            4398513   \n",
       "..                     ...     ...    ...       ...                ...   \n",
       "238  United Air Lines Inc.  2019.0   11.0  797845.0            8674989   \n",
       "239  United Air Lines Inc.  2019.0   12.0  870907.0            9156345   \n",
       "240         Virgin America  2018.0    1.0  161202.0            1159650   \n",
       "241         Virgin America  2018.0    2.0  157911.0            1130822   \n",
       "242         Virgin America  2018.0    3.0  167248.0            1228165   \n",
       "\n",
       "     dest_airport_id   crs_dep_time       dep_time     dep_delay  \\\n",
       "0            3539293  347047.917970  347578.637480   4883.156964   \n",
       "1            3445500  339228.916381  341824.010139   4426.399227   \n",
       "2            3581016  351231.770796  352611.408561   4112.362535   \n",
       "3            4402094  437644.717946  443878.138696   6597.134759   \n",
       "4            4393832  441469.897470  446857.877443   6218.846074   \n",
       "..               ...            ...            ...           ...   \n",
       "238          8678799  924787.450184  940645.621709  24991.188952   \n",
       "239          9163298  966014.772927  979825.777375  29137.918933   \n",
       "240          1158485  121805.198782  124209.745761   1941.868932   \n",
       "241          1134772  118894.674656  121104.011552   2040.061885   \n",
       "242          1228165  126174.067715  128019.508667   3211.302161   \n",
       "\n",
       "         taxi_out  ...  crs_arr_time      arr_time     arr_delay  \\\n",
       "0     5571.567417  ...  4.040591e+05  4.015774e+05   6761.463975   \n",
       "1     5652.833994  ...  3.966998e+05  3.978910e+05   6524.940163   \n",
       "2     5343.635920  ...  4.054933e+05  4.061643e+05   6119.686710   \n",
       "3     6718.328494  ...  5.059225e+05  5.050267e+05   8722.534150   \n",
       "4     6586.192440  ...  5.064799e+05  4.983971e+05   8221.837674   \n",
       "..            ...  ...           ...           ...           ...   \n",
       "238  16636.279283  ...  1.039077e+06  1.030899e+06  27890.089986   \n",
       "239  17428.426920  ...  1.080932e+06  1.065919e+06  31660.675752   \n",
       "240   2016.017720  ...  1.392771e+05  1.376019e+05   2397.586213   \n",
       "241   1963.143888  ...  1.365138e+05  1.361649e+05   2488.345013   \n",
       "242   2134.101259  ...  1.429332e+05  1.409969e+05   3420.564926   \n",
       "\n",
       "     carrier_delay  weather_delay     nas_delay  security_delay  \\\n",
       "0      3628.222503     476.053049   3693.186448       93.023521   \n",
       "1      3657.780861     767.073228   3542.538221       74.391729   \n",
       "2      3587.963528     560.199827   3546.221727       85.138145   \n",
       "3      5354.204906     137.696748   4765.741166       71.784698   \n",
       "4      5231.897364     378.162045   4964.968879       31.957966   \n",
       "..             ...            ...           ...             ...   \n",
       "238   15043.926760    1499.914950  12339.489389       16.259904   \n",
       "239   15240.375367    1652.616254  12430.109523        9.028890   \n",
       "240    1289.687565      94.508423   1708.831382       24.528491   \n",
       "241    1573.508144       6.839827   1529.879869        6.576389   \n",
       "242    1824.684259      58.655094   1783.516843       65.130120   \n",
       "\n",
       "     late_aircraft_delay         seats    passengers  \n",
       "0            4593.174674  8.988310e+05  6.570467e+05  \n",
       "1            3273.246332  8.471806e+05  6.561245e+05  \n",
       "2            3750.695563  9.762869e+05  8.033236e+05  \n",
       "3            5520.139356  1.235752e+06  1.018384e+06  \n",
       "4            4458.380181  1.256714e+06  1.047129e+06  \n",
       "..                   ...           ...           ...  \n",
       "238         19806.799398  2.041799e+06  1.630382e+06  \n",
       "239         22023.385123  2.025153e+06  1.714300e+06  \n",
       "240           855.024001  3.392687e+05  2.545203e+05  \n",
       "241           981.112826  3.300825e+05  2.565813e+05  \n",
       "242          1536.266659  3.635175e+05  3.059000e+05  \n",
       "\n",
       "[243 rows x 23 columns]"
      ]
     },
     "execution_count": 206,
     "metadata": {},
     "output_type": "execute_result"
    }
   ],
   "source": [
    "df_carrier_month_group"
   ]
  },
  {
   "cell_type": "code",
   "execution_count": 207,
   "metadata": {},
   "outputs": [],
   "source": [
    "carrier_distance = df_carrier_month_group[['carrier_name', 'month', 'distance', 'year']]"
   ]
  },
  {
   "cell_type": "code",
   "execution_count": 208,
   "metadata": {},
   "outputs": [
    {
     "data": {
      "text/html": [
       "<div>\n",
       "<style scoped>\n",
       "    .dataframe tbody tr th:only-of-type {\n",
       "        vertical-align: middle;\n",
       "    }\n",
       "\n",
       "    .dataframe tbody tr th {\n",
       "        vertical-align: top;\n",
       "    }\n",
       "\n",
       "    .dataframe thead th {\n",
       "        text-align: right;\n",
       "    }\n",
       "</style>\n",
       "<table border=\"1\" class=\"dataframe\">\n",
       "  <thead>\n",
       "    <tr style=\"text-align: right;\">\n",
       "      <th></th>\n",
       "      <th>carrier_name</th>\n",
       "      <th>month</th>\n",
       "      <th>distance</th>\n",
       "      <th>year</th>\n",
       "    </tr>\n",
       "  </thead>\n",
       "  <tbody>\n",
       "    <tr>\n",
       "      <th>0</th>\n",
       "      <td>Alaska Airlines Inc.</td>\n",
       "      <td>1.0</td>\n",
       "      <td>400691.0</td>\n",
       "      <td>2018.0</td>\n",
       "    </tr>\n",
       "    <tr>\n",
       "      <th>1</th>\n",
       "      <td>Alaska Airlines Inc.</td>\n",
       "      <td>2.0</td>\n",
       "      <td>389843.0</td>\n",
       "      <td>2018.0</td>\n",
       "    </tr>\n",
       "    <tr>\n",
       "      <th>2</th>\n",
       "      <td>Alaska Airlines Inc.</td>\n",
       "      <td>3.0</td>\n",
       "      <td>403407.0</td>\n",
       "      <td>2018.0</td>\n",
       "    </tr>\n",
       "    <tr>\n",
       "      <th>3</th>\n",
       "      <td>Alaska Airlines Inc.</td>\n",
       "      <td>4.0</td>\n",
       "      <td>529763.0</td>\n",
       "      <td>2018.0</td>\n",
       "    </tr>\n",
       "    <tr>\n",
       "      <th>4</th>\n",
       "      <td>Alaska Airlines Inc.</td>\n",
       "      <td>5.0</td>\n",
       "      <td>527630.0</td>\n",
       "      <td>2018.0</td>\n",
       "    </tr>\n",
       "    <tr>\n",
       "      <th>...</th>\n",
       "      <td>...</td>\n",
       "      <td>...</td>\n",
       "      <td>...</td>\n",
       "      <td>...</td>\n",
       "    </tr>\n",
       "    <tr>\n",
       "      <th>238</th>\n",
       "      <td>United Air Lines Inc.</td>\n",
       "      <td>11.0</td>\n",
       "      <td>797845.0</td>\n",
       "      <td>2019.0</td>\n",
       "    </tr>\n",
       "    <tr>\n",
       "      <th>239</th>\n",
       "      <td>United Air Lines Inc.</td>\n",
       "      <td>12.0</td>\n",
       "      <td>870907.0</td>\n",
       "      <td>2019.0</td>\n",
       "    </tr>\n",
       "    <tr>\n",
       "      <th>240</th>\n",
       "      <td>Virgin America</td>\n",
       "      <td>1.0</td>\n",
       "      <td>161202.0</td>\n",
       "      <td>2018.0</td>\n",
       "    </tr>\n",
       "    <tr>\n",
       "      <th>241</th>\n",
       "      <td>Virgin America</td>\n",
       "      <td>2.0</td>\n",
       "      <td>157911.0</td>\n",
       "      <td>2018.0</td>\n",
       "    </tr>\n",
       "    <tr>\n",
       "      <th>242</th>\n",
       "      <td>Virgin America</td>\n",
       "      <td>3.0</td>\n",
       "      <td>167248.0</td>\n",
       "      <td>2018.0</td>\n",
       "    </tr>\n",
       "  </tbody>\n",
       "</table>\n",
       "<p>243 rows × 4 columns</p>\n",
       "</div>"
      ],
      "text/plain": [
       "              carrier_name  month  distance    year\n",
       "0     Alaska Airlines Inc.    1.0  400691.0  2018.0\n",
       "1     Alaska Airlines Inc.    2.0  389843.0  2018.0\n",
       "2     Alaska Airlines Inc.    3.0  403407.0  2018.0\n",
       "3     Alaska Airlines Inc.    4.0  529763.0  2018.0\n",
       "4     Alaska Airlines Inc.    5.0  527630.0  2018.0\n",
       "..                     ...    ...       ...     ...\n",
       "238  United Air Lines Inc.   11.0  797845.0  2019.0\n",
       "239  United Air Lines Inc.   12.0  870907.0  2019.0\n",
       "240         Virgin America    1.0  161202.0  2018.0\n",
       "241         Virgin America    2.0  157911.0  2018.0\n",
       "242         Virgin America    3.0  167248.0  2018.0\n",
       "\n",
       "[243 rows x 4 columns]"
      ]
     },
     "execution_count": 208,
     "metadata": {},
     "output_type": "execute_result"
    }
   ],
   "source": [
    "carrier_distance"
   ]
  },
  {
   "cell_type": "code",
   "execution_count": 209,
   "metadata": {},
   "outputs": [
    {
     "data": {
      "text/html": [
       "<div>\n",
       "<style scoped>\n",
       "    .dataframe tbody tr th:only-of-type {\n",
       "        vertical-align: middle;\n",
       "    }\n",
       "\n",
       "    .dataframe tbody tr th {\n",
       "        vertical-align: top;\n",
       "    }\n",
       "\n",
       "    .dataframe thead th {\n",
       "        text-align: right;\n",
       "    }\n",
       "</style>\n",
       "<table border=\"1\" class=\"dataframe\">\n",
       "  <thead>\n",
       "    <tr style=\"text-align: right;\">\n",
       "      <th></th>\n",
       "      <th>carrier_name</th>\n",
       "      <th>month</th>\n",
       "      <th>distance</th>\n",
       "      <th>year</th>\n",
       "    </tr>\n",
       "  </thead>\n",
       "  <tbody>\n",
       "    <tr>\n",
       "      <th>240</th>\n",
       "      <td>Virgin America</td>\n",
       "      <td>1.0</td>\n",
       "      <td>161202.0</td>\n",
       "      <td>2018.0</td>\n",
       "    </tr>\n",
       "    <tr>\n",
       "      <th>241</th>\n",
       "      <td>Virgin America</td>\n",
       "      <td>2.0</td>\n",
       "      <td>157911.0</td>\n",
       "      <td>2018.0</td>\n",
       "    </tr>\n",
       "    <tr>\n",
       "      <th>242</th>\n",
       "      <td>Virgin America</td>\n",
       "      <td>3.0</td>\n",
       "      <td>167248.0</td>\n",
       "      <td>2018.0</td>\n",
       "    </tr>\n",
       "  </tbody>\n",
       "</table>\n",
       "</div>"
      ],
      "text/plain": [
       "       carrier_name  month  distance    year\n",
       "240  Virgin America    1.0  161202.0  2018.0\n",
       "241  Virgin America    2.0  157911.0  2018.0\n",
       "242  Virgin America    3.0  167248.0  2018.0"
      ]
     },
     "execution_count": 209,
     "metadata": {},
     "output_type": "execute_result"
    }
   ],
   "source": [
    "carrier_distance[(carrier_distance['carrier_name'] == c) & (carrier_distance['year'] == 2018.0)]"
   ]
  },
  {
   "cell_type": "code",
   "execution_count": 210,
   "metadata": {},
   "outputs": [],
   "source": [
    "carrier_distance_dict2018 = {}\n",
    "for c in carrier_names:\n",
    "    carrier_distance_dict2018[c] = pd.DataFrame(carrier_distance[(carrier_distance['carrier_name'] == c) & (carrier_distance['year'] == 2018.0)])\n",
    "    carrier_distance_dict2018[c] = carrier_distance_dict2018[c][['month', 'distance']]\n",
    "    carrier_distance_dict2018[c] = carrier_distance_dict2018[c].rename(columns={'distance': c})"
   ]
  },
  {
   "cell_type": "code",
   "execution_count": 211,
   "metadata": {},
   "outputs": [],
   "source": [
    "carrier_distance_dict2019 = {}\n",
    "for c in carrier_names:\n",
    "    carrier_distance_dict2019[c] = pd.DataFrame(carrier_distance[(carrier_distance['carrier_name'] == c) & (carrier_distance['year'] == 2019.0)])\n",
    "    carrier_distance_dict2019[c] = carrier_distance_dict2019[c][['month', 'distance']]\n",
    "    carrier_distance_dict2019[c] = carrier_distance_dict2019[c].rename(columns={'distance': c})"
   ]
  },
  {
   "cell_type": "code",
   "execution_count": 212,
   "metadata": {},
   "outputs": [],
   "source": [
    "for c in carrier_names:\n",
    "    if c == 'Virgin America':\n",
    "        continue\n",
    "    carrier_distance_table2018 = pd.DataFrame(carrier_distance_dict2018[c])\n",
    "    for d in carrier_names:\n",
    "        if d == 'Virgin America':\n",
    "            continue\n",
    "        if c != d:\n",
    "            carrier_distance_table2018 = pd.merge(carrier_distance_table2018, pd.DataFrame(carrier_distance_dict2018[d]), left_on='month', right_on='month')"
   ]
  },
  {
   "cell_type": "code",
   "execution_count": 213,
   "metadata": {},
   "outputs": [],
   "source": [
    "for c in carrier_names:\n",
    "    if c == 'Virgin America':\n",
    "        continue\n",
    "    carrier_distance_table2019 = pd.DataFrame(carrier_distance_dict2019[c])\n",
    "    for d in carrier_names:\n",
    "        if d == 'Virgin America':\n",
    "            continue\n",
    "        if c != d:\n",
    "            carrier_distance_table2019 = pd.merge(carrier_distance_table2019, pd.DataFrame(carrier_distance_dict2019[d]), left_on='month', right_on='month')"
   ]
  },
  {
   "cell_type": "code",
   "execution_count": 214,
   "metadata": {},
   "outputs": [
    {
     "data": {
      "text/html": [
       "<div>\n",
       "<style scoped>\n",
       "    .dataframe tbody tr th:only-of-type {\n",
       "        vertical-align: middle;\n",
       "    }\n",
       "\n",
       "    .dataframe tbody tr th {\n",
       "        vertical-align: top;\n",
       "    }\n",
       "\n",
       "    .dataframe thead th {\n",
       "        text-align: right;\n",
       "    }\n",
       "</style>\n",
       "<table border=\"1\" class=\"dataframe\">\n",
       "  <thead>\n",
       "    <tr style=\"text-align: right;\">\n",
       "      <th></th>\n",
       "      <th>month</th>\n",
       "      <th>Virgin America</th>\n",
       "    </tr>\n",
       "  </thead>\n",
       "  <tbody>\n",
       "    <tr>\n",
       "      <th>240</th>\n",
       "      <td>1.0</td>\n",
       "      <td>161202.0</td>\n",
       "    </tr>\n",
       "    <tr>\n",
       "      <th>241</th>\n",
       "      <td>2.0</td>\n",
       "      <td>157911.0</td>\n",
       "    </tr>\n",
       "    <tr>\n",
       "      <th>242</th>\n",
       "      <td>3.0</td>\n",
       "      <td>167248.0</td>\n",
       "    </tr>\n",
       "  </tbody>\n",
       "</table>\n",
       "</div>"
      ],
      "text/plain": [
       "     month  Virgin America\n",
       "240    1.0        161202.0\n",
       "241    2.0        157911.0\n",
       "242    3.0        167248.0"
      ]
     },
     "execution_count": 214,
     "metadata": {},
     "output_type": "execute_result"
    }
   ],
   "source": [
    "carrier_distance_dict2018['Virgin America']"
   ]
  },
  {
   "cell_type": "code",
   "execution_count": 215,
   "metadata": {},
   "outputs": [
    {
     "data": {
      "text/html": [
       "<div>\n",
       "<style scoped>\n",
       "    .dataframe tbody tr th:only-of-type {\n",
       "        vertical-align: middle;\n",
       "    }\n",
       "\n",
       "    .dataframe tbody tr th {\n",
       "        vertical-align: top;\n",
       "    }\n",
       "\n",
       "    .dataframe thead th {\n",
       "        text-align: right;\n",
       "    }\n",
       "</style>\n",
       "<table border=\"1\" class=\"dataframe\">\n",
       "  <thead>\n",
       "    <tr style=\"text-align: right;\">\n",
       "      <th></th>\n",
       "      <th>month</th>\n",
       "      <th>Virgin America</th>\n",
       "    </tr>\n",
       "  </thead>\n",
       "  <tbody>\n",
       "  </tbody>\n",
       "</table>\n",
       "</div>"
      ],
      "text/plain": [
       "Empty DataFrame\n",
       "Columns: [month, Virgin America]\n",
       "Index: []"
      ]
     },
     "execution_count": 215,
     "metadata": {},
     "output_type": "execute_result"
    }
   ],
   "source": [
    "carrier_distance_dict2019['Virgin America']"
   ]
  },
  {
   "cell_type": "code",
   "execution_count": 216,
   "metadata": {},
   "outputs": [],
   "source": [
    "virgin_america_distance2018 = pd.DataFrame([161202.0, 157911.0, 167248.0, 0, 0, 0, 0, 0, 0, 0, 0, 0 ])"
   ]
  },
  {
   "cell_type": "code",
   "execution_count": 217,
   "metadata": {},
   "outputs": [],
   "source": [
    "final_carrier_distance2018 = pd.concat([carrier_distance_table2018, virgin_america_distance2018], axis=1)"
   ]
  },
  {
   "cell_type": "code",
   "execution_count": 218,
   "metadata": {},
   "outputs": [],
   "source": [
    "final_carrier_distance2018 = final_carrier_distance2018.rename(columns={0:'Virgin America'})"
   ]
  },
  {
   "cell_type": "code",
   "execution_count": 219,
   "metadata": {},
   "outputs": [
    {
     "data": {
      "text/html": [
       "<div>\n",
       "<style scoped>\n",
       "    .dataframe tbody tr th:only-of-type {\n",
       "        vertical-align: middle;\n",
       "    }\n",
       "\n",
       "    .dataframe tbody tr th {\n",
       "        vertical-align: top;\n",
       "    }\n",
       "\n",
       "    .dataframe thead th {\n",
       "        text-align: right;\n",
       "    }\n",
       "</style>\n",
       "<table border=\"1\" class=\"dataframe\">\n",
       "  <thead>\n",
       "    <tr style=\"text-align: right;\">\n",
       "      <th></th>\n",
       "      <th>month</th>\n",
       "      <th>United Air Lines Inc.</th>\n",
       "      <th>Alaska Airlines Inc.</th>\n",
       "      <th>Allegiant Air</th>\n",
       "      <th>American Airlines Inc.</th>\n",
       "      <th>Delta Air Lines Inc.</th>\n",
       "      <th>Frontier Airlines Inc.</th>\n",
       "      <th>Hawaiian Airlines Inc.</th>\n",
       "      <th>JetBlue Airways</th>\n",
       "      <th>Southwest Airlines Co.</th>\n",
       "      <th>Spirit Air Lines</th>\n",
       "      <th>Virgin America</th>\n",
       "    </tr>\n",
       "  </thead>\n",
       "  <tbody>\n",
       "    <tr>\n",
       "      <th>0</th>\n",
       "      <td>1.0</td>\n",
       "      <td>783101.0</td>\n",
       "      <td>400691.0</td>\n",
       "      <td>549864.0</td>\n",
       "      <td>764756.0</td>\n",
       "      <td>846230.0</td>\n",
       "      <td>390357.0</td>\n",
       "      <td>108992.0</td>\n",
       "      <td>402480.0</td>\n",
       "      <td>1149464.0</td>\n",
       "      <td>350246.0</td>\n",
       "      <td>161202.0</td>\n",
       "    </tr>\n",
       "    <tr>\n",
       "      <th>1</th>\n",
       "      <td>2.0</td>\n",
       "      <td>737680.0</td>\n",
       "      <td>389843.0</td>\n",
       "      <td>549641.0</td>\n",
       "      <td>790425.0</td>\n",
       "      <td>813661.0</td>\n",
       "      <td>398335.0</td>\n",
       "      <td>101369.0</td>\n",
       "      <td>402480.0</td>\n",
       "      <td>1133200.0</td>\n",
       "      <td>363663.0</td>\n",
       "      <td>157911.0</td>\n",
       "    </tr>\n",
       "    <tr>\n",
       "      <th>2</th>\n",
       "      <td>3.0</td>\n",
       "      <td>754586.0</td>\n",
       "      <td>403407.0</td>\n",
       "      <td>558116.0</td>\n",
       "      <td>777103.0</td>\n",
       "      <td>845202.0</td>\n",
       "      <td>391208.0</td>\n",
       "      <td>108992.0</td>\n",
       "      <td>404144.0</td>\n",
       "      <td>1203707.0</td>\n",
       "      <td>376747.0</td>\n",
       "      <td>167248.0</td>\n",
       "    </tr>\n",
       "    <tr>\n",
       "      <th>3</th>\n",
       "      <td>4.0</td>\n",
       "      <td>768433.0</td>\n",
       "      <td>529763.0</td>\n",
       "      <td>569732.0</td>\n",
       "      <td>776843.0</td>\n",
       "      <td>816920.0</td>\n",
       "      <td>589823.0</td>\n",
       "      <td>108992.0</td>\n",
       "      <td>405970.0</td>\n",
       "      <td>1239233.0</td>\n",
       "      <td>463184.0</td>\n",
       "      <td>0.0</td>\n",
       "    </tr>\n",
       "    <tr>\n",
       "      <th>4</th>\n",
       "      <td>5.0</td>\n",
       "      <td>751556.0</td>\n",
       "      <td>527630.0</td>\n",
       "      <td>595902.0</td>\n",
       "      <td>757592.0</td>\n",
       "      <td>800884.0</td>\n",
       "      <td>509354.0</td>\n",
       "      <td>116643.0</td>\n",
       "      <td>421187.0</td>\n",
       "      <td>1204914.0</td>\n",
       "      <td>420929.0</td>\n",
       "      <td>0.0</td>\n",
       "    </tr>\n",
       "    <tr>\n",
       "      <th>5</th>\n",
       "      <td>6.0</td>\n",
       "      <td>838869.0</td>\n",
       "      <td>526981.0</td>\n",
       "      <td>677936.0</td>\n",
       "      <td>803789.0</td>\n",
       "      <td>876686.0</td>\n",
       "      <td>525382.0</td>\n",
       "      <td>119212.0</td>\n",
       "      <td>420550.0</td>\n",
       "      <td>1273706.0</td>\n",
       "      <td>416523.0</td>\n",
       "      <td>0.0</td>\n",
       "    </tr>\n",
       "    <tr>\n",
       "      <th>6</th>\n",
       "      <td>7.0</td>\n",
       "      <td>838110.0</td>\n",
       "      <td>532199.0</td>\n",
       "      <td>676736.0</td>\n",
       "      <td>793460.0</td>\n",
       "      <td>878842.0</td>\n",
       "      <td>540920.0</td>\n",
       "      <td>124126.0</td>\n",
       "      <td>420550.0</td>\n",
       "      <td>1276213.0</td>\n",
       "      <td>418576.0</td>\n",
       "      <td>0.0</td>\n",
       "    </tr>\n",
       "    <tr>\n",
       "      <th>7</th>\n",
       "      <td>8.0</td>\n",
       "      <td>851695.0</td>\n",
       "      <td>523631.0</td>\n",
       "      <td>647916.0</td>\n",
       "      <td>800877.0</td>\n",
       "      <td>880907.0</td>\n",
       "      <td>619564.0</td>\n",
       "      <td>124126.0</td>\n",
       "      <td>420550.0</td>\n",
       "      <td>1256411.0</td>\n",
       "      <td>418932.0</td>\n",
       "      <td>0.0</td>\n",
       "    </tr>\n",
       "    <tr>\n",
       "      <th>8</th>\n",
       "      <td>9.0</td>\n",
       "      <td>797587.0</td>\n",
       "      <td>498794.0</td>\n",
       "      <td>434135.0</td>\n",
       "      <td>758896.0</td>\n",
       "      <td>796755.0</td>\n",
       "      <td>575925.0</td>\n",
       "      <td>124126.0</td>\n",
       "      <td>432704.0</td>\n",
       "      <td>1200621.0</td>\n",
       "      <td>396513.0</td>\n",
       "      <td>0.0</td>\n",
       "    </tr>\n",
       "    <tr>\n",
       "      <th>9</th>\n",
       "      <td>10.0</td>\n",
       "      <td>795965.0</td>\n",
       "      <td>510698.0</td>\n",
       "      <td>511024.0</td>\n",
       "      <td>763032.0</td>\n",
       "      <td>813625.0</td>\n",
       "      <td>573538.0</td>\n",
       "      <td>124126.0</td>\n",
       "      <td>422184.0</td>\n",
       "      <td>1209421.0</td>\n",
       "      <td>360910.0</td>\n",
       "      <td>0.0</td>\n",
       "    </tr>\n",
       "    <tr>\n",
       "      <th>10</th>\n",
       "      <td>11.0</td>\n",
       "      <td>791336.0</td>\n",
       "      <td>551316.0</td>\n",
       "      <td>553780.0</td>\n",
       "      <td>756938.0</td>\n",
       "      <td>844508.0</td>\n",
       "      <td>658745.0</td>\n",
       "      <td>124126.0</td>\n",
       "      <td>416184.0</td>\n",
       "      <td>1242519.0</td>\n",
       "      <td>406902.0</td>\n",
       "      <td>0.0</td>\n",
       "    </tr>\n",
       "    <tr>\n",
       "      <th>11</th>\n",
       "      <td>12.0</td>\n",
       "      <td>849960.0</td>\n",
       "      <td>549237.0</td>\n",
       "      <td>556725.0</td>\n",
       "      <td>814732.0</td>\n",
       "      <td>923296.0</td>\n",
       "      <td>555445.0</td>\n",
       "      <td>124126.0</td>\n",
       "      <td>434602.0</td>\n",
       "      <td>1251131.0</td>\n",
       "      <td>380427.0</td>\n",
       "      <td>0.0</td>\n",
       "    </tr>\n",
       "  </tbody>\n",
       "</table>\n",
       "</div>"
      ],
      "text/plain": [
       "    month  United Air Lines Inc.  Alaska Airlines Inc.  Allegiant Air  \\\n",
       "0     1.0               783101.0              400691.0       549864.0   \n",
       "1     2.0               737680.0              389843.0       549641.0   \n",
       "2     3.0               754586.0              403407.0       558116.0   \n",
       "3     4.0               768433.0              529763.0       569732.0   \n",
       "4     5.0               751556.0              527630.0       595902.0   \n",
       "5     6.0               838869.0              526981.0       677936.0   \n",
       "6     7.0               838110.0              532199.0       676736.0   \n",
       "7     8.0               851695.0              523631.0       647916.0   \n",
       "8     9.0               797587.0              498794.0       434135.0   \n",
       "9    10.0               795965.0              510698.0       511024.0   \n",
       "10   11.0               791336.0              551316.0       553780.0   \n",
       "11   12.0               849960.0              549237.0       556725.0   \n",
       "\n",
       "    American Airlines Inc.  Delta Air Lines Inc.  Frontier Airlines Inc.  \\\n",
       "0                 764756.0              846230.0                390357.0   \n",
       "1                 790425.0              813661.0                398335.0   \n",
       "2                 777103.0              845202.0                391208.0   \n",
       "3                 776843.0              816920.0                589823.0   \n",
       "4                 757592.0              800884.0                509354.0   \n",
       "5                 803789.0              876686.0                525382.0   \n",
       "6                 793460.0              878842.0                540920.0   \n",
       "7                 800877.0              880907.0                619564.0   \n",
       "8                 758896.0              796755.0                575925.0   \n",
       "9                 763032.0              813625.0                573538.0   \n",
       "10                756938.0              844508.0                658745.0   \n",
       "11                814732.0              923296.0                555445.0   \n",
       "\n",
       "    Hawaiian Airlines Inc.  JetBlue Airways  Southwest Airlines Co.  \\\n",
       "0                 108992.0         402480.0               1149464.0   \n",
       "1                 101369.0         402480.0               1133200.0   \n",
       "2                 108992.0         404144.0               1203707.0   \n",
       "3                 108992.0         405970.0               1239233.0   \n",
       "4                 116643.0         421187.0               1204914.0   \n",
       "5                 119212.0         420550.0               1273706.0   \n",
       "6                 124126.0         420550.0               1276213.0   \n",
       "7                 124126.0         420550.0               1256411.0   \n",
       "8                 124126.0         432704.0               1200621.0   \n",
       "9                 124126.0         422184.0               1209421.0   \n",
       "10                124126.0         416184.0               1242519.0   \n",
       "11                124126.0         434602.0               1251131.0   \n",
       "\n",
       "    Spirit Air Lines  Virgin America  \n",
       "0           350246.0        161202.0  \n",
       "1           363663.0        157911.0  \n",
       "2           376747.0        167248.0  \n",
       "3           463184.0             0.0  \n",
       "4           420929.0             0.0  \n",
       "5           416523.0             0.0  \n",
       "6           418576.0             0.0  \n",
       "7           418932.0             0.0  \n",
       "8           396513.0             0.0  \n",
       "9           360910.0             0.0  \n",
       "10          406902.0             0.0  \n",
       "11          380427.0             0.0  "
      ]
     },
     "execution_count": 219,
     "metadata": {},
     "output_type": "execute_result"
    }
   ],
   "source": [
    "final_carrier_distance2018"
   ]
  },
  {
   "cell_type": "code",
   "execution_count": 220,
   "metadata": {},
   "outputs": [],
   "source": [
    "final_carrier_distance2019 = carrier_distance_table2019.copy()"
   ]
  },
  {
   "cell_type": "code",
   "execution_count": 221,
   "metadata": {},
   "outputs": [
    {
     "ename": "FileNotFoundError",
     "evalue": "[Errno 2] No such file or directory: '/Users/zumiis/bootcamp_git/midterm/vscode_files/task10_final_carrier_distance2018.csv'",
     "output_type": "error",
     "traceback": [
      "\u001b[0;31m---------------------------------------------------------------------------\u001b[0m",
      "\u001b[0;31mFileNotFoundError\u001b[0m                         Traceback (most recent call last)",
      "\u001b[0;32m<ipython-input-221-c6ae5a61e636>\u001b[0m in \u001b[0;36m<module>\u001b[0;34m\u001b[0m\n\u001b[0;32m----> 1\u001b[0;31m \u001b[0mfinal_carrier_distance2018\u001b[0m\u001b[0;34m.\u001b[0m\u001b[0mto_csv\u001b[0m\u001b[0;34m(\u001b[0m\u001b[0;34m'/Users/zumiis/bootcamp_git/midterm/vscode_files/task10_final_carrier_distance2018.csv'\u001b[0m\u001b[0;34m,\u001b[0m \u001b[0mindex\u001b[0m\u001b[0;34m=\u001b[0m\u001b[0;32mFalse\u001b[0m\u001b[0;34m)\u001b[0m\u001b[0;34m\u001b[0m\u001b[0;34m\u001b[0m\u001b[0m\n\u001b[0m\u001b[1;32m      2\u001b[0m \u001b[0mfinal_carrier_distance2019\u001b[0m\u001b[0;34m.\u001b[0m\u001b[0mto_csv\u001b[0m\u001b[0;34m(\u001b[0m\u001b[0;34m'/Users/zumiis/bootcamp_git/midterm/vscode_files/task10_final_carrier_distance2019.csv'\u001b[0m\u001b[0;34m,\u001b[0m \u001b[0mindex\u001b[0m\u001b[0;34m=\u001b[0m\u001b[0;32mFalse\u001b[0m\u001b[0;34m)\u001b[0m\u001b[0;34m\u001b[0m\u001b[0;34m\u001b[0m\u001b[0m\n",
      "\u001b[0;32m~/opt/anaconda3/envs/lhl-ds/lib/python3.8/site-packages/pandas/core/generic.py\u001b[0m in \u001b[0;36mto_csv\u001b[0;34m(self, path_or_buf, sep, na_rep, float_format, columns, header, index, index_label, mode, encoding, compression, quoting, quotechar, line_terminator, chunksize, date_format, doublequote, escapechar, decimal, errors)\u001b[0m\n\u001b[1;32m   3168\u001b[0m             \u001b[0mdecimal\u001b[0m\u001b[0;34m=\u001b[0m\u001b[0mdecimal\u001b[0m\u001b[0;34m,\u001b[0m\u001b[0;34m\u001b[0m\u001b[0;34m\u001b[0m\u001b[0m\n\u001b[1;32m   3169\u001b[0m         )\n\u001b[0;32m-> 3170\u001b[0;31m         \u001b[0mformatter\u001b[0m\u001b[0;34m.\u001b[0m\u001b[0msave\u001b[0m\u001b[0;34m(\u001b[0m\u001b[0;34m)\u001b[0m\u001b[0;34m\u001b[0m\u001b[0;34m\u001b[0m\u001b[0m\n\u001b[0m\u001b[1;32m   3171\u001b[0m \u001b[0;34m\u001b[0m\u001b[0m\n\u001b[1;32m   3172\u001b[0m         \u001b[0;32mif\u001b[0m \u001b[0mpath_or_buf\u001b[0m \u001b[0;32mis\u001b[0m \u001b[0;32mNone\u001b[0m\u001b[0;34m:\u001b[0m\u001b[0;34m\u001b[0m\u001b[0;34m\u001b[0m\u001b[0m\n",
      "\u001b[0;32m~/opt/anaconda3/envs/lhl-ds/lib/python3.8/site-packages/pandas/io/formats/csvs.py\u001b[0m in \u001b[0;36msave\u001b[0;34m(self)\u001b[0m\n\u001b[1;32m    183\u001b[0m             \u001b[0mclose\u001b[0m \u001b[0;34m=\u001b[0m \u001b[0;32mFalse\u001b[0m\u001b[0;34m\u001b[0m\u001b[0;34m\u001b[0m\u001b[0m\n\u001b[1;32m    184\u001b[0m         \u001b[0;32melse\u001b[0m\u001b[0;34m:\u001b[0m\u001b[0;34m\u001b[0m\u001b[0;34m\u001b[0m\u001b[0m\n\u001b[0;32m--> 185\u001b[0;31m             f, handles = get_handle(\n\u001b[0m\u001b[1;32m    186\u001b[0m                 \u001b[0mself\u001b[0m\u001b[0;34m.\u001b[0m\u001b[0mpath_or_buf\u001b[0m\u001b[0;34m,\u001b[0m\u001b[0;34m\u001b[0m\u001b[0;34m\u001b[0m\u001b[0m\n\u001b[1;32m    187\u001b[0m                 \u001b[0mself\u001b[0m\u001b[0;34m.\u001b[0m\u001b[0mmode\u001b[0m\u001b[0;34m,\u001b[0m\u001b[0;34m\u001b[0m\u001b[0;34m\u001b[0m\u001b[0m\n",
      "\u001b[0;32m~/opt/anaconda3/envs/lhl-ds/lib/python3.8/site-packages/pandas/io/common.py\u001b[0m in \u001b[0;36mget_handle\u001b[0;34m(path_or_buf, mode, encoding, compression, memory_map, is_text, errors)\u001b[0m\n\u001b[1;32m    491\u001b[0m         \u001b[0;32mif\u001b[0m \u001b[0mencoding\u001b[0m\u001b[0;34m:\u001b[0m\u001b[0;34m\u001b[0m\u001b[0;34m\u001b[0m\u001b[0m\n\u001b[1;32m    492\u001b[0m             \u001b[0;31m# Encoding\u001b[0m\u001b[0;34m\u001b[0m\u001b[0;34m\u001b[0m\u001b[0;34m\u001b[0m\u001b[0m\n\u001b[0;32m--> 493\u001b[0;31m             \u001b[0mf\u001b[0m \u001b[0;34m=\u001b[0m \u001b[0mopen\u001b[0m\u001b[0;34m(\u001b[0m\u001b[0mpath_or_buf\u001b[0m\u001b[0;34m,\u001b[0m \u001b[0mmode\u001b[0m\u001b[0;34m,\u001b[0m \u001b[0mencoding\u001b[0m\u001b[0;34m=\u001b[0m\u001b[0mencoding\u001b[0m\u001b[0;34m,\u001b[0m \u001b[0merrors\u001b[0m\u001b[0;34m=\u001b[0m\u001b[0merrors\u001b[0m\u001b[0;34m,\u001b[0m \u001b[0mnewline\u001b[0m\u001b[0;34m=\u001b[0m\u001b[0;34m\"\"\u001b[0m\u001b[0;34m)\u001b[0m\u001b[0;34m\u001b[0m\u001b[0;34m\u001b[0m\u001b[0m\n\u001b[0m\u001b[1;32m    494\u001b[0m         \u001b[0;32melif\u001b[0m \u001b[0mis_text\u001b[0m\u001b[0;34m:\u001b[0m\u001b[0;34m\u001b[0m\u001b[0;34m\u001b[0m\u001b[0m\n\u001b[1;32m    495\u001b[0m             \u001b[0;31m# No explicit encoding\u001b[0m\u001b[0;34m\u001b[0m\u001b[0;34m\u001b[0m\u001b[0;34m\u001b[0m\u001b[0m\n",
      "\u001b[0;31mFileNotFoundError\u001b[0m: [Errno 2] No such file or directory: '/Users/zumiis/bootcamp_git/midterm/vscode_files/task10_final_carrier_distance2018.csv'"
     ]
    }
   ],
   "source": [
    "final_carrier_distance2018.to_csv('/Users/zumiis/bootcamp_git/midterm/vscode_files/task10_final_carrier_distance2018.csv', index=False)\n",
    "final_carrier_distance2019.to_csv('/Users/zumiis/bootcamp_git/midterm/vscode_files/task10_final_carrier_distance2019.csv', index=False)"
   ]
  },
  {
   "cell_type": "code",
   "execution_count": 237,
   "metadata": {},
   "outputs": [],
   "source": [
    "final_carrier_distance2019 = pd.read_csv(\"final_carrier_distance2019.csv\")"
   ]
  },
  {
   "cell_type": "code",
   "execution_count": 239,
   "metadata": {},
   "outputs": [
    {
     "data": {
      "application/vnd.plotly.v1+json": {
       "config": {
        "plotlyServerURL": "https://plotly.com"
       },
       "data": [
        {
         "hovertemplate": "variable=Alaska Airlines Inc.<br>month=%{x}<br>value=%{y}<extra></extra>",
         "legendgroup": "Alaska Airlines Inc.",
         "line": {
          "color": "#636efa",
          "dash": "solid"
         },
         "mode": "lines",
         "name": "Alaska Airlines Inc.",
         "orientation": "v",
         "showlegend": true,
         "type": "scatter",
         "x": [
          1,
          2,
          3,
          4,
          5,
          6,
          7,
          8,
          9,
          10,
          11,
          12
         ],
         "xaxis": "x",
         "y": [
          548048,
          530809,
          542039,
          535227,
          525809,
          533349,
          529561,
          536617,
          513157,
          501399,
          537303,
          522552
         ],
         "yaxis": "y"
        },
        {
         "hovertemplate": "variable=Allegiant Air<br>month=%{x}<br>value=%{y}<extra></extra>",
         "legendgroup": "Allegiant Air",
         "line": {
          "color": "#EF553B",
          "dash": "solid"
         },
         "mode": "lines",
         "name": "Allegiant Air",
         "orientation": "v",
         "showlegend": true,
         "type": "scatter",
         "x": [
          1,
          2,
          3,
          4,
          5,
          6,
          7,
          8,
          9,
          10,
          11,
          12
         ],
         "xaxis": "x",
         "y": [
          546195,
          567427,
          585395,
          608006,
          614155,
          696885,
          673908,
          653544,
          382337,
          510640,
          598813,
          616284
         ],
         "yaxis": "y"
        },
        {
         "hovertemplate": "variable=American Airlines Inc.<br>month=%{x}<br>value=%{y}<extra></extra>",
         "legendgroup": "American Airlines Inc.",
         "line": {
          "color": "#00cc96",
          "dash": "solid"
         },
         "mode": "lines",
         "name": "American Airlines Inc.",
         "orientation": "v",
         "showlegend": true,
         "type": "scatter",
         "x": [
          1,
          2,
          3,
          4,
          5,
          6,
          7,
          8,
          9,
          10,
          11,
          12
         ],
         "xaxis": "x",
         "y": [
          806089,
          809308,
          797164,
          802577,
          811619,
          844087,
          822724,
          814063,
          786794,
          775243,
          804346,
          853756
         ],
         "yaxis": "y"
        },
        {
         "hovertemplate": "variable=Delta Air Lines Inc.<br>month=%{x}<br>value=%{y}<extra></extra>",
         "legendgroup": "Delta Air Lines Inc.",
         "line": {
          "color": "#ab63fa",
          "dash": "solid"
         },
         "mode": "lines",
         "name": "Delta Air Lines Inc.",
         "orientation": "v",
         "showlegend": true,
         "type": "scatter",
         "x": [
          1,
          2,
          3,
          4,
          5,
          6,
          7,
          8,
          9,
          10,
          11,
          12
         ],
         "xaxis": "x",
         "y": [
          883284,
          841652,
          880081,
          829196,
          847615,
          896335,
          919320,
          908985,
          840378,
          849898,
          849423,
          952579
         ],
         "yaxis": "y"
        },
        {
         "hovertemplate": "variable=Frontier Airlines Inc.<br>month=%{x}<br>value=%{y}<extra></extra>",
         "legendgroup": "Frontier Airlines Inc.",
         "line": {
          "color": "#FFA15A",
          "dash": "solid"
         },
         "mode": "lines",
         "name": "Frontier Airlines Inc.",
         "orientation": "v",
         "showlegend": true,
         "type": "scatter",
         "x": [
          1,
          2,
          3,
          4,
          5,
          6,
          7,
          8,
          9,
          10,
          11,
          12
         ],
         "xaxis": "x",
         "y": [
          531608,
          513024,
          514126,
          541912,
          574129,
          595495,
          599028,
          591405,
          544383,
          565128,
          650525,
          507393
         ],
         "yaxis": "y"
        },
        {
         "hovertemplate": "variable=Hawaiian Airlines Inc.<br>month=%{x}<br>value=%{y}<extra></extra>",
         "legendgroup": "Hawaiian Airlines Inc.",
         "line": {
          "color": "#19d3f3",
          "dash": "solid"
         },
         "mode": "lines",
         "name": "Hawaiian Airlines Inc.",
         "orientation": "v",
         "showlegend": true,
         "type": "scatter",
         "x": [
          1,
          2,
          3,
          4,
          5,
          6,
          7,
          8,
          9,
          10,
          11,
          12
         ],
         "xaxis": "x",
         "y": [
          124126,
          124126,
          124126,
          139124,
          139124,
          139124,
          139124,
          139124,
          139124,
          139124,
          139124,
          144514
         ],
         "yaxis": "y"
        },
        {
         "hovertemplate": "variable=JetBlue Airways<br>month=%{x}<br>value=%{y}<extra></extra>",
         "legendgroup": "JetBlue Airways",
         "line": {
          "color": "#FF6692",
          "dash": "solid"
         },
         "mode": "lines",
         "name": "JetBlue Airways",
         "orientation": "v",
         "showlegend": true,
         "type": "scatter",
         "x": [
          1,
          2,
          3,
          4,
          5,
          6,
          7,
          8,
          9,
          10,
          11,
          12
         ],
         "xaxis": "x",
         "y": [
          428688,
          425961,
          426865,
          419614,
          411831,
          423900,
          424558,
          422304,
          412097,
          420944,
          405684,
          412383
         ],
         "yaxis": "y"
        },
        {
         "hovertemplate": "variable=Southwest Airlines Co.<br>month=%{x}<br>value=%{y}<extra></extra>",
         "legendgroup": "Southwest Airlines Co.",
         "line": {
          "color": "#B6E880",
          "dash": "solid"
         },
         "mode": "lines",
         "name": "Southwest Airlines Co.",
         "orientation": "v",
         "showlegend": true,
         "type": "scatter",
         "x": [
          1,
          2,
          3,
          4,
          5,
          6,
          7,
          8,
          9,
          10,
          11,
          12
         ],
         "xaxis": "x",
         "y": [
          1248792,
          1194081,
          1282734,
          1274932,
          1242272,
          1329922,
          1280835,
          1233916,
          1179992,
          1162299,
          1226388,
          1258788
         ],
         "yaxis": "y"
        },
        {
         "hovertemplate": "variable=Spirit Air Lines<br>month=%{x}<br>value=%{y}<extra></extra>",
         "legendgroup": "Spirit Air Lines",
         "line": {
          "color": "#FF97FF",
          "dash": "solid"
         },
         "mode": "lines",
         "name": "Spirit Air Lines",
         "orientation": "v",
         "showlegend": true,
         "type": "scatter",
         "x": [
          1,
          2,
          3,
          4,
          5,
          6,
          7,
          8,
          9,
          10,
          11,
          12
         ],
         "xaxis": "x",
         "y": [
          381266,
          411768,
          418881,
          428563,
          464663,
          464356,
          466027,
          465114,
          461463,
          435115,
          489166,
          460007
         ],
         "yaxis": "y"
        },
        {
         "hovertemplate": "variable=United Air Lines Inc.<br>month=%{x}<br>value=%{y}<extra></extra>",
         "legendgroup": "United Air Lines Inc.",
         "line": {
          "color": "#FECB52",
          "dash": "solid"
         },
         "mode": "lines",
         "name": "United Air Lines Inc.",
         "orientation": "v",
         "showlegend": true,
         "type": "scatter",
         "x": [
          1,
          2,
          3,
          4,
          5,
          6,
          7,
          8,
          9,
          10,
          11,
          12
         ],
         "xaxis": "x",
         "y": [
          855998,
          813013,
          823427,
          774955,
          777263,
          862321,
          829626,
          859526,
          793592,
          829165,
          797845,
          870907
         ],
         "yaxis": "y"
        },
        {
         "hovertemplate": "variable=Unnamed: 0<br>month=%{x}<br>value=%{y}<extra></extra>",
         "legendgroup": "Unnamed: 0",
         "line": {
          "color": "#636efa",
          "dash": "solid"
         },
         "mode": "lines",
         "name": "Unnamed: 0",
         "orientation": "v",
         "showlegend": true,
         "type": "scatter",
         "x": [
          1,
          2,
          3,
          4,
          5,
          6,
          7,
          8,
          9,
          10,
          11,
          12
         ],
         "xaxis": "x",
         "y": [
          0,
          1,
          2,
          3,
          4,
          5,
          6,
          7,
          8,
          9,
          10,
          11
         ],
         "yaxis": "y"
        }
       ],
       "layout": {
        "legend": {
         "title": {
          "text": "variable"
         },
         "tracegroupgap": 0
        },
        "template": {
         "data": {
          "bar": [
           {
            "error_x": {
             "color": "#2a3f5f"
            },
            "error_y": {
             "color": "#2a3f5f"
            },
            "marker": {
             "line": {
              "color": "#E5ECF6",
              "width": 0.5
             }
            },
            "type": "bar"
           }
          ],
          "barpolar": [
           {
            "marker": {
             "line": {
              "color": "#E5ECF6",
              "width": 0.5
             }
            },
            "type": "barpolar"
           }
          ],
          "carpet": [
           {
            "aaxis": {
             "endlinecolor": "#2a3f5f",
             "gridcolor": "white",
             "linecolor": "white",
             "minorgridcolor": "white",
             "startlinecolor": "#2a3f5f"
            },
            "baxis": {
             "endlinecolor": "#2a3f5f",
             "gridcolor": "white",
             "linecolor": "white",
             "minorgridcolor": "white",
             "startlinecolor": "#2a3f5f"
            },
            "type": "carpet"
           }
          ],
          "choropleth": [
           {
            "colorbar": {
             "outlinewidth": 0,
             "ticks": ""
            },
            "type": "choropleth"
           }
          ],
          "contour": [
           {
            "colorbar": {
             "outlinewidth": 0,
             "ticks": ""
            },
            "colorscale": [
             [
              0,
              "#0d0887"
             ],
             [
              0.1111111111111111,
              "#46039f"
             ],
             [
              0.2222222222222222,
              "#7201a8"
             ],
             [
              0.3333333333333333,
              "#9c179e"
             ],
             [
              0.4444444444444444,
              "#bd3786"
             ],
             [
              0.5555555555555556,
              "#d8576b"
             ],
             [
              0.6666666666666666,
              "#ed7953"
             ],
             [
              0.7777777777777778,
              "#fb9f3a"
             ],
             [
              0.8888888888888888,
              "#fdca26"
             ],
             [
              1,
              "#f0f921"
             ]
            ],
            "type": "contour"
           }
          ],
          "contourcarpet": [
           {
            "colorbar": {
             "outlinewidth": 0,
             "ticks": ""
            },
            "type": "contourcarpet"
           }
          ],
          "heatmap": [
           {
            "colorbar": {
             "outlinewidth": 0,
             "ticks": ""
            },
            "colorscale": [
             [
              0,
              "#0d0887"
             ],
             [
              0.1111111111111111,
              "#46039f"
             ],
             [
              0.2222222222222222,
              "#7201a8"
             ],
             [
              0.3333333333333333,
              "#9c179e"
             ],
             [
              0.4444444444444444,
              "#bd3786"
             ],
             [
              0.5555555555555556,
              "#d8576b"
             ],
             [
              0.6666666666666666,
              "#ed7953"
             ],
             [
              0.7777777777777778,
              "#fb9f3a"
             ],
             [
              0.8888888888888888,
              "#fdca26"
             ],
             [
              1,
              "#f0f921"
             ]
            ],
            "type": "heatmap"
           }
          ],
          "heatmapgl": [
           {
            "colorbar": {
             "outlinewidth": 0,
             "ticks": ""
            },
            "colorscale": [
             [
              0,
              "#0d0887"
             ],
             [
              0.1111111111111111,
              "#46039f"
             ],
             [
              0.2222222222222222,
              "#7201a8"
             ],
             [
              0.3333333333333333,
              "#9c179e"
             ],
             [
              0.4444444444444444,
              "#bd3786"
             ],
             [
              0.5555555555555556,
              "#d8576b"
             ],
             [
              0.6666666666666666,
              "#ed7953"
             ],
             [
              0.7777777777777778,
              "#fb9f3a"
             ],
             [
              0.8888888888888888,
              "#fdca26"
             ],
             [
              1,
              "#f0f921"
             ]
            ],
            "type": "heatmapgl"
           }
          ],
          "histogram": [
           {
            "marker": {
             "colorbar": {
              "outlinewidth": 0,
              "ticks": ""
             }
            },
            "type": "histogram"
           }
          ],
          "histogram2d": [
           {
            "colorbar": {
             "outlinewidth": 0,
             "ticks": ""
            },
            "colorscale": [
             [
              0,
              "#0d0887"
             ],
             [
              0.1111111111111111,
              "#46039f"
             ],
             [
              0.2222222222222222,
              "#7201a8"
             ],
             [
              0.3333333333333333,
              "#9c179e"
             ],
             [
              0.4444444444444444,
              "#bd3786"
             ],
             [
              0.5555555555555556,
              "#d8576b"
             ],
             [
              0.6666666666666666,
              "#ed7953"
             ],
             [
              0.7777777777777778,
              "#fb9f3a"
             ],
             [
              0.8888888888888888,
              "#fdca26"
             ],
             [
              1,
              "#f0f921"
             ]
            ],
            "type": "histogram2d"
           }
          ],
          "histogram2dcontour": [
           {
            "colorbar": {
             "outlinewidth": 0,
             "ticks": ""
            },
            "colorscale": [
             [
              0,
              "#0d0887"
             ],
             [
              0.1111111111111111,
              "#46039f"
             ],
             [
              0.2222222222222222,
              "#7201a8"
             ],
             [
              0.3333333333333333,
              "#9c179e"
             ],
             [
              0.4444444444444444,
              "#bd3786"
             ],
             [
              0.5555555555555556,
              "#d8576b"
             ],
             [
              0.6666666666666666,
              "#ed7953"
             ],
             [
              0.7777777777777778,
              "#fb9f3a"
             ],
             [
              0.8888888888888888,
              "#fdca26"
             ],
             [
              1,
              "#f0f921"
             ]
            ],
            "type": "histogram2dcontour"
           }
          ],
          "mesh3d": [
           {
            "colorbar": {
             "outlinewidth": 0,
             "ticks": ""
            },
            "type": "mesh3d"
           }
          ],
          "parcoords": [
           {
            "line": {
             "colorbar": {
              "outlinewidth": 0,
              "ticks": ""
             }
            },
            "type": "parcoords"
           }
          ],
          "pie": [
           {
            "automargin": true,
            "type": "pie"
           }
          ],
          "scatter": [
           {
            "marker": {
             "colorbar": {
              "outlinewidth": 0,
              "ticks": ""
             }
            },
            "type": "scatter"
           }
          ],
          "scatter3d": [
           {
            "line": {
             "colorbar": {
              "outlinewidth": 0,
              "ticks": ""
             }
            },
            "marker": {
             "colorbar": {
              "outlinewidth": 0,
              "ticks": ""
             }
            },
            "type": "scatter3d"
           }
          ],
          "scattercarpet": [
           {
            "marker": {
             "colorbar": {
              "outlinewidth": 0,
              "ticks": ""
             }
            },
            "type": "scattercarpet"
           }
          ],
          "scattergeo": [
           {
            "marker": {
             "colorbar": {
              "outlinewidth": 0,
              "ticks": ""
             }
            },
            "type": "scattergeo"
           }
          ],
          "scattergl": [
           {
            "marker": {
             "colorbar": {
              "outlinewidth": 0,
              "ticks": ""
             }
            },
            "type": "scattergl"
           }
          ],
          "scattermapbox": [
           {
            "marker": {
             "colorbar": {
              "outlinewidth": 0,
              "ticks": ""
             }
            },
            "type": "scattermapbox"
           }
          ],
          "scatterpolar": [
           {
            "marker": {
             "colorbar": {
              "outlinewidth": 0,
              "ticks": ""
             }
            },
            "type": "scatterpolar"
           }
          ],
          "scatterpolargl": [
           {
            "marker": {
             "colorbar": {
              "outlinewidth": 0,
              "ticks": ""
             }
            },
            "type": "scatterpolargl"
           }
          ],
          "scatterternary": [
           {
            "marker": {
             "colorbar": {
              "outlinewidth": 0,
              "ticks": ""
             }
            },
            "type": "scatterternary"
           }
          ],
          "surface": [
           {
            "colorbar": {
             "outlinewidth": 0,
             "ticks": ""
            },
            "colorscale": [
             [
              0,
              "#0d0887"
             ],
             [
              0.1111111111111111,
              "#46039f"
             ],
             [
              0.2222222222222222,
              "#7201a8"
             ],
             [
              0.3333333333333333,
              "#9c179e"
             ],
             [
              0.4444444444444444,
              "#bd3786"
             ],
             [
              0.5555555555555556,
              "#d8576b"
             ],
             [
              0.6666666666666666,
              "#ed7953"
             ],
             [
              0.7777777777777778,
              "#fb9f3a"
             ],
             [
              0.8888888888888888,
              "#fdca26"
             ],
             [
              1,
              "#f0f921"
             ]
            ],
            "type": "surface"
           }
          ],
          "table": [
           {
            "cells": {
             "fill": {
              "color": "#EBF0F8"
             },
             "line": {
              "color": "white"
             }
            },
            "header": {
             "fill": {
              "color": "#C8D4E3"
             },
             "line": {
              "color": "white"
             }
            },
            "type": "table"
           }
          ]
         },
         "layout": {
          "annotationdefaults": {
           "arrowcolor": "#2a3f5f",
           "arrowhead": 0,
           "arrowwidth": 1
          },
          "coloraxis": {
           "colorbar": {
            "outlinewidth": 0,
            "ticks": ""
           }
          },
          "colorscale": {
           "diverging": [
            [
             0,
             "#8e0152"
            ],
            [
             0.1,
             "#c51b7d"
            ],
            [
             0.2,
             "#de77ae"
            ],
            [
             0.3,
             "#f1b6da"
            ],
            [
             0.4,
             "#fde0ef"
            ],
            [
             0.5,
             "#f7f7f7"
            ],
            [
             0.6,
             "#e6f5d0"
            ],
            [
             0.7,
             "#b8e186"
            ],
            [
             0.8,
             "#7fbc41"
            ],
            [
             0.9,
             "#4d9221"
            ],
            [
             1,
             "#276419"
            ]
           ],
           "sequential": [
            [
             0,
             "#0d0887"
            ],
            [
             0.1111111111111111,
             "#46039f"
            ],
            [
             0.2222222222222222,
             "#7201a8"
            ],
            [
             0.3333333333333333,
             "#9c179e"
            ],
            [
             0.4444444444444444,
             "#bd3786"
            ],
            [
             0.5555555555555556,
             "#d8576b"
            ],
            [
             0.6666666666666666,
             "#ed7953"
            ],
            [
             0.7777777777777778,
             "#fb9f3a"
            ],
            [
             0.8888888888888888,
             "#fdca26"
            ],
            [
             1,
             "#f0f921"
            ]
           ],
           "sequentialminus": [
            [
             0,
             "#0d0887"
            ],
            [
             0.1111111111111111,
             "#46039f"
            ],
            [
             0.2222222222222222,
             "#7201a8"
            ],
            [
             0.3333333333333333,
             "#9c179e"
            ],
            [
             0.4444444444444444,
             "#bd3786"
            ],
            [
             0.5555555555555556,
             "#d8576b"
            ],
            [
             0.6666666666666666,
             "#ed7953"
            ],
            [
             0.7777777777777778,
             "#fb9f3a"
            ],
            [
             0.8888888888888888,
             "#fdca26"
            ],
            [
             1,
             "#f0f921"
            ]
           ]
          },
          "colorway": [
           "#636efa",
           "#EF553B",
           "#00cc96",
           "#ab63fa",
           "#FFA15A",
           "#19d3f3",
           "#FF6692",
           "#B6E880",
           "#FF97FF",
           "#FECB52"
          ],
          "font": {
           "color": "#2a3f5f"
          },
          "geo": {
           "bgcolor": "white",
           "lakecolor": "white",
           "landcolor": "#E5ECF6",
           "showlakes": true,
           "showland": true,
           "subunitcolor": "white"
          },
          "hoverlabel": {
           "align": "left"
          },
          "hovermode": "closest",
          "mapbox": {
           "style": "light"
          },
          "paper_bgcolor": "white",
          "plot_bgcolor": "#E5ECF6",
          "polar": {
           "angularaxis": {
            "gridcolor": "white",
            "linecolor": "white",
            "ticks": ""
           },
           "bgcolor": "#E5ECF6",
           "radialaxis": {
            "gridcolor": "white",
            "linecolor": "white",
            "ticks": ""
           }
          },
          "scene": {
           "xaxis": {
            "backgroundcolor": "#E5ECF6",
            "gridcolor": "white",
            "gridwidth": 2,
            "linecolor": "white",
            "showbackground": true,
            "ticks": "",
            "zerolinecolor": "white"
           },
           "yaxis": {
            "backgroundcolor": "#E5ECF6",
            "gridcolor": "white",
            "gridwidth": 2,
            "linecolor": "white",
            "showbackground": true,
            "ticks": "",
            "zerolinecolor": "white"
           },
           "zaxis": {
            "backgroundcolor": "#E5ECF6",
            "gridcolor": "white",
            "gridwidth": 2,
            "linecolor": "white",
            "showbackground": true,
            "ticks": "",
            "zerolinecolor": "white"
           }
          },
          "shapedefaults": {
           "line": {
            "color": "#2a3f5f"
           }
          },
          "ternary": {
           "aaxis": {
            "gridcolor": "white",
            "linecolor": "white",
            "ticks": ""
           },
           "baxis": {
            "gridcolor": "white",
            "linecolor": "white",
            "ticks": ""
           },
           "bgcolor": "#E5ECF6",
           "caxis": {
            "gridcolor": "white",
            "linecolor": "white",
            "ticks": ""
           }
          },
          "title": {
           "x": 0.05
          },
          "xaxis": {
           "automargin": true,
           "gridcolor": "white",
           "linecolor": "white",
           "ticks": "",
           "title": {
            "standoff": 15
           },
           "zerolinecolor": "white",
           "zerolinewidth": 2
          },
          "yaxis": {
           "automargin": true,
           "gridcolor": "white",
           "linecolor": "white",
           "ticks": "",
           "title": {
            "standoff": 15
           },
           "zerolinecolor": "white",
           "zerolinewidth": 2
          }
         }
        },
        "title": {
         "text": "Distance Covered Different Air Carriers vs Month (2019)"
        },
        "xaxis": {
         "anchor": "y",
         "domain": [
          0,
          1
         ],
         "tickmode": "array",
         "ticktext": [
          "Jan",
          "Feb",
          "Mar",
          "Apr",
          "May",
          "Jun",
          "Jul",
          "Aug",
          "Sep",
          "Oct",
          "Nov",
          "Dec"
         ],
         "tickvals": [
          1,
          2,
          3,
          4,
          5,
          6,
          7,
          8,
          9,
          10,
          11,
          12
         ],
         "title": {
          "text": "month"
         }
        },
        "yaxis": {
         "anchor": "x",
         "domain": [
          0,
          1
         ],
         "title": {
          "text": "value"
         }
        }
       }
      },
      "text/html": [
       "<div>                            <div id=\"2297e269-8d13-4ede-84c8-043967bad3d4\" class=\"plotly-graph-div\" style=\"height:525px; width:100%;\"></div>            <script type=\"text/javascript\">                require([\"plotly\"], function(Plotly) {                    window.PLOTLYENV=window.PLOTLYENV || {};                                    if (document.getElementById(\"2297e269-8d13-4ede-84c8-043967bad3d4\")) {                    Plotly.newPlot(                        \"2297e269-8d13-4ede-84c8-043967bad3d4\",                        [{\"hovertemplate\": \"variable=Alaska Airlines Inc.<br>month=%{x}<br>value=%{y}<extra></extra>\", \"legendgroup\": \"Alaska Airlines Inc.\", \"line\": {\"color\": \"#636efa\", \"dash\": \"solid\"}, \"mode\": \"lines\", \"name\": \"Alaska Airlines Inc.\", \"orientation\": \"v\", \"showlegend\": true, \"type\": \"scatter\", \"x\": [1.0, 2.0, 3.0, 4.0, 5.0, 6.0, 7.0, 8.0, 9.0, 10.0, 11.0, 12.0], \"xaxis\": \"x\", \"y\": [548048.0, 530809.0, 542039.0, 535227.0, 525809.0, 533349.0, 529561.0, 536617.0, 513157.0, 501399.0, 537303.0, 522552.0], \"yaxis\": \"y\"}, {\"hovertemplate\": \"variable=Allegiant Air<br>month=%{x}<br>value=%{y}<extra></extra>\", \"legendgroup\": \"Allegiant Air\", \"line\": {\"color\": \"#EF553B\", \"dash\": \"solid\"}, \"mode\": \"lines\", \"name\": \"Allegiant Air\", \"orientation\": \"v\", \"showlegend\": true, \"type\": \"scatter\", \"x\": [1.0, 2.0, 3.0, 4.0, 5.0, 6.0, 7.0, 8.0, 9.0, 10.0, 11.0, 12.0], \"xaxis\": \"x\", \"y\": [546195.0, 567427.0, 585395.0, 608006.0, 614155.0, 696885.0, 673908.0, 653544.0, 382337.0, 510640.0, 598813.0, 616284.0], \"yaxis\": \"y\"}, {\"hovertemplate\": \"variable=American Airlines Inc.<br>month=%{x}<br>value=%{y}<extra></extra>\", \"legendgroup\": \"American Airlines Inc.\", \"line\": {\"color\": \"#00cc96\", \"dash\": \"solid\"}, \"mode\": \"lines\", \"name\": \"American Airlines Inc.\", \"orientation\": \"v\", \"showlegend\": true, \"type\": \"scatter\", \"x\": [1.0, 2.0, 3.0, 4.0, 5.0, 6.0, 7.0, 8.0, 9.0, 10.0, 11.0, 12.0], \"xaxis\": \"x\", \"y\": [806089.0, 809308.0, 797164.0, 802577.0, 811619.0, 844087.0, 822724.0, 814063.0, 786794.0, 775243.0, 804346.0, 853756.0], \"yaxis\": \"y\"}, {\"hovertemplate\": \"variable=Delta Air Lines Inc.<br>month=%{x}<br>value=%{y}<extra></extra>\", \"legendgroup\": \"Delta Air Lines Inc.\", \"line\": {\"color\": \"#ab63fa\", \"dash\": \"solid\"}, \"mode\": \"lines\", \"name\": \"Delta Air Lines Inc.\", \"orientation\": \"v\", \"showlegend\": true, \"type\": \"scatter\", \"x\": [1.0, 2.0, 3.0, 4.0, 5.0, 6.0, 7.0, 8.0, 9.0, 10.0, 11.0, 12.0], \"xaxis\": \"x\", \"y\": [883284.0, 841652.0, 880081.0, 829196.0, 847615.0, 896335.0, 919320.0, 908985.0, 840378.0, 849898.0, 849423.0, 952579.0], \"yaxis\": \"y\"}, {\"hovertemplate\": \"variable=Frontier Airlines Inc.<br>month=%{x}<br>value=%{y}<extra></extra>\", \"legendgroup\": \"Frontier Airlines Inc.\", \"line\": {\"color\": \"#FFA15A\", \"dash\": \"solid\"}, \"mode\": \"lines\", \"name\": \"Frontier Airlines Inc.\", \"orientation\": \"v\", \"showlegend\": true, \"type\": \"scatter\", \"x\": [1.0, 2.0, 3.0, 4.0, 5.0, 6.0, 7.0, 8.0, 9.0, 10.0, 11.0, 12.0], \"xaxis\": \"x\", \"y\": [531608.0, 513024.0, 514126.0, 541912.0, 574129.0, 595495.0, 599028.0, 591405.0, 544383.0, 565128.0, 650525.0, 507393.0], \"yaxis\": \"y\"}, {\"hovertemplate\": \"variable=Hawaiian Airlines Inc.<br>month=%{x}<br>value=%{y}<extra></extra>\", \"legendgroup\": \"Hawaiian Airlines Inc.\", \"line\": {\"color\": \"#19d3f3\", \"dash\": \"solid\"}, \"mode\": \"lines\", \"name\": \"Hawaiian Airlines Inc.\", \"orientation\": \"v\", \"showlegend\": true, \"type\": \"scatter\", \"x\": [1.0, 2.0, 3.0, 4.0, 5.0, 6.0, 7.0, 8.0, 9.0, 10.0, 11.0, 12.0], \"xaxis\": \"x\", \"y\": [124126.0, 124126.0, 124126.0, 139124.0, 139124.0, 139124.0, 139124.0, 139124.0, 139124.0, 139124.0, 139124.0, 144514.0], \"yaxis\": \"y\"}, {\"hovertemplate\": \"variable=JetBlue Airways<br>month=%{x}<br>value=%{y}<extra></extra>\", \"legendgroup\": \"JetBlue Airways\", \"line\": {\"color\": \"#FF6692\", \"dash\": \"solid\"}, \"mode\": \"lines\", \"name\": \"JetBlue Airways\", \"orientation\": \"v\", \"showlegend\": true, \"type\": \"scatter\", \"x\": [1.0, 2.0, 3.0, 4.0, 5.0, 6.0, 7.0, 8.0, 9.0, 10.0, 11.0, 12.0], \"xaxis\": \"x\", \"y\": [428688.0, 425961.0, 426865.0, 419614.0, 411831.0, 423900.0, 424558.0, 422304.0, 412097.0, 420944.0, 405684.0, 412383.0], \"yaxis\": \"y\"}, {\"hovertemplate\": \"variable=Southwest Airlines Co.<br>month=%{x}<br>value=%{y}<extra></extra>\", \"legendgroup\": \"Southwest Airlines Co.\", \"line\": {\"color\": \"#B6E880\", \"dash\": \"solid\"}, \"mode\": \"lines\", \"name\": \"Southwest Airlines Co.\", \"orientation\": \"v\", \"showlegend\": true, \"type\": \"scatter\", \"x\": [1.0, 2.0, 3.0, 4.0, 5.0, 6.0, 7.0, 8.0, 9.0, 10.0, 11.0, 12.0], \"xaxis\": \"x\", \"y\": [1248792.0, 1194081.0, 1282734.0, 1274932.0, 1242272.0, 1329922.0, 1280835.0, 1233916.0, 1179992.0, 1162299.0, 1226388.0, 1258788.0], \"yaxis\": \"y\"}, {\"hovertemplate\": \"variable=Spirit Air Lines<br>month=%{x}<br>value=%{y}<extra></extra>\", \"legendgroup\": \"Spirit Air Lines\", \"line\": {\"color\": \"#FF97FF\", \"dash\": \"solid\"}, \"mode\": \"lines\", \"name\": \"Spirit Air Lines\", \"orientation\": \"v\", \"showlegend\": true, \"type\": \"scatter\", \"x\": [1.0, 2.0, 3.0, 4.0, 5.0, 6.0, 7.0, 8.0, 9.0, 10.0, 11.0, 12.0], \"xaxis\": \"x\", \"y\": [381266.0, 411768.0, 418881.0, 428563.0, 464663.0, 464356.0, 466027.0, 465114.0, 461463.0, 435115.0, 489166.0, 460007.0], \"yaxis\": \"y\"}, {\"hovertemplate\": \"variable=United Air Lines Inc.<br>month=%{x}<br>value=%{y}<extra></extra>\", \"legendgroup\": \"United Air Lines Inc.\", \"line\": {\"color\": \"#FECB52\", \"dash\": \"solid\"}, \"mode\": \"lines\", \"name\": \"United Air Lines Inc.\", \"orientation\": \"v\", \"showlegend\": true, \"type\": \"scatter\", \"x\": [1.0, 2.0, 3.0, 4.0, 5.0, 6.0, 7.0, 8.0, 9.0, 10.0, 11.0, 12.0], \"xaxis\": \"x\", \"y\": [855998.0, 813013.0, 823427.0, 774955.0, 777263.0, 862321.0, 829626.0, 859526.0, 793592.0, 829165.0, 797845.0, 870907.0], \"yaxis\": \"y\"}, {\"hovertemplate\": \"variable=Unnamed: 0<br>month=%{x}<br>value=%{y}<extra></extra>\", \"legendgroup\": \"Unnamed: 0\", \"line\": {\"color\": \"#636efa\", \"dash\": \"solid\"}, \"mode\": \"lines\", \"name\": \"Unnamed: 0\", \"orientation\": \"v\", \"showlegend\": true, \"type\": \"scatter\", \"x\": [1.0, 2.0, 3.0, 4.0, 5.0, 6.0, 7.0, 8.0, 9.0, 10.0, 11.0, 12.0], \"xaxis\": \"x\", \"y\": [0.0, 1.0, 2.0, 3.0, 4.0, 5.0, 6.0, 7.0, 8.0, 9.0, 10.0, 11.0], \"yaxis\": \"y\"}],                        {\"legend\": {\"title\": {\"text\": \"variable\"}, \"tracegroupgap\": 0}, \"template\": {\"data\": {\"bar\": [{\"error_x\": {\"color\": \"#2a3f5f\"}, \"error_y\": {\"color\": \"#2a3f5f\"}, \"marker\": {\"line\": {\"color\": \"#E5ECF6\", \"width\": 0.5}}, \"type\": \"bar\"}], \"barpolar\": [{\"marker\": {\"line\": {\"color\": \"#E5ECF6\", \"width\": 0.5}}, \"type\": \"barpolar\"}], \"carpet\": [{\"aaxis\": {\"endlinecolor\": \"#2a3f5f\", \"gridcolor\": \"white\", \"linecolor\": \"white\", \"minorgridcolor\": \"white\", \"startlinecolor\": \"#2a3f5f\"}, \"baxis\": {\"endlinecolor\": \"#2a3f5f\", \"gridcolor\": \"white\", \"linecolor\": \"white\", \"minorgridcolor\": \"white\", \"startlinecolor\": \"#2a3f5f\"}, \"type\": \"carpet\"}], \"choropleth\": [{\"colorbar\": {\"outlinewidth\": 0, \"ticks\": \"\"}, \"type\": \"choropleth\"}], \"contour\": [{\"colorbar\": {\"outlinewidth\": 0, \"ticks\": \"\"}, \"colorscale\": [[0.0, \"#0d0887\"], [0.1111111111111111, \"#46039f\"], [0.2222222222222222, \"#7201a8\"], [0.3333333333333333, \"#9c179e\"], [0.4444444444444444, \"#bd3786\"], [0.5555555555555556, \"#d8576b\"], [0.6666666666666666, \"#ed7953\"], [0.7777777777777778, \"#fb9f3a\"], [0.8888888888888888, \"#fdca26\"], [1.0, \"#f0f921\"]], \"type\": \"contour\"}], \"contourcarpet\": [{\"colorbar\": {\"outlinewidth\": 0, \"ticks\": \"\"}, \"type\": \"contourcarpet\"}], \"heatmap\": [{\"colorbar\": {\"outlinewidth\": 0, \"ticks\": \"\"}, \"colorscale\": [[0.0, \"#0d0887\"], [0.1111111111111111, \"#46039f\"], [0.2222222222222222, \"#7201a8\"], [0.3333333333333333, \"#9c179e\"], [0.4444444444444444, \"#bd3786\"], [0.5555555555555556, \"#d8576b\"], [0.6666666666666666, \"#ed7953\"], [0.7777777777777778, \"#fb9f3a\"], [0.8888888888888888, \"#fdca26\"], [1.0, \"#f0f921\"]], \"type\": \"heatmap\"}], \"heatmapgl\": [{\"colorbar\": {\"outlinewidth\": 0, \"ticks\": \"\"}, \"colorscale\": [[0.0, \"#0d0887\"], [0.1111111111111111, \"#46039f\"], [0.2222222222222222, \"#7201a8\"], [0.3333333333333333, \"#9c179e\"], [0.4444444444444444, \"#bd3786\"], [0.5555555555555556, \"#d8576b\"], [0.6666666666666666, \"#ed7953\"], [0.7777777777777778, \"#fb9f3a\"], [0.8888888888888888, \"#fdca26\"], [1.0, \"#f0f921\"]], \"type\": \"heatmapgl\"}], \"histogram\": [{\"marker\": {\"colorbar\": {\"outlinewidth\": 0, \"ticks\": \"\"}}, \"type\": \"histogram\"}], \"histogram2d\": [{\"colorbar\": {\"outlinewidth\": 0, \"ticks\": \"\"}, \"colorscale\": [[0.0, \"#0d0887\"], [0.1111111111111111, \"#46039f\"], [0.2222222222222222, \"#7201a8\"], [0.3333333333333333, \"#9c179e\"], [0.4444444444444444, \"#bd3786\"], [0.5555555555555556, \"#d8576b\"], [0.6666666666666666, \"#ed7953\"], [0.7777777777777778, \"#fb9f3a\"], [0.8888888888888888, \"#fdca26\"], [1.0, \"#f0f921\"]], \"type\": \"histogram2d\"}], \"histogram2dcontour\": [{\"colorbar\": {\"outlinewidth\": 0, \"ticks\": \"\"}, \"colorscale\": [[0.0, \"#0d0887\"], [0.1111111111111111, \"#46039f\"], [0.2222222222222222, \"#7201a8\"], [0.3333333333333333, \"#9c179e\"], [0.4444444444444444, \"#bd3786\"], [0.5555555555555556, \"#d8576b\"], [0.6666666666666666, \"#ed7953\"], [0.7777777777777778, \"#fb9f3a\"], [0.8888888888888888, \"#fdca26\"], [1.0, \"#f0f921\"]], \"type\": \"histogram2dcontour\"}], \"mesh3d\": [{\"colorbar\": {\"outlinewidth\": 0, \"ticks\": \"\"}, \"type\": \"mesh3d\"}], \"parcoords\": [{\"line\": {\"colorbar\": {\"outlinewidth\": 0, \"ticks\": \"\"}}, \"type\": \"parcoords\"}], \"pie\": [{\"automargin\": true, \"type\": \"pie\"}], \"scatter\": [{\"marker\": {\"colorbar\": {\"outlinewidth\": 0, \"ticks\": \"\"}}, \"type\": \"scatter\"}], \"scatter3d\": [{\"line\": {\"colorbar\": {\"outlinewidth\": 0, \"ticks\": \"\"}}, \"marker\": {\"colorbar\": {\"outlinewidth\": 0, \"ticks\": \"\"}}, \"type\": \"scatter3d\"}], \"scattercarpet\": [{\"marker\": {\"colorbar\": {\"outlinewidth\": 0, \"ticks\": \"\"}}, \"type\": \"scattercarpet\"}], \"scattergeo\": [{\"marker\": {\"colorbar\": {\"outlinewidth\": 0, \"ticks\": \"\"}}, \"type\": \"scattergeo\"}], \"scattergl\": [{\"marker\": {\"colorbar\": {\"outlinewidth\": 0, \"ticks\": \"\"}}, \"type\": \"scattergl\"}], \"scattermapbox\": [{\"marker\": {\"colorbar\": {\"outlinewidth\": 0, \"ticks\": \"\"}}, \"type\": \"scattermapbox\"}], \"scatterpolar\": [{\"marker\": {\"colorbar\": {\"outlinewidth\": 0, \"ticks\": \"\"}}, \"type\": \"scatterpolar\"}], \"scatterpolargl\": [{\"marker\": {\"colorbar\": {\"outlinewidth\": 0, \"ticks\": \"\"}}, \"type\": \"scatterpolargl\"}], \"scatterternary\": [{\"marker\": {\"colorbar\": {\"outlinewidth\": 0, \"ticks\": \"\"}}, \"type\": \"scatterternary\"}], \"surface\": [{\"colorbar\": {\"outlinewidth\": 0, \"ticks\": \"\"}, \"colorscale\": [[0.0, \"#0d0887\"], [0.1111111111111111, \"#46039f\"], [0.2222222222222222, \"#7201a8\"], [0.3333333333333333, \"#9c179e\"], [0.4444444444444444, \"#bd3786\"], [0.5555555555555556, \"#d8576b\"], [0.6666666666666666, \"#ed7953\"], [0.7777777777777778, \"#fb9f3a\"], [0.8888888888888888, \"#fdca26\"], [1.0, \"#f0f921\"]], \"type\": \"surface\"}], \"table\": [{\"cells\": {\"fill\": {\"color\": \"#EBF0F8\"}, \"line\": {\"color\": \"white\"}}, \"header\": {\"fill\": {\"color\": \"#C8D4E3\"}, \"line\": {\"color\": \"white\"}}, \"type\": \"table\"}]}, \"layout\": {\"annotationdefaults\": {\"arrowcolor\": \"#2a3f5f\", \"arrowhead\": 0, \"arrowwidth\": 1}, \"coloraxis\": {\"colorbar\": {\"outlinewidth\": 0, \"ticks\": \"\"}}, \"colorscale\": {\"diverging\": [[0, \"#8e0152\"], [0.1, \"#c51b7d\"], [0.2, \"#de77ae\"], [0.3, \"#f1b6da\"], [0.4, \"#fde0ef\"], [0.5, \"#f7f7f7\"], [0.6, \"#e6f5d0\"], [0.7, \"#b8e186\"], [0.8, \"#7fbc41\"], [0.9, \"#4d9221\"], [1, \"#276419\"]], \"sequential\": [[0.0, \"#0d0887\"], [0.1111111111111111, \"#46039f\"], [0.2222222222222222, \"#7201a8\"], [0.3333333333333333, \"#9c179e\"], [0.4444444444444444, \"#bd3786\"], [0.5555555555555556, \"#d8576b\"], [0.6666666666666666, \"#ed7953\"], [0.7777777777777778, \"#fb9f3a\"], [0.8888888888888888, \"#fdca26\"], [1.0, \"#f0f921\"]], \"sequentialminus\": [[0.0, \"#0d0887\"], [0.1111111111111111, \"#46039f\"], [0.2222222222222222, \"#7201a8\"], [0.3333333333333333, \"#9c179e\"], [0.4444444444444444, \"#bd3786\"], [0.5555555555555556, \"#d8576b\"], [0.6666666666666666, \"#ed7953\"], [0.7777777777777778, \"#fb9f3a\"], [0.8888888888888888, \"#fdca26\"], [1.0, \"#f0f921\"]]}, \"colorway\": [\"#636efa\", \"#EF553B\", \"#00cc96\", \"#ab63fa\", \"#FFA15A\", \"#19d3f3\", \"#FF6692\", \"#B6E880\", \"#FF97FF\", \"#FECB52\"], \"font\": {\"color\": \"#2a3f5f\"}, \"geo\": {\"bgcolor\": \"white\", \"lakecolor\": \"white\", \"landcolor\": \"#E5ECF6\", \"showlakes\": true, \"showland\": true, \"subunitcolor\": \"white\"}, \"hoverlabel\": {\"align\": \"left\"}, \"hovermode\": \"closest\", \"mapbox\": {\"style\": \"light\"}, \"paper_bgcolor\": \"white\", \"plot_bgcolor\": \"#E5ECF6\", \"polar\": {\"angularaxis\": {\"gridcolor\": \"white\", \"linecolor\": \"white\", \"ticks\": \"\"}, \"bgcolor\": \"#E5ECF6\", \"radialaxis\": {\"gridcolor\": \"white\", \"linecolor\": \"white\", \"ticks\": \"\"}}, \"scene\": {\"xaxis\": {\"backgroundcolor\": \"#E5ECF6\", \"gridcolor\": \"white\", \"gridwidth\": 2, \"linecolor\": \"white\", \"showbackground\": true, \"ticks\": \"\", \"zerolinecolor\": \"white\"}, \"yaxis\": {\"backgroundcolor\": \"#E5ECF6\", \"gridcolor\": \"white\", \"gridwidth\": 2, \"linecolor\": \"white\", \"showbackground\": true, \"ticks\": \"\", \"zerolinecolor\": \"white\"}, \"zaxis\": {\"backgroundcolor\": \"#E5ECF6\", \"gridcolor\": \"white\", \"gridwidth\": 2, \"linecolor\": \"white\", \"showbackground\": true, \"ticks\": \"\", \"zerolinecolor\": \"white\"}}, \"shapedefaults\": {\"line\": {\"color\": \"#2a3f5f\"}}, \"ternary\": {\"aaxis\": {\"gridcolor\": \"white\", \"linecolor\": \"white\", \"ticks\": \"\"}, \"baxis\": {\"gridcolor\": \"white\", \"linecolor\": \"white\", \"ticks\": \"\"}, \"bgcolor\": \"#E5ECF6\", \"caxis\": {\"gridcolor\": \"white\", \"linecolor\": \"white\", \"ticks\": \"\"}}, \"title\": {\"x\": 0.05}, \"xaxis\": {\"automargin\": true, \"gridcolor\": \"white\", \"linecolor\": \"white\", \"ticks\": \"\", \"title\": {\"standoff\": 15}, \"zerolinecolor\": \"white\", \"zerolinewidth\": 2}, \"yaxis\": {\"automargin\": true, \"gridcolor\": \"white\", \"linecolor\": \"white\", \"ticks\": \"\", \"title\": {\"standoff\": 15}, \"zerolinecolor\": \"white\", \"zerolinewidth\": 2}}}, \"title\": {\"text\": \"Distance Covered Different Air Carriers vs Month (2019)\"}, \"xaxis\": {\"anchor\": \"y\", \"domain\": [0.0, 1.0], \"tickmode\": \"array\", \"ticktext\": [\"Jan\", \"Feb\", \"Mar\", \"Apr\", \"May\", \"Jun\", \"Jul\", \"Aug\", \"Sep\", \"Oct\", \"Nov\", \"Dec\"], \"tickvals\": [1, 2, 3, 4, 5, 6, 7, 8, 9, 10, 11, 12], \"title\": {\"text\": \"month\"}}, \"yaxis\": {\"anchor\": \"x\", \"domain\": [0.0, 1.0], \"title\": {\"text\": \"value\"}}},                        {\"responsive\": true}                    ).then(function(){\n",
       "                            \n",
       "var gd = document.getElementById('2297e269-8d13-4ede-84c8-043967bad3d4');\n",
       "var x = new MutationObserver(function (mutations, observer) {{\n",
       "        var display = window.getComputedStyle(gd).display;\n",
       "        if (!display || display === 'none') {{\n",
       "            console.log([gd, 'removed!']);\n",
       "            Plotly.purge(gd);\n",
       "            observer.disconnect();\n",
       "        }}\n",
       "}});\n",
       "\n",
       "// Listen for the removal of the full notebook cells\n",
       "var notebookContainer = gd.closest('#notebook-container');\n",
       "if (notebookContainer) {{\n",
       "    x.observe(notebookContainer, {childList: true});\n",
       "}}\n",
       "\n",
       "// Listen for the clearing of the current output cell\n",
       "var outputEl = gd.closest('.output');\n",
       "if (outputEl) {{\n",
       "    x.observe(outputEl, {childList: true});\n",
       "}}\n",
       "\n",
       "                        })                };                });            </script>        </div>"
      ]
     },
     "metadata": {},
     "output_type": "display_data"
    }
   ],
   "source": [
    "fig5 = px.line(final_carrier_distance2019, x=\"month\", y=sorted(final_carrier_distance2019.columns),\n",
    "        title=\"Distance Covered Different Air Carriers vs Month (2019)\")\n",
    "fig5.update_layout(xaxis=dict(tickmode = \"array\",\n",
    "                        tickvals = [i for i in range(1, 13)],\n",
    "                        ticktext = [\"Jan\", \"Feb\", \"Mar\",\n",
    "                                    \"Apr\", \"May\", \"Jun\",\n",
    "                                    \"Jul\", \"Aug\", \"Sep\",\n",
    "                                    \"Oct\", \"Nov\", \"Dec\"]))\n",
    "\n",
    "fig5.show()"
   ]
  },
  {
   "cell_type": "code",
   "execution_count": 240,
   "metadata": {},
   "outputs": [
    {
     "data": {
      "text/plain": [
       "'https://plotly.com/~yonsa/32/'"
      ]
     },
     "execution_count": 240,
     "metadata": {},
     "output_type": "execute_result"
    }
   ],
   "source": [
    "cs.plot(fig5, filename=\"distance_covered_air_carrier_2019\")"
   ]
  },
  {
   "cell_type": "code",
   "execution_count": 230,
   "metadata": {},
   "outputs": [],
   "source": [
    "final_carrier_distance2019.to_csv(\"final_carrier_distance2019.csv\")\n",
    "final_carrier_distance2018.to_csv(\"final_carrier_distance2018.csv\")"
   ]
  },
  {
   "cell_type": "code",
   "execution_count": 223,
   "metadata": {},
   "outputs": [],
   "source": [
    "import plotly.express as px"
   ]
  },
  {
   "cell_type": "code",
   "execution_count": 224,
   "metadata": {},
   "outputs": [
    {
     "ename": "NameError",
     "evalue": "name 'final_carrier_distance' is not defined",
     "output_type": "error",
     "traceback": [
      "\u001b[0;31m---------------------------------------------------------------------------\u001b[0m",
      "\u001b[0;31mNameError\u001b[0m                                 Traceback (most recent call last)",
      "\u001b[0;32m<ipython-input-224-07b0089de6bf>\u001b[0m in \u001b[0;36m<module>\u001b[0;34m\u001b[0m\n\u001b[0;32m----> 1\u001b[0;31m fig = px.line(final_carrier_distance, x=\"month\", y=['Alaska Airlines Inc.', 'Allegiant Air', 'American Airlines Inc.',\n\u001b[0m\u001b[1;32m      2\u001b[0m        \u001b[0;34m'Delta Air Lines Inc.'\u001b[0m\u001b[0;34m,\u001b[0m \u001b[0;34m'Frontier Airlines Inc.'\u001b[0m\u001b[0;34m,\u001b[0m\u001b[0;34m\u001b[0m\u001b[0;34m\u001b[0m\u001b[0m\n\u001b[1;32m      3\u001b[0m        \u001b[0;34m'Hawaiian Airlines Inc.'\u001b[0m\u001b[0;34m,\u001b[0m \u001b[0;34m'JetBlue Airways'\u001b[0m\u001b[0;34m,\u001b[0m\u001b[0;34m\u001b[0m\u001b[0;34m\u001b[0m\u001b[0m\n\u001b[1;32m      4\u001b[0m        \u001b[0;34m'Southwest Airlines Co.'\u001b[0m\u001b[0;34m,\u001b[0m \u001b[0;34m'Spirit Air Lines'\u001b[0m\u001b[0;34m,\u001b[0m\u001b[0;34m\u001b[0m\u001b[0;34m\u001b[0m\u001b[0m\n\u001b[1;32m      5\u001b[0m        'United Air Lines Inc.', 'Virgin America'],\n",
      "\u001b[0;31mNameError\u001b[0m: name 'final_carrier_distance' is not defined"
     ]
    }
   ],
   "source": [
    "fig = px.line(final_carrier_distance, x=\"month\", y=['Alaska Airlines Inc.', 'Allegiant Air', 'American Airlines Inc.',\n",
    "       'Delta Air Lines Inc.', 'Frontier Airlines Inc.',\n",
    "       'Hawaiian Airlines Inc.', 'JetBlue Airways',\n",
    "       'Southwest Airlines Co.', 'Spirit Air Lines',\n",
    "       'United Air Lines Inc.', 'Virgin America'],\n",
    "        title=\"Distance Covered Different Air Carriers vs Month\")\n",
    "fig.update_layout(xaxis={\"tickmode\":\"linear\"})\n",
    "\n",
    "fig.show()"
   ]
  },
  {
   "cell_type": "code",
   "execution_count": 409,
   "metadata": {},
   "outputs": [
    {
     "data": {
      "text/plain": [
       "array(['Alaska Airlines Inc.', 'Allegiant Air', 'American Airlines Inc.',\n",
       "       'Delta Air Lines Inc.', 'Frontier Airlines Inc.',\n",
       "       'Hawaiian Airlines Inc.', 'JetBlue Airways',\n",
       "       'Southwest Airlines Co.', 'Spirit Air Lines',\n",
       "       'United Air Lines Inc.', 'Virgin America'], dtype=object)"
      ]
     },
     "execution_count": 409,
     "metadata": {},
     "output_type": "execute_result"
    }
   ],
   "source": [
    "carrier_names"
   ]
  },
  {
   "cell_type": "code",
   "execution_count": null,
   "metadata": {},
   "outputs": [],
   "source": [
    "##Find out number of passengers that were carried by different air carriers"
   ]
  },
  {
   "cell_type": "code",
   "execution_count": 76,
   "metadata": {},
   "outputs": [
    {
     "data": {
      "text/html": [
       "<div>\n",
       "<style scoped>\n",
       "    .dataframe tbody tr th:only-of-type {\n",
       "        vertical-align: middle;\n",
       "    }\n",
       "\n",
       "    .dataframe tbody tr th {\n",
       "        vertical-align: top;\n",
       "    }\n",
       "\n",
       "    .dataframe thead th {\n",
       "        text-align: right;\n",
       "    }\n",
       "</style>\n",
       "<table border=\"1\" class=\"dataframe\">\n",
       "  <thead>\n",
       "    <tr style=\"text-align: right;\">\n",
       "      <th></th>\n",
       "      <th>mkt_unique_carrier</th>\n",
       "      <th>carrier_name</th>\n",
       "      <th>month</th>\n",
       "      <th>origin</th>\n",
       "      <th>dest</th>\n",
       "      <th>distance</th>\n",
       "      <th>year</th>\n",
       "      <th>origin_airport_id</th>\n",
       "      <th>dest_airport_id</th>\n",
       "      <th>crs_dep_time</th>\n",
       "      <th>...</th>\n",
       "      <th>crs_arr_time</th>\n",
       "      <th>arr_time</th>\n",
       "      <th>arr_delay</th>\n",
       "      <th>carrier_delay</th>\n",
       "      <th>weather_delay</th>\n",
       "      <th>nas_delay</th>\n",
       "      <th>security_delay</th>\n",
       "      <th>late_aircraft_delay</th>\n",
       "      <th>seats</th>\n",
       "      <th>passengers</th>\n",
       "    </tr>\n",
       "  </thead>\n",
       "  <tbody>\n",
       "    <tr>\n",
       "      <th>0</th>\n",
       "      <td>AA</td>\n",
       "      <td>American Airlines Inc.</td>\n",
       "      <td>1.0</td>\n",
       "      <td>ABQ</td>\n",
       "      <td>DFW</td>\n",
       "      <td>569.0</td>\n",
       "      <td>2018.0</td>\n",
       "      <td>10140</td>\n",
       "      <td>11298</td>\n",
       "      <td>1209.235294</td>\n",
       "      <td>...</td>\n",
       "      <td>1494.323529</td>\n",
       "      <td>1534.647059</td>\n",
       "      <td>25.029412</td>\n",
       "      <td>12.375000</td>\n",
       "      <td>0.000000</td>\n",
       "      <td>8.437500</td>\n",
       "      <td>0.0</td>\n",
       "      <td>27.250000</td>\n",
       "      <td>17280.0</td>\n",
       "      <td>12129.0</td>\n",
       "    </tr>\n",
       "    <tr>\n",
       "      <th>1</th>\n",
       "      <td>AA</td>\n",
       "      <td>American Airlines Inc.</td>\n",
       "      <td>1.0</td>\n",
       "      <td>ABQ</td>\n",
       "      <td>DFW</td>\n",
       "      <td>569.0</td>\n",
       "      <td>2019.0</td>\n",
       "      <td>10140</td>\n",
       "      <td>11298</td>\n",
       "      <td>1119.333333</td>\n",
       "      <td>...</td>\n",
       "      <td>1384.757576</td>\n",
       "      <td>1399.606061</td>\n",
       "      <td>26.363636</td>\n",
       "      <td>5.090909</td>\n",
       "      <td>2.060606</td>\n",
       "      <td>17.696970</td>\n",
       "      <td>0.0</td>\n",
       "      <td>22.060606</td>\n",
       "      <td>11940.0</td>\n",
       "      <td>8728.5</td>\n",
       "    </tr>\n",
       "    <tr>\n",
       "      <th>2</th>\n",
       "      <td>AA</td>\n",
       "      <td>American Airlines Inc.</td>\n",
       "      <td>1.0</td>\n",
       "      <td>ABQ</td>\n",
       "      <td>ORD</td>\n",
       "      <td>1118.0</td>\n",
       "      <td>2018.0</td>\n",
       "      <td>10140</td>\n",
       "      <td>13930</td>\n",
       "      <td>1083.235294</td>\n",
       "      <td>...</td>\n",
       "      <td>1461.764706</td>\n",
       "      <td>1499.647059</td>\n",
       "      <td>21.411765</td>\n",
       "      <td>27.428571</td>\n",
       "      <td>6.428571</td>\n",
       "      <td>11.142857</td>\n",
       "      <td>0.0</td>\n",
       "      <td>0.000000</td>\n",
       "      <td>4800.0</td>\n",
       "      <td>2641.0</td>\n",
       "    </tr>\n",
       "    <tr>\n",
       "      <th>3</th>\n",
       "      <td>AA</td>\n",
       "      <td>American Airlines Inc.</td>\n",
       "      <td>1.0</td>\n",
       "      <td>ABQ</td>\n",
       "      <td>ORD</td>\n",
       "      <td>1118.0</td>\n",
       "      <td>2019.0</td>\n",
       "      <td>10140</td>\n",
       "      <td>13930</td>\n",
       "      <td>976.842105</td>\n",
       "      <td>...</td>\n",
       "      <td>1372.473684</td>\n",
       "      <td>1440.842105</td>\n",
       "      <td>34.684211</td>\n",
       "      <td>8.454545</td>\n",
       "      <td>7.363636</td>\n",
       "      <td>25.090909</td>\n",
       "      <td>0.0</td>\n",
       "      <td>16.818182</td>\n",
       "      <td>4184.0</td>\n",
       "      <td>1418.0</td>\n",
       "    </tr>\n",
       "    <tr>\n",
       "      <th>4</th>\n",
       "      <td>AA</td>\n",
       "      <td>American Airlines Inc.</td>\n",
       "      <td>1.0</td>\n",
       "      <td>ALB</td>\n",
       "      <td>CLT</td>\n",
       "      <td>646.0</td>\n",
       "      <td>2018.0</td>\n",
       "      <td>10257</td>\n",
       "      <td>11057</td>\n",
       "      <td>1190.653846</td>\n",
       "      <td>...</td>\n",
       "      <td>1430.461538</td>\n",
       "      <td>1462.923077</td>\n",
       "      <td>21.692308</td>\n",
       "      <td>16.666667</td>\n",
       "      <td>0.666667</td>\n",
       "      <td>15.833333</td>\n",
       "      <td>0.0</td>\n",
       "      <td>7.083333</td>\n",
       "      <td>4415.0</td>\n",
       "      <td>3783.5</td>\n",
       "    </tr>\n",
       "    <tr>\n",
       "      <th>...</th>\n",
       "      <td>...</td>\n",
       "      <td>...</td>\n",
       "      <td>...</td>\n",
       "      <td>...</td>\n",
       "      <td>...</td>\n",
       "      <td>...</td>\n",
       "      <td>...</td>\n",
       "      <td>...</td>\n",
       "      <td>...</td>\n",
       "      <td>...</td>\n",
       "      <td>...</td>\n",
       "      <td>...</td>\n",
       "      <td>...</td>\n",
       "      <td>...</td>\n",
       "      <td>...</td>\n",
       "      <td>...</td>\n",
       "      <td>...</td>\n",
       "      <td>...</td>\n",
       "      <td>...</td>\n",
       "      <td>...</td>\n",
       "      <td>...</td>\n",
       "    </tr>\n",
       "    <tr>\n",
       "      <th>141995</th>\n",
       "      <td>WN</td>\n",
       "      <td>Southwest Airlines Co.</td>\n",
       "      <td>12.0</td>\n",
       "      <td>TUS</td>\n",
       "      <td>OAK</td>\n",
       "      <td>747.0</td>\n",
       "      <td>2019.0</td>\n",
       "      <td>15376</td>\n",
       "      <td>13796</td>\n",
       "      <td>1235.000000</td>\n",
       "      <td>...</td>\n",
       "      <td>1355.000000</td>\n",
       "      <td>1403.000000</td>\n",
       "      <td>8.000000</td>\n",
       "      <td>NaN</td>\n",
       "      <td>NaN</td>\n",
       "      <td>NaN</td>\n",
       "      <td>NaN</td>\n",
       "      <td>NaN</td>\n",
       "      <td>715.0</td>\n",
       "      <td>674.0</td>\n",
       "    </tr>\n",
       "    <tr>\n",
       "      <th>141996</th>\n",
       "      <td>WN</td>\n",
       "      <td>Southwest Airlines Co.</td>\n",
       "      <td>12.0</td>\n",
       "      <td>TUS</td>\n",
       "      <td>SAN</td>\n",
       "      <td>368.0</td>\n",
       "      <td>2018.0</td>\n",
       "      <td>15376</td>\n",
       "      <td>14679</td>\n",
       "      <td>1418.333333</td>\n",
       "      <td>...</td>\n",
       "      <td>1447.619048</td>\n",
       "      <td>1484.571429</td>\n",
       "      <td>23.619048</td>\n",
       "      <td>7.545455</td>\n",
       "      <td>0.000000</td>\n",
       "      <td>3.181818</td>\n",
       "      <td>0.0</td>\n",
       "      <td>27.454545</td>\n",
       "      <td>9867.0</td>\n",
       "      <td>7432.0</td>\n",
       "    </tr>\n",
       "    <tr>\n",
       "      <th>141997</th>\n",
       "      <td>WN</td>\n",
       "      <td>Southwest Airlines Co.</td>\n",
       "      <td>12.0</td>\n",
       "      <td>TUS</td>\n",
       "      <td>SAN</td>\n",
       "      <td>368.0</td>\n",
       "      <td>2019.0</td>\n",
       "      <td>15376</td>\n",
       "      <td>14679</td>\n",
       "      <td>1354.250000</td>\n",
       "      <td>...</td>\n",
       "      <td>1389.000000</td>\n",
       "      <td>1440.450000</td>\n",
       "      <td>27.450000</td>\n",
       "      <td>14.500000</td>\n",
       "      <td>0.000000</td>\n",
       "      <td>2.000000</td>\n",
       "      <td>1.6</td>\n",
       "      <td>29.400000</td>\n",
       "      <td>4624.0</td>\n",
       "      <td>3510.0</td>\n",
       "    </tr>\n",
       "    <tr>\n",
       "      <th>141998</th>\n",
       "      <td>WN</td>\n",
       "      <td>Southwest Airlines Co.</td>\n",
       "      <td>12.0</td>\n",
       "      <td>TUS</td>\n",
       "      <td>SJC</td>\n",
       "      <td>722.0</td>\n",
       "      <td>2018.0</td>\n",
       "      <td>15376</td>\n",
       "      <td>14831</td>\n",
       "      <td>1215.000000</td>\n",
       "      <td>...</td>\n",
       "      <td>1350.000000</td>\n",
       "      <td>1447.000000</td>\n",
       "      <td>57.000000</td>\n",
       "      <td>0.000000</td>\n",
       "      <td>0.000000</td>\n",
       "      <td>0.000000</td>\n",
       "      <td>0.0</td>\n",
       "      <td>57.000000</td>\n",
       "      <td>2018.0</td>\n",
       "      <td>1271.0</td>\n",
       "    </tr>\n",
       "    <tr>\n",
       "      <th>141999</th>\n",
       "      <td>WN</td>\n",
       "      <td>Southwest Airlines Co.</td>\n",
       "      <td>12.0</td>\n",
       "      <td>TUS</td>\n",
       "      <td>SJC</td>\n",
       "      <td>722.0</td>\n",
       "      <td>2019.0</td>\n",
       "      <td>15376</td>\n",
       "      <td>14831</td>\n",
       "      <td>1465.000000</td>\n",
       "      <td>...</td>\n",
       "      <td>1575.000000</td>\n",
       "      <td>1615.800000</td>\n",
       "      <td>28.800000</td>\n",
       "      <td>8.400000</td>\n",
       "      <td>0.000000</td>\n",
       "      <td>0.000000</td>\n",
       "      <td>0.0</td>\n",
       "      <td>43.400000</td>\n",
       "      <td>1907.0</td>\n",
       "      <td>1592.0</td>\n",
       "    </tr>\n",
       "  </tbody>\n",
       "</table>\n",
       "<p>142000 rows × 26 columns</p>\n",
       "</div>"
      ],
      "text/plain": [
       "       mkt_unique_carrier            carrier_name  month origin dest  \\\n",
       "0                      AA  American Airlines Inc.    1.0    ABQ  DFW   \n",
       "1                      AA  American Airlines Inc.    1.0    ABQ  DFW   \n",
       "2                      AA  American Airlines Inc.    1.0    ABQ  ORD   \n",
       "3                      AA  American Airlines Inc.    1.0    ABQ  ORD   \n",
       "4                      AA  American Airlines Inc.    1.0    ALB  CLT   \n",
       "...                   ...                     ...    ...    ...  ...   \n",
       "141995                 WN  Southwest Airlines Co.   12.0    TUS  OAK   \n",
       "141996                 WN  Southwest Airlines Co.   12.0    TUS  SAN   \n",
       "141997                 WN  Southwest Airlines Co.   12.0    TUS  SAN   \n",
       "141998                 WN  Southwest Airlines Co.   12.0    TUS  SJC   \n",
       "141999                 WN  Southwest Airlines Co.   12.0    TUS  SJC   \n",
       "\n",
       "        distance    year  origin_airport_id  dest_airport_id  crs_dep_time  \\\n",
       "0          569.0  2018.0              10140            11298   1209.235294   \n",
       "1          569.0  2019.0              10140            11298   1119.333333   \n",
       "2         1118.0  2018.0              10140            13930   1083.235294   \n",
       "3         1118.0  2019.0              10140            13930    976.842105   \n",
       "4          646.0  2018.0              10257            11057   1190.653846   \n",
       "...          ...     ...                ...              ...           ...   \n",
       "141995     747.0  2019.0              15376            13796   1235.000000   \n",
       "141996     368.0  2018.0              15376            14679   1418.333333   \n",
       "141997     368.0  2019.0              15376            14679   1354.250000   \n",
       "141998     722.0  2018.0              15376            14831   1215.000000   \n",
       "141999     722.0  2019.0              15376            14831   1465.000000   \n",
       "\n",
       "        ...  crs_arr_time     arr_time  arr_delay  carrier_delay  \\\n",
       "0       ...   1494.323529  1534.647059  25.029412      12.375000   \n",
       "1       ...   1384.757576  1399.606061  26.363636       5.090909   \n",
       "2       ...   1461.764706  1499.647059  21.411765      27.428571   \n",
       "3       ...   1372.473684  1440.842105  34.684211       8.454545   \n",
       "4       ...   1430.461538  1462.923077  21.692308      16.666667   \n",
       "...     ...           ...          ...        ...            ...   \n",
       "141995  ...   1355.000000  1403.000000   8.000000            NaN   \n",
       "141996  ...   1447.619048  1484.571429  23.619048       7.545455   \n",
       "141997  ...   1389.000000  1440.450000  27.450000      14.500000   \n",
       "141998  ...   1350.000000  1447.000000  57.000000       0.000000   \n",
       "141999  ...   1575.000000  1615.800000  28.800000       8.400000   \n",
       "\n",
       "        weather_delay  nas_delay  security_delay  late_aircraft_delay  \\\n",
       "0            0.000000   8.437500             0.0            27.250000   \n",
       "1            2.060606  17.696970             0.0            22.060606   \n",
       "2            6.428571  11.142857             0.0             0.000000   \n",
       "3            7.363636  25.090909             0.0            16.818182   \n",
       "4            0.666667  15.833333             0.0             7.083333   \n",
       "...               ...        ...             ...                  ...   \n",
       "141995            NaN        NaN             NaN                  NaN   \n",
       "141996       0.000000   3.181818             0.0            27.454545   \n",
       "141997       0.000000   2.000000             1.6            29.400000   \n",
       "141998       0.000000   0.000000             0.0            57.000000   \n",
       "141999       0.000000   0.000000             0.0            43.400000   \n",
       "\n",
       "          seats  passengers  \n",
       "0       17280.0     12129.0  \n",
       "1       11940.0      8728.5  \n",
       "2        4800.0      2641.0  \n",
       "3        4184.0      1418.0  \n",
       "4        4415.0      3783.5  \n",
       "...         ...         ...  \n",
       "141995    715.0       674.0  \n",
       "141996   9867.0      7432.0  \n",
       "141997   4624.0      3510.0  \n",
       "141998   2018.0      1271.0  \n",
       "141999   1907.0      1592.0  \n",
       "\n",
       "[142000 rows x 26 columns]"
      ]
     },
     "execution_count": 76,
     "metadata": {},
     "output_type": "execute_result"
    }
   ],
   "source": [
    "df_keep_names_positive"
   ]
  },
  {
   "cell_type": "code",
   "execution_count": 124,
   "metadata": {},
   "outputs": [],
   "source": [
    "get_passengers = df_keep_names_positive.groupby(['carrier_name', 'year']).sum().copy()"
   ]
  },
  {
   "cell_type": "code",
   "execution_count": 125,
   "metadata": {},
   "outputs": [],
   "source": [
    "get_passengers = get_passengers.reset_index()"
   ]
  },
  {
   "cell_type": "code",
   "execution_count": 126,
   "metadata": {},
   "outputs": [
    {
     "data": {
      "text/html": [
       "<div>\n",
       "<style scoped>\n",
       "    .dataframe tbody tr th:only-of-type {\n",
       "        vertical-align: middle;\n",
       "    }\n",
       "\n",
       "    .dataframe tbody tr th {\n",
       "        vertical-align: top;\n",
       "    }\n",
       "\n",
       "    .dataframe thead th {\n",
       "        text-align: right;\n",
       "    }\n",
       "</style>\n",
       "<table border=\"1\" class=\"dataframe\">\n",
       "  <thead>\n",
       "    <tr style=\"text-align: right;\">\n",
       "      <th></th>\n",
       "      <th>carrier_name</th>\n",
       "      <th>year</th>\n",
       "      <th>month</th>\n",
       "      <th>distance</th>\n",
       "      <th>origin_airport_id</th>\n",
       "      <th>dest_airport_id</th>\n",
       "      <th>crs_dep_time</th>\n",
       "      <th>dep_time</th>\n",
       "      <th>dep_delay</th>\n",
       "      <th>taxi_out</th>\n",
       "      <th>...</th>\n",
       "      <th>crs_arr_time</th>\n",
       "      <th>arr_time</th>\n",
       "      <th>arr_delay</th>\n",
       "      <th>carrier_delay</th>\n",
       "      <th>weather_delay</th>\n",
       "      <th>nas_delay</th>\n",
       "      <th>security_delay</th>\n",
       "      <th>late_aircraft_delay</th>\n",
       "      <th>seats</th>\n",
       "      <th>passengers</th>\n",
       "    </tr>\n",
       "  </thead>\n",
       "  <tbody>\n",
       "    <tr>\n",
       "      <th>0</th>\n",
       "      <td>Alaska Airlines Inc.</td>\n",
       "      <td>2018.0</td>\n",
       "      <td>25137.0</td>\n",
       "      <td>5944190.0</td>\n",
       "      <td>49979685</td>\n",
       "      <td>49992895</td>\n",
       "      <td>4.990242e+06</td>\n",
       "      <td>5.055806e+06</td>\n",
       "      <td>76643.994593</td>\n",
       "      <td>79658.229104</td>\n",
       "      <td>...</td>\n",
       "      <td>5.744382e+06</td>\n",
       "      <td>5.699583e+06</td>\n",
       "      <td>100504.126397</td>\n",
       "      <td>52664.154962</td>\n",
       "      <td>6317.516239</td>\n",
       "      <td>56664.927742</td>\n",
       "      <td>1027.963093</td>\n",
       "      <td>59761.989422</td>\n",
       "      <td>1.398921e+07</td>\n",
       "      <td>1.144719e+07</td>\n",
       "    </tr>\n",
       "    <tr>\n",
       "      <th>1</th>\n",
       "      <td>Alaska Airlines Inc.</td>\n",
       "      <td>2019.0</td>\n",
       "      <td>25482.0</td>\n",
       "      <td>6355870.0</td>\n",
       "      <td>52580989</td>\n",
       "      <td>52603766</td>\n",
       "      <td>5.202800e+06</td>\n",
       "      <td>5.298971e+06</td>\n",
       "      <td>95446.698337</td>\n",
       "      <td>85309.022258</td>\n",
       "      <td>...</td>\n",
       "      <td>6.067453e+06</td>\n",
       "      <td>5.955408e+06</td>\n",
       "      <td>117513.748294</td>\n",
       "      <td>57855.124641</td>\n",
       "      <td>6064.605895</td>\n",
       "      <td>59677.623015</td>\n",
       "      <td>822.492223</td>\n",
       "      <td>72822.124923</td>\n",
       "      <td>1.416839e+07</td>\n",
       "      <td>1.162713e+07</td>\n",
       "    </tr>\n",
       "    <tr>\n",
       "      <th>2</th>\n",
       "      <td>Allegiant Air</td>\n",
       "      <td>2018.0</td>\n",
       "      <td>49270.0</td>\n",
       "      <td>6881507.0</td>\n",
       "      <td>99176883</td>\n",
       "      <td>99259609</td>\n",
       "      <td>1.025363e+07</td>\n",
       "      <td>1.064531e+07</td>\n",
       "      <td>316305.845471</td>\n",
       "      <td>114274.710394</td>\n",
       "      <td>...</td>\n",
       "      <td>1.204989e+07</td>\n",
       "      <td>1.207298e+07</td>\n",
       "      <td>335785.653915</td>\n",
       "      <td>198199.724769</td>\n",
       "      <td>28493.061954</td>\n",
       "      <td>68167.046363</td>\n",
       "      <td>1148.358257</td>\n",
       "      <td>193854.970410</td>\n",
       "      <td>1.135909e+07</td>\n",
       "      <td>9.581581e+06</td>\n",
       "    </tr>\n",
       "    <tr>\n",
       "      <th>3</th>\n",
       "      <td>Allegiant Air</td>\n",
       "      <td>2019.0</td>\n",
       "      <td>51175.0</td>\n",
       "      <td>7053589.0</td>\n",
       "      <td>102503501</td>\n",
       "      <td>102588392</td>\n",
       "      <td>1.067601e+07</td>\n",
       "      <td>1.099244e+07</td>\n",
       "      <td>299217.521298</td>\n",
       "      <td>119265.914183</td>\n",
       "      <td>...</td>\n",
       "      <td>1.246407e+07</td>\n",
       "      <td>1.232606e+07</td>\n",
       "      <td>328852.118945</td>\n",
       "      <td>190949.070610</td>\n",
       "      <td>40399.818291</td>\n",
       "      <td>67509.966930</td>\n",
       "      <td>1062.635839</td>\n",
       "      <td>185748.595241</td>\n",
       "      <td>1.364215e+07</td>\n",
       "      <td>1.136821e+07</td>\n",
       "    </tr>\n",
       "    <tr>\n",
       "      <th>4</th>\n",
       "      <td>American Airlines Inc.</td>\n",
       "      <td>2018.0</td>\n",
       "      <td>55989.0</td>\n",
       "      <td>9358443.0</td>\n",
       "      <td>109393936</td>\n",
       "      <td>109438077</td>\n",
       "      <td>1.176981e+07</td>\n",
       "      <td>1.202534e+07</td>\n",
       "      <td>283377.547170</td>\n",
       "      <td>193446.605894</td>\n",
       "      <td>...</td>\n",
       "      <td>1.322686e+07</td>\n",
       "      <td>1.303076e+07</td>\n",
       "      <td>319786.584418</td>\n",
       "      <td>185865.280093</td>\n",
       "      <td>26417.726082</td>\n",
       "      <td>117273.984377</td>\n",
       "      <td>1844.144593</td>\n",
       "      <td>210349.098023</td>\n",
       "      <td>6.876551e+07</td>\n",
       "      <td>5.760936e+07</td>\n",
       "    </tr>\n",
       "    <tr>\n",
       "      <th>5</th>\n",
       "      <td>American Airlines Inc.</td>\n",
       "      <td>2019.0</td>\n",
       "      <td>59561.0</td>\n",
       "      <td>9727770.0</td>\n",
       "      <td>116369620</td>\n",
       "      <td>116437244</td>\n",
       "      <td>1.257157e+07</td>\n",
       "      <td>1.285157e+07</td>\n",
       "      <td>340285.101996</td>\n",
       "      <td>203500.851826</td>\n",
       "      <td>...</td>\n",
       "      <td>1.395907e+07</td>\n",
       "      <td>1.369989e+07</td>\n",
       "      <td>374351.051186</td>\n",
       "      <td>225464.141248</td>\n",
       "      <td>26637.134313</td>\n",
       "      <td>122170.246138</td>\n",
       "      <td>867.831129</td>\n",
       "      <td>251130.694571</td>\n",
       "      <td>6.661062e+07</td>\n",
       "      <td>5.655041e+07</td>\n",
       "    </tr>\n",
       "    <tr>\n",
       "      <th>6</th>\n",
       "      <td>Delta Air Lines Inc.</td>\n",
       "      <td>2018.0</td>\n",
       "      <td>66176.0</td>\n",
       "      <td>10137516.0</td>\n",
       "      <td>126935193</td>\n",
       "      <td>126957887</td>\n",
       "      <td>1.384049e+07</td>\n",
       "      <td>1.417100e+07</td>\n",
       "      <td>371575.349742</td>\n",
       "      <td>234570.035012</td>\n",
       "      <td>...</td>\n",
       "      <td>1.569376e+07</td>\n",
       "      <td>1.538544e+07</td>\n",
       "      <td>393217.309645</td>\n",
       "      <td>262489.923266</td>\n",
       "      <td>56273.095773</td>\n",
       "      <td>144646.893827</td>\n",
       "      <td>431.445871</td>\n",
       "      <td>215698.242182</td>\n",
       "      <td>5.241347e+07</td>\n",
       "      <td>4.409011e+07</td>\n",
       "    </tr>\n",
       "    <tr>\n",
       "      <th>7</th>\n",
       "      <td>Delta Air Lines Inc.</td>\n",
       "      <td>2019.0</td>\n",
       "      <td>67400.0</td>\n",
       "      <td>10498746.0</td>\n",
       "      <td>128940912</td>\n",
       "      <td>128908694</td>\n",
       "      <td>1.410133e+07</td>\n",
       "      <td>1.441448e+07</td>\n",
       "      <td>377537.627059</td>\n",
       "      <td>230564.323611</td>\n",
       "      <td>...</td>\n",
       "      <td>1.599546e+07</td>\n",
       "      <td>1.552542e+07</td>\n",
       "      <td>403671.025422</td>\n",
       "      <td>274283.079652</td>\n",
       "      <td>50623.790086</td>\n",
       "      <td>149160.265394</td>\n",
       "      <td>733.998775</td>\n",
       "      <td>219605.436740</td>\n",
       "      <td>6.031316e+07</td>\n",
       "      <td>5.186843e+07</td>\n",
       "    </tr>\n",
       "    <tr>\n",
       "      <th>8</th>\n",
       "      <td>Frontier Airlines Inc.</td>\n",
       "      <td>2018.0</td>\n",
       "      <td>42328.0</td>\n",
       "      <td>6328596.0</td>\n",
       "      <td>77831784</td>\n",
       "      <td>77817119</td>\n",
       "      <td>8.049106e+06</td>\n",
       "      <td>8.288461e+06</td>\n",
       "      <td>297013.344739</td>\n",
       "      <td>111230.702073</td>\n",
       "      <td>...</td>\n",
       "      <td>9.174821e+06</td>\n",
       "      <td>9.002461e+06</td>\n",
       "      <td>303885.761538</td>\n",
       "      <td>120380.907169</td>\n",
       "      <td>4756.403362</td>\n",
       "      <td>78654.608957</td>\n",
       "      <td>0.000000</td>\n",
       "      <td>223786.940701</td>\n",
       "      <td>1.328529e+07</td>\n",
       "      <td>1.139690e+07</td>\n",
       "    </tr>\n",
       "    <tr>\n",
       "      <th>9</th>\n",
       "      <td>Frontier Airlines Inc.</td>\n",
       "      <td>2019.0</td>\n",
       "      <td>43424.0</td>\n",
       "      <td>6728156.0</td>\n",
       "      <td>83496955</td>\n",
       "      <td>83520372</td>\n",
       "      <td>8.847599e+06</td>\n",
       "      <td>9.056096e+06</td>\n",
       "      <td>291701.527863</td>\n",
       "      <td>128534.707452</td>\n",
       "      <td>...</td>\n",
       "      <td>9.960538e+06</td>\n",
       "      <td>9.664669e+06</td>\n",
       "      <td>300402.606125</td>\n",
       "      <td>115532.500679</td>\n",
       "      <td>6186.336508</td>\n",
       "      <td>97051.288442</td>\n",
       "      <td>0.000000</td>\n",
       "      <td>207862.587595</td>\n",
       "      <td>1.199688e+07</td>\n",
       "      <td>1.034951e+07</td>\n",
       "    </tr>\n",
       "    <tr>\n",
       "      <th>10</th>\n",
       "      <td>Hawaiian Airlines Inc.</td>\n",
       "      <td>2018.0</td>\n",
       "      <td>4743.0</td>\n",
       "      <td>1408956.0</td>\n",
       "      <td>9419124</td>\n",
       "      <td>9419815</td>\n",
       "      <td>8.678101e+05</td>\n",
       "      <td>8.788206e+05</td>\n",
       "      <td>16810.282017</td>\n",
       "      <td>11078.101361</td>\n",
       "      <td>...</td>\n",
       "      <td>1.109500e+06</td>\n",
       "      <td>1.088883e+06</td>\n",
       "      <td>20285.636033</td>\n",
       "      <td>28242.450075</td>\n",
       "      <td>1569.217354</td>\n",
       "      <td>738.565490</td>\n",
       "      <td>132.280248</td>\n",
       "      <td>8170.832997</td>\n",
       "      <td>1.100828e+07</td>\n",
       "      <td>8.667154e+06</td>\n",
       "    </tr>\n",
       "    <tr>\n",
       "      <th>11</th>\n",
       "      <td>Hawaiian Airlines Inc.</td>\n",
       "      <td>2019.0</td>\n",
       "      <td>5148.0</td>\n",
       "      <td>1629884.0</td>\n",
       "      <td>10337104</td>\n",
       "      <td>10337104</td>\n",
       "      <td>9.346377e+05</td>\n",
       "      <td>9.432480e+05</td>\n",
       "      <td>13464.899744</td>\n",
       "      <td>11875.594431</td>\n",
       "      <td>...</td>\n",
       "      <td>1.196506e+06</td>\n",
       "      <td>1.192899e+06</td>\n",
       "      <td>17662.138854</td>\n",
       "      <td>24842.115280</td>\n",
       "      <td>970.543071</td>\n",
       "      <td>305.731961</td>\n",
       "      <td>606.513597</td>\n",
       "      <td>6672.676935</td>\n",
       "      <td>1.194260e+07</td>\n",
       "      <td>9.446597e+06</td>\n",
       "    </tr>\n",
       "    <tr>\n",
       "      <th>12</th>\n",
       "      <td>JetBlue Airways</td>\n",
       "      <td>2018.0</td>\n",
       "      <td>27751.0</td>\n",
       "      <td>5003585.0</td>\n",
       "      <td>52896908</td>\n",
       "      <td>52882791</td>\n",
       "      <td>6.242718e+06</td>\n",
       "      <td>6.117011e+06</td>\n",
       "      <td>178349.286734</td>\n",
       "      <td>87986.251233</td>\n",
       "      <td>...</td>\n",
       "      <td>6.229938e+06</td>\n",
       "      <td>5.974210e+06</td>\n",
       "      <td>188988.022525</td>\n",
       "      <td>96422.832150</td>\n",
       "      <td>7749.934450</td>\n",
       "      <td>57441.223379</td>\n",
       "      <td>540.553500</td>\n",
       "      <td>116804.969649</td>\n",
       "      <td>2.947981e+07</td>\n",
       "      <td>2.442400e+07</td>\n",
       "    </tr>\n",
       "    <tr>\n",
       "      <th>13</th>\n",
       "      <td>JetBlue Airways</td>\n",
       "      <td>2019.0</td>\n",
       "      <td>26844.0</td>\n",
       "      <td>5034829.0</td>\n",
       "      <td>52110391</td>\n",
       "      <td>52151477</td>\n",
       "      <td>6.110878e+06</td>\n",
       "      <td>5.972913e+06</td>\n",
       "      <td>221247.361738</td>\n",
       "      <td>86939.563783</td>\n",
       "      <td>...</td>\n",
       "      <td>6.057556e+06</td>\n",
       "      <td>5.783153e+06</td>\n",
       "      <td>226736.273786</td>\n",
       "      <td>122433.198554</td>\n",
       "      <td>8364.662943</td>\n",
       "      <td>62239.905191</td>\n",
       "      <td>380.964275</td>\n",
       "      <td>132873.084938</td>\n",
       "      <td>2.872449e+07</td>\n",
       "      <td>2.382283e+07</td>\n",
       "    </tr>\n",
       "    <tr>\n",
       "      <th>14</th>\n",
       "      <td>Southwest Airlines Co.</td>\n",
       "      <td>2018.0</td>\n",
       "      <td>103931.0</td>\n",
       "      <td>14640540.0</td>\n",
       "      <td>203008849</td>\n",
       "      <td>203033360</td>\n",
       "      <td>2.284459e+07</td>\n",
       "      <td>2.345424e+07</td>\n",
       "      <td>478654.916428</td>\n",
       "      <td>225687.267160</td>\n",
       "      <td>...</td>\n",
       "      <td>2.536912e+07</td>\n",
       "      <td>2.493063e+07</td>\n",
       "      <td>455794.595989</td>\n",
       "      <td>263532.051788</td>\n",
       "      <td>21474.465917</td>\n",
       "      <td>122186.022552</td>\n",
       "      <td>3106.847413</td>\n",
       "      <td>378244.347622</td>\n",
       "      <td>9.770782e+07</td>\n",
       "      <td>7.879783e+07</td>\n",
       "    </tr>\n",
       "    <tr>\n",
       "      <th>15</th>\n",
       "      <td>Southwest Airlines Co.</td>\n",
       "      <td>2019.0</td>\n",
       "      <td>105111.0</td>\n",
       "      <td>14914951.0</td>\n",
       "      <td>207188538</td>\n",
       "      <td>207218144</td>\n",
       "      <td>2.321825e+07</td>\n",
       "      <td>2.388352e+07</td>\n",
       "      <td>502485.646547</td>\n",
       "      <td>230561.478711</td>\n",
       "      <td>...</td>\n",
       "      <td>2.580197e+07</td>\n",
       "      <td>2.534431e+07</td>\n",
       "      <td>477768.195157</td>\n",
       "      <td>289793.911843</td>\n",
       "      <td>21383.438736</td>\n",
       "      <td>129041.281414</td>\n",
       "      <td>3568.473728</td>\n",
       "      <td>372789.038947</td>\n",
       "      <td>1.023536e+08</td>\n",
       "      <td>8.271060e+07</td>\n",
       "    </tr>\n",
       "    <tr>\n",
       "      <th>16</th>\n",
       "      <td>Spirit Air Lines</td>\n",
       "      <td>2018.0</td>\n",
       "      <td>29194.0</td>\n",
       "      <td>4773552.0</td>\n",
       "      <td>55863548</td>\n",
       "      <td>55885461</td>\n",
       "      <td>6.324760e+06</td>\n",
       "      <td>6.294343e+06</td>\n",
       "      <td>176313.485867</td>\n",
       "      <td>81219.922816</td>\n",
       "      <td>...</td>\n",
       "      <td>6.750479e+06</td>\n",
       "      <td>6.359886e+06</td>\n",
       "      <td>192069.614059</td>\n",
       "      <td>64017.836543</td>\n",
       "      <td>7950.528593</td>\n",
       "      <td>153891.666274</td>\n",
       "      <td>729.898007</td>\n",
       "      <td>86669.740770</td>\n",
       "      <td>2.160926e+07</td>\n",
       "      <td>1.819436e+07</td>\n",
       "    </tr>\n",
       "    <tr>\n",
       "      <th>17</th>\n",
       "      <td>Spirit Air Lines</td>\n",
       "      <td>2019.0</td>\n",
       "      <td>35310.0</td>\n",
       "      <td>5346389.0</td>\n",
       "      <td>65809042</td>\n",
       "      <td>65814945</td>\n",
       "      <td>7.410814e+06</td>\n",
       "      <td>7.397089e+06</td>\n",
       "      <td>211659.251248</td>\n",
       "      <td>94283.245775</td>\n",
       "      <td>...</td>\n",
       "      <td>7.876846e+06</td>\n",
       "      <td>7.443718e+06</td>\n",
       "      <td>220444.037967</td>\n",
       "      <td>89703.910798</td>\n",
       "      <td>13162.665149</td>\n",
       "      <td>140283.077449</td>\n",
       "      <td>775.238984</td>\n",
       "      <td>109018.220600</td>\n",
       "      <td>1.876414e+07</td>\n",
       "      <td>1.572723e+07</td>\n",
       "    </tr>\n",
       "    <tr>\n",
       "      <th>18</th>\n",
       "      <td>United Air Lines Inc.</td>\n",
       "      <td>2018.0</td>\n",
       "      <td>53515.0</td>\n",
       "      <td>9558878.0</td>\n",
       "      <td>102852409</td>\n",
       "      <td>102872700</td>\n",
       "      <td>1.091880e+07</td>\n",
       "      <td>1.116657e+07</td>\n",
       "      <td>297409.083815</td>\n",
       "      <td>194218.316671</td>\n",
       "      <td>...</td>\n",
       "      <td>1.232634e+07</td>\n",
       "      <td>1.217075e+07</td>\n",
       "      <td>335654.797873</td>\n",
       "      <td>156342.724251</td>\n",
       "      <td>31579.449815</td>\n",
       "      <td>149492.689848</td>\n",
       "      <td>153.989010</td>\n",
       "      <td>218545.027043</td>\n",
       "      <td>2.723180e+07</td>\n",
       "      <td>2.283673e+07</td>\n",
       "    </tr>\n",
       "    <tr>\n",
       "      <th>19</th>\n",
       "      <td>United Air Lines Inc.</td>\n",
       "      <td>2019.0</td>\n",
       "      <td>53941.0</td>\n",
       "      <td>9887638.0</td>\n",
       "      <td>105400825</td>\n",
       "      <td>105432981</td>\n",
       "      <td>1.126706e+07</td>\n",
       "      <td>1.149093e+07</td>\n",
       "      <td>356919.210708</td>\n",
       "      <td>201458.960507</td>\n",
       "      <td>...</td>\n",
       "      <td>1.263182e+07</td>\n",
       "      <td>1.244016e+07</td>\n",
       "      <td>391563.225723</td>\n",
       "      <td>173818.821795</td>\n",
       "      <td>33862.820294</td>\n",
       "      <td>162674.605355</td>\n",
       "      <td>338.155057</td>\n",
       "      <td>252879.940643</td>\n",
       "      <td>2.596230e+07</td>\n",
       "      <td>2.174824e+07</td>\n",
       "    </tr>\n",
       "    <tr>\n",
       "      <th>20</th>\n",
       "      <td>Virgin America</td>\n",
       "      <td>2018.0</td>\n",
       "      <td>533.0</td>\n",
       "      <td>486361.0</td>\n",
       "      <td>3518637</td>\n",
       "      <td>3521422</td>\n",
       "      <td>3.668739e+05</td>\n",
       "      <td>3.733333e+05</td>\n",
       "      <td>7193.232977</td>\n",
       "      <td>6113.262867</td>\n",
       "      <td>...</td>\n",
       "      <td>4.187241e+05</td>\n",
       "      <td>4.147637e+05</td>\n",
       "      <td>8306.496152</td>\n",
       "      <td>4687.879968</td>\n",
       "      <td>160.003345</td>\n",
       "      <td>5022.228094</td>\n",
       "      <td>96.235000</td>\n",
       "      <td>3372.403487</td>\n",
       "      <td>1.032869e+06</td>\n",
       "      <td>8.170017e+05</td>\n",
       "    </tr>\n",
       "  </tbody>\n",
       "</table>\n",
       "<p>21 rows × 23 columns</p>\n",
       "</div>"
      ],
      "text/plain": [
       "              carrier_name    year     month    distance  origin_airport_id  \\\n",
       "0     Alaska Airlines Inc.  2018.0   25137.0   5944190.0           49979685   \n",
       "1     Alaska Airlines Inc.  2019.0   25482.0   6355870.0           52580989   \n",
       "2            Allegiant Air  2018.0   49270.0   6881507.0           99176883   \n",
       "3            Allegiant Air  2019.0   51175.0   7053589.0          102503501   \n",
       "4   American Airlines Inc.  2018.0   55989.0   9358443.0          109393936   \n",
       "5   American Airlines Inc.  2019.0   59561.0   9727770.0          116369620   \n",
       "6     Delta Air Lines Inc.  2018.0   66176.0  10137516.0          126935193   \n",
       "7     Delta Air Lines Inc.  2019.0   67400.0  10498746.0          128940912   \n",
       "8   Frontier Airlines Inc.  2018.0   42328.0   6328596.0           77831784   \n",
       "9   Frontier Airlines Inc.  2019.0   43424.0   6728156.0           83496955   \n",
       "10  Hawaiian Airlines Inc.  2018.0    4743.0   1408956.0            9419124   \n",
       "11  Hawaiian Airlines Inc.  2019.0    5148.0   1629884.0           10337104   \n",
       "12         JetBlue Airways  2018.0   27751.0   5003585.0           52896908   \n",
       "13         JetBlue Airways  2019.0   26844.0   5034829.0           52110391   \n",
       "14  Southwest Airlines Co.  2018.0  103931.0  14640540.0          203008849   \n",
       "15  Southwest Airlines Co.  2019.0  105111.0  14914951.0          207188538   \n",
       "16        Spirit Air Lines  2018.0   29194.0   4773552.0           55863548   \n",
       "17        Spirit Air Lines  2019.0   35310.0   5346389.0           65809042   \n",
       "18   United Air Lines Inc.  2018.0   53515.0   9558878.0          102852409   \n",
       "19   United Air Lines Inc.  2019.0   53941.0   9887638.0          105400825   \n",
       "20          Virgin America  2018.0     533.0    486361.0            3518637   \n",
       "\n",
       "    dest_airport_id  crs_dep_time      dep_time      dep_delay       taxi_out  \\\n",
       "0          49992895  4.990242e+06  5.055806e+06   76643.994593   79658.229104   \n",
       "1          52603766  5.202800e+06  5.298971e+06   95446.698337   85309.022258   \n",
       "2          99259609  1.025363e+07  1.064531e+07  316305.845471  114274.710394   \n",
       "3         102588392  1.067601e+07  1.099244e+07  299217.521298  119265.914183   \n",
       "4         109438077  1.176981e+07  1.202534e+07  283377.547170  193446.605894   \n",
       "5         116437244  1.257157e+07  1.285157e+07  340285.101996  203500.851826   \n",
       "6         126957887  1.384049e+07  1.417100e+07  371575.349742  234570.035012   \n",
       "7         128908694  1.410133e+07  1.441448e+07  377537.627059  230564.323611   \n",
       "8          77817119  8.049106e+06  8.288461e+06  297013.344739  111230.702073   \n",
       "9          83520372  8.847599e+06  9.056096e+06  291701.527863  128534.707452   \n",
       "10          9419815  8.678101e+05  8.788206e+05   16810.282017   11078.101361   \n",
       "11         10337104  9.346377e+05  9.432480e+05   13464.899744   11875.594431   \n",
       "12         52882791  6.242718e+06  6.117011e+06  178349.286734   87986.251233   \n",
       "13         52151477  6.110878e+06  5.972913e+06  221247.361738   86939.563783   \n",
       "14        203033360  2.284459e+07  2.345424e+07  478654.916428  225687.267160   \n",
       "15        207218144  2.321825e+07  2.388352e+07  502485.646547  230561.478711   \n",
       "16         55885461  6.324760e+06  6.294343e+06  176313.485867   81219.922816   \n",
       "17         65814945  7.410814e+06  7.397089e+06  211659.251248   94283.245775   \n",
       "18        102872700  1.091880e+07  1.116657e+07  297409.083815  194218.316671   \n",
       "19        105432981  1.126706e+07  1.149093e+07  356919.210708  201458.960507   \n",
       "20          3521422  3.668739e+05  3.733333e+05    7193.232977    6113.262867   \n",
       "\n",
       "    ...  crs_arr_time      arr_time      arr_delay  carrier_delay  \\\n",
       "0   ...  5.744382e+06  5.699583e+06  100504.126397   52664.154962   \n",
       "1   ...  6.067453e+06  5.955408e+06  117513.748294   57855.124641   \n",
       "2   ...  1.204989e+07  1.207298e+07  335785.653915  198199.724769   \n",
       "3   ...  1.246407e+07  1.232606e+07  328852.118945  190949.070610   \n",
       "4   ...  1.322686e+07  1.303076e+07  319786.584418  185865.280093   \n",
       "5   ...  1.395907e+07  1.369989e+07  374351.051186  225464.141248   \n",
       "6   ...  1.569376e+07  1.538544e+07  393217.309645  262489.923266   \n",
       "7   ...  1.599546e+07  1.552542e+07  403671.025422  274283.079652   \n",
       "8   ...  9.174821e+06  9.002461e+06  303885.761538  120380.907169   \n",
       "9   ...  9.960538e+06  9.664669e+06  300402.606125  115532.500679   \n",
       "10  ...  1.109500e+06  1.088883e+06   20285.636033   28242.450075   \n",
       "11  ...  1.196506e+06  1.192899e+06   17662.138854   24842.115280   \n",
       "12  ...  6.229938e+06  5.974210e+06  188988.022525   96422.832150   \n",
       "13  ...  6.057556e+06  5.783153e+06  226736.273786  122433.198554   \n",
       "14  ...  2.536912e+07  2.493063e+07  455794.595989  263532.051788   \n",
       "15  ...  2.580197e+07  2.534431e+07  477768.195157  289793.911843   \n",
       "16  ...  6.750479e+06  6.359886e+06  192069.614059   64017.836543   \n",
       "17  ...  7.876846e+06  7.443718e+06  220444.037967   89703.910798   \n",
       "18  ...  1.232634e+07  1.217075e+07  335654.797873  156342.724251   \n",
       "19  ...  1.263182e+07  1.244016e+07  391563.225723  173818.821795   \n",
       "20  ...  4.187241e+05  4.147637e+05    8306.496152    4687.879968   \n",
       "\n",
       "    weather_delay      nas_delay  security_delay  late_aircraft_delay  \\\n",
       "0     6317.516239   56664.927742     1027.963093         59761.989422   \n",
       "1     6064.605895   59677.623015      822.492223         72822.124923   \n",
       "2    28493.061954   68167.046363     1148.358257        193854.970410   \n",
       "3    40399.818291   67509.966930     1062.635839        185748.595241   \n",
       "4    26417.726082  117273.984377     1844.144593        210349.098023   \n",
       "5    26637.134313  122170.246138      867.831129        251130.694571   \n",
       "6    56273.095773  144646.893827      431.445871        215698.242182   \n",
       "7    50623.790086  149160.265394      733.998775        219605.436740   \n",
       "8     4756.403362   78654.608957        0.000000        223786.940701   \n",
       "9     6186.336508   97051.288442        0.000000        207862.587595   \n",
       "10    1569.217354     738.565490      132.280248          8170.832997   \n",
       "11     970.543071     305.731961      606.513597          6672.676935   \n",
       "12    7749.934450   57441.223379      540.553500        116804.969649   \n",
       "13    8364.662943   62239.905191      380.964275        132873.084938   \n",
       "14   21474.465917  122186.022552     3106.847413        378244.347622   \n",
       "15   21383.438736  129041.281414     3568.473728        372789.038947   \n",
       "16    7950.528593  153891.666274      729.898007         86669.740770   \n",
       "17   13162.665149  140283.077449      775.238984        109018.220600   \n",
       "18   31579.449815  149492.689848      153.989010        218545.027043   \n",
       "19   33862.820294  162674.605355      338.155057        252879.940643   \n",
       "20     160.003345    5022.228094       96.235000          3372.403487   \n",
       "\n",
       "           seats    passengers  \n",
       "0   1.398921e+07  1.144719e+07  \n",
       "1   1.416839e+07  1.162713e+07  \n",
       "2   1.135909e+07  9.581581e+06  \n",
       "3   1.364215e+07  1.136821e+07  \n",
       "4   6.876551e+07  5.760936e+07  \n",
       "5   6.661062e+07  5.655041e+07  \n",
       "6   5.241347e+07  4.409011e+07  \n",
       "7   6.031316e+07  5.186843e+07  \n",
       "8   1.328529e+07  1.139690e+07  \n",
       "9   1.199688e+07  1.034951e+07  \n",
       "10  1.100828e+07  8.667154e+06  \n",
       "11  1.194260e+07  9.446597e+06  \n",
       "12  2.947981e+07  2.442400e+07  \n",
       "13  2.872449e+07  2.382283e+07  \n",
       "14  9.770782e+07  7.879783e+07  \n",
       "15  1.023536e+08  8.271060e+07  \n",
       "16  2.160926e+07  1.819436e+07  \n",
       "17  1.876414e+07  1.572723e+07  \n",
       "18  2.723180e+07  2.283673e+07  \n",
       "19  2.596230e+07  2.174824e+07  \n",
       "20  1.032869e+06  8.170017e+05  \n",
       "\n",
       "[21 rows x 23 columns]"
      ]
     },
     "execution_count": 126,
     "metadata": {},
     "output_type": "execute_result"
    }
   ],
   "source": [
    "get_passengers"
   ]
  },
  {
   "cell_type": "code",
   "execution_count": 127,
   "metadata": {},
   "outputs": [],
   "source": [
    "passengers_years = get_passengers[['carrier_name', 'passengers', 'year']]"
   ]
  },
  {
   "cell_type": "code",
   "execution_count": 128,
   "metadata": {},
   "outputs": [
    {
     "data": {
      "text/html": [
       "<div>\n",
       "<style scoped>\n",
       "    .dataframe tbody tr th:only-of-type {\n",
       "        vertical-align: middle;\n",
       "    }\n",
       "\n",
       "    .dataframe tbody tr th {\n",
       "        vertical-align: top;\n",
       "    }\n",
       "\n",
       "    .dataframe thead th {\n",
       "        text-align: right;\n",
       "    }\n",
       "</style>\n",
       "<table border=\"1\" class=\"dataframe\">\n",
       "  <thead>\n",
       "    <tr style=\"text-align: right;\">\n",
       "      <th></th>\n",
       "      <th>carrier_name</th>\n",
       "      <th>passengers</th>\n",
       "      <th>year</th>\n",
       "    </tr>\n",
       "  </thead>\n",
       "  <tbody>\n",
       "    <tr>\n",
       "      <th>0</th>\n",
       "      <td>Alaska Airlines Inc.</td>\n",
       "      <td>1.144719e+07</td>\n",
       "      <td>2018.0</td>\n",
       "    </tr>\n",
       "    <tr>\n",
       "      <th>1</th>\n",
       "      <td>Alaska Airlines Inc.</td>\n",
       "      <td>1.162713e+07</td>\n",
       "      <td>2019.0</td>\n",
       "    </tr>\n",
       "    <tr>\n",
       "      <th>2</th>\n",
       "      <td>Allegiant Air</td>\n",
       "      <td>9.581581e+06</td>\n",
       "      <td>2018.0</td>\n",
       "    </tr>\n",
       "    <tr>\n",
       "      <th>3</th>\n",
       "      <td>Allegiant Air</td>\n",
       "      <td>1.136821e+07</td>\n",
       "      <td>2019.0</td>\n",
       "    </tr>\n",
       "    <tr>\n",
       "      <th>4</th>\n",
       "      <td>American Airlines Inc.</td>\n",
       "      <td>5.760936e+07</td>\n",
       "      <td>2018.0</td>\n",
       "    </tr>\n",
       "    <tr>\n",
       "      <th>5</th>\n",
       "      <td>American Airlines Inc.</td>\n",
       "      <td>5.655041e+07</td>\n",
       "      <td>2019.0</td>\n",
       "    </tr>\n",
       "    <tr>\n",
       "      <th>6</th>\n",
       "      <td>Delta Air Lines Inc.</td>\n",
       "      <td>4.409011e+07</td>\n",
       "      <td>2018.0</td>\n",
       "    </tr>\n",
       "    <tr>\n",
       "      <th>7</th>\n",
       "      <td>Delta Air Lines Inc.</td>\n",
       "      <td>5.186843e+07</td>\n",
       "      <td>2019.0</td>\n",
       "    </tr>\n",
       "    <tr>\n",
       "      <th>8</th>\n",
       "      <td>Frontier Airlines Inc.</td>\n",
       "      <td>1.139690e+07</td>\n",
       "      <td>2018.0</td>\n",
       "    </tr>\n",
       "    <tr>\n",
       "      <th>9</th>\n",
       "      <td>Frontier Airlines Inc.</td>\n",
       "      <td>1.034951e+07</td>\n",
       "      <td>2019.0</td>\n",
       "    </tr>\n",
       "    <tr>\n",
       "      <th>10</th>\n",
       "      <td>Hawaiian Airlines Inc.</td>\n",
       "      <td>8.667154e+06</td>\n",
       "      <td>2018.0</td>\n",
       "    </tr>\n",
       "    <tr>\n",
       "      <th>11</th>\n",
       "      <td>Hawaiian Airlines Inc.</td>\n",
       "      <td>9.446597e+06</td>\n",
       "      <td>2019.0</td>\n",
       "    </tr>\n",
       "    <tr>\n",
       "      <th>12</th>\n",
       "      <td>JetBlue Airways</td>\n",
       "      <td>2.442400e+07</td>\n",
       "      <td>2018.0</td>\n",
       "    </tr>\n",
       "    <tr>\n",
       "      <th>13</th>\n",
       "      <td>JetBlue Airways</td>\n",
       "      <td>2.382283e+07</td>\n",
       "      <td>2019.0</td>\n",
       "    </tr>\n",
       "    <tr>\n",
       "      <th>14</th>\n",
       "      <td>Southwest Airlines Co.</td>\n",
       "      <td>7.879783e+07</td>\n",
       "      <td>2018.0</td>\n",
       "    </tr>\n",
       "    <tr>\n",
       "      <th>15</th>\n",
       "      <td>Southwest Airlines Co.</td>\n",
       "      <td>8.271060e+07</td>\n",
       "      <td>2019.0</td>\n",
       "    </tr>\n",
       "    <tr>\n",
       "      <th>16</th>\n",
       "      <td>Spirit Air Lines</td>\n",
       "      <td>1.819436e+07</td>\n",
       "      <td>2018.0</td>\n",
       "    </tr>\n",
       "    <tr>\n",
       "      <th>17</th>\n",
       "      <td>Spirit Air Lines</td>\n",
       "      <td>1.572723e+07</td>\n",
       "      <td>2019.0</td>\n",
       "    </tr>\n",
       "    <tr>\n",
       "      <th>18</th>\n",
       "      <td>United Air Lines Inc.</td>\n",
       "      <td>2.283673e+07</td>\n",
       "      <td>2018.0</td>\n",
       "    </tr>\n",
       "    <tr>\n",
       "      <th>19</th>\n",
       "      <td>United Air Lines Inc.</td>\n",
       "      <td>2.174824e+07</td>\n",
       "      <td>2019.0</td>\n",
       "    </tr>\n",
       "    <tr>\n",
       "      <th>20</th>\n",
       "      <td>Virgin America</td>\n",
       "      <td>8.170017e+05</td>\n",
       "      <td>2018.0</td>\n",
       "    </tr>\n",
       "  </tbody>\n",
       "</table>\n",
       "</div>"
      ],
      "text/plain": [
       "              carrier_name    passengers    year\n",
       "0     Alaska Airlines Inc.  1.144719e+07  2018.0\n",
       "1     Alaska Airlines Inc.  1.162713e+07  2019.0\n",
       "2            Allegiant Air  9.581581e+06  2018.0\n",
       "3            Allegiant Air  1.136821e+07  2019.0\n",
       "4   American Airlines Inc.  5.760936e+07  2018.0\n",
       "5   American Airlines Inc.  5.655041e+07  2019.0\n",
       "6     Delta Air Lines Inc.  4.409011e+07  2018.0\n",
       "7     Delta Air Lines Inc.  5.186843e+07  2019.0\n",
       "8   Frontier Airlines Inc.  1.139690e+07  2018.0\n",
       "9   Frontier Airlines Inc.  1.034951e+07  2019.0\n",
       "10  Hawaiian Airlines Inc.  8.667154e+06  2018.0\n",
       "11  Hawaiian Airlines Inc.  9.446597e+06  2019.0\n",
       "12         JetBlue Airways  2.442400e+07  2018.0\n",
       "13         JetBlue Airways  2.382283e+07  2019.0\n",
       "14  Southwest Airlines Co.  7.879783e+07  2018.0\n",
       "15  Southwest Airlines Co.  8.271060e+07  2019.0\n",
       "16        Spirit Air Lines  1.819436e+07  2018.0\n",
       "17        Spirit Air Lines  1.572723e+07  2019.0\n",
       "18   United Air Lines Inc.  2.283673e+07  2018.0\n",
       "19   United Air Lines Inc.  2.174824e+07  2019.0\n",
       "20          Virgin America  8.170017e+05  2018.0"
      ]
     },
     "execution_count": 128,
     "metadata": {},
     "output_type": "execute_result"
    }
   ],
   "source": [
    "passengers_years"
   ]
  },
  {
   "cell_type": "code",
   "execution_count": 129,
   "metadata": {},
   "outputs": [],
   "source": [
    "passengers2018 = passengers_years[passengers_years['year'] == 2018.0]"
   ]
  },
  {
   "cell_type": "code",
   "execution_count": 130,
   "metadata": {},
   "outputs": [],
   "source": [
    "passengers2019 = passengers_years[passengers_years['year'] == 2019.0]"
   ]
  },
  {
   "cell_type": "code",
   "execution_count": 201,
   "metadata": {},
   "outputs": [],
   "source": [
    "passengers2018.to_csv(\"passengers_2018.csv\")\n",
    "passengers2019.to_csv(\"passengers_2019.csv\")"
   ]
  },
  {
   "cell_type": "code",
   "execution_count": 150,
   "metadata": {},
   "outputs": [
    {
     "data": {
      "application/vnd.plotly.v1+json": {
       "config": {
        "plotlyServerURL": "https://plotly.com"
       },
       "data": [
        {
         "marker": {
          "color": "ivory"
         },
         "name": "2018 passengers",
         "type": "bar",
         "x": [
          "Alaska Airlines Inc.",
          "Allegiant Air",
          "American Airlines Inc.",
          "Delta Air Lines Inc.",
          "Frontier Airlines Inc.",
          "Hawaiian Airlines Inc.",
          "JetBlue Airways",
          "Southwest Airlines Co.",
          "Spirit Air Lines",
          "United Air Lines Inc.",
          "Virgin America"
         ],
         "y": [
          11447188.728571424,
          9581580.666666659,
          57609355.91269833,
          44090106.47872119,
          11396898.499999989,
          8667154.5,
          24424000.66666667,
          78797825.6333334,
          18194360.333333325,
          22836730.27799424,
          817001.6666666664
         ]
        },
        {
         "marker": {
          "color": "lightblue"
         },
         "name": "2019 passengers",
         "type": "bar",
         "x": [
          "Alaska Airlines Inc.",
          "Allegiant Air",
          "American Airlines Inc.",
          "Delta Air Lines Inc.",
          "Frontier Airlines Inc.",
          "Hawaiian Airlines Inc.",
          "JetBlue Airways",
          "Southwest Airlines Co.",
          "Spirit Air Lines",
          "United Air Lines Inc."
         ],
         "y": [
          11627131.759523798,
          11368211.83333333,
          56550411.91468265,
          51868430.29980025,
          10349505.383333337,
          9446597.333333334,
          23822831.333333343,
          82710598.83333337,
          15727230.166666659,
          21748241.394510467
         ]
        }
       ],
       "layout": {
        "barmode": "group",
        "template": {
         "data": {
          "bar": [
           {
            "error_x": {
             "color": "#2a3f5f"
            },
            "error_y": {
             "color": "#2a3f5f"
            },
            "marker": {
             "line": {
              "color": "#E5ECF6",
              "width": 0.5
             }
            },
            "type": "bar"
           }
          ],
          "barpolar": [
           {
            "marker": {
             "line": {
              "color": "#E5ECF6",
              "width": 0.5
             }
            },
            "type": "barpolar"
           }
          ],
          "carpet": [
           {
            "aaxis": {
             "endlinecolor": "#2a3f5f",
             "gridcolor": "white",
             "linecolor": "white",
             "minorgridcolor": "white",
             "startlinecolor": "#2a3f5f"
            },
            "baxis": {
             "endlinecolor": "#2a3f5f",
             "gridcolor": "white",
             "linecolor": "white",
             "minorgridcolor": "white",
             "startlinecolor": "#2a3f5f"
            },
            "type": "carpet"
           }
          ],
          "choropleth": [
           {
            "colorbar": {
             "outlinewidth": 0,
             "ticks": ""
            },
            "type": "choropleth"
           }
          ],
          "contour": [
           {
            "colorbar": {
             "outlinewidth": 0,
             "ticks": ""
            },
            "colorscale": [
             [
              0,
              "#0d0887"
             ],
             [
              0.1111111111111111,
              "#46039f"
             ],
             [
              0.2222222222222222,
              "#7201a8"
             ],
             [
              0.3333333333333333,
              "#9c179e"
             ],
             [
              0.4444444444444444,
              "#bd3786"
             ],
             [
              0.5555555555555556,
              "#d8576b"
             ],
             [
              0.6666666666666666,
              "#ed7953"
             ],
             [
              0.7777777777777778,
              "#fb9f3a"
             ],
             [
              0.8888888888888888,
              "#fdca26"
             ],
             [
              1,
              "#f0f921"
             ]
            ],
            "type": "contour"
           }
          ],
          "contourcarpet": [
           {
            "colorbar": {
             "outlinewidth": 0,
             "ticks": ""
            },
            "type": "contourcarpet"
           }
          ],
          "heatmap": [
           {
            "colorbar": {
             "outlinewidth": 0,
             "ticks": ""
            },
            "colorscale": [
             [
              0,
              "#0d0887"
             ],
             [
              0.1111111111111111,
              "#46039f"
             ],
             [
              0.2222222222222222,
              "#7201a8"
             ],
             [
              0.3333333333333333,
              "#9c179e"
             ],
             [
              0.4444444444444444,
              "#bd3786"
             ],
             [
              0.5555555555555556,
              "#d8576b"
             ],
             [
              0.6666666666666666,
              "#ed7953"
             ],
             [
              0.7777777777777778,
              "#fb9f3a"
             ],
             [
              0.8888888888888888,
              "#fdca26"
             ],
             [
              1,
              "#f0f921"
             ]
            ],
            "type": "heatmap"
           }
          ],
          "heatmapgl": [
           {
            "colorbar": {
             "outlinewidth": 0,
             "ticks": ""
            },
            "colorscale": [
             [
              0,
              "#0d0887"
             ],
             [
              0.1111111111111111,
              "#46039f"
             ],
             [
              0.2222222222222222,
              "#7201a8"
             ],
             [
              0.3333333333333333,
              "#9c179e"
             ],
             [
              0.4444444444444444,
              "#bd3786"
             ],
             [
              0.5555555555555556,
              "#d8576b"
             ],
             [
              0.6666666666666666,
              "#ed7953"
             ],
             [
              0.7777777777777778,
              "#fb9f3a"
             ],
             [
              0.8888888888888888,
              "#fdca26"
             ],
             [
              1,
              "#f0f921"
             ]
            ],
            "type": "heatmapgl"
           }
          ],
          "histogram": [
           {
            "marker": {
             "colorbar": {
              "outlinewidth": 0,
              "ticks": ""
             }
            },
            "type": "histogram"
           }
          ],
          "histogram2d": [
           {
            "colorbar": {
             "outlinewidth": 0,
             "ticks": ""
            },
            "colorscale": [
             [
              0,
              "#0d0887"
             ],
             [
              0.1111111111111111,
              "#46039f"
             ],
             [
              0.2222222222222222,
              "#7201a8"
             ],
             [
              0.3333333333333333,
              "#9c179e"
             ],
             [
              0.4444444444444444,
              "#bd3786"
             ],
             [
              0.5555555555555556,
              "#d8576b"
             ],
             [
              0.6666666666666666,
              "#ed7953"
             ],
             [
              0.7777777777777778,
              "#fb9f3a"
             ],
             [
              0.8888888888888888,
              "#fdca26"
             ],
             [
              1,
              "#f0f921"
             ]
            ],
            "type": "histogram2d"
           }
          ],
          "histogram2dcontour": [
           {
            "colorbar": {
             "outlinewidth": 0,
             "ticks": ""
            },
            "colorscale": [
             [
              0,
              "#0d0887"
             ],
             [
              0.1111111111111111,
              "#46039f"
             ],
             [
              0.2222222222222222,
              "#7201a8"
             ],
             [
              0.3333333333333333,
              "#9c179e"
             ],
             [
              0.4444444444444444,
              "#bd3786"
             ],
             [
              0.5555555555555556,
              "#d8576b"
             ],
             [
              0.6666666666666666,
              "#ed7953"
             ],
             [
              0.7777777777777778,
              "#fb9f3a"
             ],
             [
              0.8888888888888888,
              "#fdca26"
             ],
             [
              1,
              "#f0f921"
             ]
            ],
            "type": "histogram2dcontour"
           }
          ],
          "mesh3d": [
           {
            "colorbar": {
             "outlinewidth": 0,
             "ticks": ""
            },
            "type": "mesh3d"
           }
          ],
          "parcoords": [
           {
            "line": {
             "colorbar": {
              "outlinewidth": 0,
              "ticks": ""
             }
            },
            "type": "parcoords"
           }
          ],
          "pie": [
           {
            "automargin": true,
            "type": "pie"
           }
          ],
          "scatter": [
           {
            "marker": {
             "colorbar": {
              "outlinewidth": 0,
              "ticks": ""
             }
            },
            "type": "scatter"
           }
          ],
          "scatter3d": [
           {
            "line": {
             "colorbar": {
              "outlinewidth": 0,
              "ticks": ""
             }
            },
            "marker": {
             "colorbar": {
              "outlinewidth": 0,
              "ticks": ""
             }
            },
            "type": "scatter3d"
           }
          ],
          "scattercarpet": [
           {
            "marker": {
             "colorbar": {
              "outlinewidth": 0,
              "ticks": ""
             }
            },
            "type": "scattercarpet"
           }
          ],
          "scattergeo": [
           {
            "marker": {
             "colorbar": {
              "outlinewidth": 0,
              "ticks": ""
             }
            },
            "type": "scattergeo"
           }
          ],
          "scattergl": [
           {
            "marker": {
             "colorbar": {
              "outlinewidth": 0,
              "ticks": ""
             }
            },
            "type": "scattergl"
           }
          ],
          "scattermapbox": [
           {
            "marker": {
             "colorbar": {
              "outlinewidth": 0,
              "ticks": ""
             }
            },
            "type": "scattermapbox"
           }
          ],
          "scatterpolar": [
           {
            "marker": {
             "colorbar": {
              "outlinewidth": 0,
              "ticks": ""
             }
            },
            "type": "scatterpolar"
           }
          ],
          "scatterpolargl": [
           {
            "marker": {
             "colorbar": {
              "outlinewidth": 0,
              "ticks": ""
             }
            },
            "type": "scatterpolargl"
           }
          ],
          "scatterternary": [
           {
            "marker": {
             "colorbar": {
              "outlinewidth": 0,
              "ticks": ""
             }
            },
            "type": "scatterternary"
           }
          ],
          "surface": [
           {
            "colorbar": {
             "outlinewidth": 0,
             "ticks": ""
            },
            "colorscale": [
             [
              0,
              "#0d0887"
             ],
             [
              0.1111111111111111,
              "#46039f"
             ],
             [
              0.2222222222222222,
              "#7201a8"
             ],
             [
              0.3333333333333333,
              "#9c179e"
             ],
             [
              0.4444444444444444,
              "#bd3786"
             ],
             [
              0.5555555555555556,
              "#d8576b"
             ],
             [
              0.6666666666666666,
              "#ed7953"
             ],
             [
              0.7777777777777778,
              "#fb9f3a"
             ],
             [
              0.8888888888888888,
              "#fdca26"
             ],
             [
              1,
              "#f0f921"
             ]
            ],
            "type": "surface"
           }
          ],
          "table": [
           {
            "cells": {
             "fill": {
              "color": "#EBF0F8"
             },
             "line": {
              "color": "white"
             }
            },
            "header": {
             "fill": {
              "color": "#C8D4E3"
             },
             "line": {
              "color": "white"
             }
            },
            "type": "table"
           }
          ]
         },
         "layout": {
          "annotationdefaults": {
           "arrowcolor": "#2a3f5f",
           "arrowhead": 0,
           "arrowwidth": 1
          },
          "coloraxis": {
           "colorbar": {
            "outlinewidth": 0,
            "ticks": ""
           }
          },
          "colorscale": {
           "diverging": [
            [
             0,
             "#8e0152"
            ],
            [
             0.1,
             "#c51b7d"
            ],
            [
             0.2,
             "#de77ae"
            ],
            [
             0.3,
             "#f1b6da"
            ],
            [
             0.4,
             "#fde0ef"
            ],
            [
             0.5,
             "#f7f7f7"
            ],
            [
             0.6,
             "#e6f5d0"
            ],
            [
             0.7,
             "#b8e186"
            ],
            [
             0.8,
             "#7fbc41"
            ],
            [
             0.9,
             "#4d9221"
            ],
            [
             1,
             "#276419"
            ]
           ],
           "sequential": [
            [
             0,
             "#0d0887"
            ],
            [
             0.1111111111111111,
             "#46039f"
            ],
            [
             0.2222222222222222,
             "#7201a8"
            ],
            [
             0.3333333333333333,
             "#9c179e"
            ],
            [
             0.4444444444444444,
             "#bd3786"
            ],
            [
             0.5555555555555556,
             "#d8576b"
            ],
            [
             0.6666666666666666,
             "#ed7953"
            ],
            [
             0.7777777777777778,
             "#fb9f3a"
            ],
            [
             0.8888888888888888,
             "#fdca26"
            ],
            [
             1,
             "#f0f921"
            ]
           ],
           "sequentialminus": [
            [
             0,
             "#0d0887"
            ],
            [
             0.1111111111111111,
             "#46039f"
            ],
            [
             0.2222222222222222,
             "#7201a8"
            ],
            [
             0.3333333333333333,
             "#9c179e"
            ],
            [
             0.4444444444444444,
             "#bd3786"
            ],
            [
             0.5555555555555556,
             "#d8576b"
            ],
            [
             0.6666666666666666,
             "#ed7953"
            ],
            [
             0.7777777777777778,
             "#fb9f3a"
            ],
            [
             0.8888888888888888,
             "#fdca26"
            ],
            [
             1,
             "#f0f921"
            ]
           ]
          },
          "colorway": [
           "#636efa",
           "#EF553B",
           "#00cc96",
           "#ab63fa",
           "#FFA15A",
           "#19d3f3",
           "#FF6692",
           "#B6E880",
           "#FF97FF",
           "#FECB52"
          ],
          "font": {
           "color": "#2a3f5f"
          },
          "geo": {
           "bgcolor": "white",
           "lakecolor": "white",
           "landcolor": "#E5ECF6",
           "showlakes": true,
           "showland": true,
           "subunitcolor": "white"
          },
          "hoverlabel": {
           "align": "left"
          },
          "hovermode": "closest",
          "mapbox": {
           "style": "light"
          },
          "paper_bgcolor": "white",
          "plot_bgcolor": "#E5ECF6",
          "polar": {
           "angularaxis": {
            "gridcolor": "white",
            "linecolor": "white",
            "ticks": ""
           },
           "bgcolor": "#E5ECF6",
           "radialaxis": {
            "gridcolor": "white",
            "linecolor": "white",
            "ticks": ""
           }
          },
          "scene": {
           "xaxis": {
            "backgroundcolor": "#E5ECF6",
            "gridcolor": "white",
            "gridwidth": 2,
            "linecolor": "white",
            "showbackground": true,
            "ticks": "",
            "zerolinecolor": "white"
           },
           "yaxis": {
            "backgroundcolor": "#E5ECF6",
            "gridcolor": "white",
            "gridwidth": 2,
            "linecolor": "white",
            "showbackground": true,
            "ticks": "",
            "zerolinecolor": "white"
           },
           "zaxis": {
            "backgroundcolor": "#E5ECF6",
            "gridcolor": "white",
            "gridwidth": 2,
            "linecolor": "white",
            "showbackground": true,
            "ticks": "",
            "zerolinecolor": "white"
           }
          },
          "shapedefaults": {
           "line": {
            "color": "#2a3f5f"
           }
          },
          "ternary": {
           "aaxis": {
            "gridcolor": "white",
            "linecolor": "white",
            "ticks": ""
           },
           "baxis": {
            "gridcolor": "white",
            "linecolor": "white",
            "ticks": ""
           },
           "bgcolor": "#E5ECF6",
           "caxis": {
            "gridcolor": "white",
            "linecolor": "white",
            "ticks": ""
           }
          },
          "title": {
           "x": 0.05
          },
          "xaxis": {
           "automargin": true,
           "gridcolor": "white",
           "linecolor": "white",
           "ticks": "",
           "title": {
            "standoff": 15
           },
           "zerolinecolor": "white",
           "zerolinewidth": 2
          },
          "yaxis": {
           "automargin": true,
           "gridcolor": "white",
           "linecolor": "white",
           "ticks": "",
           "title": {
            "standoff": 15
           },
           "zerolinecolor": "white",
           "zerolinewidth": 2
          }
         }
        },
        "title": {
         "text": "Number of passengers per ailrine (yearly)"
        },
        "xaxis": {
         "categoryorder": "total descending",
         "tickmode": "linear"
        }
       }
      },
      "text/html": [
       "<div>                            <div id=\"9fe9fbcb-dbbd-4661-8f8a-b57daa790851\" class=\"plotly-graph-div\" style=\"height:525px; width:100%;\"></div>            <script type=\"text/javascript\">                require([\"plotly\"], function(Plotly) {                    window.PLOTLYENV=window.PLOTLYENV || {};                                    if (document.getElementById(\"9fe9fbcb-dbbd-4661-8f8a-b57daa790851\")) {                    Plotly.newPlot(                        \"9fe9fbcb-dbbd-4661-8f8a-b57daa790851\",                        [{\"marker\": {\"color\": \"ivory\"}, \"name\": \"2018 passengers\", \"type\": \"bar\", \"x\": [\"Alaska Airlines Inc.\", \"Allegiant Air\", \"American Airlines Inc.\", \"Delta Air Lines Inc.\", \"Frontier Airlines Inc.\", \"Hawaiian Airlines Inc.\", \"JetBlue Airways\", \"Southwest Airlines Co.\", \"Spirit Air Lines\", \"United Air Lines Inc.\", \"Virgin America\"], \"y\": [11447188.728571424, 9581580.666666659, 57609355.91269833, 44090106.47872119, 11396898.499999989, 8667154.5, 24424000.66666667, 78797825.6333334, 18194360.333333325, 22836730.27799424, 817001.6666666664]}, {\"marker\": {\"color\": \"lightblue\"}, \"name\": \"2019 passengers\", \"type\": \"bar\", \"x\": [\"Alaska Airlines Inc.\", \"Allegiant Air\", \"American Airlines Inc.\", \"Delta Air Lines Inc.\", \"Frontier Airlines Inc.\", \"Hawaiian Airlines Inc.\", \"JetBlue Airways\", \"Southwest Airlines Co.\", \"Spirit Air Lines\", \"United Air Lines Inc.\"], \"y\": [11627131.759523798, 11368211.83333333, 56550411.91468265, 51868430.29980025, 10349505.383333337, 9446597.333333334, 23822831.333333343, 82710598.83333337, 15727230.166666659, 21748241.394510467]}],                        {\"barmode\": \"group\", \"template\": {\"data\": {\"bar\": [{\"error_x\": {\"color\": \"#2a3f5f\"}, \"error_y\": {\"color\": \"#2a3f5f\"}, \"marker\": {\"line\": {\"color\": \"#E5ECF6\", \"width\": 0.5}}, \"type\": \"bar\"}], \"barpolar\": [{\"marker\": {\"line\": {\"color\": \"#E5ECF6\", \"width\": 0.5}}, \"type\": \"barpolar\"}], \"carpet\": [{\"aaxis\": {\"endlinecolor\": \"#2a3f5f\", \"gridcolor\": \"white\", \"linecolor\": \"white\", \"minorgridcolor\": \"white\", \"startlinecolor\": \"#2a3f5f\"}, \"baxis\": {\"endlinecolor\": \"#2a3f5f\", \"gridcolor\": \"white\", \"linecolor\": \"white\", \"minorgridcolor\": \"white\", \"startlinecolor\": \"#2a3f5f\"}, \"type\": \"carpet\"}], \"choropleth\": [{\"colorbar\": {\"outlinewidth\": 0, \"ticks\": \"\"}, \"type\": \"choropleth\"}], \"contour\": [{\"colorbar\": {\"outlinewidth\": 0, \"ticks\": \"\"}, \"colorscale\": [[0.0, \"#0d0887\"], [0.1111111111111111, \"#46039f\"], [0.2222222222222222, \"#7201a8\"], [0.3333333333333333, \"#9c179e\"], [0.4444444444444444, \"#bd3786\"], [0.5555555555555556, \"#d8576b\"], [0.6666666666666666, \"#ed7953\"], [0.7777777777777778, \"#fb9f3a\"], [0.8888888888888888, \"#fdca26\"], [1.0, \"#f0f921\"]], \"type\": \"contour\"}], \"contourcarpet\": [{\"colorbar\": {\"outlinewidth\": 0, \"ticks\": \"\"}, \"type\": \"contourcarpet\"}], \"heatmap\": [{\"colorbar\": {\"outlinewidth\": 0, \"ticks\": \"\"}, \"colorscale\": [[0.0, \"#0d0887\"], [0.1111111111111111, \"#46039f\"], [0.2222222222222222, \"#7201a8\"], [0.3333333333333333, \"#9c179e\"], [0.4444444444444444, \"#bd3786\"], [0.5555555555555556, \"#d8576b\"], [0.6666666666666666, \"#ed7953\"], [0.7777777777777778, \"#fb9f3a\"], [0.8888888888888888, \"#fdca26\"], [1.0, \"#f0f921\"]], \"type\": \"heatmap\"}], \"heatmapgl\": [{\"colorbar\": {\"outlinewidth\": 0, \"ticks\": \"\"}, \"colorscale\": [[0.0, \"#0d0887\"], [0.1111111111111111, \"#46039f\"], [0.2222222222222222, \"#7201a8\"], [0.3333333333333333, \"#9c179e\"], [0.4444444444444444, \"#bd3786\"], [0.5555555555555556, \"#d8576b\"], [0.6666666666666666, \"#ed7953\"], [0.7777777777777778, \"#fb9f3a\"], [0.8888888888888888, \"#fdca26\"], [1.0, \"#f0f921\"]], \"type\": \"heatmapgl\"}], \"histogram\": [{\"marker\": {\"colorbar\": {\"outlinewidth\": 0, \"ticks\": \"\"}}, \"type\": \"histogram\"}], \"histogram2d\": [{\"colorbar\": {\"outlinewidth\": 0, \"ticks\": \"\"}, \"colorscale\": [[0.0, \"#0d0887\"], [0.1111111111111111, \"#46039f\"], [0.2222222222222222, \"#7201a8\"], [0.3333333333333333, \"#9c179e\"], [0.4444444444444444, \"#bd3786\"], [0.5555555555555556, \"#d8576b\"], [0.6666666666666666, \"#ed7953\"], [0.7777777777777778, \"#fb9f3a\"], [0.8888888888888888, \"#fdca26\"], [1.0, \"#f0f921\"]], \"type\": \"histogram2d\"}], \"histogram2dcontour\": [{\"colorbar\": {\"outlinewidth\": 0, \"ticks\": \"\"}, \"colorscale\": [[0.0, \"#0d0887\"], [0.1111111111111111, \"#46039f\"], [0.2222222222222222, \"#7201a8\"], [0.3333333333333333, \"#9c179e\"], [0.4444444444444444, \"#bd3786\"], [0.5555555555555556, \"#d8576b\"], [0.6666666666666666, \"#ed7953\"], [0.7777777777777778, \"#fb9f3a\"], [0.8888888888888888, \"#fdca26\"], [1.0, \"#f0f921\"]], \"type\": \"histogram2dcontour\"}], \"mesh3d\": [{\"colorbar\": {\"outlinewidth\": 0, \"ticks\": \"\"}, \"type\": \"mesh3d\"}], \"parcoords\": [{\"line\": {\"colorbar\": {\"outlinewidth\": 0, \"ticks\": \"\"}}, \"type\": \"parcoords\"}], \"pie\": [{\"automargin\": true, \"type\": \"pie\"}], \"scatter\": [{\"marker\": {\"colorbar\": {\"outlinewidth\": 0, \"ticks\": \"\"}}, \"type\": \"scatter\"}], \"scatter3d\": [{\"line\": {\"colorbar\": {\"outlinewidth\": 0, \"ticks\": \"\"}}, \"marker\": {\"colorbar\": {\"outlinewidth\": 0, \"ticks\": \"\"}}, \"type\": \"scatter3d\"}], \"scattercarpet\": [{\"marker\": {\"colorbar\": {\"outlinewidth\": 0, \"ticks\": \"\"}}, \"type\": \"scattercarpet\"}], \"scattergeo\": [{\"marker\": {\"colorbar\": {\"outlinewidth\": 0, \"ticks\": \"\"}}, \"type\": \"scattergeo\"}], \"scattergl\": [{\"marker\": {\"colorbar\": {\"outlinewidth\": 0, \"ticks\": \"\"}}, \"type\": \"scattergl\"}], \"scattermapbox\": [{\"marker\": {\"colorbar\": {\"outlinewidth\": 0, \"ticks\": \"\"}}, \"type\": \"scattermapbox\"}], \"scatterpolar\": [{\"marker\": {\"colorbar\": {\"outlinewidth\": 0, \"ticks\": \"\"}}, \"type\": \"scatterpolar\"}], \"scatterpolargl\": [{\"marker\": {\"colorbar\": {\"outlinewidth\": 0, \"ticks\": \"\"}}, \"type\": \"scatterpolargl\"}], \"scatterternary\": [{\"marker\": {\"colorbar\": {\"outlinewidth\": 0, \"ticks\": \"\"}}, \"type\": \"scatterternary\"}], \"surface\": [{\"colorbar\": {\"outlinewidth\": 0, \"ticks\": \"\"}, \"colorscale\": [[0.0, \"#0d0887\"], [0.1111111111111111, \"#46039f\"], [0.2222222222222222, \"#7201a8\"], [0.3333333333333333, \"#9c179e\"], [0.4444444444444444, \"#bd3786\"], [0.5555555555555556, \"#d8576b\"], [0.6666666666666666, \"#ed7953\"], [0.7777777777777778, \"#fb9f3a\"], [0.8888888888888888, \"#fdca26\"], [1.0, \"#f0f921\"]], \"type\": \"surface\"}], \"table\": [{\"cells\": {\"fill\": {\"color\": \"#EBF0F8\"}, \"line\": {\"color\": \"white\"}}, \"header\": {\"fill\": {\"color\": \"#C8D4E3\"}, \"line\": {\"color\": \"white\"}}, \"type\": \"table\"}]}, \"layout\": {\"annotationdefaults\": {\"arrowcolor\": \"#2a3f5f\", \"arrowhead\": 0, \"arrowwidth\": 1}, \"coloraxis\": {\"colorbar\": {\"outlinewidth\": 0, \"ticks\": \"\"}}, \"colorscale\": {\"diverging\": [[0, \"#8e0152\"], [0.1, \"#c51b7d\"], [0.2, \"#de77ae\"], [0.3, \"#f1b6da\"], [0.4, \"#fde0ef\"], [0.5, \"#f7f7f7\"], [0.6, \"#e6f5d0\"], [0.7, \"#b8e186\"], [0.8, \"#7fbc41\"], [0.9, \"#4d9221\"], [1, \"#276419\"]], \"sequential\": [[0.0, \"#0d0887\"], [0.1111111111111111, \"#46039f\"], [0.2222222222222222, \"#7201a8\"], [0.3333333333333333, \"#9c179e\"], [0.4444444444444444, \"#bd3786\"], [0.5555555555555556, \"#d8576b\"], [0.6666666666666666, \"#ed7953\"], [0.7777777777777778, \"#fb9f3a\"], [0.8888888888888888, \"#fdca26\"], [1.0, \"#f0f921\"]], \"sequentialminus\": [[0.0, \"#0d0887\"], [0.1111111111111111, \"#46039f\"], [0.2222222222222222, \"#7201a8\"], [0.3333333333333333, \"#9c179e\"], [0.4444444444444444, \"#bd3786\"], [0.5555555555555556, \"#d8576b\"], [0.6666666666666666, \"#ed7953\"], [0.7777777777777778, \"#fb9f3a\"], [0.8888888888888888, \"#fdca26\"], [1.0, \"#f0f921\"]]}, \"colorway\": [\"#636efa\", \"#EF553B\", \"#00cc96\", \"#ab63fa\", \"#FFA15A\", \"#19d3f3\", \"#FF6692\", \"#B6E880\", \"#FF97FF\", \"#FECB52\"], \"font\": {\"color\": \"#2a3f5f\"}, \"geo\": {\"bgcolor\": \"white\", \"lakecolor\": \"white\", \"landcolor\": \"#E5ECF6\", \"showlakes\": true, \"showland\": true, \"subunitcolor\": \"white\"}, \"hoverlabel\": {\"align\": \"left\"}, \"hovermode\": \"closest\", \"mapbox\": {\"style\": \"light\"}, \"paper_bgcolor\": \"white\", \"plot_bgcolor\": \"#E5ECF6\", \"polar\": {\"angularaxis\": {\"gridcolor\": \"white\", \"linecolor\": \"white\", \"ticks\": \"\"}, \"bgcolor\": \"#E5ECF6\", \"radialaxis\": {\"gridcolor\": \"white\", \"linecolor\": \"white\", \"ticks\": \"\"}}, \"scene\": {\"xaxis\": {\"backgroundcolor\": \"#E5ECF6\", \"gridcolor\": \"white\", \"gridwidth\": 2, \"linecolor\": \"white\", \"showbackground\": true, \"ticks\": \"\", \"zerolinecolor\": \"white\"}, \"yaxis\": {\"backgroundcolor\": \"#E5ECF6\", \"gridcolor\": \"white\", \"gridwidth\": 2, \"linecolor\": \"white\", \"showbackground\": true, \"ticks\": \"\", \"zerolinecolor\": \"white\"}, \"zaxis\": {\"backgroundcolor\": \"#E5ECF6\", \"gridcolor\": \"white\", \"gridwidth\": 2, \"linecolor\": \"white\", \"showbackground\": true, \"ticks\": \"\", \"zerolinecolor\": \"white\"}}, \"shapedefaults\": {\"line\": {\"color\": \"#2a3f5f\"}}, \"ternary\": {\"aaxis\": {\"gridcolor\": \"white\", \"linecolor\": \"white\", \"ticks\": \"\"}, \"baxis\": {\"gridcolor\": \"white\", \"linecolor\": \"white\", \"ticks\": \"\"}, \"bgcolor\": \"#E5ECF6\", \"caxis\": {\"gridcolor\": \"white\", \"linecolor\": \"white\", \"ticks\": \"\"}}, \"title\": {\"x\": 0.05}, \"xaxis\": {\"automargin\": true, \"gridcolor\": \"white\", \"linecolor\": \"white\", \"ticks\": \"\", \"title\": {\"standoff\": 15}, \"zerolinecolor\": \"white\", \"zerolinewidth\": 2}, \"yaxis\": {\"automargin\": true, \"gridcolor\": \"white\", \"linecolor\": \"white\", \"ticks\": \"\", \"title\": {\"standoff\": 15}, \"zerolinecolor\": \"white\", \"zerolinewidth\": 2}}}, \"title\": {\"text\": \"Number of passengers per ailrine (yearly)\"}, \"xaxis\": {\"categoryorder\": \"total descending\", \"tickmode\": \"linear\"}},                        {\"responsive\": true}                    ).then(function(){\n",
       "                            \n",
       "var gd = document.getElementById('9fe9fbcb-dbbd-4661-8f8a-b57daa790851');\n",
       "var x = new MutationObserver(function (mutations, observer) {{\n",
       "        var display = window.getComputedStyle(gd).display;\n",
       "        if (!display || display === 'none') {{\n",
       "            console.log([gd, 'removed!']);\n",
       "            Plotly.purge(gd);\n",
       "            observer.disconnect();\n",
       "        }}\n",
       "}});\n",
       "\n",
       "// Listen for the removal of the full notebook cells\n",
       "var notebookContainer = gd.closest('#notebook-container');\n",
       "if (notebookContainer) {{\n",
       "    x.observe(notebookContainer, {childList: true});\n",
       "}}\n",
       "\n",
       "// Listen for the clearing of the current output cell\n",
       "var outputEl = gd.closest('.output');\n",
       "if (outputEl) {{\n",
       "    x.observe(outputEl, {childList: true});\n",
       "}}\n",
       "\n",
       "                        })                };                });            </script>        </div>"
      ]
     },
     "metadata": {},
     "output_type": "display_data"
    }
   ],
   "source": [
    "fig2 = go.Figure(data=[\n",
    "    go.Bar(name='2018 passengers', x=passengers2018['carrier_name'], y=passengers2018['passengers'], \n",
    "           marker_color=\"ivory\"),\n",
    "    go.Bar(name='2019 passengers', x=passengers2019['carrier_name'], y=passengers2019['passengers'],\n",
    "          marker_color=\"lightblue\")\n",
    "])\n",
    "# Change the bar mode\n",
    "fig2.update_layout(barmode='group',\n",
    "                 xaxis=dict(\n",
    "                 tickmode=\"linear\",\n",
    "                 categoryorder=\"total descending\"),\n",
    "                  title=\"Number of passengers per ailrine (yearly)\")\n",
    "fig2.show()"
   ]
  },
  {
   "cell_type": "code",
   "execution_count": 151,
   "metadata": {},
   "outputs": [
    {
     "data": {
      "text/plain": [
       "'https://plotly.com/~yonsa/28/'"
      ]
     },
     "execution_count": 151,
     "metadata": {},
     "output_type": "execute_result"
    }
   ],
   "source": [
    "cs.plot(fig2, filename=\"number_of_passengers_per_airline\")"
   ]
  },
  {
   "cell_type": "code",
   "execution_count": null,
   "metadata": {},
   "outputs": [],
   "source": [
    "##Find out total fuel comsumption per air carrier."
   ]
  },
  {
   "cell_type": "code",
   "execution_count": 156,
   "metadata": {},
   "outputs": [],
   "source": [
    "df = query(\"\"\"SELECT * FROM fuel_comsumption \n",
    "                WHERE year >= 2018\"\"\")"
   ]
  },
  {
   "cell_type": "code",
   "execution_count": 157,
   "metadata": {},
   "outputs": [
    {
     "data": {
      "text/html": [
       "<div>\n",
       "<style scoped>\n",
       "    .dataframe tbody tr th:only-of-type {\n",
       "        vertical-align: middle;\n",
       "    }\n",
       "\n",
       "    .dataframe tbody tr th {\n",
       "        vertical-align: top;\n",
       "    }\n",
       "\n",
       "    .dataframe thead th {\n",
       "        text-align: right;\n",
       "    }\n",
       "</style>\n",
       "<table border=\"1\" class=\"dataframe\">\n",
       "  <thead>\n",
       "    <tr style=\"text-align: right;\">\n",
       "      <th></th>\n",
       "      <th>month</th>\n",
       "      <th>airline_id</th>\n",
       "      <th>unique_carrier</th>\n",
       "      <th>carrier</th>\n",
       "      <th>carrier_name</th>\n",
       "      <th>carrier_group_new</th>\n",
       "      <th>sdomt_gallons</th>\n",
       "      <th>satl_gallons</th>\n",
       "      <th>spac_gallons</th>\n",
       "      <th>slat_gallons</th>\n",
       "      <th>...</th>\n",
       "      <th>sdomt_cost</th>\n",
       "      <th>satl_cost</th>\n",
       "      <th>spac_cost</th>\n",
       "      <th>slat_cost</th>\n",
       "      <th>sint_cost</th>\n",
       "      <th>ts_cost</th>\n",
       "      <th>tdomt_cost</th>\n",
       "      <th>tint_cost</th>\n",
       "      <th>total_cost</th>\n",
       "      <th>year</th>\n",
       "    </tr>\n",
       "  </thead>\n",
       "  <tbody>\n",
       "    <tr>\n",
       "      <th>0</th>\n",
       "      <td>1</td>\n",
       "      <td>21161.0</td>\n",
       "      <td>09Q</td>\n",
       "      <td>09Q</td>\n",
       "      <td>Swift Air, LLC d/b/a Eastern Air Lines d/b/a E...</td>\n",
       "      <td>2</td>\n",
       "      <td>0.0</td>\n",
       "      <td>0.0</td>\n",
       "      <td>0.0</td>\n",
       "      <td>0.0</td>\n",
       "      <td>...</td>\n",
       "      <td>0.0</td>\n",
       "      <td>0.0</td>\n",
       "      <td>0.0</td>\n",
       "      <td>0.0</td>\n",
       "      <td>0.0</td>\n",
       "      <td>0.0</td>\n",
       "      <td>1831212.0</td>\n",
       "      <td>1618745.0</td>\n",
       "      <td>3449957.0</td>\n",
       "      <td>2019</td>\n",
       "    </tr>\n",
       "    <tr>\n",
       "      <th>1</th>\n",
       "      <td>1</td>\n",
       "      <td>21352.0</td>\n",
       "      <td>0WQ</td>\n",
       "      <td>0WQ</td>\n",
       "      <td>Avjet Corporation</td>\n",
       "      <td>1</td>\n",
       "      <td>0.0</td>\n",
       "      <td>0.0</td>\n",
       "      <td>0.0</td>\n",
       "      <td>0.0</td>\n",
       "      <td>...</td>\n",
       "      <td>0.0</td>\n",
       "      <td>0.0</td>\n",
       "      <td>0.0</td>\n",
       "      <td>0.0</td>\n",
       "      <td>0.0</td>\n",
       "      <td>0.0</td>\n",
       "      <td>0.0</td>\n",
       "      <td>0.0</td>\n",
       "      <td>0.0</td>\n",
       "      <td>2019</td>\n",
       "    </tr>\n",
       "    <tr>\n",
       "      <th>2</th>\n",
       "      <td>1</td>\n",
       "      <td>21492.0</td>\n",
       "      <td>1BQ</td>\n",
       "      <td>1BQ</td>\n",
       "      <td>Eastern Airlines f/k/a Dynamic Airways, LLC</td>\n",
       "      <td>1</td>\n",
       "      <td>0.0</td>\n",
       "      <td>0.0</td>\n",
       "      <td>0.0</td>\n",
       "      <td>0.0</td>\n",
       "      <td>...</td>\n",
       "      <td>0.0</td>\n",
       "      <td>0.0</td>\n",
       "      <td>0.0</td>\n",
       "      <td>0.0</td>\n",
       "      <td>0.0</td>\n",
       "      <td>0.0</td>\n",
       "      <td>102795.0</td>\n",
       "      <td>74193.0</td>\n",
       "      <td>176988.0</td>\n",
       "      <td>2019</td>\n",
       "    </tr>\n",
       "    <tr>\n",
       "      <th>3</th>\n",
       "      <td>1</td>\n",
       "      <td>21652.0</td>\n",
       "      <td>27Q</td>\n",
       "      <td>27Q</td>\n",
       "      <td>Jet Aviation Flight Services, Inc.</td>\n",
       "      <td>1</td>\n",
       "      <td>0.0</td>\n",
       "      <td>0.0</td>\n",
       "      <td>0.0</td>\n",
       "      <td>0.0</td>\n",
       "      <td>...</td>\n",
       "      <td>0.0</td>\n",
       "      <td>0.0</td>\n",
       "      <td>0.0</td>\n",
       "      <td>0.0</td>\n",
       "      <td>0.0</td>\n",
       "      <td>0.0</td>\n",
       "      <td>0.0</td>\n",
       "      <td>0.0</td>\n",
       "      <td>0.0</td>\n",
       "      <td>2019</td>\n",
       "    </tr>\n",
       "    <tr>\n",
       "      <th>4</th>\n",
       "      <td>1</td>\n",
       "      <td>21712.0</td>\n",
       "      <td>2HQ</td>\n",
       "      <td>2HQ</td>\n",
       "      <td>Elite Airways LLC</td>\n",
       "      <td>1</td>\n",
       "      <td>66815.0</td>\n",
       "      <td>0.0</td>\n",
       "      <td>0.0</td>\n",
       "      <td>0.0</td>\n",
       "      <td>...</td>\n",
       "      <td>175499.0</td>\n",
       "      <td>0.0</td>\n",
       "      <td>0.0</td>\n",
       "      <td>0.0</td>\n",
       "      <td>0.0</td>\n",
       "      <td>175499.0</td>\n",
       "      <td>1518919.0</td>\n",
       "      <td>0.0</td>\n",
       "      <td>1518919.0</td>\n",
       "      <td>2019</td>\n",
       "    </tr>\n",
       "    <tr>\n",
       "      <th>...</th>\n",
       "      <td>...</td>\n",
       "      <td>...</td>\n",
       "      <td>...</td>\n",
       "      <td>...</td>\n",
       "      <td>...</td>\n",
       "      <td>...</td>\n",
       "      <td>...</td>\n",
       "      <td>...</td>\n",
       "      <td>...</td>\n",
       "      <td>...</td>\n",
       "      <td>...</td>\n",
       "      <td>...</td>\n",
       "      <td>...</td>\n",
       "      <td>...</td>\n",
       "      <td>...</td>\n",
       "      <td>...</td>\n",
       "      <td>...</td>\n",
       "      <td>...</td>\n",
       "      <td>...</td>\n",
       "      <td>...</td>\n",
       "      <td>...</td>\n",
       "    </tr>\n",
       "    <tr>\n",
       "      <th>1053</th>\n",
       "      <td>12</td>\n",
       "      <td>20377.0</td>\n",
       "      <td>X9</td>\n",
       "      <td>X9</td>\n",
       "      <td>Omni Air International LLC</td>\n",
       "      <td>2</td>\n",
       "      <td>0.0</td>\n",
       "      <td>0.0</td>\n",
       "      <td>0.0</td>\n",
       "      <td>0.0</td>\n",
       "      <td>...</td>\n",
       "      <td>0.0</td>\n",
       "      <td>0.0</td>\n",
       "      <td>0.0</td>\n",
       "      <td>0.0</td>\n",
       "      <td>0.0</td>\n",
       "      <td>0.0</td>\n",
       "      <td>1584314.0</td>\n",
       "      <td>4588387.0</td>\n",
       "      <td>6172701.0</td>\n",
       "      <td>2018</td>\n",
       "    </tr>\n",
       "    <tr>\n",
       "      <th>1054</th>\n",
       "      <td>12</td>\n",
       "      <td>20207.0</td>\n",
       "      <td>XP</td>\n",
       "      <td>XP</td>\n",
       "      <td>XTRA Airways</td>\n",
       "      <td>1</td>\n",
       "      <td>0.0</td>\n",
       "      <td>0.0</td>\n",
       "      <td>0.0</td>\n",
       "      <td>0.0</td>\n",
       "      <td>...</td>\n",
       "      <td>0.0</td>\n",
       "      <td>0.0</td>\n",
       "      <td>0.0</td>\n",
       "      <td>0.0</td>\n",
       "      <td>0.0</td>\n",
       "      <td>0.0</td>\n",
       "      <td>0.0</td>\n",
       "      <td>0.0</td>\n",
       "      <td>0.0</td>\n",
       "      <td>2018</td>\n",
       "    </tr>\n",
       "    <tr>\n",
       "      <th>1055</th>\n",
       "      <td>12</td>\n",
       "      <td>20378.0</td>\n",
       "      <td>YV</td>\n",
       "      <td>YV</td>\n",
       "      <td>Mesa Airlines Inc.</td>\n",
       "      <td>2</td>\n",
       "      <td>0.0</td>\n",
       "      <td>0.0</td>\n",
       "      <td>0.0</td>\n",
       "      <td>0.0</td>\n",
       "      <td>...</td>\n",
       "      <td>0.0</td>\n",
       "      <td>0.0</td>\n",
       "      <td>0.0</td>\n",
       "      <td>0.0</td>\n",
       "      <td>0.0</td>\n",
       "      <td>0.0</td>\n",
       "      <td>0.0</td>\n",
       "      <td>0.0</td>\n",
       "      <td>0.0</td>\n",
       "      <td>2018</td>\n",
       "    </tr>\n",
       "    <tr>\n",
       "      <th>1056</th>\n",
       "      <td>12</td>\n",
       "      <td>20452.0</td>\n",
       "      <td>YX</td>\n",
       "      <td>YX</td>\n",
       "      <td>Republic Airline</td>\n",
       "      <td>2</td>\n",
       "      <td>21048.0</td>\n",
       "      <td>0.0</td>\n",
       "      <td>0.0</td>\n",
       "      <td>0.0</td>\n",
       "      <td>...</td>\n",
       "      <td>50043.0</td>\n",
       "      <td>0.0</td>\n",
       "      <td>0.0</td>\n",
       "      <td>0.0</td>\n",
       "      <td>0.0</td>\n",
       "      <td>50043.0</td>\n",
       "      <td>50043.0</td>\n",
       "      <td>0.0</td>\n",
       "      <td>50043.0</td>\n",
       "      <td>2018</td>\n",
       "    </tr>\n",
       "    <tr>\n",
       "      <th>1057</th>\n",
       "      <td>12</td>\n",
       "      <td>19393.0</td>\n",
       "      <td>WN</td>\n",
       "      <td>WN</td>\n",
       "      <td>Southwest Airlines Co.</td>\n",
       "      <td>3</td>\n",
       "      <td>173203901.0</td>\n",
       "      <td>0.0</td>\n",
       "      <td>0.0</td>\n",
       "      <td>2440902.0</td>\n",
       "      <td>...</td>\n",
       "      <td>351339537.0</td>\n",
       "      <td>0.0</td>\n",
       "      <td>0.0</td>\n",
       "      <td>5730304.0</td>\n",
       "      <td>5730304.0</td>\n",
       "      <td>357069841.0</td>\n",
       "      <td>351820604.0</td>\n",
       "      <td>5730304.0</td>\n",
       "      <td>357550908.0</td>\n",
       "      <td>2018</td>\n",
       "    </tr>\n",
       "  </tbody>\n",
       "</table>\n",
       "<p>1058 rows × 25 columns</p>\n",
       "</div>"
      ],
      "text/plain": [
       "      month  airline_id unique_carrier carrier  \\\n",
       "0         1     21161.0            09Q     09Q   \n",
       "1         1     21352.0            0WQ     0WQ   \n",
       "2         1     21492.0            1BQ     1BQ   \n",
       "3         1     21652.0            27Q     27Q   \n",
       "4         1     21712.0            2HQ     2HQ   \n",
       "...     ...         ...            ...     ...   \n",
       "1053     12     20377.0             X9      X9   \n",
       "1054     12     20207.0             XP      XP   \n",
       "1055     12     20378.0             YV      YV   \n",
       "1056     12     20452.0             YX      YX   \n",
       "1057     12     19393.0             WN      WN   \n",
       "\n",
       "                                           carrier_name  carrier_group_new  \\\n",
       "0     Swift Air, LLC d/b/a Eastern Air Lines d/b/a E...                  2   \n",
       "1                                     Avjet Corporation                  1   \n",
       "2           Eastern Airlines f/k/a Dynamic Airways, LLC                  1   \n",
       "3                    Jet Aviation Flight Services, Inc.                  1   \n",
       "4                                     Elite Airways LLC                  1   \n",
       "...                                                 ...                ...   \n",
       "1053                         Omni Air International LLC                  2   \n",
       "1054                                       XTRA Airways                  1   \n",
       "1055                                 Mesa Airlines Inc.                  2   \n",
       "1056                                   Republic Airline                  2   \n",
       "1057                             Southwest Airlines Co.                  3   \n",
       "\n",
       "      sdomt_gallons  satl_gallons  spac_gallons  slat_gallons  ...  \\\n",
       "0               0.0           0.0           0.0           0.0  ...   \n",
       "1               0.0           0.0           0.0           0.0  ...   \n",
       "2               0.0           0.0           0.0           0.0  ...   \n",
       "3               0.0           0.0           0.0           0.0  ...   \n",
       "4           66815.0           0.0           0.0           0.0  ...   \n",
       "...             ...           ...           ...           ...  ...   \n",
       "1053            0.0           0.0           0.0           0.0  ...   \n",
       "1054            0.0           0.0           0.0           0.0  ...   \n",
       "1055            0.0           0.0           0.0           0.0  ...   \n",
       "1056        21048.0           0.0           0.0           0.0  ...   \n",
       "1057    173203901.0           0.0           0.0     2440902.0  ...   \n",
       "\n",
       "       sdomt_cost  satl_cost  spac_cost  slat_cost  sint_cost      ts_cost  \\\n",
       "0             0.0        0.0        0.0        0.0        0.0          0.0   \n",
       "1             0.0        0.0        0.0        0.0        0.0          0.0   \n",
       "2             0.0        0.0        0.0        0.0        0.0          0.0   \n",
       "3             0.0        0.0        0.0        0.0        0.0          0.0   \n",
       "4        175499.0        0.0        0.0        0.0        0.0     175499.0   \n",
       "...           ...        ...        ...        ...        ...          ...   \n",
       "1053          0.0        0.0        0.0        0.0        0.0          0.0   \n",
       "1054          0.0        0.0        0.0        0.0        0.0          0.0   \n",
       "1055          0.0        0.0        0.0        0.0        0.0          0.0   \n",
       "1056      50043.0        0.0        0.0        0.0        0.0      50043.0   \n",
       "1057  351339537.0        0.0        0.0  5730304.0  5730304.0  357069841.0   \n",
       "\n",
       "       tdomt_cost  tint_cost   total_cost  year  \n",
       "0       1831212.0  1618745.0    3449957.0  2019  \n",
       "1             0.0        0.0          0.0  2019  \n",
       "2        102795.0    74193.0     176988.0  2019  \n",
       "3             0.0        0.0          0.0  2019  \n",
       "4       1518919.0        0.0    1518919.0  2019  \n",
       "...           ...        ...          ...   ...  \n",
       "1053    1584314.0  4588387.0    6172701.0  2018  \n",
       "1054          0.0        0.0          0.0  2018  \n",
       "1055          0.0        0.0          0.0  2018  \n",
       "1056      50043.0        0.0      50043.0  2018  \n",
       "1057  351820604.0  5730304.0  357550908.0  2018  \n",
       "\n",
       "[1058 rows x 25 columns]"
      ]
     },
     "execution_count": 157,
     "metadata": {},
     "output_type": "execute_result"
    }
   ],
   "source": [
    "df"
   ]
  },
  {
   "cell_type": "code",
   "execution_count": 158,
   "metadata": {},
   "outputs": [],
   "source": [
    "to_get_fuel = df.groupby(['carrier_name', 'month', 'year']).sum().copy()"
   ]
  },
  {
   "cell_type": "code",
   "execution_count": 159,
   "metadata": {},
   "outputs": [],
   "source": [
    "to_get_fuel = to_get_fuel.reset_index()"
   ]
  },
  {
   "cell_type": "code",
   "execution_count": 160,
   "metadata": {},
   "outputs": [
    {
     "data": {
      "text/html": [
       "<div>\n",
       "<style scoped>\n",
       "    .dataframe tbody tr th:only-of-type {\n",
       "        vertical-align: middle;\n",
       "    }\n",
       "\n",
       "    .dataframe tbody tr th {\n",
       "        vertical-align: top;\n",
       "    }\n",
       "\n",
       "    .dataframe thead th {\n",
       "        text-align: right;\n",
       "    }\n",
       "</style>\n",
       "<table border=\"1\" class=\"dataframe\">\n",
       "  <thead>\n",
       "    <tr style=\"text-align: right;\">\n",
       "      <th></th>\n",
       "      <th>carrier_name</th>\n",
       "      <th>month</th>\n",
       "      <th>year</th>\n",
       "      <th>airline_id</th>\n",
       "      <th>carrier_group_new</th>\n",
       "      <th>sdomt_gallons</th>\n",
       "      <th>satl_gallons</th>\n",
       "      <th>spac_gallons</th>\n",
       "      <th>slat_gallons</th>\n",
       "      <th>sint_gallons</th>\n",
       "      <th>...</th>\n",
       "      <th>total_gallons</th>\n",
       "      <th>sdomt_cost</th>\n",
       "      <th>satl_cost</th>\n",
       "      <th>spac_cost</th>\n",
       "      <th>slat_cost</th>\n",
       "      <th>sint_cost</th>\n",
       "      <th>ts_cost</th>\n",
       "      <th>tdomt_cost</th>\n",
       "      <th>tint_cost</th>\n",
       "      <th>total_cost</th>\n",
       "    </tr>\n",
       "  </thead>\n",
       "  <tbody>\n",
       "    <tr>\n",
       "      <th>0</th>\n",
       "      <td>ABX Air Inc</td>\n",
       "      <td>1</td>\n",
       "      <td>2018</td>\n",
       "      <td>20453.0</td>\n",
       "      <td>2</td>\n",
       "      <td>44160.0</td>\n",
       "      <td>0.0</td>\n",
       "      <td>0.0</td>\n",
       "      <td>0.0</td>\n",
       "      <td>0.0</td>\n",
       "      <td>...</td>\n",
       "      <td>44160.0</td>\n",
       "      <td>100111.0</td>\n",
       "      <td>0.0</td>\n",
       "      <td>0.0</td>\n",
       "      <td>0.0</td>\n",
       "      <td>0.0</td>\n",
       "      <td>100111.0</td>\n",
       "      <td>100111.0</td>\n",
       "      <td>0.0</td>\n",
       "      <td>100111.0</td>\n",
       "    </tr>\n",
       "    <tr>\n",
       "      <th>1</th>\n",
       "      <td>ABX Air Inc</td>\n",
       "      <td>1</td>\n",
       "      <td>2019</td>\n",
       "      <td>20453.0</td>\n",
       "      <td>2</td>\n",
       "      <td>229897.0</td>\n",
       "      <td>0.0</td>\n",
       "      <td>0.0</td>\n",
       "      <td>0.0</td>\n",
       "      <td>0.0</td>\n",
       "      <td>...</td>\n",
       "      <td>229897.0</td>\n",
       "      <td>443700.0</td>\n",
       "      <td>0.0</td>\n",
       "      <td>0.0</td>\n",
       "      <td>0.0</td>\n",
       "      <td>0.0</td>\n",
       "      <td>443700.0</td>\n",
       "      <td>443700.0</td>\n",
       "      <td>0.0</td>\n",
       "      <td>443700.0</td>\n",
       "    </tr>\n",
       "    <tr>\n",
       "      <th>2</th>\n",
       "      <td>ABX Air Inc</td>\n",
       "      <td>2</td>\n",
       "      <td>2018</td>\n",
       "      <td>20453.0</td>\n",
       "      <td>2</td>\n",
       "      <td>52160.0</td>\n",
       "      <td>0.0</td>\n",
       "      <td>0.0</td>\n",
       "      <td>0.0</td>\n",
       "      <td>0.0</td>\n",
       "      <td>...</td>\n",
       "      <td>52160.0</td>\n",
       "      <td>109537.0</td>\n",
       "      <td>0.0</td>\n",
       "      <td>0.0</td>\n",
       "      <td>0.0</td>\n",
       "      <td>0.0</td>\n",
       "      <td>109537.0</td>\n",
       "      <td>109537.0</td>\n",
       "      <td>0.0</td>\n",
       "      <td>109537.0</td>\n",
       "    </tr>\n",
       "    <tr>\n",
       "      <th>3</th>\n",
       "      <td>ABX Air Inc</td>\n",
       "      <td>2</td>\n",
       "      <td>2019</td>\n",
       "      <td>20453.0</td>\n",
       "      <td>2</td>\n",
       "      <td>147714.0</td>\n",
       "      <td>0.0</td>\n",
       "      <td>0.0</td>\n",
       "      <td>0.0</td>\n",
       "      <td>0.0</td>\n",
       "      <td>...</td>\n",
       "      <td>147714.0</td>\n",
       "      <td>0.0</td>\n",
       "      <td>0.0</td>\n",
       "      <td>0.0</td>\n",
       "      <td>0.0</td>\n",
       "      <td>0.0</td>\n",
       "      <td>0.0</td>\n",
       "      <td>0.0</td>\n",
       "      <td>0.0</td>\n",
       "      <td>0.0</td>\n",
       "    </tr>\n",
       "    <tr>\n",
       "      <th>4</th>\n",
       "      <td>ABX Air Inc</td>\n",
       "      <td>3</td>\n",
       "      <td>2018</td>\n",
       "      <td>20453.0</td>\n",
       "      <td>2</td>\n",
       "      <td>61992.0</td>\n",
       "      <td>0.0</td>\n",
       "      <td>0.0</td>\n",
       "      <td>0.0</td>\n",
       "      <td>0.0</td>\n",
       "      <td>...</td>\n",
       "      <td>61992.0</td>\n",
       "      <td>125224.0</td>\n",
       "      <td>0.0</td>\n",
       "      <td>0.0</td>\n",
       "      <td>0.0</td>\n",
       "      <td>0.0</td>\n",
       "      <td>125224.0</td>\n",
       "      <td>125224.0</td>\n",
       "      <td>0.0</td>\n",
       "      <td>125224.0</td>\n",
       "    </tr>\n",
       "    <tr>\n",
       "      <th>...</th>\n",
       "      <td>...</td>\n",
       "      <td>...</td>\n",
       "      <td>...</td>\n",
       "      <td>...</td>\n",
       "      <td>...</td>\n",
       "      <td>...</td>\n",
       "      <td>...</td>\n",
       "      <td>...</td>\n",
       "      <td>...</td>\n",
       "      <td>...</td>\n",
       "      <td>...</td>\n",
       "      <td>...</td>\n",
       "      <td>...</td>\n",
       "      <td>...</td>\n",
       "      <td>...</td>\n",
       "      <td>...</td>\n",
       "      <td>...</td>\n",
       "      <td>...</td>\n",
       "      <td>...</td>\n",
       "      <td>...</td>\n",
       "      <td>...</td>\n",
       "    </tr>\n",
       "    <tr>\n",
       "      <th>1053</th>\n",
       "      <td>XTRA Airways</td>\n",
       "      <td>8</td>\n",
       "      <td>2019</td>\n",
       "      <td>20207.0</td>\n",
       "      <td>1</td>\n",
       "      <td>0.0</td>\n",
       "      <td>0.0</td>\n",
       "      <td>0.0</td>\n",
       "      <td>0.0</td>\n",
       "      <td>0.0</td>\n",
       "      <td>...</td>\n",
       "      <td>0.0</td>\n",
       "      <td>0.0</td>\n",
       "      <td>0.0</td>\n",
       "      <td>0.0</td>\n",
       "      <td>0.0</td>\n",
       "      <td>0.0</td>\n",
       "      <td>0.0</td>\n",
       "      <td>0.0</td>\n",
       "      <td>0.0</td>\n",
       "      <td>0.0</td>\n",
       "    </tr>\n",
       "    <tr>\n",
       "      <th>1054</th>\n",
       "      <td>XTRA Airways</td>\n",
       "      <td>9</td>\n",
       "      <td>2018</td>\n",
       "      <td>20207.0</td>\n",
       "      <td>1</td>\n",
       "      <td>0.0</td>\n",
       "      <td>0.0</td>\n",
       "      <td>0.0</td>\n",
       "      <td>0.0</td>\n",
       "      <td>0.0</td>\n",
       "      <td>...</td>\n",
       "      <td>0.0</td>\n",
       "      <td>0.0</td>\n",
       "      <td>0.0</td>\n",
       "      <td>0.0</td>\n",
       "      <td>0.0</td>\n",
       "      <td>0.0</td>\n",
       "      <td>0.0</td>\n",
       "      <td>0.0</td>\n",
       "      <td>0.0</td>\n",
       "      <td>0.0</td>\n",
       "    </tr>\n",
       "    <tr>\n",
       "      <th>1055</th>\n",
       "      <td>XTRA Airways</td>\n",
       "      <td>9</td>\n",
       "      <td>2019</td>\n",
       "      <td>20207.0</td>\n",
       "      <td>1</td>\n",
       "      <td>0.0</td>\n",
       "      <td>0.0</td>\n",
       "      <td>0.0</td>\n",
       "      <td>0.0</td>\n",
       "      <td>0.0</td>\n",
       "      <td>...</td>\n",
       "      <td>0.0</td>\n",
       "      <td>0.0</td>\n",
       "      <td>0.0</td>\n",
       "      <td>0.0</td>\n",
       "      <td>0.0</td>\n",
       "      <td>0.0</td>\n",
       "      <td>0.0</td>\n",
       "      <td>0.0</td>\n",
       "      <td>0.0</td>\n",
       "      <td>0.0</td>\n",
       "    </tr>\n",
       "    <tr>\n",
       "      <th>1056</th>\n",
       "      <td>XTRA Airways</td>\n",
       "      <td>11</td>\n",
       "      <td>2018</td>\n",
       "      <td>20207.0</td>\n",
       "      <td>1</td>\n",
       "      <td>0.0</td>\n",
       "      <td>0.0</td>\n",
       "      <td>0.0</td>\n",
       "      <td>0.0</td>\n",
       "      <td>0.0</td>\n",
       "      <td>...</td>\n",
       "      <td>1581.0</td>\n",
       "      <td>0.0</td>\n",
       "      <td>0.0</td>\n",
       "      <td>0.0</td>\n",
       "      <td>0.0</td>\n",
       "      <td>0.0</td>\n",
       "      <td>0.0</td>\n",
       "      <td>4851.0</td>\n",
       "      <td>0.0</td>\n",
       "      <td>4851.0</td>\n",
       "    </tr>\n",
       "    <tr>\n",
       "      <th>1057</th>\n",
       "      <td>XTRA Airways</td>\n",
       "      <td>12</td>\n",
       "      <td>2018</td>\n",
       "      <td>20207.0</td>\n",
       "      <td>1</td>\n",
       "      <td>0.0</td>\n",
       "      <td>0.0</td>\n",
       "      <td>0.0</td>\n",
       "      <td>0.0</td>\n",
       "      <td>0.0</td>\n",
       "      <td>...</td>\n",
       "      <td>0.0</td>\n",
       "      <td>0.0</td>\n",
       "      <td>0.0</td>\n",
       "      <td>0.0</td>\n",
       "      <td>0.0</td>\n",
       "      <td>0.0</td>\n",
       "      <td>0.0</td>\n",
       "      <td>0.0</td>\n",
       "      <td>0.0</td>\n",
       "      <td>0.0</td>\n",
       "    </tr>\n",
       "  </tbody>\n",
       "</table>\n",
       "<p>1058 rows × 23 columns</p>\n",
       "</div>"
      ],
      "text/plain": [
       "      carrier_name  month  year  airline_id  carrier_group_new  sdomt_gallons  \\\n",
       "0      ABX Air Inc      1  2018     20453.0                  2        44160.0   \n",
       "1      ABX Air Inc      1  2019     20453.0                  2       229897.0   \n",
       "2      ABX Air Inc      2  2018     20453.0                  2        52160.0   \n",
       "3      ABX Air Inc      2  2019     20453.0                  2       147714.0   \n",
       "4      ABX Air Inc      3  2018     20453.0                  2        61992.0   \n",
       "...            ...    ...   ...         ...                ...            ...   \n",
       "1053  XTRA Airways      8  2019     20207.0                  1            0.0   \n",
       "1054  XTRA Airways      9  2018     20207.0                  1            0.0   \n",
       "1055  XTRA Airways      9  2019     20207.0                  1            0.0   \n",
       "1056  XTRA Airways     11  2018     20207.0                  1            0.0   \n",
       "1057  XTRA Airways     12  2018     20207.0                  1            0.0   \n",
       "\n",
       "      satl_gallons  spac_gallons  slat_gallons  sint_gallons  ...  \\\n",
       "0              0.0           0.0           0.0           0.0  ...   \n",
       "1              0.0           0.0           0.0           0.0  ...   \n",
       "2              0.0           0.0           0.0           0.0  ...   \n",
       "3              0.0           0.0           0.0           0.0  ...   \n",
       "4              0.0           0.0           0.0           0.0  ...   \n",
       "...            ...           ...           ...           ...  ...   \n",
       "1053           0.0           0.0           0.0           0.0  ...   \n",
       "1054           0.0           0.0           0.0           0.0  ...   \n",
       "1055           0.0           0.0           0.0           0.0  ...   \n",
       "1056           0.0           0.0           0.0           0.0  ...   \n",
       "1057           0.0           0.0           0.0           0.0  ...   \n",
       "\n",
       "      total_gallons  sdomt_cost  satl_cost  spac_cost  slat_cost  sint_cost  \\\n",
       "0           44160.0    100111.0        0.0        0.0        0.0        0.0   \n",
       "1          229897.0    443700.0        0.0        0.0        0.0        0.0   \n",
       "2           52160.0    109537.0        0.0        0.0        0.0        0.0   \n",
       "3          147714.0         0.0        0.0        0.0        0.0        0.0   \n",
       "4           61992.0    125224.0        0.0        0.0        0.0        0.0   \n",
       "...             ...         ...        ...        ...        ...        ...   \n",
       "1053            0.0         0.0        0.0        0.0        0.0        0.0   \n",
       "1054            0.0         0.0        0.0        0.0        0.0        0.0   \n",
       "1055            0.0         0.0        0.0        0.0        0.0        0.0   \n",
       "1056         1581.0         0.0        0.0        0.0        0.0        0.0   \n",
       "1057            0.0         0.0        0.0        0.0        0.0        0.0   \n",
       "\n",
       "       ts_cost  tdomt_cost  tint_cost  total_cost  \n",
       "0     100111.0    100111.0        0.0    100111.0  \n",
       "1     443700.0    443700.0        0.0    443700.0  \n",
       "2     109537.0    109537.0        0.0    109537.0  \n",
       "3          0.0         0.0        0.0         0.0  \n",
       "4     125224.0    125224.0        0.0    125224.0  \n",
       "...        ...         ...        ...         ...  \n",
       "1053       0.0         0.0        0.0         0.0  \n",
       "1054       0.0         0.0        0.0         0.0  \n",
       "1055       0.0         0.0        0.0         0.0  \n",
       "1056       0.0      4851.0        0.0      4851.0  \n",
       "1057       0.0         0.0        0.0         0.0  \n",
       "\n",
       "[1058 rows x 23 columns]"
      ]
     },
     "execution_count": 160,
     "metadata": {},
     "output_type": "execute_result"
    }
   ],
   "source": [
    "to_get_fuel"
   ]
  },
  {
   "cell_type": "code",
   "execution_count": 161,
   "metadata": {},
   "outputs": [],
   "source": [
    "fuel_carrier = {}\n",
    "fuel_carrier_sum = {}\n",
    "for m in carrier_names:\n",
    "    fuel_carrier[m] = pd.DataFrame(to_get_fuel[to_get_fuel['carrier_name'] == m])\n",
    "    fuel_carrier_sum[m] = fuel_carrier[m].groupby('year').sum().reset_index()\n",
    "    fuel_carrier_sum[m] = fuel_carrier_sum[m][['total_gallons', 'year']]\n",
    "    fuel_carrier_sum[m] = fuel_carrier_sum[m].rename(columns={'total_gallons':m})\n"
   ]
  },
  {
   "cell_type": "code",
   "execution_count": 162,
   "metadata": {},
   "outputs": [
    {
     "data": {
      "text/plain": [
       "{'Alaska Airlines Inc.':    Alaska Airlines Inc.  year\n",
       " 0           726812302.0  2018\n",
       " 1           549169933.0  2019,\n",
       " 'Allegiant Air':    Allegiant Air  year\n",
       " 0    191471240.0  2018\n",
       " 1    148980498.0  2019,\n",
       " 'American Airlines Inc.':    American Airlines Inc.  year\n",
       " 0            3.644229e+09  2018\n",
       " 1            2.771867e+09  2019,\n",
       " 'Delta Air Lines Inc.':    Delta Air Lines Inc.  year\n",
       " 0          3.532291e+09  2018\n",
       " 1          2.778354e+09  2019,\n",
       " 'Frontier Airlines Inc.':    Frontier Airlines Inc.  year\n",
       " 0             261097799.0  2018\n",
       " 1             211773767.0  2019,\n",
       " 'Hawaiian Airlines Inc.':    Hawaiian Airlines Inc.  year\n",
       " 0             273782594.0  2018\n",
       " 1             201547310.0  2019,\n",
       " 'JetBlue Airways':    JetBlue Airways  year\n",
       " 0      849166836.0  2018\n",
       " 1      666307537.0  2019,\n",
       " 'Southwest Airlines Co.':    Southwest Airlines Co.  year\n",
       " 0            2.097334e+09  2018\n",
       " 1            1.550875e+09  2019,\n",
       " 'Spirit Air Lines':    Spirit Air Lines  year\n",
       " 0       412346432.0  2018\n",
       " 1       354347491.0  2019,\n",
       " 'United Air Lines Inc.':    United Air Lines Inc.  year\n",
       " 0           3.445675e+09  2018\n",
       " 1           2.678041e+09  2019,\n",
       " 'Virgin America': Empty DataFrame\n",
       " Columns: [Virgin America, year]\n",
       " Index: []}"
      ]
     },
     "execution_count": 162,
     "metadata": {},
     "output_type": "execute_result"
    }
   ],
   "source": [
    "fuel_carrier_sum"
   ]
  },
  {
   "cell_type": "code",
   "execution_count": 163,
   "metadata": {},
   "outputs": [
    {
     "data": {
      "text/html": [
       "<div>\n",
       "<style scoped>\n",
       "    .dataframe tbody tr th:only-of-type {\n",
       "        vertical-align: middle;\n",
       "    }\n",
       "\n",
       "    .dataframe tbody tr th {\n",
       "        vertical-align: top;\n",
       "    }\n",
       "\n",
       "    .dataframe thead th {\n",
       "        text-align: right;\n",
       "    }\n",
       "</style>\n",
       "<table border=\"1\" class=\"dataframe\">\n",
       "  <thead>\n",
       "    <tr style=\"text-align: right;\">\n",
       "      <th></th>\n",
       "      <th>Allegiant Air</th>\n",
       "      <th>year</th>\n",
       "    </tr>\n",
       "  </thead>\n",
       "  <tbody>\n",
       "    <tr>\n",
       "      <th>0</th>\n",
       "      <td>191471240.0</td>\n",
       "      <td>2018</td>\n",
       "    </tr>\n",
       "    <tr>\n",
       "      <th>1</th>\n",
       "      <td>148980498.0</td>\n",
       "      <td>2019</td>\n",
       "    </tr>\n",
       "  </tbody>\n",
       "</table>\n",
       "</div>"
      ],
      "text/plain": [
       "   Allegiant Air  year\n",
       "0    191471240.0  2018\n",
       "1    148980498.0  2019"
      ]
     },
     "execution_count": 163,
     "metadata": {},
     "output_type": "execute_result"
    }
   ],
   "source": [
    "fuel_carrier_sum['Allegiant Air']"
   ]
  },
  {
   "cell_type": "code",
   "execution_count": 164,
   "metadata": {},
   "outputs": [
    {
     "data": {
      "text/plain": [
       "array(['Alaska Airlines Inc.', 'Allegiant Air', 'American Airlines Inc.',\n",
       "       'Delta Air Lines Inc.', 'Frontier Airlines Inc.',\n",
       "       'Hawaiian Airlines Inc.', 'JetBlue Airways',\n",
       "       'Southwest Airlines Co.', 'Spirit Air Lines',\n",
       "       'United Air Lines Inc.', 'Virgin America'], dtype=object)"
      ]
     },
     "execution_count": 164,
     "metadata": {},
     "output_type": "execute_result"
    }
   ],
   "source": [
    "carrier_names"
   ]
  },
  {
   "cell_type": "code",
   "execution_count": 165,
   "metadata": {},
   "outputs": [],
   "source": [
    "for c in carrier_names:\n",
    "    carrier_fuel_consumption_table = fuel_carrier_sum[c]\n",
    "    for d in carrier_names:\n",
    "        if c != d:\n",
    "            carrier_fuel_consumption_table = pd.concat([carrier_fuel_consumption_table, fuel_carrier_sum[d][d]], axis=1)"
   ]
  },
  {
   "cell_type": "code",
   "execution_count": 166,
   "metadata": {},
   "outputs": [],
   "source": [
    "carrier_fuel_consumption_table =  carrier_fuel_consumption_table.drop(columns='year')"
   ]
  },
  {
   "cell_type": "code",
   "execution_count": 167,
   "metadata": {},
   "outputs": [],
   "source": [
    "year = pd.DataFrame([2018, 2019])"
   ]
  },
  {
   "cell_type": "code",
   "execution_count": 168,
   "metadata": {},
   "outputs": [],
   "source": [
    "year_df = year.rename(columns={0:'year'})"
   ]
  },
  {
   "cell_type": "code",
   "execution_count": 169,
   "metadata": {},
   "outputs": [],
   "source": [
    "carrier_fuel_consumption_table =  pd.concat([carrier_fuel_consumption_table, year_df], axis=1)"
   ]
  },
  {
   "cell_type": "code",
   "execution_count": 175,
   "metadata": {},
   "outputs": [],
   "source": [
    "year = carrier_fuel_consumption_table[\"year\"]\n",
    "carrier_fuel_consumption_table = carrier_fuel_consumption_table.drop(\"year\", 1)"
   ]
  },
  {
   "cell_type": "code",
   "execution_count": 186,
   "metadata": {},
   "outputs": [],
   "source": [
    "carrier_fuel_consumption_table = carrier_fuel_consumption_table.transpose()\n",
    "carrier_fuel_consumption_table = carrier_fuel_consumption_table.drop([\"index\", 0], 1)"
   ]
  },
  {
   "cell_type": "code",
   "execution_count": 188,
   "metadata": {},
   "outputs": [],
   "source": [
    "carrier_fuel_consumption_table = carrier_fuel_consumption_table.drop(0, 0)"
   ]
  },
  {
   "cell_type": "code",
   "execution_count": 191,
   "metadata": {},
   "outputs": [],
   "source": [
    "carrier_fuel_consumption_table = carrier_fuel_consumption_table.rename(columns={1: \"carrier\", 2:2018, 3:2019})"
   ]
  },
  {
   "cell_type": "code",
   "execution_count": 198,
   "metadata": {},
   "outputs": [
    {
     "data": {
      "application/vnd.plotly.v1+json": {
       "config": {
        "plotlyServerURL": "https://plotly.com"
       },
       "data": [
        {
         "marker": {
          "color": "orange"
         },
         "name": "2018 passengers",
         "type": "bar",
         "x": [
          "Virgin America",
          "Alaska Airlines Inc.",
          "Allegiant Air",
          "American Airlines Inc.",
          "Delta Air Lines Inc.",
          "Frontier Airlines Inc.",
          "Hawaiian Airlines Inc.",
          "JetBlue Airways",
          "Southwest Airlines Co.",
          "Spirit Air Lines",
          "United Air Lines Inc."
         ],
         "y": [
          null,
          726812302,
          191471240,
          3644229216,
          3532290593,
          261097799,
          273782594,
          849166836,
          2097333761,
          412346432,
          3445675260
         ]
        },
        {
         "marker": {
          "color": "forestgreen"
         },
         "name": "2019 passengers",
         "type": "bar",
         "x": [
          "Virgin America",
          "Alaska Airlines Inc.",
          "Allegiant Air",
          "American Airlines Inc.",
          "Delta Air Lines Inc.",
          "Frontier Airlines Inc.",
          "Hawaiian Airlines Inc.",
          "JetBlue Airways",
          "Southwest Airlines Co.",
          "Spirit Air Lines",
          "United Air Lines Inc."
         ],
         "y": [
          null,
          549169933,
          148980498,
          2771866623,
          2778354112,
          211773767,
          201547310,
          666307537,
          1550875360,
          354347491,
          2678041334
         ]
        }
       ],
       "layout": {
        "barmode": "group",
        "template": {
         "data": {
          "bar": [
           {
            "error_x": {
             "color": "#2a3f5f"
            },
            "error_y": {
             "color": "#2a3f5f"
            },
            "marker": {
             "line": {
              "color": "#E5ECF6",
              "width": 0.5
             }
            },
            "type": "bar"
           }
          ],
          "barpolar": [
           {
            "marker": {
             "line": {
              "color": "#E5ECF6",
              "width": 0.5
             }
            },
            "type": "barpolar"
           }
          ],
          "carpet": [
           {
            "aaxis": {
             "endlinecolor": "#2a3f5f",
             "gridcolor": "white",
             "linecolor": "white",
             "minorgridcolor": "white",
             "startlinecolor": "#2a3f5f"
            },
            "baxis": {
             "endlinecolor": "#2a3f5f",
             "gridcolor": "white",
             "linecolor": "white",
             "minorgridcolor": "white",
             "startlinecolor": "#2a3f5f"
            },
            "type": "carpet"
           }
          ],
          "choropleth": [
           {
            "colorbar": {
             "outlinewidth": 0,
             "ticks": ""
            },
            "type": "choropleth"
           }
          ],
          "contour": [
           {
            "colorbar": {
             "outlinewidth": 0,
             "ticks": ""
            },
            "colorscale": [
             [
              0,
              "#0d0887"
             ],
             [
              0.1111111111111111,
              "#46039f"
             ],
             [
              0.2222222222222222,
              "#7201a8"
             ],
             [
              0.3333333333333333,
              "#9c179e"
             ],
             [
              0.4444444444444444,
              "#bd3786"
             ],
             [
              0.5555555555555556,
              "#d8576b"
             ],
             [
              0.6666666666666666,
              "#ed7953"
             ],
             [
              0.7777777777777778,
              "#fb9f3a"
             ],
             [
              0.8888888888888888,
              "#fdca26"
             ],
             [
              1,
              "#f0f921"
             ]
            ],
            "type": "contour"
           }
          ],
          "contourcarpet": [
           {
            "colorbar": {
             "outlinewidth": 0,
             "ticks": ""
            },
            "type": "contourcarpet"
           }
          ],
          "heatmap": [
           {
            "colorbar": {
             "outlinewidth": 0,
             "ticks": ""
            },
            "colorscale": [
             [
              0,
              "#0d0887"
             ],
             [
              0.1111111111111111,
              "#46039f"
             ],
             [
              0.2222222222222222,
              "#7201a8"
             ],
             [
              0.3333333333333333,
              "#9c179e"
             ],
             [
              0.4444444444444444,
              "#bd3786"
             ],
             [
              0.5555555555555556,
              "#d8576b"
             ],
             [
              0.6666666666666666,
              "#ed7953"
             ],
             [
              0.7777777777777778,
              "#fb9f3a"
             ],
             [
              0.8888888888888888,
              "#fdca26"
             ],
             [
              1,
              "#f0f921"
             ]
            ],
            "type": "heatmap"
           }
          ],
          "heatmapgl": [
           {
            "colorbar": {
             "outlinewidth": 0,
             "ticks": ""
            },
            "colorscale": [
             [
              0,
              "#0d0887"
             ],
             [
              0.1111111111111111,
              "#46039f"
             ],
             [
              0.2222222222222222,
              "#7201a8"
             ],
             [
              0.3333333333333333,
              "#9c179e"
             ],
             [
              0.4444444444444444,
              "#bd3786"
             ],
             [
              0.5555555555555556,
              "#d8576b"
             ],
             [
              0.6666666666666666,
              "#ed7953"
             ],
             [
              0.7777777777777778,
              "#fb9f3a"
             ],
             [
              0.8888888888888888,
              "#fdca26"
             ],
             [
              1,
              "#f0f921"
             ]
            ],
            "type": "heatmapgl"
           }
          ],
          "histogram": [
           {
            "marker": {
             "colorbar": {
              "outlinewidth": 0,
              "ticks": ""
             }
            },
            "type": "histogram"
           }
          ],
          "histogram2d": [
           {
            "colorbar": {
             "outlinewidth": 0,
             "ticks": ""
            },
            "colorscale": [
             [
              0,
              "#0d0887"
             ],
             [
              0.1111111111111111,
              "#46039f"
             ],
             [
              0.2222222222222222,
              "#7201a8"
             ],
             [
              0.3333333333333333,
              "#9c179e"
             ],
             [
              0.4444444444444444,
              "#bd3786"
             ],
             [
              0.5555555555555556,
              "#d8576b"
             ],
             [
              0.6666666666666666,
              "#ed7953"
             ],
             [
              0.7777777777777778,
              "#fb9f3a"
             ],
             [
              0.8888888888888888,
              "#fdca26"
             ],
             [
              1,
              "#f0f921"
             ]
            ],
            "type": "histogram2d"
           }
          ],
          "histogram2dcontour": [
           {
            "colorbar": {
             "outlinewidth": 0,
             "ticks": ""
            },
            "colorscale": [
             [
              0,
              "#0d0887"
             ],
             [
              0.1111111111111111,
              "#46039f"
             ],
             [
              0.2222222222222222,
              "#7201a8"
             ],
             [
              0.3333333333333333,
              "#9c179e"
             ],
             [
              0.4444444444444444,
              "#bd3786"
             ],
             [
              0.5555555555555556,
              "#d8576b"
             ],
             [
              0.6666666666666666,
              "#ed7953"
             ],
             [
              0.7777777777777778,
              "#fb9f3a"
             ],
             [
              0.8888888888888888,
              "#fdca26"
             ],
             [
              1,
              "#f0f921"
             ]
            ],
            "type": "histogram2dcontour"
           }
          ],
          "mesh3d": [
           {
            "colorbar": {
             "outlinewidth": 0,
             "ticks": ""
            },
            "type": "mesh3d"
           }
          ],
          "parcoords": [
           {
            "line": {
             "colorbar": {
              "outlinewidth": 0,
              "ticks": ""
             }
            },
            "type": "parcoords"
           }
          ],
          "pie": [
           {
            "automargin": true,
            "type": "pie"
           }
          ],
          "scatter": [
           {
            "marker": {
             "colorbar": {
              "outlinewidth": 0,
              "ticks": ""
             }
            },
            "type": "scatter"
           }
          ],
          "scatter3d": [
           {
            "line": {
             "colorbar": {
              "outlinewidth": 0,
              "ticks": ""
             }
            },
            "marker": {
             "colorbar": {
              "outlinewidth": 0,
              "ticks": ""
             }
            },
            "type": "scatter3d"
           }
          ],
          "scattercarpet": [
           {
            "marker": {
             "colorbar": {
              "outlinewidth": 0,
              "ticks": ""
             }
            },
            "type": "scattercarpet"
           }
          ],
          "scattergeo": [
           {
            "marker": {
             "colorbar": {
              "outlinewidth": 0,
              "ticks": ""
             }
            },
            "type": "scattergeo"
           }
          ],
          "scattergl": [
           {
            "marker": {
             "colorbar": {
              "outlinewidth": 0,
              "ticks": ""
             }
            },
            "type": "scattergl"
           }
          ],
          "scattermapbox": [
           {
            "marker": {
             "colorbar": {
              "outlinewidth": 0,
              "ticks": ""
             }
            },
            "type": "scattermapbox"
           }
          ],
          "scatterpolar": [
           {
            "marker": {
             "colorbar": {
              "outlinewidth": 0,
              "ticks": ""
             }
            },
            "type": "scatterpolar"
           }
          ],
          "scatterpolargl": [
           {
            "marker": {
             "colorbar": {
              "outlinewidth": 0,
              "ticks": ""
             }
            },
            "type": "scatterpolargl"
           }
          ],
          "scatterternary": [
           {
            "marker": {
             "colorbar": {
              "outlinewidth": 0,
              "ticks": ""
             }
            },
            "type": "scatterternary"
           }
          ],
          "surface": [
           {
            "colorbar": {
             "outlinewidth": 0,
             "ticks": ""
            },
            "colorscale": [
             [
              0,
              "#0d0887"
             ],
             [
              0.1111111111111111,
              "#46039f"
             ],
             [
              0.2222222222222222,
              "#7201a8"
             ],
             [
              0.3333333333333333,
              "#9c179e"
             ],
             [
              0.4444444444444444,
              "#bd3786"
             ],
             [
              0.5555555555555556,
              "#d8576b"
             ],
             [
              0.6666666666666666,
              "#ed7953"
             ],
             [
              0.7777777777777778,
              "#fb9f3a"
             ],
             [
              0.8888888888888888,
              "#fdca26"
             ],
             [
              1,
              "#f0f921"
             ]
            ],
            "type": "surface"
           }
          ],
          "table": [
           {
            "cells": {
             "fill": {
              "color": "#EBF0F8"
             },
             "line": {
              "color": "white"
             }
            },
            "header": {
             "fill": {
              "color": "#C8D4E3"
             },
             "line": {
              "color": "white"
             }
            },
            "type": "table"
           }
          ]
         },
         "layout": {
          "annotationdefaults": {
           "arrowcolor": "#2a3f5f",
           "arrowhead": 0,
           "arrowwidth": 1
          },
          "coloraxis": {
           "colorbar": {
            "outlinewidth": 0,
            "ticks": ""
           }
          },
          "colorscale": {
           "diverging": [
            [
             0,
             "#8e0152"
            ],
            [
             0.1,
             "#c51b7d"
            ],
            [
             0.2,
             "#de77ae"
            ],
            [
             0.3,
             "#f1b6da"
            ],
            [
             0.4,
             "#fde0ef"
            ],
            [
             0.5,
             "#f7f7f7"
            ],
            [
             0.6,
             "#e6f5d0"
            ],
            [
             0.7,
             "#b8e186"
            ],
            [
             0.8,
             "#7fbc41"
            ],
            [
             0.9,
             "#4d9221"
            ],
            [
             1,
             "#276419"
            ]
           ],
           "sequential": [
            [
             0,
             "#0d0887"
            ],
            [
             0.1111111111111111,
             "#46039f"
            ],
            [
             0.2222222222222222,
             "#7201a8"
            ],
            [
             0.3333333333333333,
             "#9c179e"
            ],
            [
             0.4444444444444444,
             "#bd3786"
            ],
            [
             0.5555555555555556,
             "#d8576b"
            ],
            [
             0.6666666666666666,
             "#ed7953"
            ],
            [
             0.7777777777777778,
             "#fb9f3a"
            ],
            [
             0.8888888888888888,
             "#fdca26"
            ],
            [
             1,
             "#f0f921"
            ]
           ],
           "sequentialminus": [
            [
             0,
             "#0d0887"
            ],
            [
             0.1111111111111111,
             "#46039f"
            ],
            [
             0.2222222222222222,
             "#7201a8"
            ],
            [
             0.3333333333333333,
             "#9c179e"
            ],
            [
             0.4444444444444444,
             "#bd3786"
            ],
            [
             0.5555555555555556,
             "#d8576b"
            ],
            [
             0.6666666666666666,
             "#ed7953"
            ],
            [
             0.7777777777777778,
             "#fb9f3a"
            ],
            [
             0.8888888888888888,
             "#fdca26"
            ],
            [
             1,
             "#f0f921"
            ]
           ]
          },
          "colorway": [
           "#636efa",
           "#EF553B",
           "#00cc96",
           "#ab63fa",
           "#FFA15A",
           "#19d3f3",
           "#FF6692",
           "#B6E880",
           "#FF97FF",
           "#FECB52"
          ],
          "font": {
           "color": "#2a3f5f"
          },
          "geo": {
           "bgcolor": "white",
           "lakecolor": "white",
           "landcolor": "#E5ECF6",
           "showlakes": true,
           "showland": true,
           "subunitcolor": "white"
          },
          "hoverlabel": {
           "align": "left"
          },
          "hovermode": "closest",
          "mapbox": {
           "style": "light"
          },
          "paper_bgcolor": "white",
          "plot_bgcolor": "#E5ECF6",
          "polar": {
           "angularaxis": {
            "gridcolor": "white",
            "linecolor": "white",
            "ticks": ""
           },
           "bgcolor": "#E5ECF6",
           "radialaxis": {
            "gridcolor": "white",
            "linecolor": "white",
            "ticks": ""
           }
          },
          "scene": {
           "xaxis": {
            "backgroundcolor": "#E5ECF6",
            "gridcolor": "white",
            "gridwidth": 2,
            "linecolor": "white",
            "showbackground": true,
            "ticks": "",
            "zerolinecolor": "white"
           },
           "yaxis": {
            "backgroundcolor": "#E5ECF6",
            "gridcolor": "white",
            "gridwidth": 2,
            "linecolor": "white",
            "showbackground": true,
            "ticks": "",
            "zerolinecolor": "white"
           },
           "zaxis": {
            "backgroundcolor": "#E5ECF6",
            "gridcolor": "white",
            "gridwidth": 2,
            "linecolor": "white",
            "showbackground": true,
            "ticks": "",
            "zerolinecolor": "white"
           }
          },
          "shapedefaults": {
           "line": {
            "color": "#2a3f5f"
           }
          },
          "ternary": {
           "aaxis": {
            "gridcolor": "white",
            "linecolor": "white",
            "ticks": ""
           },
           "baxis": {
            "gridcolor": "white",
            "linecolor": "white",
            "ticks": ""
           },
           "bgcolor": "#E5ECF6",
           "caxis": {
            "gridcolor": "white",
            "linecolor": "white",
            "ticks": ""
           }
          },
          "title": {
           "x": 0.05
          },
          "xaxis": {
           "automargin": true,
           "gridcolor": "white",
           "linecolor": "white",
           "ticks": "",
           "title": {
            "standoff": 15
           },
           "zerolinecolor": "white",
           "zerolinewidth": 2
          },
          "yaxis": {
           "automargin": true,
           "gridcolor": "white",
           "linecolor": "white",
           "ticks": "",
           "title": {
            "standoff": 15
           },
           "zerolinecolor": "white",
           "zerolinewidth": 2
          }
         }
        },
        "title": {
         "text": "Fuel consumption per carrier (yearly)"
        },
        "xaxis": {
         "categoryorder": "total descending",
         "tickmode": "linear"
        }
       }
      },
      "text/html": [
       "<div>                            <div id=\"d1706535-c657-4730-90a6-02c9756dcfce\" class=\"plotly-graph-div\" style=\"height:525px; width:100%;\"></div>            <script type=\"text/javascript\">                require([\"plotly\"], function(Plotly) {                    window.PLOTLYENV=window.PLOTLYENV || {};                                    if (document.getElementById(\"d1706535-c657-4730-90a6-02c9756dcfce\")) {                    Plotly.newPlot(                        \"d1706535-c657-4730-90a6-02c9756dcfce\",                        [{\"marker\": {\"color\": \"orange\"}, \"name\": \"2018 passengers\", \"type\": \"bar\", \"x\": [\"Virgin America\", \"Alaska Airlines Inc.\", \"Allegiant Air\", \"American Airlines Inc.\", \"Delta Air Lines Inc.\", \"Frontier Airlines Inc.\", \"Hawaiian Airlines Inc.\", \"JetBlue Airways\", \"Southwest Airlines Co.\", \"Spirit Air Lines\", \"United Air Lines Inc.\"], \"y\": [null, 726812302.0, 191471240.0, 3644229216.0, 3532290593.0, 261097799.0, 273782594.0, 849166836.0, 2097333761.0, 412346432.0, 3445675260.0]}, {\"marker\": {\"color\": \"forestgreen\"}, \"name\": \"2019 passengers\", \"type\": \"bar\", \"x\": [\"Virgin America\", \"Alaska Airlines Inc.\", \"Allegiant Air\", \"American Airlines Inc.\", \"Delta Air Lines Inc.\", \"Frontier Airlines Inc.\", \"Hawaiian Airlines Inc.\", \"JetBlue Airways\", \"Southwest Airlines Co.\", \"Spirit Air Lines\", \"United Air Lines Inc.\"], \"y\": [null, 549169933.0, 148980498.0, 2771866623.0, 2778354112.0, 211773767.0, 201547310.0, 666307537.0, 1550875360.0, 354347491.0, 2678041334.0]}],                        {\"barmode\": \"group\", \"template\": {\"data\": {\"bar\": [{\"error_x\": {\"color\": \"#2a3f5f\"}, \"error_y\": {\"color\": \"#2a3f5f\"}, \"marker\": {\"line\": {\"color\": \"#E5ECF6\", \"width\": 0.5}}, \"type\": \"bar\"}], \"barpolar\": [{\"marker\": {\"line\": {\"color\": \"#E5ECF6\", \"width\": 0.5}}, \"type\": \"barpolar\"}], \"carpet\": [{\"aaxis\": {\"endlinecolor\": \"#2a3f5f\", \"gridcolor\": \"white\", \"linecolor\": \"white\", \"minorgridcolor\": \"white\", \"startlinecolor\": \"#2a3f5f\"}, \"baxis\": {\"endlinecolor\": \"#2a3f5f\", \"gridcolor\": \"white\", \"linecolor\": \"white\", \"minorgridcolor\": \"white\", \"startlinecolor\": \"#2a3f5f\"}, \"type\": \"carpet\"}], \"choropleth\": [{\"colorbar\": {\"outlinewidth\": 0, \"ticks\": \"\"}, \"type\": \"choropleth\"}], \"contour\": [{\"colorbar\": {\"outlinewidth\": 0, \"ticks\": \"\"}, \"colorscale\": [[0.0, \"#0d0887\"], [0.1111111111111111, \"#46039f\"], [0.2222222222222222, \"#7201a8\"], [0.3333333333333333, \"#9c179e\"], [0.4444444444444444, \"#bd3786\"], [0.5555555555555556, \"#d8576b\"], [0.6666666666666666, \"#ed7953\"], [0.7777777777777778, \"#fb9f3a\"], [0.8888888888888888, \"#fdca26\"], [1.0, \"#f0f921\"]], \"type\": \"contour\"}], \"contourcarpet\": [{\"colorbar\": {\"outlinewidth\": 0, \"ticks\": \"\"}, \"type\": \"contourcarpet\"}], \"heatmap\": [{\"colorbar\": {\"outlinewidth\": 0, \"ticks\": \"\"}, \"colorscale\": [[0.0, \"#0d0887\"], [0.1111111111111111, \"#46039f\"], [0.2222222222222222, \"#7201a8\"], [0.3333333333333333, \"#9c179e\"], [0.4444444444444444, \"#bd3786\"], [0.5555555555555556, \"#d8576b\"], [0.6666666666666666, \"#ed7953\"], [0.7777777777777778, \"#fb9f3a\"], [0.8888888888888888, \"#fdca26\"], [1.0, \"#f0f921\"]], \"type\": \"heatmap\"}], \"heatmapgl\": [{\"colorbar\": {\"outlinewidth\": 0, \"ticks\": \"\"}, \"colorscale\": [[0.0, \"#0d0887\"], [0.1111111111111111, \"#46039f\"], [0.2222222222222222, \"#7201a8\"], [0.3333333333333333, \"#9c179e\"], [0.4444444444444444, \"#bd3786\"], [0.5555555555555556, \"#d8576b\"], [0.6666666666666666, \"#ed7953\"], [0.7777777777777778, \"#fb9f3a\"], [0.8888888888888888, \"#fdca26\"], [1.0, \"#f0f921\"]], \"type\": \"heatmapgl\"}], \"histogram\": [{\"marker\": {\"colorbar\": {\"outlinewidth\": 0, \"ticks\": \"\"}}, \"type\": \"histogram\"}], \"histogram2d\": [{\"colorbar\": {\"outlinewidth\": 0, \"ticks\": \"\"}, \"colorscale\": [[0.0, \"#0d0887\"], [0.1111111111111111, \"#46039f\"], [0.2222222222222222, \"#7201a8\"], [0.3333333333333333, \"#9c179e\"], [0.4444444444444444, \"#bd3786\"], [0.5555555555555556, \"#d8576b\"], [0.6666666666666666, \"#ed7953\"], [0.7777777777777778, \"#fb9f3a\"], [0.8888888888888888, \"#fdca26\"], [1.0, \"#f0f921\"]], \"type\": \"histogram2d\"}], \"histogram2dcontour\": [{\"colorbar\": {\"outlinewidth\": 0, \"ticks\": \"\"}, \"colorscale\": [[0.0, \"#0d0887\"], [0.1111111111111111, \"#46039f\"], [0.2222222222222222, \"#7201a8\"], [0.3333333333333333, \"#9c179e\"], [0.4444444444444444, \"#bd3786\"], [0.5555555555555556, \"#d8576b\"], [0.6666666666666666, \"#ed7953\"], [0.7777777777777778, \"#fb9f3a\"], [0.8888888888888888, \"#fdca26\"], [1.0, \"#f0f921\"]], \"type\": \"histogram2dcontour\"}], \"mesh3d\": [{\"colorbar\": {\"outlinewidth\": 0, \"ticks\": \"\"}, \"type\": \"mesh3d\"}], \"parcoords\": [{\"line\": {\"colorbar\": {\"outlinewidth\": 0, \"ticks\": \"\"}}, \"type\": \"parcoords\"}], \"pie\": [{\"automargin\": true, \"type\": \"pie\"}], \"scatter\": [{\"marker\": {\"colorbar\": {\"outlinewidth\": 0, \"ticks\": \"\"}}, \"type\": \"scatter\"}], \"scatter3d\": [{\"line\": {\"colorbar\": {\"outlinewidth\": 0, \"ticks\": \"\"}}, \"marker\": {\"colorbar\": {\"outlinewidth\": 0, \"ticks\": \"\"}}, \"type\": \"scatter3d\"}], \"scattercarpet\": [{\"marker\": {\"colorbar\": {\"outlinewidth\": 0, \"ticks\": \"\"}}, \"type\": \"scattercarpet\"}], \"scattergeo\": [{\"marker\": {\"colorbar\": {\"outlinewidth\": 0, \"ticks\": \"\"}}, \"type\": \"scattergeo\"}], \"scattergl\": [{\"marker\": {\"colorbar\": {\"outlinewidth\": 0, \"ticks\": \"\"}}, \"type\": \"scattergl\"}], \"scattermapbox\": [{\"marker\": {\"colorbar\": {\"outlinewidth\": 0, \"ticks\": \"\"}}, \"type\": \"scattermapbox\"}], \"scatterpolar\": [{\"marker\": {\"colorbar\": {\"outlinewidth\": 0, \"ticks\": \"\"}}, \"type\": \"scatterpolar\"}], \"scatterpolargl\": [{\"marker\": {\"colorbar\": {\"outlinewidth\": 0, \"ticks\": \"\"}}, \"type\": \"scatterpolargl\"}], \"scatterternary\": [{\"marker\": {\"colorbar\": {\"outlinewidth\": 0, \"ticks\": \"\"}}, \"type\": \"scatterternary\"}], \"surface\": [{\"colorbar\": {\"outlinewidth\": 0, \"ticks\": \"\"}, \"colorscale\": [[0.0, \"#0d0887\"], [0.1111111111111111, \"#46039f\"], [0.2222222222222222, \"#7201a8\"], [0.3333333333333333, \"#9c179e\"], [0.4444444444444444, \"#bd3786\"], [0.5555555555555556, \"#d8576b\"], [0.6666666666666666, \"#ed7953\"], [0.7777777777777778, \"#fb9f3a\"], [0.8888888888888888, \"#fdca26\"], [1.0, \"#f0f921\"]], \"type\": \"surface\"}], \"table\": [{\"cells\": {\"fill\": {\"color\": \"#EBF0F8\"}, \"line\": {\"color\": \"white\"}}, \"header\": {\"fill\": {\"color\": \"#C8D4E3\"}, \"line\": {\"color\": \"white\"}}, \"type\": \"table\"}]}, \"layout\": {\"annotationdefaults\": {\"arrowcolor\": \"#2a3f5f\", \"arrowhead\": 0, \"arrowwidth\": 1}, \"coloraxis\": {\"colorbar\": {\"outlinewidth\": 0, \"ticks\": \"\"}}, \"colorscale\": {\"diverging\": [[0, \"#8e0152\"], [0.1, \"#c51b7d\"], [0.2, \"#de77ae\"], [0.3, \"#f1b6da\"], [0.4, \"#fde0ef\"], [0.5, \"#f7f7f7\"], [0.6, \"#e6f5d0\"], [0.7, \"#b8e186\"], [0.8, \"#7fbc41\"], [0.9, \"#4d9221\"], [1, \"#276419\"]], \"sequential\": [[0.0, \"#0d0887\"], [0.1111111111111111, \"#46039f\"], [0.2222222222222222, \"#7201a8\"], [0.3333333333333333, \"#9c179e\"], [0.4444444444444444, \"#bd3786\"], [0.5555555555555556, \"#d8576b\"], [0.6666666666666666, \"#ed7953\"], [0.7777777777777778, \"#fb9f3a\"], [0.8888888888888888, \"#fdca26\"], [1.0, \"#f0f921\"]], \"sequentialminus\": [[0.0, \"#0d0887\"], [0.1111111111111111, \"#46039f\"], [0.2222222222222222, \"#7201a8\"], [0.3333333333333333, \"#9c179e\"], [0.4444444444444444, \"#bd3786\"], [0.5555555555555556, \"#d8576b\"], [0.6666666666666666, \"#ed7953\"], [0.7777777777777778, \"#fb9f3a\"], [0.8888888888888888, \"#fdca26\"], [1.0, \"#f0f921\"]]}, \"colorway\": [\"#636efa\", \"#EF553B\", \"#00cc96\", \"#ab63fa\", \"#FFA15A\", \"#19d3f3\", \"#FF6692\", \"#B6E880\", \"#FF97FF\", \"#FECB52\"], \"font\": {\"color\": \"#2a3f5f\"}, \"geo\": {\"bgcolor\": \"white\", \"lakecolor\": \"white\", \"landcolor\": \"#E5ECF6\", \"showlakes\": true, \"showland\": true, \"subunitcolor\": \"white\"}, \"hoverlabel\": {\"align\": \"left\"}, \"hovermode\": \"closest\", \"mapbox\": {\"style\": \"light\"}, \"paper_bgcolor\": \"white\", \"plot_bgcolor\": \"#E5ECF6\", \"polar\": {\"angularaxis\": {\"gridcolor\": \"white\", \"linecolor\": \"white\", \"ticks\": \"\"}, \"bgcolor\": \"#E5ECF6\", \"radialaxis\": {\"gridcolor\": \"white\", \"linecolor\": \"white\", \"ticks\": \"\"}}, \"scene\": {\"xaxis\": {\"backgroundcolor\": \"#E5ECF6\", \"gridcolor\": \"white\", \"gridwidth\": 2, \"linecolor\": \"white\", \"showbackground\": true, \"ticks\": \"\", \"zerolinecolor\": \"white\"}, \"yaxis\": {\"backgroundcolor\": \"#E5ECF6\", \"gridcolor\": \"white\", \"gridwidth\": 2, \"linecolor\": \"white\", \"showbackground\": true, \"ticks\": \"\", \"zerolinecolor\": \"white\"}, \"zaxis\": {\"backgroundcolor\": \"#E5ECF6\", \"gridcolor\": \"white\", \"gridwidth\": 2, \"linecolor\": \"white\", \"showbackground\": true, \"ticks\": \"\", \"zerolinecolor\": \"white\"}}, \"shapedefaults\": {\"line\": {\"color\": \"#2a3f5f\"}}, \"ternary\": {\"aaxis\": {\"gridcolor\": \"white\", \"linecolor\": \"white\", \"ticks\": \"\"}, \"baxis\": {\"gridcolor\": \"white\", \"linecolor\": \"white\", \"ticks\": \"\"}, \"bgcolor\": \"#E5ECF6\", \"caxis\": {\"gridcolor\": \"white\", \"linecolor\": \"white\", \"ticks\": \"\"}}, \"title\": {\"x\": 0.05}, \"xaxis\": {\"automargin\": true, \"gridcolor\": \"white\", \"linecolor\": \"white\", \"ticks\": \"\", \"title\": {\"standoff\": 15}, \"zerolinecolor\": \"white\", \"zerolinewidth\": 2}, \"yaxis\": {\"automargin\": true, \"gridcolor\": \"white\", \"linecolor\": \"white\", \"ticks\": \"\", \"title\": {\"standoff\": 15}, \"zerolinecolor\": \"white\", \"zerolinewidth\": 2}}}, \"title\": {\"text\": \"Fuel consumption per carrier (yearly)\"}, \"xaxis\": {\"categoryorder\": \"total descending\", \"tickmode\": \"linear\"}},                        {\"responsive\": true}                    ).then(function(){\n",
       "                            \n",
       "var gd = document.getElementById('d1706535-c657-4730-90a6-02c9756dcfce');\n",
       "var x = new MutationObserver(function (mutations, observer) {{\n",
       "        var display = window.getComputedStyle(gd).display;\n",
       "        if (!display || display === 'none') {{\n",
       "            console.log([gd, 'removed!']);\n",
       "            Plotly.purge(gd);\n",
       "            observer.disconnect();\n",
       "        }}\n",
       "}});\n",
       "\n",
       "// Listen for the removal of the full notebook cells\n",
       "var notebookContainer = gd.closest('#notebook-container');\n",
       "if (notebookContainer) {{\n",
       "    x.observe(notebookContainer, {childList: true});\n",
       "}}\n",
       "\n",
       "// Listen for the clearing of the current output cell\n",
       "var outputEl = gd.closest('.output');\n",
       "if (outputEl) {{\n",
       "    x.observe(outputEl, {childList: true});\n",
       "}}\n",
       "\n",
       "                        })                };                });            </script>        </div>"
      ]
     },
     "metadata": {},
     "output_type": "display_data"
    }
   ],
   "source": [
    "fig3 = go.Figure(data=[\n",
    "    go.Bar(name='2018 passengers', x=carrier_fuel_consumption_table['carrier'], y=carrier_fuel_consumption_table[2018], \n",
    "           marker_color=\"orange\"),\n",
    "    go.Bar(name='2019 passengers', x=carrier_fuel_consumption_table['carrier'], y=carrier_fuel_consumption_table[2019],\n",
    "          marker_color=\"forestgreen\")\n",
    "])\n",
    "# Change the bar mode\n",
    "fig3.update_layout(barmode='group',\n",
    "                 xaxis=dict(\n",
    "                 tickmode=\"linear\",\n",
    "                 categoryorder=\"total descending\"),\n",
    "                  title=\"Fuel consumption per carrier (yearly)\")\n",
    "fig3.show()"
   ]
  },
  {
   "cell_type": "code",
   "execution_count": 199,
   "metadata": {},
   "outputs": [
    {
     "data": {
      "text/plain": [
       "'https://plotly.com/~yonsa/30/'"
      ]
     },
     "execution_count": 199,
     "metadata": {},
     "output_type": "execute_result"
    }
   ],
   "source": [
    "cs.plot(fig3, filename=\"fuel_consumption\")"
   ]
  },
  {
   "cell_type": "code",
   "execution_count": 200,
   "metadata": {},
   "outputs": [],
   "source": [
    "carrier_fuel_consumption_table.to_csv(\"fuel_consumption.csv\")"
   ]
  },
  {
   "cell_type": "code",
   "execution_count": null,
   "metadata": {},
   "outputs": [],
   "source": []
  },
  {
   "cell_type": "code",
   "execution_count": null,
   "metadata": {},
   "outputs": [],
   "source": []
  }
 ],
 "metadata": {
  "kernelspec": {
   "display_name": "dl",
   "language": "python",
   "name": "dl"
  },
  "language_info": {
   "codemirror_mode": {
    "name": "ipython",
    "version": 3
   },
   "file_extension": ".py",
   "mimetype": "text/x-python",
   "name": "python",
   "nbconvert_exporter": "python",
   "pygments_lexer": "ipython3",
   "version": "3.6.12"
  }
 },
 "nbformat": 4,
 "nbformat_minor": 2
}
